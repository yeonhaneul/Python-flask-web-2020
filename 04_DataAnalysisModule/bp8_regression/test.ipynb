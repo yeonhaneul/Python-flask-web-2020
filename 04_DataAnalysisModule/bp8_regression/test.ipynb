{
 "metadata": {
  "language_info": {
   "codemirror_mode": {
    "name": "ipython",
    "version": 3
   },
   "file_extension": ".py",
   "mimetype": "text/x-python",
   "name": "python",
   "nbconvert_exporter": "python",
   "pygments_lexer": "ipython3",
   "version": "3.8.3-final"
  },
  "orig_nbformat": 2,
  "kernelspec": {
   "name": "python3",
   "display_name": "Python 3",
   "language": "python"
  }
 },
 "nbformat": 4,
 "nbformat_minor": 2,
 "cells": [
  {
   "source": [
    "# 아이리스 선형회귀"
   ],
   "cell_type": "markdown",
   "metadata": {}
  },
  {
   "cell_type": "code",
   "execution_count": 1,
   "metadata": {},
   "outputs": [],
   "source": [
    "import numpy as np\n",
    "import pandas as pd\n",
    "import matplotlib.pyplot as plt\n",
    "import seaborn as sns\n",
    "%matplotlib inline"
   ]
  },
  {
   "cell_type": "code",
   "execution_count": 2,
   "metadata": {},
   "outputs": [
    {
     "output_type": "execute_result",
     "data": {
      "text/plain": [
       "   sepal length (cm)  sepal width (cm)  petal length (cm)  petal width (cm)  \\\n",
       "0                5.1               3.3                1.7               0.5   \n",
       "1                6.1               3.0                4.9               1.8   \n",
       "2                5.1               3.4                1.5               0.2   \n",
       "3                5.1               3.5                1.4               0.3   \n",
       "4                5.2               3.4                1.4               0.2   \n",
       "\n",
       "   target  \n",
       "0       0  \n",
       "1       2  \n",
       "2       0  \n",
       "3       0  \n",
       "4       0  "
      ],
      "text/html": "<div>\n<style scoped>\n    .dataframe tbody tr th:only-of-type {\n        vertical-align: middle;\n    }\n\n    .dataframe tbody tr th {\n        vertical-align: top;\n    }\n\n    .dataframe thead th {\n        text-align: right;\n    }\n</style>\n<table border=\"1\" class=\"dataframe\">\n  <thead>\n    <tr style=\"text-align: right;\">\n      <th></th>\n      <th>sepal length (cm)</th>\n      <th>sepal width (cm)</th>\n      <th>petal length (cm)</th>\n      <th>petal width (cm)</th>\n      <th>target</th>\n    </tr>\n  </thead>\n  <tbody>\n    <tr>\n      <th>0</th>\n      <td>5.1</td>\n      <td>3.3</td>\n      <td>1.7</td>\n      <td>0.5</td>\n      <td>0</td>\n    </tr>\n    <tr>\n      <th>1</th>\n      <td>6.1</td>\n      <td>3.0</td>\n      <td>4.9</td>\n      <td>1.8</td>\n      <td>2</td>\n    </tr>\n    <tr>\n      <th>2</th>\n      <td>5.1</td>\n      <td>3.4</td>\n      <td>1.5</td>\n      <td>0.2</td>\n      <td>0</td>\n    </tr>\n    <tr>\n      <th>3</th>\n      <td>5.1</td>\n      <td>3.5</td>\n      <td>1.4</td>\n      <td>0.3</td>\n      <td>0</td>\n    </tr>\n    <tr>\n      <th>4</th>\n      <td>5.2</td>\n      <td>3.4</td>\n      <td>1.4</td>\n      <td>0.2</td>\n      <td>0</td>\n    </tr>\n  </tbody>\n</table>\n</div>"
     },
     "metadata": {},
     "execution_count": 2
    }
   ],
   "source": [
    "df = pd.read_csv('../static/data/iris_train.csv')\n",
    "df.head()"
   ]
  },
  {
   "cell_type": "code",
   "execution_count": 3,
   "metadata": {},
   "outputs": [
    {
     "output_type": "execute_result",
     "data": {
      "text/plain": [
       "    sl   sw   pl   pw  species\n",
       "0  5.1  3.3  1.7  0.5        0\n",
       "1  6.1  3.0  4.9  1.8        2\n",
       "2  5.1  3.4  1.5  0.2        0\n",
       "3  5.1  3.5  1.4  0.3        0\n",
       "4  5.2  3.4  1.4  0.2        0"
      ],
      "text/html": "<div>\n<style scoped>\n    .dataframe tbody tr th:only-of-type {\n        vertical-align: middle;\n    }\n\n    .dataframe tbody tr th {\n        vertical-align: top;\n    }\n\n    .dataframe thead th {\n        text-align: right;\n    }\n</style>\n<table border=\"1\" class=\"dataframe\">\n  <thead>\n    <tr style=\"text-align: right;\">\n      <th></th>\n      <th>sl</th>\n      <th>sw</th>\n      <th>pl</th>\n      <th>pw</th>\n      <th>species</th>\n    </tr>\n  </thead>\n  <tbody>\n    <tr>\n      <th>0</th>\n      <td>5.1</td>\n      <td>3.3</td>\n      <td>1.7</td>\n      <td>0.5</td>\n      <td>0</td>\n    </tr>\n    <tr>\n      <th>1</th>\n      <td>6.1</td>\n      <td>3.0</td>\n      <td>4.9</td>\n      <td>1.8</td>\n      <td>2</td>\n    </tr>\n    <tr>\n      <th>2</th>\n      <td>5.1</td>\n      <td>3.4</td>\n      <td>1.5</td>\n      <td>0.2</td>\n      <td>0</td>\n    </tr>\n    <tr>\n      <th>3</th>\n      <td>5.1</td>\n      <td>3.5</td>\n      <td>1.4</td>\n      <td>0.3</td>\n      <td>0</td>\n    </tr>\n    <tr>\n      <th>4</th>\n      <td>5.2</td>\n      <td>3.4</td>\n      <td>1.4</td>\n      <td>0.2</td>\n      <td>0</td>\n    </tr>\n  </tbody>\n</table>\n</div>"
     },
     "metadata": {},
     "execution_count": 3
    }
   ],
   "source": [
    "df = df.rename({'sepal length (cm)':'sl', 'sepal width (cm)':'sw', 'petal length (cm)':'pl', 'petal width (cm)':'pw', 'target':'species'}, axis='columns')\n",
    "df.head()"
   ]
  },
  {
   "source": [
    "PL을 구하는 선형회귀"
   ],
   "cell_type": "markdown",
   "metadata": {}
  },
  {
   "cell_type": "code",
   "execution_count": 4,
   "metadata": {},
   "outputs": [],
   "source": [
    "feature_name = 'pl'"
   ]
  },
  {
   "cell_type": "code",
   "execution_count": 7,
   "metadata": {},
   "outputs": [],
   "source": [
    "from sklearn.model_selection import train_test_split\n",
    "from sklearn.linear_model import LinearRegression\n",
    "from sklearn.metrics import mean_squared_error, r2_score"
   ]
  },
  {
   "cell_type": "code",
   "execution_count": 8,
   "metadata": {},
   "outputs": [
    {
     "output_type": "error",
     "ename": "NameError",
     "evalue": "name 'X' is not defined",
     "traceback": [
      "\u001b[1;31m---------------------------------------------------------------------------\u001b[0m",
      "\u001b[1;31mNameError\u001b[0m                                 Traceback (most recent call last)",
      "\u001b[1;32m<ipython-input-8-e8844816123b>\u001b[0m in \u001b[0;36m<module>\u001b[1;34m\u001b[0m\n\u001b[0;32m      1\u001b[0m X_train, X_test, y_train, y_test = train_test_split(\n\u001b[1;32m----> 2\u001b[1;33m     \u001b[0mX\u001b[0m\u001b[1;33m,\u001b[0m \u001b[0my\u001b[0m\u001b[1;33m,\u001b[0m \u001b[0mtest_size\u001b[0m\u001b[1;33m=\u001b[0m\u001b[1;36m0.2\u001b[0m\u001b[1;33m,\u001b[0m \u001b[0mrandom_state\u001b[0m\u001b[1;33m=\u001b[0m\u001b[1;36m2021\u001b[0m\u001b[1;33m\u001b[0m\u001b[1;33m\u001b[0m\u001b[0m\n\u001b[0m\u001b[0;32m      3\u001b[0m )\n",
      "\u001b[1;31mNameError\u001b[0m: name 'X' is not defined"
     ]
    }
   ],
   "source": [
    "X_train, X_test, y_train, y_test = train_test_split(\n",
    "    X, y, test_size=0.2, random_state=2021\n",
    ")"
   ]
  },
  {
   "cell_type": "code",
   "execution_count": 22,
   "metadata": {},
   "outputs": [
    {
     "output_type": "stream",
     "name": "stdout",
     "text": [
      "MSE: 0.04, RMSE: 0.19\nR_squared: 0.9226\n"
     ]
    }
   ],
   "source": [
    "lr = LinearRegression()\n",
    "lr.fit(X_train, y_train)\n",
    "pred = lr.predict(X_test)\n",
    "mse = mean_squared_error(y_test, pred)\n",
    "r2 = r2_score(y_test, pred)\n",
    "print(f'MSE: {mse:.2f}, RMSE: {np.sqrt(mse):.2f}')\n",
    "print(f'R_squared: {r2:.4f}')"
   ]
  },
  {
   "cell_type": "code",
   "execution_count": 27,
   "metadata": {},
   "outputs": [
    {
     "output_type": "execute_result",
     "data": {
      "text/plain": [
       "array([-0.12876754,  0.17861614,  0.32741898,  0.37562097])"
      ]
     },
     "metadata": {},
     "execution_count": 27
    }
   ],
   "source": [
    "coef = lr.coef_\n",
    "coef"
   ]
  },
  {
   "cell_type": "code",
   "execution_count": 24,
   "metadata": {},
   "outputs": [
    {
     "output_type": "execute_result",
     "data": {
      "text/plain": [
       "-0.1944501604164237"
      ]
     },
     "metadata": {},
     "execution_count": 24
    }
   ],
   "source": [
    "lr.intercept_"
   ]
  },
  {
   "cell_type": "code",
   "execution_count": 28,
   "metadata": {},
   "outputs": [
    {
     "output_type": "execute_result",
     "data": {
      "text/plain": [
       "-0.1287675446051109"
      ]
     },
     "metadata": {},
     "execution_count": 28
    }
   ],
   "source": [
    "# 회귀식\n",
    "coef[0]*Sepla length + coef[1]*Sepal width + coef[2]*Petal length + coef[3]*target + lr.intercept_"
   ]
  },
  {
   "source": [
    "### 당뇨병 회귀"
   ],
   "cell_type": "markdown",
   "metadata": {}
  },
  {
   "cell_type": "code",
   "execution_count": 24,
   "metadata": {},
   "outputs": [
    {
     "output_type": "execute_result",
     "data": {
      "text/plain": [
       "        age       sex       bmi        bp        s1        s2        s3  \\\n",
       "0 -0.063635 -0.044642 -0.033151 -0.033214  0.001183  0.024051 -0.024993   \n",
       "1  0.012648 -0.044642 -0.025607 -0.040099 -0.030464 -0.045155  0.078093   \n",
       "2  0.038076  0.050680  0.008883  0.042530 -0.042848 -0.021042 -0.039719   \n",
       "3 -0.078165  0.050680  0.077863  0.052858  0.078236  0.064447  0.026550   \n",
       "4 -0.074533 -0.044642 -0.010517 -0.005671 -0.066239 -0.057054 -0.002903   \n",
       "\n",
       "         s4        s5        s6  target  \n",
       "0 -0.002592 -0.022512 -0.059067   214.0  \n",
       "1 -0.076395 -0.072128  0.011349    98.0  \n",
       "2 -0.002592 -0.018118  0.007207   127.0  \n",
       "3 -0.002592  0.040672 -0.009362   233.0  \n",
       "4 -0.039493 -0.042572 -0.001078   168.0  "
      ],
      "text/html": "<div>\n<style scoped>\n    .dataframe tbody tr th:only-of-type {\n        vertical-align: middle;\n    }\n\n    .dataframe tbody tr th {\n        vertical-align: top;\n    }\n\n    .dataframe thead th {\n        text-align: right;\n    }\n</style>\n<table border=\"1\" class=\"dataframe\">\n  <thead>\n    <tr style=\"text-align: right;\">\n      <th></th>\n      <th>age</th>\n      <th>sex</th>\n      <th>bmi</th>\n      <th>bp</th>\n      <th>s1</th>\n      <th>s2</th>\n      <th>s3</th>\n      <th>s4</th>\n      <th>s5</th>\n      <th>s6</th>\n      <th>target</th>\n    </tr>\n  </thead>\n  <tbody>\n    <tr>\n      <th>0</th>\n      <td>-0.063635</td>\n      <td>-0.044642</td>\n      <td>-0.033151</td>\n      <td>-0.033214</td>\n      <td>0.001183</td>\n      <td>0.024051</td>\n      <td>-0.024993</td>\n      <td>-0.002592</td>\n      <td>-0.022512</td>\n      <td>-0.059067</td>\n      <td>214.0</td>\n    </tr>\n    <tr>\n      <th>1</th>\n      <td>0.012648</td>\n      <td>-0.044642</td>\n      <td>-0.025607</td>\n      <td>-0.040099</td>\n      <td>-0.030464</td>\n      <td>-0.045155</td>\n      <td>0.078093</td>\n      <td>-0.076395</td>\n      <td>-0.072128</td>\n      <td>0.011349</td>\n      <td>98.0</td>\n    </tr>\n    <tr>\n      <th>2</th>\n      <td>0.038076</td>\n      <td>0.050680</td>\n      <td>0.008883</td>\n      <td>0.042530</td>\n      <td>-0.042848</td>\n      <td>-0.021042</td>\n      <td>-0.039719</td>\n      <td>-0.002592</td>\n      <td>-0.018118</td>\n      <td>0.007207</td>\n      <td>127.0</td>\n    </tr>\n    <tr>\n      <th>3</th>\n      <td>-0.078165</td>\n      <td>0.050680</td>\n      <td>0.077863</td>\n      <td>0.052858</td>\n      <td>0.078236</td>\n      <td>0.064447</td>\n      <td>0.026550</td>\n      <td>-0.002592</td>\n      <td>0.040672</td>\n      <td>-0.009362</td>\n      <td>233.0</td>\n    </tr>\n    <tr>\n      <th>4</th>\n      <td>-0.074533</td>\n      <td>-0.044642</td>\n      <td>-0.010517</td>\n      <td>-0.005671</td>\n      <td>-0.066239</td>\n      <td>-0.057054</td>\n      <td>-0.002903</td>\n      <td>-0.039493</td>\n      <td>-0.042572</td>\n      <td>-0.001078</td>\n      <td>168.0</td>\n    </tr>\n  </tbody>\n</table>\n</div>"
     },
     "metadata": {},
     "execution_count": 24
    }
   ],
   "source": [
    "df = pd.read_csv('../static/data/diabetes_train.csv')\n",
    "df.head()"
   ]
  },
  {
   "cell_type": "code",
   "execution_count": 25,
   "metadata": {},
   "outputs": [],
   "source": [
    "feature = 'bp'"
   ]
  },
  {
   "cell_type": "code",
   "execution_count": 27,
   "metadata": {},
   "outputs": [
    {
     "output_type": "execute_result",
     "data": {
      "text/plain": [
       "((331, 1), (331,))"
      ]
     },
     "metadata": {},
     "execution_count": 27
    }
   ],
   "source": [
    "X = df[feature].values.reshape(-1,1)\n",
    "y = df.target.values\n",
    "X.shape, y.shape"
   ]
  },
  {
   "cell_type": "code",
   "execution_count": 28,
   "metadata": {},
   "outputs": [],
   "source": [
    "lr = LinearRegression()"
   ]
  },
  {
   "cell_type": "code",
   "execution_count": 29,
   "metadata": {},
   "outputs": [
    {
     "output_type": "execute_result",
     "data": {
      "text/plain": [
       "LinearRegression()"
      ]
     },
     "metadata": {},
     "execution_count": 29
    }
   ],
   "source": [
    "lr.fit(X, y)"
   ]
  },
  {
   "cell_type": "code",
   "execution_count": 30,
   "metadata": {},
   "outputs": [
    {
     "output_type": "stream",
     "name": "stdout",
     "text": [
      "[686.11222571]\n148.91869337400198\n"
     ]
    }
   ],
   "source": [
    "weight, bias = lr.coef_, lr.intercept_\n",
    "print(weight)\n",
    "print(bias)"
   ]
  },
  {
   "cell_type": "code",
   "execution_count": 32,
   "metadata": {},
   "outputs": [
    {
     "output_type": "execute_result",
     "data": {
      "text/plain": [
       "        age       sex       bmi        bp        s1        s2        s3  \\\n",
       "0  0.034443 -0.044642 -0.007284  0.014987 -0.044223 -0.037326 -0.002903   \n",
       "1 -0.009147 -0.044642  0.037984 -0.040099 -0.024960 -0.003819 -0.043401   \n",
       "2  0.005383  0.050680 -0.001895  0.008101 -0.004321 -0.015719 -0.002903   \n",
       "3 -0.052738 -0.044642 -0.055785 -0.036656  0.089244 -0.003193  0.008142   \n",
       "4  0.016281 -0.044642 -0.063330 -0.057314 -0.057983 -0.048912  0.008142   \n",
       "\n",
       "         s4        s5        s6  target  \n",
       "0 -0.039493 -0.021394  0.007207   155.0  \n",
       "1  0.015858 -0.005145  0.027917   167.0  \n",
       "2 -0.002592  0.038393 -0.013504   185.0  \n",
       "3  0.034309  0.132373  0.003064   109.0  \n",
       "4 -0.039493 -0.059473 -0.067351    65.0  "
      ],
      "text/html": "<div>\n<style scoped>\n    .dataframe tbody tr th:only-of-type {\n        vertical-align: middle;\n    }\n\n    .dataframe tbody tr th {\n        vertical-align: top;\n    }\n\n    .dataframe thead th {\n        text-align: right;\n    }\n</style>\n<table border=\"1\" class=\"dataframe\">\n  <thead>\n    <tr style=\"text-align: right;\">\n      <th></th>\n      <th>age</th>\n      <th>sex</th>\n      <th>bmi</th>\n      <th>bp</th>\n      <th>s1</th>\n      <th>s2</th>\n      <th>s3</th>\n      <th>s4</th>\n      <th>s5</th>\n      <th>s6</th>\n      <th>target</th>\n    </tr>\n  </thead>\n  <tbody>\n    <tr>\n      <th>0</th>\n      <td>0.034443</td>\n      <td>-0.044642</td>\n      <td>-0.007284</td>\n      <td>0.014987</td>\n      <td>-0.044223</td>\n      <td>-0.037326</td>\n      <td>-0.002903</td>\n      <td>-0.039493</td>\n      <td>-0.021394</td>\n      <td>0.007207</td>\n      <td>155.0</td>\n    </tr>\n    <tr>\n      <th>1</th>\n      <td>-0.009147</td>\n      <td>-0.044642</td>\n      <td>0.037984</td>\n      <td>-0.040099</td>\n      <td>-0.024960</td>\n      <td>-0.003819</td>\n      <td>-0.043401</td>\n      <td>0.015858</td>\n      <td>-0.005145</td>\n      <td>0.027917</td>\n      <td>167.0</td>\n    </tr>\n    <tr>\n      <th>2</th>\n      <td>0.005383</td>\n      <td>0.050680</td>\n      <td>-0.001895</td>\n      <td>0.008101</td>\n      <td>-0.004321</td>\n      <td>-0.015719</td>\n      <td>-0.002903</td>\n      <td>-0.002592</td>\n      <td>0.038393</td>\n      <td>-0.013504</td>\n      <td>185.0</td>\n    </tr>\n    <tr>\n      <th>3</th>\n      <td>-0.052738</td>\n      <td>-0.044642</td>\n      <td>-0.055785</td>\n      <td>-0.036656</td>\n      <td>0.089244</td>\n      <td>-0.003193</td>\n      <td>0.008142</td>\n      <td>0.034309</td>\n      <td>0.132373</td>\n      <td>0.003064</td>\n      <td>109.0</td>\n    </tr>\n    <tr>\n      <th>4</th>\n      <td>0.016281</td>\n      <td>-0.044642</td>\n      <td>-0.063330</td>\n      <td>-0.057314</td>\n      <td>-0.057983</td>\n      <td>-0.048912</td>\n      <td>0.008142</td>\n      <td>-0.039493</td>\n      <td>-0.059473</td>\n      <td>-0.067351</td>\n      <td>65.0</td>\n    </tr>\n  </tbody>\n</table>\n</div>"
     },
     "metadata": {},
     "execution_count": 32
    }
   ],
   "source": [
    "df_t = pd.read_csv('../static/data/diabetes_test.csv')\n",
    "df_t.head()"
   ]
  },
  {
   "cell_type": "code",
   "execution_count": 33,
   "metadata": {},
   "outputs": [
    {
     "output_type": "execute_result",
     "data": {
      "text/plain": [
       "(111, 11)"
      ]
     },
     "metadata": {},
     "execution_count": 33
    }
   ],
   "source": [
    "df_t.shape"
   ]
  },
  {
   "cell_type": "code",
   "execution_count": 34,
   "metadata": {},
   "outputs": [],
   "source": [
    "index = 100"
   ]
  },
  {
   "cell_type": "code",
   "execution_count": 41,
   "metadata": {},
   "outputs": [
    {
     "output_type": "execute_result",
     "data": {
      "text/plain": [
       "(-0.0366564467985606, 199.0)"
      ]
     },
     "metadata": {},
     "execution_count": 41
    }
   ],
   "source": [
    "X_test = df_t[feature][index]\n",
    "y_test = df_t.target[index]\n",
    "X_test, y_test"
   ]
  },
  {
   "cell_type": "code",
   "execution_count": 42,
   "metadata": {},
   "outputs": [
    {
     "output_type": "execute_result",
     "data": {
      "text/plain": [
       "123.76825707441527"
      ]
     },
     "metadata": {},
     "execution_count": 42
    }
   ],
   "source": [
    "pred = X_test * weight[0] + bias\n",
    "pred"
   ]
  },
  {
   "source": [
    "### 시각화"
   ],
   "cell_type": "markdown",
   "metadata": {}
  },
  {
   "cell_type": "code",
   "execution_count": 37,
   "metadata": {},
   "outputs": [],
   "source": [
    "import matplotlib.pyplot as plt\n",
    "%matplotlib inline"
   ]
  },
  {
   "cell_type": "code",
   "execution_count": 43,
   "metadata": {},
   "outputs": [
    {
     "output_type": "execute_result",
     "data": {
      "text/plain": [
       "(-0.10207098997955, 0.125158475807044)"
      ]
     },
     "metadata": {},
     "execution_count": 43
    }
   ],
   "source": [
    "np.min(X), np.max(X)"
   ]
  },
  {
   "cell_type": "code",
   "execution_count": 44,
   "metadata": {},
   "outputs": [],
   "source": [
    "y_min = np.min(X) * weight[0] + bias\n",
    "y_max = np.max(X) * weight[0] + bias"
   ]
  },
  {
   "cell_type": "code",
   "execution_count": 45,
   "metadata": {},
   "outputs": [
    {
     "output_type": "display_data",
     "data": {
      "text/plain": "<Figure size 432x288 with 1 Axes>",
      "image/svg+xml": "<?xml version=\"1.0\" encoding=\"utf-8\" standalone=\"no\"?>\r\n<!DOCTYPE svg PUBLIC \"-//W3C//DTD SVG 1.1//EN\"\r\n  \"http://www.w3.org/Graphics/SVG/1.1/DTD/svg11.dtd\">\r\n<!-- Created with matplotlib (https://matplotlib.org/) -->\r\n<svg height=\"263.63625pt\" version=\"1.1\" viewBox=\"0 0 375.2875 263.63625\" width=\"375.2875pt\" xmlns=\"http://www.w3.org/2000/svg\" xmlns:xlink=\"http://www.w3.org/1999/xlink\">\r\n <defs>\r\n  <style type=\"text/css\">\r\n*{stroke-linecap:butt;stroke-linejoin:round;}\r\n  </style>\r\n </defs>\r\n <g id=\"figure_1\">\r\n  <g id=\"patch_1\">\r\n   <path d=\"M 0 263.63625 \r\nL 375.2875 263.63625 \r\nL 375.2875 0 \r\nL 0 0 \r\nz\r\n\" style=\"fill:none;\"/>\r\n  </g>\r\n  <g id=\"axes_1\">\r\n   <g id=\"patch_2\">\r\n    <path d=\"M 33.2875 239.758125 \r\nL 368.0875 239.758125 \r\nL 368.0875 22.318125 \r\nL 33.2875 22.318125 \r\nz\r\n\" style=\"fill:#ffffff;\"/>\r\n   </g>\r\n   <g id=\"PathCollection_1\">\r\n    <defs>\r\n     <path d=\"M 0 3 \r\nC 0.795609 3 1.55874 2.683901 2.12132 2.12132 \r\nC 2.683901 1.55874 3 0.795609 3 0 \r\nC 3 -0.795609 2.683901 -1.55874 2.12132 -2.12132 \r\nC 1.55874 -2.683901 0.795609 -3 0 -3 \r\nC -0.795609 -3 -1.55874 -2.683901 -2.12132 -2.12132 \r\nC -2.683901 -1.55874 -3 -0.795609 -3 0 \r\nC -3 0.795609 -2.683901 1.55874 -2.12132 2.12132 \r\nC -1.55874 2.683901 -0.795609 3 0 3 \r\nz\r\n\" id=\"m2a89f236f0\" style=\"stroke:#1f77b4;\"/>\r\n    </defs>\r\n    <g clip-path=\"url(#pe8991e6a35)\">\r\n     <use style=\"fill:#1f77b4;stroke:#1f77b4;\" x=\"140.737087\" xlink:href=\"#m2a89f236f0\" y=\"115.036047\"/>\r\n     <use style=\"fill:#1f77b4;stroke:#1f77b4;\" x=\"131.513946\" xlink:href=\"#m2a89f236f0\" y=\"187.829813\"/>\r\n     <use style=\"fill:#1f77b4;stroke:#1f77b4;\" x=\"242.191632\" xlink:href=\"#m2a89f236f0\" y=\"169.631372\"/>\r\n     <use style=\"fill:#1f77b4;stroke:#1f77b4;\" x=\"256.026343\" xlink:href=\"#m2a89f236f0\" y=\"103.11293\"/>\r\n     <use style=\"fill:#1f77b4;stroke:#1f77b4;\" x=\"177.629649\" xlink:href=\"#m2a89f236f0\" y=\"143.902541\"/>\r\n     <use style=\"fill:#1f77b4;stroke:#1f77b4;\" x=\"182.241219\" xlink:href=\"#m2a89f236f0\" y=\"81.149294\"/>\r\n     <use style=\"fill:#1f77b4;stroke:#1f77b4;\" x=\"140.737087\" xlink:href=\"#m2a89f236f0\" y=\"184.692151\"/>\r\n     <use style=\"fill:#1f77b4;stroke:#1f77b4;\" x=\"145.348657\" xlink:href=\"#m2a89f236f0\" y=\"204.145657\"/>\r\n     <use style=\"fill:#1f77b4;stroke:#1f77b4;\" x=\"251.414773\" xlink:href=\"#m2a89f236f0\" y=\"160.845917\"/>\r\n     <use style=\"fill:#1f77b4;stroke:#1f77b4;\" x=\"256.026343\" xlink:href=\"#m2a89f236f0\" y=\"83.031891\"/>\r\n     <use style=\"fill:#1f77b4;stroke:#1f77b4;\" x=\"129.976756\" xlink:href=\"#m2a89f236f0\" y=\"76.756567\"/>\r\n     <use style=\"fill:#1f77b4;stroke:#1f77b4;\" x=\"85.398244\" xlink:href=\"#m2a89f236f0\" y=\"123.821502\"/>\r\n     <use style=\"fill:#1f77b4;stroke:#1f77b4;\" x=\"260.637913\" xlink:href=\"#m2a89f236f0\" y=\"137.627216\"/>\r\n     <use style=\"fill:#1f77b4;stroke:#1f77b4;\" x=\"260.637913\" xlink:href=\"#m2a89f236f0\" y=\"162.728515\"/>\r\n     <use style=\"fill:#1f77b4;stroke:#1f77b4;\" x=\"168.406508\" xlink:href=\"#m2a89f236f0\" y=\"175.279164\"/>\r\n     <use style=\"fill:#1f77b4;stroke:#1f77b4;\" x=\"173.018079\" xlink:href=\"#m2a89f236f0\" y=\"126.331631\"/>\r\n     <use style=\"fill:#1f77b4;stroke:#1f77b4;\" x=\"128.439566\" xlink:href=\"#m2a89f236f0\" y=\"193.477606\"/>\r\n     <use style=\"fill:#1f77b4;stroke:#1f77b4;\" x=\"185.315599\" xlink:href=\"#m2a89f236f0\" y=\"157.708255\"/>\r\n     <use style=\"fill:#1f77b4;stroke:#1f77b4;\" x=\"242.191632\" xlink:href=\"#m2a89f236f0\" y=\"175.279164\"/>\r\n     <use style=\"fill:#1f77b4;stroke:#1f77b4;\" x=\"256.026343\" xlink:href=\"#m2a89f236f0\" y=\"72.991372\"/>\r\n     <use style=\"fill:#1f77b4;stroke:#1f77b4;\" x=\"315.976756\" xlink:href=\"#m2a89f236f0\" y=\"91.189813\"/>\r\n     <use style=\"fill:#1f77b4;stroke:#1f77b4;\" x=\"200.6875\" xlink:href=\"#m2a89f236f0\" y=\"219.833969\"/>\r\n     <use style=\"fill:#1f77b4;stroke:#1f77b4;\" x=\"136.125517\" xlink:href=\"#m2a89f236f0\" y=\"57.30306\"/>\r\n     <use style=\"fill:#1f77b4;stroke:#1f77b4;\" x=\"165.332128\" xlink:href=\"#m2a89f236f0\" y=\"211.048515\"/>\r\n     <use style=\"fill:#1f77b4;stroke:#1f77b4;\" x=\"114.604855\" xlink:href=\"#m2a89f236f0\" y=\"161.47345\"/>\r\n     <use style=\"fill:#1f77b4;stroke:#1f77b4;\" x=\"108.456095\" xlink:href=\"#m2a89f236f0\" y=\"224.854229\"/>\r\n     <use style=\"fill:#1f77b4;stroke:#1f77b4;\" x=\"251.414773\" xlink:href=\"#m2a89f236f0\" y=\"103.740463\"/>\r\n     <use style=\"fill:#1f77b4;stroke:#1f77b4;\" x=\"196.07593\" xlink:href=\"#m2a89f236f0\" y=\"135.117086\"/>\r\n     <use style=\"fill:#1f77b4;stroke:#1f77b4;\" x=\"177.629649\" xlink:href=\"#m2a89f236f0\" y=\"153.315528\"/>\r\n     <use style=\"fill:#1f77b4;stroke:#1f77b4;\" x=\"315.976756\" xlink:href=\"#m2a89f236f0\" y=\"73.618904\"/>\r\n     <use style=\"fill:#1f77b4;stroke:#1f77b4;\" x=\"177.629649\" xlink:href=\"#m2a89f236f0\" y=\"172.769034\"/>\r\n     <use style=\"fill:#1f77b4;stroke:#1f77b4;\" x=\"223.745351\" xlink:href=\"#m2a89f236f0\" y=\"122.566437\"/>\r\n     <use style=\"fill:#1f77b4;stroke:#1f77b4;\" x=\"163.794938\" xlink:href=\"#m2a89f236f0\" y=\"111.898385\"/>\r\n     <use style=\"fill:#1f77b4;stroke:#1f77b4;\" x=\"131.513946\" xlink:href=\"#m2a89f236f0\" y=\"211.048515\"/>\r\n     <use style=\"fill:#1f77b4;stroke:#1f77b4;\" x=\"223.745351\" xlink:href=\"#m2a89f236f0\" y=\"108.13319\"/>\r\n     <use style=\"fill:#1f77b4;stroke:#1f77b4;\" x=\"149.960227\" xlink:href=\"#m2a89f236f0\" y=\"159.590852\"/>\r\n     <use style=\"fill:#1f77b4;stroke:#1f77b4;\" x=\"232.968492\" xlink:href=\"#m2a89f236f0\" y=\"207.910852\"/>\r\n     <use style=\"fill:#1f77b4;stroke:#1f77b4;\" x=\"177.629649\" xlink:href=\"#m2a89f236f0\" y=\"104.995528\"/>\r\n     <use style=\"fill:#1f77b4;stroke:#1f77b4;\" x=\"163.794938\" xlink:href=\"#m2a89f236f0\" y=\"204.77319\"/>\r\n     <use style=\"fill:#1f77b4;stroke:#1f77b4;\" x=\"140.737087\" xlink:href=\"#m2a89f236f0\" y=\"158.335787\"/>\r\n     <use style=\"fill:#1f77b4;stroke:#1f77b4;\" x=\"108.456095\" xlink:href=\"#m2a89f236f0\" y=\"195.987735\"/>\r\n     <use style=\"fill:#1f77b4;stroke:#1f77b4;\" x=\"168.406508\" xlink:href=\"#m2a89f236f0\" y=\"192.850073\"/>\r\n     <use style=\"fill:#1f77b4;stroke:#1f77b4;\" x=\"136.125517\" xlink:href=\"#m2a89f236f0\" y=\"219.833969\"/>\r\n     <use style=\"fill:#1f77b4;stroke:#1f77b4;\" x=\"140.737087\" xlink:href=\"#m2a89f236f0\" y=\"177.789294\"/>\r\n     <use style=\"fill:#1f77b4;stroke:#1f77b4;\" x=\"168.406508\" xlink:href=\"#m2a89f236f0\" y=\"84.914489\"/>\r\n     <use style=\"fill:#1f77b4;stroke:#1f77b4;\" x=\"85.398244\" xlink:href=\"#m2a89f236f0\" y=\"214.813709\"/>\r\n     <use style=\"fill:#1f77b4;stroke:#1f77b4;\" x=\"274.472624\" xlink:href=\"#m2a89f236f0\" y=\"201.007995\"/>\r\n     <use style=\"fill:#1f77b4;stroke:#1f77b4;\" x=\"311.365186\" xlink:href=\"#m2a89f236f0\" y=\"101.230333\"/>\r\n     <use style=\"fill:#1f77b4;stroke:#1f77b4;\" x=\"306.753616\" xlink:href=\"#m2a89f236f0\" y=\"139.509813\"/>\r\n     <use style=\"fill:#1f77b4;stroke:#1f77b4;\" x=\"246.803202\" xlink:href=\"#m2a89f236f0\" y=\"98.09267\"/>\r\n     <use style=\"fill:#1f77b4;stroke:#1f77b4;\" x=\"232.968492\" xlink:href=\"#m2a89f236f0\" y=\"203.518125\"/>\r\n     <use style=\"fill:#1f77b4;stroke:#1f77b4;\" x=\"122.290806\" xlink:href=\"#m2a89f236f0\" y=\"170.258904\"/>\r\n     <use style=\"fill:#1f77b4;stroke:#1f77b4;\" x=\"263.712294\" xlink:href=\"#m2a89f236f0\" y=\"171.513969\"/>\r\n     <use style=\"fill:#1f77b4;stroke:#1f77b4;\" x=\"154.571798\" xlink:href=\"#m2a89f236f0\" y=\"208.538385\"/>\r\n     <use style=\"fill:#1f77b4;stroke:#1f77b4;\" x=\"154.571798\" xlink:href=\"#m2a89f236f0\" y=\"218.578904\"/>\r\n     <use style=\"fill:#1f77b4;stroke:#1f77b4;\" x=\"288.307335\" xlink:href=\"#m2a89f236f0\" y=\"152.060463\"/>\r\n     <use style=\"fill:#1f77b4;stroke:#1f77b4;\" x=\"168.406508\" xlink:href=\"#m2a89f236f0\" y=\"122.566437\"/>\r\n     <use style=\"fill:#1f77b4;stroke:#1f77b4;\" x=\"168.406508\" xlink:href=\"#m2a89f236f0\" y=\"154.570593\"/>\r\n     <use style=\"fill:#1f77b4;stroke:#1f77b4;\" x=\"85.398244\" xlink:href=\"#m2a89f236f0\" y=\"184.064619\"/>\r\n     <use style=\"fill:#1f77b4;stroke:#1f77b4;\" x=\"231.431302\" xlink:href=\"#m2a89f236f0\" y=\"192.850073\"/>\r\n     <use style=\"fill:#1f77b4;stroke:#1f77b4;\" x=\"131.513946\" xlink:href=\"#m2a89f236f0\" y=\"206.655787\"/>\r\n     <use style=\"fill:#1f77b4;stroke:#1f77b4;\" x=\"159.183368\" xlink:href=\"#m2a89f236f0\" y=\"179.671891\"/>\r\n     <use style=\"fill:#1f77b4;stroke:#1f77b4;\" x=\"149.960227\" xlink:href=\"#m2a89f236f0\" y=\"178.416826\"/>\r\n     <use style=\"fill:#1f77b4;stroke:#1f77b4;\" x=\"315.976756\" xlink:href=\"#m2a89f236f0\" y=\"84.286956\"/>\r\n     <use style=\"fill:#1f77b4;stroke:#1f77b4;\" x=\"200.6875\" xlink:href=\"#m2a89f236f0\" y=\"142.647476\"/>\r\n     <use style=\"fill:#1f77b4;stroke:#1f77b4;\" x=\"269.861054\" xlink:href=\"#m2a89f236f0\" y=\"86.797086\"/>\r\n     <use style=\"fill:#1f77b4;stroke:#1f77b4;\" x=\"131.513946\" xlink:href=\"#m2a89f236f0\" y=\"148.9228\"/>\r\n     <use style=\"fill:#1f77b4;stroke:#1f77b4;\" x=\"205.29907\" xlink:href=\"#m2a89f236f0\" y=\"97.465138\"/>\r\n     <use style=\"fill:#1f77b4;stroke:#1f77b4;\" x=\"269.861054\" xlink:href=\"#m2a89f236f0\" y=\"85.542021\"/>\r\n     <use style=\"fill:#1f77b4;stroke:#1f77b4;\" x=\"149.960227\" xlink:href=\"#m2a89f236f0\" y=\"163.356047\"/>\r\n     <use style=\"fill:#1f77b4;stroke:#1f77b4;\" x=\"268.323864\" xlink:href=\"#m2a89f236f0\" y=\"97.465138\"/>\r\n     <use style=\"fill:#1f77b4;stroke:#1f77b4;\" x=\"265.249483\" xlink:href=\"#m2a89f236f0\" y=\"147.040203\"/>\r\n     <use style=\"fill:#1f77b4;stroke:#1f77b4;\" x=\"85.398244\" xlink:href=\"#m2a89f236f0\" y=\"141.392411\"/>\r\n     <use style=\"fill:#1f77b4;stroke:#1f77b4;\" x=\"163.794938\" xlink:href=\"#m2a89f236f0\" y=\"224.854229\"/>\r\n     <use style=\"fill:#1f77b4;stroke:#1f77b4;\" x=\"173.018079\" xlink:href=\"#m2a89f236f0\" y=\"182.182021\"/>\r\n     <use style=\"fill:#1f77b4;stroke:#1f77b4;\" x=\"163.794938\" xlink:href=\"#m2a89f236f0\" y=\"215.441242\"/>\r\n     <use style=\"fill:#1f77b4;stroke:#1f77b4;\" x=\"214.522211\" xlink:href=\"#m2a89f236f0\" y=\"205.400722\"/>\r\n     <use style=\"fill:#1f77b4;stroke:#1f77b4;\" x=\"48.505682\" xlink:href=\"#m2a89f236f0\" y=\"189.084878\"/>\r\n     <use style=\"fill:#1f77b4;stroke:#1f77b4;\" x=\"288.307335\" xlink:href=\"#m2a89f236f0\" y=\"79.894229\"/>\r\n     <use style=\"fill:#1f77b4;stroke:#1f77b4;\" x=\"154.571798\" xlink:href=\"#m2a89f236f0\" y=\"91.189813\"/>\r\n     <use style=\"fill:#1f77b4;stroke:#1f77b4;\" x=\"182.241219\" xlink:href=\"#m2a89f236f0\" y=\"164.611112\"/>\r\n     <use style=\"fill:#1f77b4;stroke:#1f77b4;\" x=\"117.679236\" xlink:href=\"#m2a89f236f0\" y=\"219.206437\"/>\r\n     <use style=\"fill:#1f77b4;stroke:#1f77b4;\" x=\"168.406508\" xlink:href=\"#m2a89f236f0\" y=\"180.926956\"/>\r\n     <use style=\"fill:#1f77b4;stroke:#1f77b4;\" x=\"265.249483\" xlink:href=\"#m2a89f236f0\" y=\"137.627216\"/>\r\n     <use style=\"fill:#1f77b4;stroke:#1f77b4;\" x=\"251.414773\" xlink:href=\"#m2a89f236f0\" y=\"93.699943\"/>\r\n     <use style=\"fill:#1f77b4;stroke:#1f77b4;\" x=\"269.861054\" xlink:href=\"#m2a89f236f0\" y=\"133.234489\"/>\r\n     <use style=\"fill:#1f77b4;stroke:#1f77b4;\" x=\"122.290806\" xlink:href=\"#m2a89f236f0\" y=\"32.201761\"/>\r\n     <use style=\"fill:#1f77b4;stroke:#1f77b4;\" x=\"229.894111\" xlink:href=\"#m2a89f236f0\" y=\"125.076567\"/>\r\n     <use style=\"fill:#1f77b4;stroke:#1f77b4;\" x=\"53.117252\" xlink:href=\"#m2a89f236f0\" y=\"202.890593\"/>\r\n     <use style=\"fill:#1f77b4;stroke:#1f77b4;\" x=\"122.290806\" xlink:href=\"#m2a89f236f0\" y=\"50.400203\"/>\r\n     <use style=\"fill:#1f77b4;stroke:#1f77b4;\" x=\"154.571798\" xlink:href=\"#m2a89f236f0\" y=\"184.064619\"/>\r\n     <use style=\"fill:#1f77b4;stroke:#1f77b4;\" x=\"99.232955\" xlink:href=\"#m2a89f236f0\" y=\"209.79345\"/>\r\n     <use style=\"fill:#1f77b4;stroke:#1f77b4;\" x=\"223.745351\" xlink:href=\"#m2a89f236f0\" y=\"35.339424\"/>\r\n     <use style=\"fill:#1f77b4;stroke:#1f77b4;\" x=\"94.621384\" xlink:href=\"#m2a89f236f0\" y=\"150.177865\"/>\r\n     <use style=\"fill:#1f77b4;stroke:#1f77b4;\" x=\"117.679236\" xlink:href=\"#m2a89f236f0\" y=\"134.489554\"/>\r\n     <use style=\"fill:#1f77b4;stroke:#1f77b4;\" x=\"85.398244\" xlink:href=\"#m2a89f236f0\" y=\"194.105138\"/>\r\n     <use style=\"fill:#1f77b4;stroke:#1f77b4;\" x=\"242.191632\" xlink:href=\"#m2a89f236f0\" y=\"159.590852\"/>\r\n     <use style=\"fill:#1f77b4;stroke:#1f77b4;\" x=\"96.158574\" xlink:href=\"#m2a89f236f0\" y=\"128.841761\"/>\r\n     <use style=\"fill:#1f77b4;stroke:#1f77b4;\" x=\"117.679236\" xlink:href=\"#m2a89f236f0\" y=\"192.850073\"/>\r\n     <use style=\"fill:#1f77b4;stroke:#1f77b4;\" x=\"182.241219\" xlink:href=\"#m2a89f236f0\" y=\"179.671891\"/>\r\n     <use style=\"fill:#1f77b4;stroke:#1f77b4;\" x=\"136.125517\" xlink:href=\"#m2a89f236f0\" y=\"120.056307\"/>\r\n     <use style=\"fill:#1f77b4;stroke:#1f77b4;\" x=\"177.629649\" xlink:href=\"#m2a89f236f0\" y=\"173.396567\"/>\r\n     <use style=\"fill:#1f77b4;stroke:#1f77b4;\" x=\"242.191632\" xlink:href=\"#m2a89f236f0\" y=\"217.951372\"/>\r\n     <use style=\"fill:#1f77b4;stroke:#1f77b4;\" x=\"109.993285\" xlink:href=\"#m2a89f236f0\" y=\"135.117086\"/>\r\n     <use style=\"fill:#1f77b4;stroke:#1f77b4;\" x=\"265.249483\" xlink:href=\"#m2a89f236f0\" y=\"75.501502\"/>\r\n     <use style=\"fill:#1f77b4;stroke:#1f77b4;\" x=\"154.571798\" xlink:href=\"#m2a89f236f0\" y=\"166.493709\"/>\r\n     <use style=\"fill:#1f77b4;stroke:#1f77b4;\" x=\"274.472624\" xlink:href=\"#m2a89f236f0\" y=\"76.756567\"/>\r\n     <use style=\"fill:#1f77b4;stroke:#1f77b4;\" x=\"205.29907\" xlink:href=\"#m2a89f236f0\" y=\"187.202281\"/>\r\n     <use style=\"fill:#1f77b4;stroke:#1f77b4;\" x=\"288.307335\" xlink:href=\"#m2a89f236f0\" y=\"167.121242\"/>\r\n     <use style=\"fill:#1f77b4;stroke:#1f77b4;\" x=\"256.026343\" xlink:href=\"#m2a89f236f0\" y=\"90.562281\"/>\r\n     <use style=\"fill:#1f77b4;stroke:#1f77b4;\" x=\"93.084194\" xlink:href=\"#m2a89f236f0\" y=\"204.145657\"/>\r\n     <use style=\"fill:#1f77b4;stroke:#1f77b4;\" x=\"223.745351\" xlink:href=\"#m2a89f236f0\" y=\"66.088515\"/>\r\n     <use style=\"fill:#1f77b4;stroke:#1f77b4;\" x=\"94.621384\" xlink:href=\"#m2a89f236f0\" y=\"184.064619\"/>\r\n     <use style=\"fill:#1f77b4;stroke:#1f77b4;\" x=\"154.571798\" xlink:href=\"#m2a89f236f0\" y=\"204.77319\"/>\r\n     <use style=\"fill:#1f77b4;stroke:#1f77b4;\" x=\"117.679236\" xlink:href=\"#m2a89f236f0\" y=\"140.137346\"/>\r\n     <use style=\"fill:#1f77b4;stroke:#1f77b4;\" x=\"149.960227\" xlink:href=\"#m2a89f236f0\" y=\"169.631372\"/>\r\n     <use style=\"fill:#1f77b4;stroke:#1f77b4;\" x=\"223.745351\" xlink:href=\"#m2a89f236f0\" y=\"146.41267\"/>\r\n     <use style=\"fill:#1f77b4;stroke:#1f77b4;\" x=\"168.406508\" xlink:href=\"#m2a89f236f0\" y=\"191.595008\"/>\r\n     <use style=\"fill:#1f77b4;stroke:#1f77b4;\" x=\"99.232955\" xlink:href=\"#m2a89f236f0\" y=\"229.874489\"/>\r\n     <use style=\"fill:#1f77b4;stroke:#1f77b4;\" x=\"149.960227\" xlink:href=\"#m2a89f236f0\" y=\"222.971631\"/>\r\n     <use style=\"fill:#1f77b4;stroke:#1f77b4;\" x=\"136.125517\" xlink:href=\"#m2a89f236f0\" y=\"188.457346\"/>\r\n     <use style=\"fill:#1f77b4;stroke:#1f77b4;\" x=\"186.852789\" xlink:href=\"#m2a89f236f0\" y=\"209.165917\"/>\r\n     <use style=\"fill:#1f77b4;stroke:#1f77b4;\" x=\"302.142045\" xlink:href=\"#m2a89f236f0\" y=\"72.991372\"/>\r\n     <use style=\"fill:#1f77b4;stroke:#1f77b4;\" x=\"183.778409\" xlink:href=\"#m2a89f236f0\" y=\"196.615268\"/>\r\n     <use style=\"fill:#1f77b4;stroke:#1f77b4;\" x=\"131.513946\" xlink:href=\"#m2a89f236f0\" y=\"216.696307\"/>\r\n     <use style=\"fill:#1f77b4;stroke:#1f77b4;\" x=\"113.067665\" xlink:href=\"#m2a89f236f0\" y=\"158.96332\"/>\r\n     <use style=\"fill:#1f77b4;stroke:#1f77b4;\" x=\"191.46436\" xlink:href=\"#m2a89f236f0\" y=\"206.028255\"/>\r\n     <use style=\"fill:#1f77b4;stroke:#1f77b4;\" x=\"154.571798\" xlink:href=\"#m2a89f236f0\" y=\"133.862021\"/>\r\n     <use style=\"fill:#1f77b4;stroke:#1f77b4;\" x=\"177.629649\" xlink:href=\"#m2a89f236f0\" y=\"95.582541\"/>\r\n     <use style=\"fill:#1f77b4;stroke:#1f77b4;\" x=\"126.902376\" xlink:href=\"#m2a89f236f0\" y=\"163.98358\"/>\r\n     <use style=\"fill:#1f77b4;stroke:#1f77b4;\" x=\"131.513946\" xlink:href=\"#m2a89f236f0\" y=\"217.323839\"/>\r\n     <use style=\"fill:#1f77b4;stroke:#1f77b4;\" x=\"196.07593\" xlink:href=\"#m2a89f236f0\" y=\"185.947216\"/>\r\n     <use style=\"fill:#1f77b4;stroke:#1f77b4;\" x=\"223.745351\" xlink:href=\"#m2a89f236f0\" y=\"192.222541\"/>\r\n     <use style=\"fill:#1f77b4;stroke:#1f77b4;\" x=\"162.257748\" xlink:href=\"#m2a89f236f0\" y=\"188.457346\"/>\r\n     <use style=\"fill:#1f77b4;stroke:#1f77b4;\" x=\"191.46436\" xlink:href=\"#m2a89f236f0\" y=\"123.821502\"/>\r\n     <use style=\"fill:#1f77b4;stroke:#1f77b4;\" x=\"122.290806\" xlink:href=\"#m2a89f236f0\" y=\"168.376307\"/>\r\n     <use style=\"fill:#1f77b4;stroke:#1f77b4;\" x=\"262.175103\" xlink:href=\"#m2a89f236f0\" y=\"181.554489\"/>\r\n     <use style=\"fill:#1f77b4;stroke:#1f77b4;\" x=\"169.943698\" xlink:href=\"#m2a89f236f0\" y=\"86.797086\"/>\r\n     <use style=\"fill:#1f77b4;stroke:#1f77b4;\" x=\"113.067665\" xlink:href=\"#m2a89f236f0\" y=\"188.457346\"/>\r\n     <use style=\"fill:#1f77b4;stroke:#1f77b4;\" x=\"302.142045\" xlink:href=\"#m2a89f236f0\" y=\"96.837606\"/>\r\n     <use style=\"fill:#1f77b4;stroke:#1f77b4;\" x=\"260.637913\" xlink:href=\"#m2a89f236f0\" y=\"135.744619\"/>\r\n     <use style=\"fill:#1f77b4;stroke:#1f77b4;\" x=\"90.009814\" xlink:href=\"#m2a89f236f0\" y=\"191.595008\"/>\r\n     <use style=\"fill:#1f77b4;stroke:#1f77b4;\" x=\"205.29907\" xlink:href=\"#m2a89f236f0\" y=\"211.676047\"/>\r\n     <use style=\"fill:#1f77b4;stroke:#1f77b4;\" x=\"149.960227\" xlink:href=\"#m2a89f236f0\" y=\"216.696307\"/>\r\n     <use style=\"fill:#1f77b4;stroke:#1f77b4;\" x=\"226.819732\" xlink:href=\"#m2a89f236f0\" y=\"95.582541\"/>\r\n     <use style=\"fill:#1f77b4;stroke:#1f77b4;\" x=\"186.852789\" xlink:href=\"#m2a89f236f0\" y=\"160.845917\"/>\r\n     <use style=\"fill:#1f77b4;stroke:#1f77b4;\" x=\"113.067665\" xlink:href=\"#m2a89f236f0\" y=\"146.41267\"/>\r\n     <use style=\"fill:#1f77b4;stroke:#1f77b4;\" x=\"315.976756\" xlink:href=\"#m2a89f236f0\" y=\"56.047995\"/>\r\n     <use style=\"fill:#1f77b4;stroke:#1f77b4;\" x=\"126.902376\" xlink:href=\"#m2a89f236f0\" y=\"206.028255\"/>\r\n     <use style=\"fill:#1f77b4;stroke:#1f77b4;\" x=\"177.629649\" xlink:href=\"#m2a89f236f0\" y=\"194.105138\"/>\r\n     <use style=\"fill:#1f77b4;stroke:#1f77b4;\" x=\"205.29907\" xlink:href=\"#m2a89f236f0\" y=\"172.769034\"/>\r\n     <use style=\"fill:#1f77b4;stroke:#1f77b4;\" x=\"151.497417\" xlink:href=\"#m2a89f236f0\" y=\"74.246437\"/>\r\n     <use style=\"fill:#1f77b4;stroke:#1f77b4;\" x=\"71.563533\" xlink:href=\"#m2a89f236f0\" y=\"217.323839\"/>\r\n     <use style=\"fill:#1f77b4;stroke:#1f77b4;\" x=\"288.307335\" xlink:href=\"#m2a89f236f0\" y=\"54.79293\"/>\r\n     <use style=\"fill:#1f77b4;stroke:#1f77b4;\" x=\"182.241219\" xlink:href=\"#m2a89f236f0\" y=\"175.279164\"/>\r\n     <use style=\"fill:#1f77b4;stroke:#1f77b4;\" x=\"214.522211\" xlink:href=\"#m2a89f236f0\" y=\"136.372151\"/>\r\n     <use style=\"fill:#1f77b4;stroke:#1f77b4;\" x=\"131.513946\" xlink:href=\"#m2a89f236f0\" y=\"214.813709\"/>\r\n     <use style=\"fill:#1f77b4;stroke:#1f77b4;\" x=\"228.356921\" xlink:href=\"#m2a89f236f0\" y=\"216.068774\"/>\r\n     <use style=\"fill:#1f77b4;stroke:#1f77b4;\" x=\"260.637913\" xlink:href=\"#m2a89f236f0\" y=\"195.987735\"/>\r\n     <use style=\"fill:#1f77b4;stroke:#1f77b4;\" x=\"246.803202\" xlink:href=\"#m2a89f236f0\" y=\"129.469294\"/>\r\n     <use style=\"fill:#1f77b4;stroke:#1f77b4;\" x=\"279.084194\" xlink:href=\"#m2a89f236f0\" y=\"184.064619\"/>\r\n     <use style=\"fill:#1f77b4;stroke:#1f77b4;\" x=\"196.07593\" xlink:href=\"#m2a89f236f0\" y=\"64.205917\"/>\r\n     <use style=\"fill:#1f77b4;stroke:#1f77b4;\" x=\"251.414773\" xlink:href=\"#m2a89f236f0\" y=\"145.157606\"/>\r\n     <use style=\"fill:#1f77b4;stroke:#1f77b4;\" x=\"260.637913\" xlink:href=\"#m2a89f236f0\" y=\"180.299424\"/>\r\n     <use style=\"fill:#1f77b4;stroke:#1f77b4;\" x=\"315.976756\" xlink:href=\"#m2a89f236f0\" y=\"219.206437\"/>\r\n     <use style=\"fill:#1f77b4;stroke:#1f77b4;\" x=\"214.522211\" xlink:href=\"#m2a89f236f0\" y=\"164.611112\"/>\r\n     <use style=\"fill:#1f77b4;stroke:#1f77b4;\" x=\"223.745351\" xlink:href=\"#m2a89f236f0\" y=\"135.117086\"/>\r\n     <use style=\"fill:#1f77b4;stroke:#1f77b4;\" x=\"159.183368\" xlink:href=\"#m2a89f236f0\" y=\"163.356047\"/>\r\n     <use style=\"fill:#1f77b4;stroke:#1f77b4;\" x=\"131.513946\" xlink:href=\"#m2a89f236f0\" y=\"216.068774\"/>\r\n     <use style=\"fill:#1f77b4;stroke:#1f77b4;\" x=\"352.869318\" xlink:href=\"#m2a89f236f0\" y=\"79.894229\"/>\r\n     <use style=\"fill:#1f77b4;stroke:#1f77b4;\" x=\"325.199897\" xlink:href=\"#m2a89f236f0\" y=\"77.384099\"/>\r\n     <use style=\"fill:#1f77b4;stroke:#1f77b4;\" x=\"140.737087\" xlink:href=\"#m2a89f236f0\" y=\"204.77319\"/>\r\n     <use style=\"fill:#1f77b4;stroke:#1f77b4;\" x=\"108.456095\" xlink:href=\"#m2a89f236f0\" y=\"209.79345\"/>\r\n     <use style=\"fill:#1f77b4;stroke:#1f77b4;\" x=\"256.026343\" xlink:href=\"#m2a89f236f0\" y=\"208.538385\"/>\r\n     <use style=\"fill:#1f77b4;stroke:#1f77b4;\" x=\"113.067665\" xlink:href=\"#m2a89f236f0\" y=\"222.971631\"/>\r\n     <use style=\"fill:#1f77b4;stroke:#1f77b4;\" x=\"279.084194\" xlink:href=\"#m2a89f236f0\" y=\"83.659424\"/>\r\n     <use style=\"fill:#1f77b4;stroke:#1f77b4;\" x=\"269.861054\" xlink:href=\"#m2a89f236f0\" y=\"93.699943\"/>\r\n     <use style=\"fill:#1f77b4;stroke:#1f77b4;\" x=\"159.183368\" xlink:href=\"#m2a89f236f0\" y=\"84.914489\"/>\r\n     <use style=\"fill:#1f77b4;stroke:#1f77b4;\" x=\"219.133781\" xlink:href=\"#m2a89f236f0\" y=\"40.987216\"/>\r\n     <use style=\"fill:#1f77b4;stroke:#1f77b4;\" x=\"159.183368\" xlink:href=\"#m2a89f236f0\" y=\"189.084878\"/>\r\n     <use style=\"fill:#1f77b4;stroke:#1f77b4;\" x=\"136.125517\" xlink:href=\"#m2a89f236f0\" y=\"169.003839\"/>\r\n     <use style=\"fill:#1f77b4;stroke:#1f77b4;\" x=\"76.175103\" xlink:href=\"#m2a89f236f0\" y=\"212.30358\"/>\r\n     <use style=\"fill:#1f77b4;stroke:#1f77b4;\" x=\"126.902376\" xlink:href=\"#m2a89f236f0\" y=\"154.570593\"/>\r\n     <use style=\"fill:#1f77b4;stroke:#1f77b4;\" x=\"149.960227\" xlink:href=\"#m2a89f236f0\" y=\"187.202281\"/>\r\n     <use style=\"fill:#1f77b4;stroke:#1f77b4;\" x=\"269.861054\" xlink:href=\"#m2a89f236f0\" y=\"71.736307\"/>\r\n     <use style=\"fill:#1f77b4;stroke:#1f77b4;\" x=\"214.522211\" xlink:href=\"#m2a89f236f0\" y=\"72.991372\"/>\r\n     <use style=\"fill:#1f77b4;stroke:#1f77b4;\" x=\"259.100723\" xlink:href=\"#m2a89f236f0\" y=\"130.096826\"/>\r\n     <use style=\"fill:#1f77b4;stroke:#1f77b4;\" x=\"149.960227\" xlink:href=\"#m2a89f236f0\" y=\"94.955008\"/>\r\n     <use style=\"fill:#1f77b4;stroke:#1f77b4;\" x=\"200.6875\" xlink:href=\"#m2a89f236f0\" y=\"197.2428\"/>\r\n     <use style=\"fill:#1f77b4;stroke:#1f77b4;\" x=\"279.084194\" xlink:href=\"#m2a89f236f0\" y=\"168.376307\"/>\r\n     <use style=\"fill:#1f77b4;stroke:#1f77b4;\" x=\"256.026343\" xlink:href=\"#m2a89f236f0\" y=\"114.408515\"/>\r\n     <use style=\"fill:#1f77b4;stroke:#1f77b4;\" x=\"85.398244\" xlink:href=\"#m2a89f236f0\" y=\"123.193969\"/>\r\n     <use style=\"fill:#1f77b4;stroke:#1f77b4;\" x=\"177.629649\" xlink:href=\"#m2a89f236f0\" y=\"185.947216\"/>\r\n     <use style=\"fill:#1f77b4;stroke:#1f77b4;\" x=\"256.026343\" xlink:href=\"#m2a89f236f0\" y=\"147.040203\"/>\r\n     <use style=\"fill:#1f77b4;stroke:#1f77b4;\" x=\"159.183368\" xlink:href=\"#m2a89f236f0\" y=\"168.376307\"/>\r\n     <use style=\"fill:#1f77b4;stroke:#1f77b4;\" x=\"329.811467\" xlink:href=\"#m2a89f236f0\" y=\"113.15345\"/>\r\n     <use style=\"fill:#1f77b4;stroke:#1f77b4;\" x=\"214.522211\" xlink:href=\"#m2a89f236f0\" y=\"152.687995\"/>\r\n     <use style=\"fill:#1f77b4;stroke:#1f77b4;\" x=\"99.232955\" xlink:href=\"#m2a89f236f0\" y=\"176.534229\"/>\r\n     <use style=\"fill:#1f77b4;stroke:#1f77b4;\" x=\"140.737087\" xlink:href=\"#m2a89f236f0\" y=\"204.145657\"/>\r\n     <use style=\"fill:#1f77b4;stroke:#1f77b4;\" x=\"279.084194\" xlink:href=\"#m2a89f236f0\" y=\"192.222541\"/>\r\n     <use style=\"fill:#1f77b4;stroke:#1f77b4;\" x=\"256.026343\" xlink:href=\"#m2a89f236f0\" y=\"110.015787\"/>\r\n     <use style=\"fill:#1f77b4;stroke:#1f77b4;\" x=\"173.018079\" xlink:href=\"#m2a89f236f0\" y=\"136.999683\"/>\r\n     <use style=\"fill:#1f77b4;stroke:#1f77b4;\" x=\"136.125517\" xlink:href=\"#m2a89f236f0\" y=\"205.400722\"/>\r\n     <use style=\"fill:#1f77b4;stroke:#1f77b4;\" x=\"145.348657\" xlink:href=\"#m2a89f236f0\" y=\"217.323839\"/>\r\n     <use style=\"fill:#1f77b4;stroke:#1f77b4;\" x=\"209.91064\" xlink:href=\"#m2a89f236f0\" y=\"101.857865\"/>\r\n     <use style=\"fill:#1f77b4;stroke:#1f77b4;\" x=\"177.629649\" xlink:href=\"#m2a89f236f0\" y=\"137.627216\"/>\r\n     <use style=\"fill:#1f77b4;stroke:#1f77b4;\" x=\"85.398244\" xlink:href=\"#m2a89f236f0\" y=\"216.068774\"/>\r\n     <use style=\"fill:#1f77b4;stroke:#1f77b4;\" x=\"177.629649\" xlink:href=\"#m2a89f236f0\" y=\"125.704099\"/>\r\n     <use style=\"fill:#1f77b4;stroke:#1f77b4;\" x=\"269.861054\" xlink:href=\"#m2a89f236f0\" y=\"204.77319\"/>\r\n     <use style=\"fill:#1f77b4;stroke:#1f77b4;\" x=\"108.456095\" xlink:href=\"#m2a89f236f0\" y=\"190.339943\"/>\r\n     <use style=\"fill:#1f77b4;stroke:#1f77b4;\" x=\"103.844525\" xlink:href=\"#m2a89f236f0\" y=\"200.380463\"/>\r\n     <use style=\"fill:#1f77b4;stroke:#1f77b4;\" x=\"191.46436\" xlink:href=\"#m2a89f236f0\" y=\"138.254748\"/>\r\n     <use style=\"fill:#1f77b4;stroke:#1f77b4;\" x=\"214.522211\" xlink:href=\"#m2a89f236f0\" y=\"78.639164\"/>\r\n     <use style=\"fill:#1f77b4;stroke:#1f77b4;\" x=\"173.018079\" xlink:href=\"#m2a89f236f0\" y=\"211.676047\"/>\r\n     <use style=\"fill:#1f77b4;stroke:#1f77b4;\" x=\"131.513946\" xlink:href=\"#m2a89f236f0\" y=\"123.821502\"/>\r\n     <use style=\"fill:#1f77b4;stroke:#1f77b4;\" x=\"251.414773\" xlink:href=\"#m2a89f236f0\" y=\"111.898385\"/>\r\n     <use style=\"fill:#1f77b4;stroke:#1f77b4;\" x=\"122.290806\" xlink:href=\"#m2a89f236f0\" y=\"117.546177\"/>\r\n     <use style=\"fill:#1f77b4;stroke:#1f77b4;\" x=\"163.794938\" xlink:href=\"#m2a89f236f0\" y=\"204.145657\"/>\r\n     <use style=\"fill:#1f77b4;stroke:#1f77b4;\" x=\"108.456095\" xlink:href=\"#m2a89f236f0\" y=\"111.270852\"/>\r\n     <use style=\"fill:#1f77b4;stroke:#1f77b4;\" x=\"179.166839\" xlink:href=\"#m2a89f236f0\" y=\"167.121242\"/>\r\n     <use style=\"fill:#1f77b4;stroke:#1f77b4;\" x=\"159.183368\" xlink:href=\"#m2a89f236f0\" y=\"131.979424\"/>\r\n     <use style=\"fill:#1f77b4;stroke:#1f77b4;\" x=\"251.414773\" xlink:href=\"#m2a89f236f0\" y=\"93.699943\"/>\r\n     <use style=\"fill:#1f77b4;stroke:#1f77b4;\" x=\"85.398244\" xlink:href=\"#m2a89f236f0\" y=\"192.850073\"/>\r\n     <use style=\"fill:#1f77b4;stroke:#1f77b4;\" x=\"306.753616\" xlink:href=\"#m2a89f236f0\" y=\"178.416826\"/>\r\n     <use style=\"fill:#1f77b4;stroke:#1f77b4;\" x=\"269.861054\" xlink:href=\"#m2a89f236f0\" y=\"71.736307\"/>\r\n     <use style=\"fill:#1f77b4;stroke:#1f77b4;\" x=\"108.456095\" xlink:href=\"#m2a89f236f0\" y=\"160.218385\"/>\r\n     <use style=\"fill:#1f77b4;stroke:#1f77b4;\" x=\"76.175103\" xlink:href=\"#m2a89f236f0\" y=\"213.558644\"/>\r\n     <use style=\"fill:#1f77b4;stroke:#1f77b4;\" x=\"251.414773\" xlink:href=\"#m2a89f236f0\" y=\"155.198125\"/>\r\n     <use style=\"fill:#1f77b4;stroke:#1f77b4;\" x=\"186.852789\" xlink:href=\"#m2a89f236f0\" y=\"199.75293\"/>\r\n     <use style=\"fill:#1f77b4;stroke:#1f77b4;\" x=\"154.571798\" xlink:href=\"#m2a89f236f0\" y=\"190.339943\"/>\r\n     <use style=\"fill:#1f77b4;stroke:#1f77b4;\" x=\"237.580062\" xlink:href=\"#m2a89f236f0\" y=\"100.6028\"/>\r\n     <use style=\"fill:#1f77b4;stroke:#1f77b4;\" x=\"99.232955\" xlink:href=\"#m2a89f236f0\" y=\"155.198125\"/>\r\n     <use style=\"fill:#1f77b4;stroke:#1f77b4;\" x=\"320.588326\" xlink:href=\"#m2a89f236f0\" y=\"63.578385\"/>\r\n     <use style=\"fill:#1f77b4;stroke:#1f77b4;\" x=\"76.175103\" xlink:href=\"#m2a89f236f0\" y=\"153.94306\"/>\r\n     <use style=\"fill:#1f77b4;stroke:#1f77b4;\" x=\"136.125517\" xlink:href=\"#m2a89f236f0\" y=\"78.639164\"/>\r\n     <use style=\"fill:#1f77b4;stroke:#1f77b4;\" x=\"186.852789\" xlink:href=\"#m2a89f236f0\" y=\"111.270852\"/>\r\n     <use style=\"fill:#1f77b4;stroke:#1f77b4;\" x=\"149.960227\" xlink:href=\"#m2a89f236f0\" y=\"190.967476\"/>\r\n     <use style=\"fill:#1f77b4;stroke:#1f77b4;\" x=\"196.07593\" xlink:href=\"#m2a89f236f0\" y=\"218.578904\"/>\r\n     <use style=\"fill:#1f77b4;stroke:#1f77b4;\" x=\"71.563533\" xlink:href=\"#m2a89f236f0\" y=\"204.145657\"/>\r\n     <use style=\"fill:#1f77b4;stroke:#1f77b4;\" x=\"113.067665\" xlink:href=\"#m2a89f236f0\" y=\"209.165917\"/>\r\n     <use style=\"fill:#1f77b4;stroke:#1f77b4;\" x=\"228.356921\" xlink:href=\"#m2a89f236f0\" y=\"162.100982\"/>\r\n     <use style=\"fill:#1f77b4;stroke:#1f77b4;\" x=\"177.629649\" xlink:href=\"#m2a89f236f0\" y=\"214.813709\"/>\r\n     <use style=\"fill:#1f77b4;stroke:#1f77b4;\" x=\"154.571798\" xlink:href=\"#m2a89f236f0\" y=\"143.902541\"/>\r\n     <use style=\"fill:#1f77b4;stroke:#1f77b4;\" x=\"177.629649\" xlink:href=\"#m2a89f236f0\" y=\"207.28332\"/>\r\n     <use style=\"fill:#1f77b4;stroke:#1f77b4;\" x=\"185.315599\" xlink:href=\"#m2a89f236f0\" y=\"212.931112\"/>\r\n     <use style=\"fill:#1f77b4;stroke:#1f77b4;\" x=\"126.902376\" xlink:href=\"#m2a89f236f0\" y=\"206.655787\"/>\r\n     <use style=\"fill:#1f77b4;stroke:#1f77b4;\" x=\"214.522211\" xlink:href=\"#m2a89f236f0\" y=\"140.764878\"/>\r\n     <use style=\"fill:#1f77b4;stroke:#1f77b4;\" x=\"111.530475\" xlink:href=\"#m2a89f236f0\" y=\"158.96332\"/>\r\n     <use style=\"fill:#1f77b4;stroke:#1f77b4;\" x=\"251.414773\" xlink:href=\"#m2a89f236f0\" y=\"118.801242\"/>\r\n     <use style=\"fill:#1f77b4;stroke:#1f77b4;\" x=\"200.6875\" xlink:href=\"#m2a89f236f0\" y=\"165.238644\"/>\r\n     <use style=\"fill:#1f77b4;stroke:#1f77b4;\" x=\"214.522211\" xlink:href=\"#m2a89f236f0\" y=\"199.125398\"/>\r\n     <use style=\"fill:#1f77b4;stroke:#1f77b4;\" x=\"143.811467\" xlink:href=\"#m2a89f236f0\" y=\"125.076567\"/>\r\n     <use style=\"fill:#1f77b4;stroke:#1f77b4;\" x=\"186.852789\" xlink:href=\"#m2a89f236f0\" y=\"137.627216\"/>\r\n     <use style=\"fill:#1f77b4;stroke:#1f77b4;\" x=\"173.018079\" xlink:href=\"#m2a89f236f0\" y=\"194.105138\"/>\r\n     <use style=\"fill:#1f77b4;stroke:#1f77b4;\" x=\"265.249483\" xlink:href=\"#m2a89f236f0\" y=\"88.052151\"/>\r\n     <use style=\"fill:#1f77b4;stroke:#1f77b4;\" x=\"214.522211\" xlink:href=\"#m2a89f236f0\" y=\"221.716567\"/>\r\n     <use style=\"fill:#1f77b4;stroke:#1f77b4;\" x=\"302.142045\" xlink:href=\"#m2a89f236f0\" y=\"126.959164\"/>\r\n     <use style=\"fill:#1f77b4;stroke:#1f77b4;\" x=\"200.6875\" xlink:href=\"#m2a89f236f0\" y=\"190.339943\"/>\r\n     <use style=\"fill:#1f77b4;stroke:#1f77b4;\" x=\"251.414773\" xlink:href=\"#m2a89f236f0\" y=\"125.704099\"/>\r\n     <use style=\"fill:#1f77b4;stroke:#1f77b4;\" x=\"196.07593\" xlink:href=\"#m2a89f236f0\" y=\"155.198125\"/>\r\n     <use style=\"fill:#1f77b4;stroke:#1f77b4;\" x=\"251.414773\" xlink:href=\"#m2a89f236f0\" y=\"132.606956\"/>\r\n     <use style=\"fill:#1f77b4;stroke:#1f77b4;\" x=\"50.042872\" xlink:href=\"#m2a89f236f0\" y=\"208.538385\"/>\r\n     <use style=\"fill:#1f77b4;stroke:#1f77b4;\" x=\"297.530475\" xlink:href=\"#m2a89f236f0\" y=\"72.991372\"/>\r\n     <use style=\"fill:#1f77b4;stroke:#1f77b4;\" x=\"228.356921\" xlink:href=\"#m2a89f236f0\" y=\"54.165398\"/>\r\n     <use style=\"fill:#1f77b4;stroke:#1f77b4;\" x=\"154.571798\" xlink:href=\"#m2a89f236f0\" y=\"169.003839\"/>\r\n     <use style=\"fill:#1f77b4;stroke:#1f77b4;\" x=\"162.257748\" xlink:href=\"#m2a89f236f0\" y=\"202.890593\"/>\r\n     <use style=\"fill:#1f77b4;stroke:#1f77b4;\" x=\"182.241219\" xlink:href=\"#m2a89f236f0\" y=\"123.821502\"/>\r\n     <use style=\"fill:#1f77b4;stroke:#1f77b4;\" x=\"232.968492\" xlink:href=\"#m2a89f236f0\" y=\"207.28332\"/>\r\n     <use style=\"fill:#1f77b4;stroke:#1f77b4;\" x=\"131.513946\" xlink:href=\"#m2a89f236f0\" y=\"195.987735\"/>\r\n     <use style=\"fill:#1f77b4;stroke:#1f77b4;\" x=\"145.348657\" xlink:href=\"#m2a89f236f0\" y=\"170.886437\"/>\r\n     <use style=\"fill:#1f77b4;stroke:#1f77b4;\" x=\"274.472624\" xlink:href=\"#m2a89f236f0\" y=\"209.79345\"/>\r\n     <use style=\"fill:#1f77b4;stroke:#1f77b4;\" x=\"149.960227\" xlink:href=\"#m2a89f236f0\" y=\"178.416826\"/>\r\n     <use style=\"fill:#1f77b4;stroke:#1f77b4;\" x=\"140.737087\" xlink:href=\"#m2a89f236f0\" y=\"162.100982\"/>\r\n     <use style=\"fill:#1f77b4;stroke:#1f77b4;\" x=\"260.637913\" xlink:href=\"#m2a89f236f0\" y=\"158.96332\"/>\r\n     <use style=\"fill:#1f77b4;stroke:#1f77b4;\" x=\"154.571798\" xlink:href=\"#m2a89f236f0\" y=\"204.145657\"/>\r\n     <use style=\"fill:#1f77b4;stroke:#1f77b4;\" x=\"140.737087\" xlink:href=\"#m2a89f236f0\" y=\"206.028255\"/>\r\n     <use style=\"fill:#1f77b4;stroke:#1f77b4;\" x=\"182.241219\" xlink:href=\"#m2a89f236f0\" y=\"160.218385\"/>\r\n     <use style=\"fill:#1f77b4;stroke:#1f77b4;\" x=\"214.522211\" xlink:href=\"#m2a89f236f0\" y=\"186.574748\"/>\r\n     <use style=\"fill:#1f77b4;stroke:#1f77b4;\" x=\"131.513946\" xlink:href=\"#m2a89f236f0\" y=\"115.036047\"/>\r\n     <use style=\"fill:#1f77b4;stroke:#1f77b4;\" x=\"149.960227\" xlink:href=\"#m2a89f236f0\" y=\"216.696307\"/>\r\n     <use style=\"fill:#1f77b4;stroke:#1f77b4;\" x=\"196.07593\" xlink:href=\"#m2a89f236f0\" y=\"185.947216\"/>\r\n     <use style=\"fill:#1f77b4;stroke:#1f77b4;\" x=\"131.513946\" xlink:href=\"#m2a89f236f0\" y=\"143.902541\"/>\r\n     <use style=\"fill:#1f77b4;stroke:#1f77b4;\" x=\"279.084194\" xlink:href=\"#m2a89f236f0\" y=\"47.890073\"/>\r\n     <use style=\"fill:#1f77b4;stroke:#1f77b4;\" x=\"168.406508\" xlink:href=\"#m2a89f236f0\" y=\"120.056307\"/>\r\n     <use style=\"fill:#1f77b4;stroke:#1f77b4;\" x=\"214.522211\" xlink:href=\"#m2a89f236f0\" y=\"115.036047\"/>\r\n     <use style=\"fill:#1f77b4;stroke:#1f77b4;\" x=\"260.637913\" xlink:href=\"#m2a89f236f0\" y=\"78.011631\"/>\r\n     <use style=\"fill:#1f77b4;stroke:#1f77b4;\" x=\"269.861054\" xlink:href=\"#m2a89f236f0\" y=\"87.424619\"/>\r\n     <use style=\"fill:#1f77b4;stroke:#1f77b4;\" x=\"131.513946\" xlink:href=\"#m2a89f236f0\" y=\"122.566437\"/>\r\n     <use style=\"fill:#1f77b4;stroke:#1f77b4;\" x=\"102.307335\" xlink:href=\"#m2a89f236f0\" y=\"200.380463\"/>\r\n     <use style=\"fill:#1f77b4;stroke:#1f77b4;\" x=\"177.629649\" xlink:href=\"#m2a89f236f0\" y=\"140.764878\"/>\r\n     <use style=\"fill:#1f77b4;stroke:#1f77b4;\" x=\"251.414773\" xlink:href=\"#m2a89f236f0\" y=\"153.94306\"/>\r\n     <use style=\"fill:#1f77b4;stroke:#1f77b4;\" x=\"243.728822\" xlink:href=\"#m2a89f236f0\" y=\"174.024099\"/>\r\n     <use style=\"fill:#1f77b4;stroke:#1f77b4;\" x=\"186.852789\" xlink:href=\"#m2a89f236f0\" y=\"111.270852\"/>\r\n     <use style=\"fill:#1f77b4;stroke:#1f77b4;\" x=\"223.745351\" xlink:href=\"#m2a89f236f0\" y=\"100.6028\"/>\r\n     <use style=\"fill:#1f77b4;stroke:#1f77b4;\" x=\"140.737087\" xlink:href=\"#m2a89f236f0\" y=\"97.465138\"/>\r\n     <use style=\"fill:#1f77b4;stroke:#1f77b4;\" x=\"246.803202\" xlink:href=\"#m2a89f236f0\" y=\"94.955008\"/>\r\n     <use style=\"fill:#1f77b4;stroke:#1f77b4;\" x=\"131.513946\" xlink:href=\"#m2a89f236f0\" y=\"171.513969\"/>\r\n     <use style=\"fill:#1f77b4;stroke:#1f77b4;\" x=\"159.183368\" xlink:href=\"#m2a89f236f0\" y=\"188.457346\"/>\r\n     <use style=\"fill:#1f77b4;stroke:#1f77b4;\" x=\"200.6875\" xlink:href=\"#m2a89f236f0\" y=\"123.821502\"/>\r\n     <use style=\"fill:#1f77b4;stroke:#1f77b4;\" x=\"214.522211\" xlink:href=\"#m2a89f236f0\" y=\"207.910852\"/>\r\n     <use style=\"fill:#1f77b4;stroke:#1f77b4;\" x=\"214.522211\" xlink:href=\"#m2a89f236f0\" y=\"224.226696\"/>\r\n     <use style=\"fill:#1f77b4;stroke:#1f77b4;\" x=\"232.968492\" xlink:href=\"#m2a89f236f0\" y=\"180.926956\"/>\r\n     <use style=\"fill:#1f77b4;stroke:#1f77b4;\" x=\"149.960227\" xlink:href=\"#m2a89f236f0\" y=\"198.497865\"/>\r\n     <use style=\"fill:#1f77b4;stroke:#1f77b4;\" x=\"163.794938\" xlink:href=\"#m2a89f236f0\" y=\"140.137346\"/>\r\n     <use style=\"fill:#1f77b4;stroke:#1f77b4;\" x=\"177.629649\" xlink:href=\"#m2a89f236f0\" y=\"160.218385\"/>\r\n     <use style=\"fill:#1f77b4;stroke:#1f77b4;\" x=\"103.844525\" xlink:href=\"#m2a89f236f0\" y=\"169.003839\"/>\r\n     <use style=\"fill:#1f77b4;stroke:#1f77b4;\" x=\"228.356921\" xlink:href=\"#m2a89f236f0\" y=\"195.360203\"/>\r\n     <use style=\"fill:#1f77b4;stroke:#1f77b4;\" x=\"196.07593\" xlink:href=\"#m2a89f236f0\" y=\"118.173709\"/>\r\n     <use style=\"fill:#1f77b4;stroke:#1f77b4;\" x=\"145.348657\" xlink:href=\"#m2a89f236f0\" y=\"216.068774\"/>\r\n     <use style=\"fill:#1f77b4;stroke:#1f77b4;\" x=\"263.712294\" xlink:href=\"#m2a89f236f0\" y=\"216.696307\"/>\r\n     <use style=\"fill:#1f77b4;stroke:#1f77b4;\" x=\"163.794938\" xlink:href=\"#m2a89f236f0\" y=\"103.11293\"/>\r\n     <use style=\"fill:#1f77b4;stroke:#1f77b4;\" x=\"219.133781\" xlink:href=\"#m2a89f236f0\" y=\"209.79345\"/>\r\n     <use style=\"fill:#1f77b4;stroke:#1f77b4;\" x=\"122.290806\" xlink:href=\"#m2a89f236f0\" y=\"176.534229\"/>\r\n     <use style=\"fill:#1f77b4;stroke:#1f77b4;\" x=\"269.861054\" xlink:href=\"#m2a89f236f0\" y=\"185.319683\"/>\r\n     <use style=\"fill:#1f77b4;stroke:#1f77b4;\" x=\"182.241219\" xlink:href=\"#m2a89f236f0\" y=\"194.73267\"/>\r\n     <use style=\"fill:#1f77b4;stroke:#1f77b4;\" x=\"168.406508\" xlink:href=\"#m2a89f236f0\" y=\"219.206437\"/>\r\n     <use style=\"fill:#1f77b4;stroke:#1f77b4;\" x=\"163.794938\" xlink:href=\"#m2a89f236f0\" y=\"59.81319\"/>\r\n     <use style=\"fill:#1f77b4;stroke:#1f77b4;\" x=\"149.960227\" xlink:href=\"#m2a89f236f0\" y=\"160.218385\"/>\r\n     <use style=\"fill:#1f77b4;stroke:#1f77b4;\" x=\"154.571798\" xlink:href=\"#m2a89f236f0\" y=\"222.344099\"/>\r\n     <use style=\"fill:#1f77b4;stroke:#1f77b4;\" x=\"279.084194\" xlink:href=\"#m2a89f236f0\" y=\"66.088515\"/>\r\n     <use style=\"fill:#1f77b4;stroke:#1f77b4;\" x=\"126.902376\" xlink:href=\"#m2a89f236f0\" y=\"194.105138\"/>\r\n     <use style=\"fill:#1f77b4;stroke:#1f77b4;\" x=\"186.852789\" xlink:href=\"#m2a89f236f0\" y=\"218.578904\"/>\r\n     <use style=\"fill:#1f77b4;stroke:#1f77b4;\" x=\"160.720558\" xlink:href=\"#m2a89f236f0\" y=\"196.615268\"/>\r\n     <use style=\"fill:#1f77b4;stroke:#1f77b4;\" x=\"219.133781\" xlink:href=\"#m2a89f236f0\" y=\"180.926956\"/>\r\n     <use style=\"fill:#1f77b4;stroke:#1f77b4;\" x=\"196.07593\" xlink:href=\"#m2a89f236f0\" y=\"86.797086\"/>\r\n     <use style=\"fill:#1f77b4;stroke:#1f77b4;\" x=\"329.811467\" xlink:href=\"#m2a89f236f0\" y=\"96.837606\"/>\r\n     <use style=\"fill:#1f77b4;stroke:#1f77b4;\" x=\"188.389979\" xlink:href=\"#m2a89f236f0\" y=\"198.497865\"/>\r\n     <use style=\"fill:#1f77b4;stroke:#1f77b4;\" x=\"149.960227\" xlink:href=\"#m2a89f236f0\" y=\"177.161761\"/>\r\n     <use style=\"fill:#1f77b4;stroke:#1f77b4;\" x=\"117.679236\" xlink:href=\"#m2a89f236f0\" y=\"226.109294\"/>\r\n     <use style=\"fill:#1f77b4;stroke:#1f77b4;\" x=\"260.637913\" xlink:href=\"#m2a89f236f0\" y=\"84.286956\"/>\r\n     <use style=\"fill:#1f77b4;stroke:#1f77b4;\" x=\"279.084194\" xlink:href=\"#m2a89f236f0\" y=\"76.756567\"/>\r\n    </g>\r\n   </g>\r\n   <g id=\"PathCollection_2\">\r\n    <defs>\r\n     <path d=\"M 0 -5 \r\nL -1.12257 -1.545085 \r\nL -4.755283 -1.545085 \r\nL -1.816356 0.59017 \r\nL -2.938926 4.045085 \r\nL -0 1.90983 \r\nL 2.938926 4.045085 \r\nL 1.816356 0.59017 \r\nL 4.755283 -1.545085 \r\nL 1.12257 -1.545085 \r\nz\r\n\" id=\"m918c479aea\" style=\"stroke:#ff0000;\"/>\r\n    </defs>\r\n    <g clip-path=\"url(#pe8991e6a35)\">\r\n     <use style=\"fill:#ff0000;stroke:#ff0000;\" x=\"136.125517\" xlink:href=\"#m918c479aea\" y=\"124.449034\"/>\r\n    </g>\r\n   </g>\r\n   <g id=\"matplotlib.axis_1\">\r\n    <g id=\"xtick_1\">\r\n     <g id=\"line2d_1\">\r\n      <path clip-path=\"url(#pe8991e6a35)\" d=\"M 51.27968 239.758125 \r\nL 51.27968 22.318125 \r\n\" style=\"fill:none;stroke:#b0b0b0;stroke-linecap:square;stroke-width:0.8;\"/>\r\n     </g>\r\n     <g id=\"line2d_2\">\r\n      <defs>\r\n       <path d=\"M 0 0 \r\nL 0 3.5 \r\n\" id=\"m2195c255e8\" style=\"stroke:#000000;stroke-width:0.8;\"/>\r\n      </defs>\r\n      <g>\r\n       <use style=\"stroke:#000000;stroke-width:0.8;\" x=\"51.27968\" xlink:href=\"#m2195c255e8\" y=\"239.758125\"/>\r\n      </g>\r\n     </g>\r\n     <g id=\"text_1\">\r\n      <!-- −0.10 -->\r\n      <defs>\r\n       <path d=\"M 10.59375 35.5 \r\nL 73.1875 35.5 \r\nL 73.1875 27.203125 \r\nL 10.59375 27.203125 \r\nz\r\n\" id=\"DejaVuSans-8722\"/>\r\n       <path d=\"M 31.78125 66.40625 \r\nQ 24.171875 66.40625 20.328125 58.90625 \r\nQ 16.5 51.421875 16.5 36.375 \r\nQ 16.5 21.390625 20.328125 13.890625 \r\nQ 24.171875 6.390625 31.78125 6.390625 \r\nQ 39.453125 6.390625 43.28125 13.890625 \r\nQ 47.125 21.390625 47.125 36.375 \r\nQ 47.125 51.421875 43.28125 58.90625 \r\nQ 39.453125 66.40625 31.78125 66.40625 \r\nz\r\nM 31.78125 74.21875 \r\nQ 44.046875 74.21875 50.515625 64.515625 \r\nQ 56.984375 54.828125 56.984375 36.375 \r\nQ 56.984375 17.96875 50.515625 8.265625 \r\nQ 44.046875 -1.421875 31.78125 -1.421875 \r\nQ 19.53125 -1.421875 13.0625 8.265625 \r\nQ 6.59375 17.96875 6.59375 36.375 \r\nQ 6.59375 54.828125 13.0625 64.515625 \r\nQ 19.53125 74.21875 31.78125 74.21875 \r\nz\r\n\" id=\"DejaVuSans-48\"/>\r\n       <path d=\"M 10.6875 12.40625 \r\nL 21 12.40625 \r\nL 21 0 \r\nL 10.6875 0 \r\nz\r\n\" id=\"DejaVuSans-46\"/>\r\n       <path d=\"M 12.40625 8.296875 \r\nL 28.515625 8.296875 \r\nL 28.515625 63.921875 \r\nL 10.984375 60.40625 \r\nL 10.984375 69.390625 \r\nL 28.421875 72.90625 \r\nL 38.28125 72.90625 \r\nL 38.28125 8.296875 \r\nL 54.390625 8.296875 \r\nL 54.390625 0 \r\nL 12.40625 0 \r\nz\r\n\" id=\"DejaVuSans-49\"/>\r\n      </defs>\r\n      <g transform=\"translate(35.957023 254.356563)scale(0.1 -0.1)\">\r\n       <use xlink:href=\"#DejaVuSans-8722\"/>\r\n       <use x=\"83.789062\" xlink:href=\"#DejaVuSans-48\"/>\r\n       <use x=\"147.412109\" xlink:href=\"#DejaVuSans-46\"/>\r\n       <use x=\"179.199219\" xlink:href=\"#DejaVuSans-49\"/>\r\n       <use x=\"242.822266\" xlink:href=\"#DejaVuSans-48\"/>\r\n      </g>\r\n     </g>\r\n    </g>\r\n    <g id=\"xtick_2\">\r\n     <g id=\"line2d_3\">\r\n      <path clip-path=\"url(#pe8991e6a35)\" d=\"M 118.252428 239.758125 \r\nL 118.252428 22.318125 \r\n\" style=\"fill:none;stroke:#b0b0b0;stroke-linecap:square;stroke-width:0.8;\"/>\r\n     </g>\r\n     <g id=\"line2d_4\">\r\n      <g>\r\n       <use style=\"stroke:#000000;stroke-width:0.8;\" x=\"118.252428\" xlink:href=\"#m2195c255e8\" y=\"239.758125\"/>\r\n      </g>\r\n     </g>\r\n     <g id=\"text_2\">\r\n      <!-- −0.05 -->\r\n      <defs>\r\n       <path d=\"M 10.796875 72.90625 \r\nL 49.515625 72.90625 \r\nL 49.515625 64.59375 \r\nL 19.828125 64.59375 \r\nL 19.828125 46.734375 \r\nQ 21.96875 47.46875 24.109375 47.828125 \r\nQ 26.265625 48.1875 28.421875 48.1875 \r\nQ 40.625 48.1875 47.75 41.5 \r\nQ 54.890625 34.8125 54.890625 23.390625 \r\nQ 54.890625 11.625 47.5625 5.09375 \r\nQ 40.234375 -1.421875 26.90625 -1.421875 \r\nQ 22.3125 -1.421875 17.546875 -0.640625 \r\nQ 12.796875 0.140625 7.71875 1.703125 \r\nL 7.71875 11.625 \r\nQ 12.109375 9.234375 16.796875 8.0625 \r\nQ 21.484375 6.890625 26.703125 6.890625 \r\nQ 35.15625 6.890625 40.078125 11.328125 \r\nQ 45.015625 15.765625 45.015625 23.390625 \r\nQ 45.015625 31 40.078125 35.4375 \r\nQ 35.15625 39.890625 26.703125 39.890625 \r\nQ 22.75 39.890625 18.8125 39.015625 \r\nQ 14.890625 38.140625 10.796875 36.28125 \r\nz\r\n\" id=\"DejaVuSans-53\"/>\r\n      </defs>\r\n      <g transform=\"translate(102.929772 254.356563)scale(0.1 -0.1)\">\r\n       <use xlink:href=\"#DejaVuSans-8722\"/>\r\n       <use x=\"83.789062\" xlink:href=\"#DejaVuSans-48\"/>\r\n       <use x=\"147.412109\" xlink:href=\"#DejaVuSans-46\"/>\r\n       <use x=\"179.199219\" xlink:href=\"#DejaVuSans-48\"/>\r\n       <use x=\"242.822266\" xlink:href=\"#DejaVuSans-53\"/>\r\n      </g>\r\n     </g>\r\n    </g>\r\n    <g id=\"xtick_3\">\r\n     <g id=\"line2d_5\">\r\n      <path clip-path=\"url(#pe8991e6a35)\" d=\"M 185.225176 239.758125 \r\nL 185.225176 22.318125 \r\n\" style=\"fill:none;stroke:#b0b0b0;stroke-linecap:square;stroke-width:0.8;\"/>\r\n     </g>\r\n     <g id=\"line2d_6\">\r\n      <g>\r\n       <use style=\"stroke:#000000;stroke-width:0.8;\" x=\"185.225176\" xlink:href=\"#m2195c255e8\" y=\"239.758125\"/>\r\n      </g>\r\n     </g>\r\n     <g id=\"text_3\">\r\n      <!-- 0.00 -->\r\n      <g transform=\"translate(174.092364 254.356563)scale(0.1 -0.1)\">\r\n       <use xlink:href=\"#DejaVuSans-48\"/>\r\n       <use x=\"63.623047\" xlink:href=\"#DejaVuSans-46\"/>\r\n       <use x=\"95.410156\" xlink:href=\"#DejaVuSans-48\"/>\r\n       <use x=\"159.033203\" xlink:href=\"#DejaVuSans-48\"/>\r\n      </g>\r\n     </g>\r\n    </g>\r\n    <g id=\"xtick_4\">\r\n     <g id=\"line2d_7\">\r\n      <path clip-path=\"url(#pe8991e6a35)\" d=\"M 252.197925 239.758125 \r\nL 252.197925 22.318125 \r\n\" style=\"fill:none;stroke:#b0b0b0;stroke-linecap:square;stroke-width:0.8;\"/>\r\n     </g>\r\n     <g id=\"line2d_8\">\r\n      <g>\r\n       <use style=\"stroke:#000000;stroke-width:0.8;\" x=\"252.197925\" xlink:href=\"#m2195c255e8\" y=\"239.758125\"/>\r\n      </g>\r\n     </g>\r\n     <g id=\"text_4\">\r\n      <!-- 0.05 -->\r\n      <g transform=\"translate(241.065112 254.356563)scale(0.1 -0.1)\">\r\n       <use xlink:href=\"#DejaVuSans-48\"/>\r\n       <use x=\"63.623047\" xlink:href=\"#DejaVuSans-46\"/>\r\n       <use x=\"95.410156\" xlink:href=\"#DejaVuSans-48\"/>\r\n       <use x=\"159.033203\" xlink:href=\"#DejaVuSans-53\"/>\r\n      </g>\r\n     </g>\r\n    </g>\r\n    <g id=\"xtick_5\">\r\n     <g id=\"line2d_9\">\r\n      <path clip-path=\"url(#pe8991e6a35)\" d=\"M 319.170673 239.758125 \r\nL 319.170673 22.318125 \r\n\" style=\"fill:none;stroke:#b0b0b0;stroke-linecap:square;stroke-width:0.8;\"/>\r\n     </g>\r\n     <g id=\"line2d_10\">\r\n      <g>\r\n       <use style=\"stroke:#000000;stroke-width:0.8;\" x=\"319.170673\" xlink:href=\"#m2195c255e8\" y=\"239.758125\"/>\r\n      </g>\r\n     </g>\r\n     <g id=\"text_5\">\r\n      <!-- 0.10 -->\r\n      <g transform=\"translate(308.03786 254.356563)scale(0.1 -0.1)\">\r\n       <use xlink:href=\"#DejaVuSans-48\"/>\r\n       <use x=\"63.623047\" xlink:href=\"#DejaVuSans-46\"/>\r\n       <use x=\"95.410156\" xlink:href=\"#DejaVuSans-49\"/>\r\n       <use x=\"159.033203\" xlink:href=\"#DejaVuSans-48\"/>\r\n      </g>\r\n     </g>\r\n    </g>\r\n   </g>\r\n   <g id=\"matplotlib.axis_2\">\r\n    <g id=\"ytick_1\">\r\n     <g id=\"line2d_11\">\r\n      <path clip-path=\"url(#pe8991e6a35)\" d=\"M 33.2875 217.951372 \r\nL 368.0875 217.951372 \r\n\" style=\"fill:none;stroke:#b0b0b0;stroke-linecap:square;stroke-width:0.8;\"/>\r\n     </g>\r\n     <g id=\"line2d_12\">\r\n      <defs>\r\n       <path d=\"M 0 0 \r\nL -3.5 0 \r\n\" id=\"mb3023b4509\" style=\"stroke:#000000;stroke-width:0.8;\"/>\r\n      </defs>\r\n      <g>\r\n       <use style=\"stroke:#000000;stroke-width:0.8;\" x=\"33.2875\" xlink:href=\"#mb3023b4509\" y=\"217.951372\"/>\r\n      </g>\r\n     </g>\r\n     <g id=\"text_6\">\r\n      <!-- 50 -->\r\n      <g transform=\"translate(13.5625 221.750591)scale(0.1 -0.1)\">\r\n       <use xlink:href=\"#DejaVuSans-53\"/>\r\n       <use x=\"63.623047\" xlink:href=\"#DejaVuSans-48\"/>\r\n      </g>\r\n     </g>\r\n    </g>\r\n    <g id=\"ytick_2\">\r\n     <g id=\"line2d_13\">\r\n      <path clip-path=\"url(#pe8991e6a35)\" d=\"M 33.2875 186.574748 \r\nL 368.0875 186.574748 \r\n\" style=\"fill:none;stroke:#b0b0b0;stroke-linecap:square;stroke-width:0.8;\"/>\r\n     </g>\r\n     <g id=\"line2d_14\">\r\n      <g>\r\n       <use style=\"stroke:#000000;stroke-width:0.8;\" x=\"33.2875\" xlink:href=\"#mb3023b4509\" y=\"186.574748\"/>\r\n      </g>\r\n     </g>\r\n     <g id=\"text_7\">\r\n      <!-- 100 -->\r\n      <g transform=\"translate(7.2 190.373967)scale(0.1 -0.1)\">\r\n       <use xlink:href=\"#DejaVuSans-49\"/>\r\n       <use x=\"63.623047\" xlink:href=\"#DejaVuSans-48\"/>\r\n       <use x=\"127.246094\" xlink:href=\"#DejaVuSans-48\"/>\r\n      </g>\r\n     </g>\r\n    </g>\r\n    <g id=\"ytick_3\">\r\n     <g id=\"line2d_15\">\r\n      <path clip-path=\"url(#pe8991e6a35)\" d=\"M 33.2875 155.198125 \r\nL 368.0875 155.198125 \r\n\" style=\"fill:none;stroke:#b0b0b0;stroke-linecap:square;stroke-width:0.8;\"/>\r\n     </g>\r\n     <g id=\"line2d_16\">\r\n      <g>\r\n       <use style=\"stroke:#000000;stroke-width:0.8;\" x=\"33.2875\" xlink:href=\"#mb3023b4509\" y=\"155.198125\"/>\r\n      </g>\r\n     </g>\r\n     <g id=\"text_8\">\r\n      <!-- 150 -->\r\n      <g transform=\"translate(7.2 158.997344)scale(0.1 -0.1)\">\r\n       <use xlink:href=\"#DejaVuSans-49\"/>\r\n       <use x=\"63.623047\" xlink:href=\"#DejaVuSans-53\"/>\r\n       <use x=\"127.246094\" xlink:href=\"#DejaVuSans-48\"/>\r\n      </g>\r\n     </g>\r\n    </g>\r\n    <g id=\"ytick_4\">\r\n     <g id=\"line2d_17\">\r\n      <path clip-path=\"url(#pe8991e6a35)\" d=\"M 33.2875 123.821502 \r\nL 368.0875 123.821502 \r\n\" style=\"fill:none;stroke:#b0b0b0;stroke-linecap:square;stroke-width:0.8;\"/>\r\n     </g>\r\n     <g id=\"line2d_18\">\r\n      <g>\r\n       <use style=\"stroke:#000000;stroke-width:0.8;\" x=\"33.2875\" xlink:href=\"#mb3023b4509\" y=\"123.821502\"/>\r\n      </g>\r\n     </g>\r\n     <g id=\"text_9\">\r\n      <!-- 200 -->\r\n      <defs>\r\n       <path d=\"M 19.1875 8.296875 \r\nL 53.609375 8.296875 \r\nL 53.609375 0 \r\nL 7.328125 0 \r\nL 7.328125 8.296875 \r\nQ 12.9375 14.109375 22.625 23.890625 \r\nQ 32.328125 33.6875 34.8125 36.53125 \r\nQ 39.546875 41.84375 41.421875 45.53125 \r\nQ 43.3125 49.21875 43.3125 52.78125 \r\nQ 43.3125 58.59375 39.234375 62.25 \r\nQ 35.15625 65.921875 28.609375 65.921875 \r\nQ 23.96875 65.921875 18.8125 64.3125 \r\nQ 13.671875 62.703125 7.8125 59.421875 \r\nL 7.8125 69.390625 \r\nQ 13.765625 71.78125 18.9375 73 \r\nQ 24.125 74.21875 28.421875 74.21875 \r\nQ 39.75 74.21875 46.484375 68.546875 \r\nQ 53.21875 62.890625 53.21875 53.421875 \r\nQ 53.21875 48.921875 51.53125 44.890625 \r\nQ 49.859375 40.875 45.40625 35.40625 \r\nQ 44.1875 33.984375 37.640625 27.21875 \r\nQ 31.109375 20.453125 19.1875 8.296875 \r\nz\r\n\" id=\"DejaVuSans-50\"/>\r\n      </defs>\r\n      <g transform=\"translate(7.2 127.62072)scale(0.1 -0.1)\">\r\n       <use xlink:href=\"#DejaVuSans-50\"/>\r\n       <use x=\"63.623047\" xlink:href=\"#DejaVuSans-48\"/>\r\n       <use x=\"127.246094\" xlink:href=\"#DejaVuSans-48\"/>\r\n      </g>\r\n     </g>\r\n    </g>\r\n    <g id=\"ytick_5\">\r\n     <g id=\"line2d_19\">\r\n      <path clip-path=\"url(#pe8991e6a35)\" d=\"M 33.2875 92.444878 \r\nL 368.0875 92.444878 \r\n\" style=\"fill:none;stroke:#b0b0b0;stroke-linecap:square;stroke-width:0.8;\"/>\r\n     </g>\r\n     <g id=\"line2d_20\">\r\n      <g>\r\n       <use style=\"stroke:#000000;stroke-width:0.8;\" x=\"33.2875\" xlink:href=\"#mb3023b4509\" y=\"92.444878\"/>\r\n      </g>\r\n     </g>\r\n     <g id=\"text_10\">\r\n      <!-- 250 -->\r\n      <g transform=\"translate(7.2 96.244097)scale(0.1 -0.1)\">\r\n       <use xlink:href=\"#DejaVuSans-50\"/>\r\n       <use x=\"63.623047\" xlink:href=\"#DejaVuSans-53\"/>\r\n       <use x=\"127.246094\" xlink:href=\"#DejaVuSans-48\"/>\r\n      </g>\r\n     </g>\r\n    </g>\r\n    <g id=\"ytick_6\">\r\n     <g id=\"line2d_21\">\r\n      <path clip-path=\"url(#pe8991e6a35)\" d=\"M 33.2875 61.068255 \r\nL 368.0875 61.068255 \r\n\" style=\"fill:none;stroke:#b0b0b0;stroke-linecap:square;stroke-width:0.8;\"/>\r\n     </g>\r\n     <g id=\"line2d_22\">\r\n      <g>\r\n       <use style=\"stroke:#000000;stroke-width:0.8;\" x=\"33.2875\" xlink:href=\"#mb3023b4509\" y=\"61.068255\"/>\r\n      </g>\r\n     </g>\r\n     <g id=\"text_11\">\r\n      <!-- 300 -->\r\n      <defs>\r\n       <path d=\"M 40.578125 39.3125 \r\nQ 47.65625 37.796875 51.625 33 \r\nQ 55.609375 28.21875 55.609375 21.1875 \r\nQ 55.609375 10.40625 48.1875 4.484375 \r\nQ 40.765625 -1.421875 27.09375 -1.421875 \r\nQ 22.515625 -1.421875 17.65625 -0.515625 \r\nQ 12.796875 0.390625 7.625 2.203125 \r\nL 7.625 11.71875 \r\nQ 11.71875 9.328125 16.59375 8.109375 \r\nQ 21.484375 6.890625 26.8125 6.890625 \r\nQ 36.078125 6.890625 40.9375 10.546875 \r\nQ 45.796875 14.203125 45.796875 21.1875 \r\nQ 45.796875 27.640625 41.28125 31.265625 \r\nQ 36.765625 34.90625 28.71875 34.90625 \r\nL 20.21875 34.90625 \r\nL 20.21875 43.015625 \r\nL 29.109375 43.015625 \r\nQ 36.375 43.015625 40.234375 45.921875 \r\nQ 44.09375 48.828125 44.09375 54.296875 \r\nQ 44.09375 59.90625 40.109375 62.90625 \r\nQ 36.140625 65.921875 28.71875 65.921875 \r\nQ 24.65625 65.921875 20.015625 65.03125 \r\nQ 15.375 64.15625 9.8125 62.3125 \r\nL 9.8125 71.09375 \r\nQ 15.4375 72.65625 20.34375 73.4375 \r\nQ 25.25 74.21875 29.59375 74.21875 \r\nQ 40.828125 74.21875 47.359375 69.109375 \r\nQ 53.90625 64.015625 53.90625 55.328125 \r\nQ 53.90625 49.265625 50.4375 45.09375 \r\nQ 46.96875 40.921875 40.578125 39.3125 \r\nz\r\n\" id=\"DejaVuSans-51\"/>\r\n      </defs>\r\n      <g transform=\"translate(7.2 64.867474)scale(0.1 -0.1)\">\r\n       <use xlink:href=\"#DejaVuSans-51\"/>\r\n       <use x=\"63.623047\" xlink:href=\"#DejaVuSans-48\"/>\r\n       <use x=\"127.246094\" xlink:href=\"#DejaVuSans-48\"/>\r\n      </g>\r\n     </g>\r\n    </g>\r\n    <g id=\"ytick_7\">\r\n     <g id=\"line2d_23\">\r\n      <path clip-path=\"url(#pe8991e6a35)\" d=\"M 33.2875 29.691631 \r\nL 368.0875 29.691631 \r\n\" style=\"fill:none;stroke:#b0b0b0;stroke-linecap:square;stroke-width:0.8;\"/>\r\n     </g>\r\n     <g id=\"line2d_24\">\r\n      <g>\r\n       <use style=\"stroke:#000000;stroke-width:0.8;\" x=\"33.2875\" xlink:href=\"#mb3023b4509\" y=\"29.691631\"/>\r\n      </g>\r\n     </g>\r\n     <g id=\"text_12\">\r\n      <!-- 350 -->\r\n      <g transform=\"translate(7.2 33.49085)scale(0.1 -0.1)\">\r\n       <use xlink:href=\"#DejaVuSans-51\"/>\r\n       <use x=\"63.623047\" xlink:href=\"#DejaVuSans-53\"/>\r\n       <use x=\"127.246094\" xlink:href=\"#DejaVuSans-48\"/>\r\n      </g>\r\n     </g>\r\n    </g>\r\n   </g>\r\n   <g id=\"line2d_25\">\r\n    <path clip-path=\"url(#pe8991e6a35)\" d=\"M 48.505682 199.82413 \r\nL 352.869318 101.988735 \r\n\" style=\"fill:none;stroke:#ff0000;stroke-linecap:square;stroke-width:3;\"/>\r\n   </g>\r\n   <g id=\"patch_3\">\r\n    <path d=\"M 33.2875 239.758125 \r\nL 33.2875 22.318125 \r\n\" style=\"fill:none;stroke:#000000;stroke-linecap:square;stroke-linejoin:miter;stroke-width:0.8;\"/>\r\n   </g>\r\n   <g id=\"patch_4\">\r\n    <path d=\"M 368.0875 239.758125 \r\nL 368.0875 22.318125 \r\n\" style=\"fill:none;stroke:#000000;stroke-linecap:square;stroke-linejoin:miter;stroke-width:0.8;\"/>\r\n   </g>\r\n   <g id=\"patch_5\">\r\n    <path d=\"M 33.2875 239.758125 \r\nL 368.0875 239.758125 \r\n\" style=\"fill:none;stroke:#000000;stroke-linecap:square;stroke-linejoin:miter;stroke-width:0.8;\"/>\r\n   </g>\r\n   <g id=\"patch_6\">\r\n    <path d=\"M 33.2875 22.318125 \r\nL 368.0875 22.318125 \r\n\" style=\"fill:none;stroke:#000000;stroke-linecap:square;stroke-linejoin:miter;stroke-width:0.8;\"/>\r\n   </g>\r\n   <g id=\"text_13\">\r\n    <!-- Diabets target vs. bp -->\r\n    <defs>\r\n     <path d=\"M 19.671875 64.796875 \r\nL 19.671875 8.109375 \r\nL 31.59375 8.109375 \r\nQ 46.6875 8.109375 53.6875 14.9375 \r\nQ 60.6875 21.78125 60.6875 36.53125 \r\nQ 60.6875 51.171875 53.6875 57.984375 \r\nQ 46.6875 64.796875 31.59375 64.796875 \r\nz\r\nM 9.8125 72.90625 \r\nL 30.078125 72.90625 \r\nQ 51.265625 72.90625 61.171875 64.09375 \r\nQ 71.09375 55.28125 71.09375 36.53125 \r\nQ 71.09375 17.671875 61.125 8.828125 \r\nQ 51.171875 0 30.078125 0 \r\nL 9.8125 0 \r\nz\r\n\" id=\"DejaVuSans-68\"/>\r\n     <path d=\"M 9.421875 54.6875 \r\nL 18.40625 54.6875 \r\nL 18.40625 0 \r\nL 9.421875 0 \r\nz\r\nM 9.421875 75.984375 \r\nL 18.40625 75.984375 \r\nL 18.40625 64.59375 \r\nL 9.421875 64.59375 \r\nz\r\n\" id=\"DejaVuSans-105\"/>\r\n     <path d=\"M 34.28125 27.484375 \r\nQ 23.390625 27.484375 19.1875 25 \r\nQ 14.984375 22.515625 14.984375 16.5 \r\nQ 14.984375 11.71875 18.140625 8.90625 \r\nQ 21.296875 6.109375 26.703125 6.109375 \r\nQ 34.1875 6.109375 38.703125 11.40625 \r\nQ 43.21875 16.703125 43.21875 25.484375 \r\nL 43.21875 27.484375 \r\nz\r\nM 52.203125 31.203125 \r\nL 52.203125 0 \r\nL 43.21875 0 \r\nL 43.21875 8.296875 \r\nQ 40.140625 3.328125 35.546875 0.953125 \r\nQ 30.953125 -1.421875 24.3125 -1.421875 \r\nQ 15.921875 -1.421875 10.953125 3.296875 \r\nQ 6 8.015625 6 15.921875 \r\nQ 6 25.140625 12.171875 29.828125 \r\nQ 18.359375 34.515625 30.609375 34.515625 \r\nL 43.21875 34.515625 \r\nL 43.21875 35.40625 \r\nQ 43.21875 41.609375 39.140625 45 \r\nQ 35.0625 48.390625 27.6875 48.390625 \r\nQ 23 48.390625 18.546875 47.265625 \r\nQ 14.109375 46.140625 10.015625 43.890625 \r\nL 10.015625 52.203125 \r\nQ 14.9375 54.109375 19.578125 55.046875 \r\nQ 24.21875 56 28.609375 56 \r\nQ 40.484375 56 46.34375 49.84375 \r\nQ 52.203125 43.703125 52.203125 31.203125 \r\nz\r\n\" id=\"DejaVuSans-97\"/>\r\n     <path d=\"M 48.6875 27.296875 \r\nQ 48.6875 37.203125 44.609375 42.84375 \r\nQ 40.53125 48.484375 33.40625 48.484375 \r\nQ 26.265625 48.484375 22.1875 42.84375 \r\nQ 18.109375 37.203125 18.109375 27.296875 \r\nQ 18.109375 17.390625 22.1875 11.75 \r\nQ 26.265625 6.109375 33.40625 6.109375 \r\nQ 40.53125 6.109375 44.609375 11.75 \r\nQ 48.6875 17.390625 48.6875 27.296875 \r\nz\r\nM 18.109375 46.390625 \r\nQ 20.953125 51.265625 25.265625 53.625 \r\nQ 29.59375 56 35.59375 56 \r\nQ 45.5625 56 51.78125 48.09375 \r\nQ 58.015625 40.1875 58.015625 27.296875 \r\nQ 58.015625 14.40625 51.78125 6.484375 \r\nQ 45.5625 -1.421875 35.59375 -1.421875 \r\nQ 29.59375 -1.421875 25.265625 0.953125 \r\nQ 20.953125 3.328125 18.109375 8.203125 \r\nL 18.109375 0 \r\nL 9.078125 0 \r\nL 9.078125 75.984375 \r\nL 18.109375 75.984375 \r\nz\r\n\" id=\"DejaVuSans-98\"/>\r\n     <path d=\"M 56.203125 29.59375 \r\nL 56.203125 25.203125 \r\nL 14.890625 25.203125 \r\nQ 15.484375 15.921875 20.484375 11.0625 \r\nQ 25.484375 6.203125 34.421875 6.203125 \r\nQ 39.59375 6.203125 44.453125 7.46875 \r\nQ 49.3125 8.734375 54.109375 11.28125 \r\nL 54.109375 2.78125 \r\nQ 49.265625 0.734375 44.1875 -0.34375 \r\nQ 39.109375 -1.421875 33.890625 -1.421875 \r\nQ 20.796875 -1.421875 13.15625 6.1875 \r\nQ 5.515625 13.8125 5.515625 26.8125 \r\nQ 5.515625 40.234375 12.765625 48.109375 \r\nQ 20.015625 56 32.328125 56 \r\nQ 43.359375 56 49.78125 48.890625 \r\nQ 56.203125 41.796875 56.203125 29.59375 \r\nz\r\nM 47.21875 32.234375 \r\nQ 47.125 39.59375 43.09375 43.984375 \r\nQ 39.0625 48.390625 32.421875 48.390625 \r\nQ 24.90625 48.390625 20.390625 44.140625 \r\nQ 15.875 39.890625 15.1875 32.171875 \r\nz\r\n\" id=\"DejaVuSans-101\"/>\r\n     <path d=\"M 18.3125 70.21875 \r\nL 18.3125 54.6875 \r\nL 36.8125 54.6875 \r\nL 36.8125 47.703125 \r\nL 18.3125 47.703125 \r\nL 18.3125 18.015625 \r\nQ 18.3125 11.328125 20.140625 9.421875 \r\nQ 21.96875 7.515625 27.59375 7.515625 \r\nL 36.8125 7.515625 \r\nL 36.8125 0 \r\nL 27.59375 0 \r\nQ 17.1875 0 13.234375 3.875 \r\nQ 9.28125 7.765625 9.28125 18.015625 \r\nL 9.28125 47.703125 \r\nL 2.6875 47.703125 \r\nL 2.6875 54.6875 \r\nL 9.28125 54.6875 \r\nL 9.28125 70.21875 \r\nz\r\n\" id=\"DejaVuSans-116\"/>\r\n     <path d=\"M 44.28125 53.078125 \r\nL 44.28125 44.578125 \r\nQ 40.484375 46.53125 36.375 47.5 \r\nQ 32.28125 48.484375 27.875 48.484375 \r\nQ 21.1875 48.484375 17.84375 46.4375 \r\nQ 14.5 44.390625 14.5 40.28125 \r\nQ 14.5 37.15625 16.890625 35.375 \r\nQ 19.28125 33.59375 26.515625 31.984375 \r\nL 29.59375 31.296875 \r\nQ 39.15625 29.25 43.1875 25.515625 \r\nQ 47.21875 21.78125 47.21875 15.09375 \r\nQ 47.21875 7.46875 41.1875 3.015625 \r\nQ 35.15625 -1.421875 24.609375 -1.421875 \r\nQ 20.21875 -1.421875 15.453125 -0.5625 \r\nQ 10.6875 0.296875 5.421875 2 \r\nL 5.421875 11.28125 \r\nQ 10.40625 8.6875 15.234375 7.390625 \r\nQ 20.0625 6.109375 24.8125 6.109375 \r\nQ 31.15625 6.109375 34.5625 8.28125 \r\nQ 37.984375 10.453125 37.984375 14.40625 \r\nQ 37.984375 18.0625 35.515625 20.015625 \r\nQ 33.0625 21.96875 24.703125 23.78125 \r\nL 21.578125 24.515625 \r\nQ 13.234375 26.265625 9.515625 29.90625 \r\nQ 5.8125 33.546875 5.8125 39.890625 \r\nQ 5.8125 47.609375 11.28125 51.796875 \r\nQ 16.75 56 26.8125 56 \r\nQ 31.78125 56 36.171875 55.265625 \r\nQ 40.578125 54.546875 44.28125 53.078125 \r\nz\r\n\" id=\"DejaVuSans-115\"/>\r\n     <path id=\"DejaVuSans-32\"/>\r\n     <path d=\"M 41.109375 46.296875 \r\nQ 39.59375 47.171875 37.8125 47.578125 \r\nQ 36.03125 48 33.890625 48 \r\nQ 26.265625 48 22.1875 43.046875 \r\nQ 18.109375 38.09375 18.109375 28.8125 \r\nL 18.109375 0 \r\nL 9.078125 0 \r\nL 9.078125 54.6875 \r\nL 18.109375 54.6875 \r\nL 18.109375 46.1875 \r\nQ 20.953125 51.171875 25.484375 53.578125 \r\nQ 30.03125 56 36.53125 56 \r\nQ 37.453125 56 38.578125 55.875 \r\nQ 39.703125 55.765625 41.0625 55.515625 \r\nz\r\n\" id=\"DejaVuSans-114\"/>\r\n     <path d=\"M 45.40625 27.984375 \r\nQ 45.40625 37.75 41.375 43.109375 \r\nQ 37.359375 48.484375 30.078125 48.484375 \r\nQ 22.859375 48.484375 18.828125 43.109375 \r\nQ 14.796875 37.75 14.796875 27.984375 \r\nQ 14.796875 18.265625 18.828125 12.890625 \r\nQ 22.859375 7.515625 30.078125 7.515625 \r\nQ 37.359375 7.515625 41.375 12.890625 \r\nQ 45.40625 18.265625 45.40625 27.984375 \r\nz\r\nM 54.390625 6.78125 \r\nQ 54.390625 -7.171875 48.1875 -13.984375 \r\nQ 42 -20.796875 29.203125 -20.796875 \r\nQ 24.46875 -20.796875 20.265625 -20.09375 \r\nQ 16.0625 -19.390625 12.109375 -17.921875 \r\nL 12.109375 -9.1875 \r\nQ 16.0625 -11.328125 19.921875 -12.34375 \r\nQ 23.78125 -13.375 27.78125 -13.375 \r\nQ 36.625 -13.375 41.015625 -8.765625 \r\nQ 45.40625 -4.15625 45.40625 5.171875 \r\nL 45.40625 9.625 \r\nQ 42.625 4.78125 38.28125 2.390625 \r\nQ 33.9375 0 27.875 0 \r\nQ 17.828125 0 11.671875 7.65625 \r\nQ 5.515625 15.328125 5.515625 27.984375 \r\nQ 5.515625 40.671875 11.671875 48.328125 \r\nQ 17.828125 56 27.875 56 \r\nQ 33.9375 56 38.28125 53.609375 \r\nQ 42.625 51.21875 45.40625 46.390625 \r\nL 45.40625 54.6875 \r\nL 54.390625 54.6875 \r\nz\r\n\" id=\"DejaVuSans-103\"/>\r\n     <path d=\"M 2.984375 54.6875 \r\nL 12.5 54.6875 \r\nL 29.59375 8.796875 \r\nL 46.6875 54.6875 \r\nL 56.203125 54.6875 \r\nL 35.6875 0 \r\nL 23.484375 0 \r\nz\r\n\" id=\"DejaVuSans-118\"/>\r\n     <path d=\"M 18.109375 8.203125 \r\nL 18.109375 -20.796875 \r\nL 9.078125 -20.796875 \r\nL 9.078125 54.6875 \r\nL 18.109375 54.6875 \r\nL 18.109375 46.390625 \r\nQ 20.953125 51.265625 25.265625 53.625 \r\nQ 29.59375 56 35.59375 56 \r\nQ 45.5625 56 51.78125 48.09375 \r\nQ 58.015625 40.1875 58.015625 27.296875 \r\nQ 58.015625 14.40625 51.78125 6.484375 \r\nQ 45.5625 -1.421875 35.59375 -1.421875 \r\nQ 29.59375 -1.421875 25.265625 0.953125 \r\nQ 20.953125 3.328125 18.109375 8.203125 \r\nz\r\nM 48.6875 27.296875 \r\nQ 48.6875 37.203125 44.609375 42.84375 \r\nQ 40.53125 48.484375 33.40625 48.484375 \r\nQ 26.265625 48.484375 22.1875 42.84375 \r\nQ 18.109375 37.203125 18.109375 27.296875 \r\nQ 18.109375 17.390625 22.1875 11.75 \r\nQ 26.265625 6.109375 33.40625 6.109375 \r\nQ 40.53125 6.109375 44.609375 11.75 \r\nQ 48.6875 17.390625 48.6875 27.296875 \r\nz\r\n\" id=\"DejaVuSans-112\"/>\r\n    </defs>\r\n    <g transform=\"translate(137.57875 16.318125)scale(0.12 -0.12)\">\r\n     <use xlink:href=\"#DejaVuSans-68\"/>\r\n     <use x=\"77.001953\" xlink:href=\"#DejaVuSans-105\"/>\r\n     <use x=\"104.785156\" xlink:href=\"#DejaVuSans-97\"/>\r\n     <use x=\"166.064453\" xlink:href=\"#DejaVuSans-98\"/>\r\n     <use x=\"229.541016\" xlink:href=\"#DejaVuSans-101\"/>\r\n     <use x=\"291.064453\" xlink:href=\"#DejaVuSans-116\"/>\r\n     <use x=\"330.273438\" xlink:href=\"#DejaVuSans-115\"/>\r\n     <use x=\"382.373047\" xlink:href=\"#DejaVuSans-32\"/>\r\n     <use x=\"414.160156\" xlink:href=\"#DejaVuSans-116\"/>\r\n     <use x=\"453.369141\" xlink:href=\"#DejaVuSans-97\"/>\r\n     <use x=\"514.648438\" xlink:href=\"#DejaVuSans-114\"/>\r\n     <use x=\"554.011719\" xlink:href=\"#DejaVuSans-103\"/>\r\n     <use x=\"617.488281\" xlink:href=\"#DejaVuSans-101\"/>\r\n     <use x=\"679.011719\" xlink:href=\"#DejaVuSans-116\"/>\r\n     <use x=\"718.220703\" xlink:href=\"#DejaVuSans-32\"/>\r\n     <use x=\"750.007812\" xlink:href=\"#DejaVuSans-118\"/>\r\n     <use x=\"809.1875\" xlink:href=\"#DejaVuSans-115\"/>\r\n     <use x=\"861.287109\" xlink:href=\"#DejaVuSans-46\"/>\r\n     <use x=\"893.074219\" xlink:href=\"#DejaVuSans-32\"/>\r\n     <use x=\"924.861328\" xlink:href=\"#DejaVuSans-98\"/>\r\n     <use x=\"988.337891\" xlink:href=\"#DejaVuSans-112\"/>\r\n    </g>\r\n   </g>\r\n   <g id=\"legend_1\">\r\n    <g id=\"patch_7\">\r\n     <path d=\"M 40.2875 59.674375 \r\nL 95.5625 59.674375 \r\nQ 97.5625 59.674375 97.5625 57.674375 \r\nL 97.5625 29.318125 \r\nQ 97.5625 27.318125 95.5625 27.318125 \r\nL 40.2875 27.318125 \r\nQ 38.2875 27.318125 38.2875 29.318125 \r\nL 38.2875 57.674375 \r\nQ 38.2875 59.674375 40.2875 59.674375 \r\nz\r\n\" style=\"fill:#ffffff;opacity:0.8;stroke:#cccccc;stroke-linejoin:miter;\"/>\r\n    </g>\r\n    <g id=\"PathCollection_3\">\r\n     <g>\r\n      <use style=\"fill:#1f77b4;stroke:#1f77b4;\" x=\"52.2875\" xlink:href=\"#m2a89f236f0\" y=\"36.291562\"/>\r\n     </g>\r\n    </g>\r\n    <g id=\"text_14\">\r\n     <!-- train -->\r\n     <defs>\r\n      <path d=\"M 54.890625 33.015625 \r\nL 54.890625 0 \r\nL 45.90625 0 \r\nL 45.90625 32.71875 \r\nQ 45.90625 40.484375 42.875 44.328125 \r\nQ 39.84375 48.1875 33.796875 48.1875 \r\nQ 26.515625 48.1875 22.3125 43.546875 \r\nQ 18.109375 38.921875 18.109375 30.90625 \r\nL 18.109375 0 \r\nL 9.078125 0 \r\nL 9.078125 54.6875 \r\nL 18.109375 54.6875 \r\nL 18.109375 46.1875 \r\nQ 21.34375 51.125 25.703125 53.5625 \r\nQ 30.078125 56 35.796875 56 \r\nQ 45.21875 56 50.046875 50.171875 \r\nQ 54.890625 44.34375 54.890625 33.015625 \r\nz\r\n\" id=\"DejaVuSans-110\"/>\r\n     </defs>\r\n     <g transform=\"translate(70.2875 38.916562)scale(0.1 -0.1)\">\r\n      <use xlink:href=\"#DejaVuSans-116\"/>\r\n      <use x=\"39.208984\" xlink:href=\"#DejaVuSans-114\"/>\r\n      <use x=\"80.322266\" xlink:href=\"#DejaVuSans-97\"/>\r\n      <use x=\"141.601562\" xlink:href=\"#DejaVuSans-105\"/>\r\n      <use x=\"169.384766\" xlink:href=\"#DejaVuSans-110\"/>\r\n     </g>\r\n    </g>\r\n    <g id=\"PathCollection_4\">\r\n     <g>\r\n      <use style=\"fill:#ff0000;stroke:#ff0000;\" x=\"52.2875\" xlink:href=\"#m918c479aea\" y=\"50.969687\"/>\r\n     </g>\r\n    </g>\r\n    <g id=\"text_15\">\r\n     <!-- test -->\r\n     <g transform=\"translate(70.2875 53.594687)scale(0.1 -0.1)\">\r\n      <use xlink:href=\"#DejaVuSans-116\"/>\r\n      <use x=\"39.208984\" xlink:href=\"#DejaVuSans-101\"/>\r\n      <use x=\"100.732422\" xlink:href=\"#DejaVuSans-115\"/>\r\n      <use x=\"152.832031\" xlink:href=\"#DejaVuSans-116\"/>\r\n     </g>\r\n    </g>\r\n   </g>\r\n  </g>\r\n </g>\r\n <defs>\r\n  <clipPath id=\"pe8991e6a35\">\r\n   <rect height=\"217.44\" width=\"334.8\" x=\"33.2875\" y=\"22.318125\"/>\r\n  </clipPath>\r\n </defs>\r\n</svg>\r\n",
      "image/png": "[encoded data removed]"
     },
     "metadata": {
      "needs_background": "light"
     }
    }
   ],
   "source": [
    "plt.scatter(X, y, label='train')\n",
    "plt.plot([np.min(X), np.max(X)], [y_min, y_max], 'r', lw=3)\n",
    "plt.scatter([X_test], [y_test], c='r', marker='*', s=100, label='test')\n",
    "plt.grid()\n",
    "plt.legend()\n",
    "plt.title(f'Diabets target vs. {feature}')\n",
    "plt.show()"
   ]
  },
  {
   "source": [
    "### 보스톤 회귀"
   ],
   "cell_type": "markdown",
   "metadata": {}
  },
  {
   "cell_type": "code",
   "execution_count": 9,
   "metadata": {},
   "outputs": [
    {
     "output_type": "execute_result",
     "data": {
      "text/plain": [
       "      CRIM    ZN  INDUS  CHAS    NOX     RM   AGE     DIS   RAD    TAX  \\\n",
       "0  6.53876   0.0  18.10   1.0  0.631  7.016  97.5  1.2024  24.0  666.0   \n",
       "1  0.01870  85.0   4.15   0.0  0.429  6.516  27.7  8.5353   4.0  351.0   \n",
       "2  9.82349   0.0  18.10   0.0  0.671  6.794  98.8  1.3580  24.0  666.0   \n",
       "3  8.98296   0.0  18.10   1.0  0.770  6.212  97.4  2.1222  24.0  666.0   \n",
       "4  0.15445  25.0   5.13   0.0  0.453  6.145  29.2  7.8148   8.0  284.0   \n",
       "\n",
       "   PTRATIO       B  LSTAT  target  \n",
       "0     20.2  392.05   2.96    50.0  \n",
       "1     17.9  392.43   6.36    23.1  \n",
       "2     20.2  396.90  21.24    13.3  \n",
       "3     20.2  377.73  17.60    17.8  \n",
       "4     19.7  390.68   6.86    23.3  "
      ],
      "text/html": "<div>\n<style scoped>\n    .dataframe tbody tr th:only-of-type {\n        vertical-align: middle;\n    }\n\n    .dataframe tbody tr th {\n        vertical-align: top;\n    }\n\n    .dataframe thead th {\n        text-align: right;\n    }\n</style>\n<table border=\"1\" class=\"dataframe\">\n  <thead>\n    <tr style=\"text-align: right;\">\n      <th></th>\n      <th>CRIM</th>\n      <th>ZN</th>\n      <th>INDUS</th>\n      <th>CHAS</th>\n      <th>NOX</th>\n      <th>RM</th>\n      <th>AGE</th>\n      <th>DIS</th>\n      <th>RAD</th>\n      <th>TAX</th>\n      <th>PTRATIO</th>\n      <th>B</th>\n      <th>LSTAT</th>\n      <th>target</th>\n    </tr>\n  </thead>\n  <tbody>\n    <tr>\n      <th>0</th>\n      <td>6.53876</td>\n      <td>0.0</td>\n      <td>18.10</td>\n      <td>1.0</td>\n      <td>0.631</td>\n      <td>7.016</td>\n      <td>97.5</td>\n      <td>1.2024</td>\n      <td>24.0</td>\n      <td>666.0</td>\n      <td>20.2</td>\n      <td>392.05</td>\n      <td>2.96</td>\n      <td>50.0</td>\n    </tr>\n    <tr>\n      <th>1</th>\n      <td>0.01870</td>\n      <td>85.0</td>\n      <td>4.15</td>\n      <td>0.0</td>\n      <td>0.429</td>\n      <td>6.516</td>\n      <td>27.7</td>\n      <td>8.5353</td>\n      <td>4.0</td>\n      <td>351.0</td>\n      <td>17.9</td>\n      <td>392.43</td>\n      <td>6.36</td>\n      <td>23.1</td>\n    </tr>\n    <tr>\n      <th>2</th>\n      <td>9.82349</td>\n      <td>0.0</td>\n      <td>18.10</td>\n      <td>0.0</td>\n      <td>0.671</td>\n      <td>6.794</td>\n      <td>98.8</td>\n      <td>1.3580</td>\n      <td>24.0</td>\n      <td>666.0</td>\n      <td>20.2</td>\n      <td>396.90</td>\n      <td>21.24</td>\n      <td>13.3</td>\n    </tr>\n    <tr>\n      <th>3</th>\n      <td>8.98296</td>\n      <td>0.0</td>\n      <td>18.10</td>\n      <td>1.0</td>\n      <td>0.770</td>\n      <td>6.212</td>\n      <td>97.4</td>\n      <td>2.1222</td>\n      <td>24.0</td>\n      <td>666.0</td>\n      <td>20.2</td>\n      <td>377.73</td>\n      <td>17.60</td>\n      <td>17.8</td>\n    </tr>\n    <tr>\n      <th>4</th>\n      <td>0.15445</td>\n      <td>25.0</td>\n      <td>5.13</td>\n      <td>0.0</td>\n      <td>0.453</td>\n      <td>6.145</td>\n      <td>29.2</td>\n      <td>7.8148</td>\n      <td>8.0</td>\n      <td>284.0</td>\n      <td>19.7</td>\n      <td>390.68</td>\n      <td>6.86</td>\n      <td>23.3</td>\n    </tr>\n  </tbody>\n</table>\n</div>"
     },
     "metadata": {},
     "execution_count": 9
    }
   ],
   "source": [
    "df = pd.read_csv('../static/data/boston_train.csv')\n",
    "df.head()"
   ]
  },
  {
   "cell_type": "code",
   "execution_count": 10,
   "metadata": {},
   "outputs": [],
   "source": [
    "feature = 'CRIM'"
   ]
  },
  {
   "cell_type": "code",
   "execution_count": 11,
   "metadata": {},
   "outputs": [
    {
     "output_type": "execute_result",
     "data": {
      "text/plain": [
       "((379, 1), (379,))"
      ]
     },
     "metadata": {},
     "execution_count": 11
    }
   ],
   "source": [
    "X = df[feature].values.reshape(-1,1)\n",
    "y = df.target.values\n",
    "X.shape, y.shape"
   ]
  },
  {
   "cell_type": "code",
   "execution_count": 12,
   "metadata": {},
   "outputs": [
    {
     "output_type": "execute_result",
     "data": {
      "text/plain": [
       "LinearRegression()"
      ]
     },
     "metadata": {},
     "execution_count": 12
    }
   ],
   "source": [
    "lr = LinearRegression()\n",
    "lr.fit(X, y)"
   ]
  },
  {
   "cell_type": "code",
   "execution_count": 13,
   "metadata": {},
   "outputs": [
    {
     "output_type": "execute_result",
     "data": {
      "text/plain": [
       "      CRIM   ZN  INDUS  CHAS    NOX     RM   AGE     DIS   RAD    TAX  \\\n",
       "0  0.17446  0.0  10.59   1.0  0.489  5.960  92.1  3.8771   4.0  277.0   \n",
       "1  0.75026  0.0   8.14   0.0  0.538  5.924  94.1  4.3996   4.0  307.0   \n",
       "2  0.09744  0.0   5.96   0.0  0.499  5.841  61.4  3.3779   5.0  279.0   \n",
       "3  9.39063  0.0  18.10   0.0  0.740  5.627  93.9  1.8172  24.0  666.0   \n",
       "4  1.46336  0.0  19.58   0.0  0.605  7.489  90.8  1.9709   5.0  403.0   \n",
       "\n",
       "   PTRATIO       B  LSTAT  target  \n",
       "0     18.6  393.25  17.27    21.7  \n",
       "1     21.0  394.33  16.30    15.6  \n",
       "2     19.2  377.56  11.41    20.0  \n",
       "3     20.2  396.90  22.88    12.8  \n",
       "4     14.7  374.43   1.73    50.0  "
      ],
      "text/html": "<div>\n<style scoped>\n    .dataframe tbody tr th:only-of-type {\n        vertical-align: middle;\n    }\n\n    .dataframe tbody tr th {\n        vertical-align: top;\n    }\n\n    .dataframe thead th {\n        text-align: right;\n    }\n</style>\n<table border=\"1\" class=\"dataframe\">\n  <thead>\n    <tr style=\"text-align: right;\">\n      <th></th>\n      <th>CRIM</th>\n      <th>ZN</th>\n      <th>INDUS</th>\n      <th>CHAS</th>\n      <th>NOX</th>\n      <th>RM</th>\n      <th>AGE</th>\n      <th>DIS</th>\n      <th>RAD</th>\n      <th>TAX</th>\n      <th>PTRATIO</th>\n      <th>B</th>\n      <th>LSTAT</th>\n      <th>target</th>\n    </tr>\n  </thead>\n  <tbody>\n    <tr>\n      <th>0</th>\n      <td>0.17446</td>\n      <td>0.0</td>\n      <td>10.59</td>\n      <td>1.0</td>\n      <td>0.489</td>\n      <td>5.960</td>\n      <td>92.1</td>\n      <td>3.8771</td>\n      <td>4.0</td>\n      <td>277.0</td>\n      <td>18.6</td>\n      <td>393.25</td>\n      <td>17.27</td>\n      <td>21.7</td>\n    </tr>\n    <tr>\n      <th>1</th>\n      <td>0.75026</td>\n      <td>0.0</td>\n      <td>8.14</td>\n      <td>0.0</td>\n      <td>0.538</td>\n      <td>5.924</td>\n      <td>94.1</td>\n      <td>4.3996</td>\n      <td>4.0</td>\n      <td>307.0</td>\n      <td>21.0</td>\n      <td>394.33</td>\n      <td>16.30</td>\n      <td>15.6</td>\n    </tr>\n    <tr>\n      <th>2</th>\n      <td>0.09744</td>\n      <td>0.0</td>\n      <td>5.96</td>\n      <td>0.0</td>\n      <td>0.499</td>\n      <td>5.841</td>\n      <td>61.4</td>\n      <td>3.3779</td>\n      <td>5.0</td>\n      <td>279.0</td>\n      <td>19.2</td>\n      <td>377.56</td>\n      <td>11.41</td>\n      <td>20.0</td>\n    </tr>\n    <tr>\n      <th>3</th>\n      <td>9.39063</td>\n      <td>0.0</td>\n      <td>18.10</td>\n      <td>0.0</td>\n      <td>0.740</td>\n      <td>5.627</td>\n      <td>93.9</td>\n      <td>1.8172</td>\n      <td>24.0</td>\n      <td>666.0</td>\n      <td>20.2</td>\n      <td>396.90</td>\n      <td>22.88</td>\n      <td>12.8</td>\n    </tr>\n    <tr>\n      <th>4</th>\n      <td>1.46336</td>\n      <td>0.0</td>\n      <td>19.58</td>\n      <td>0.0</td>\n      <td>0.605</td>\n      <td>7.489</td>\n      <td>90.8</td>\n      <td>1.9709</td>\n      <td>5.0</td>\n      <td>403.0</td>\n      <td>14.7</td>\n      <td>374.43</td>\n      <td>1.73</td>\n      <td>50.0</td>\n    </tr>\n  </tbody>\n</table>\n</div>"
     },
     "metadata": {},
     "execution_count": 13
    }
   ],
   "source": [
    "df_t = pd.read_csv('../static/data/boston_test.csv')\n",
    "df_t.head()"
   ]
  },
  {
   "cell_type": "code",
   "execution_count": 14,
   "metadata": {},
   "outputs": [
    {
     "output_type": "stream",
     "name": "stdout",
     "text": [
      "[-0.39029231]\n24.130421513825855\n"
     ]
    }
   ],
   "source": [
    "weight, bias = lr.coef_, lr.intercept_\n",
    "print(weight)\n",
    "print(bias)"
   ]
  },
  {
   "cell_type": "code",
   "execution_count": 15,
   "metadata": {},
   "outputs": [
    {
     "output_type": "execute_result",
     "data": {
      "text/plain": [
       "(127, 14)"
      ]
     },
     "metadata": {},
     "execution_count": 15
    }
   ],
   "source": [
    "df_t.shape"
   ]
  },
  {
   "cell_type": "code",
   "execution_count": 16,
   "metadata": {},
   "outputs": [],
   "source": [
    "index = 100"
   ]
  },
  {
   "cell_type": "code",
   "execution_count": 17,
   "metadata": {},
   "outputs": [
    {
     "output_type": "execute_result",
     "data": {
      "text/plain": [
       "(5.73116, 25.0)"
      ]
     },
     "metadata": {},
     "execution_count": 17
    }
   ],
   "source": [
    "X_test = df_t[feature][index]\n",
    "y_test = df_t.target[index]\n",
    "X_test, y_test"
   ]
  },
  {
   "cell_type": "code",
   "execution_count": 18,
   "metadata": {},
   "outputs": [
    {
     "output_type": "execute_result",
     "data": {
      "text/plain": [
       "22.0"
      ]
     },
     "metadata": {},
     "execution_count": 18
    }
   ],
   "source": [
    "tmp =lr.predict(X_test.reshape(1,-1))\n",
    "np.round(tmp[0])"
   ]
  },
  {
   "cell_type": "code",
   "execution_count": null,
   "metadata": {},
   "outputs": [],
   "source": []
  }
 ]
}