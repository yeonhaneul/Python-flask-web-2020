{
 "metadata": {
  "language_info": {
   "codemirror_mode": {
    "name": "ipython",
    "version": 3
   },
   "file_extension": ".py",
   "mimetype": "text/x-python",
   "name": "python",
   "nbconvert_exporter": "python",
   "pygments_lexer": "ipython3",
   "version": "3.8.3-final"
  },
  "orig_nbformat": 2,
  "kernelspec": {
   "name": "Python 3.8.3 64-bit ('base': conda)",
   "display_name": "Python 3.8.3 64-bit ('base': conda)",
   "metadata": {
    "interpreter": {
     "hash": "b3ba2566441a7c06988d0923437866b63cedc61552a5af99d1f4fb67d367b25f"
    }
   }
  }
 },
 "nbformat": 4,
 "nbformat_minor": 2,
 "cells": [
  {
   "cell_type": "code",
   "execution_count": 2,
   "metadata": {},
   "outputs": [],
   "source": [
    "import sys\n",
    "sys.path.append(\"d:/Bigdata/Workspace/flask web/03_DataAnalysisModule\")"
   ]
  },
  {
   "cell_type": "code",
   "execution_count": 3,
   "metadata": {},
   "outputs": [],
   "source": [
    "from flask import Blueprint, render_template, request, session\n",
    "from flask import current_app\n",
    "from werkzeug.utils import secure_filename\n",
    "from datetime import timedelta\n",
    "import os, folium, json\n",
    "import pandas as pd\n",
    "from my_util.weather import get_weather\n",
    "import platform\n",
    "import matplotlib as mpl\n",
    "import matplotlib.pyplot as plt\n",
    "%matplotlib inline\n",
    "mpl.rc('font', family='Malgun Gothic')\n",
    "mpl.rc('axes', unicode_minus=False)"
   ]
  },
  {
   "cell_type": "code",
   "execution_count": 4,
   "metadata": {},
   "outputs": [],
   "source": [
    "from my_util.draw_korea import drawKorea"
   ]
  },
  {
   "cell_type": "code",
   "execution_count": 5,
   "metadata": {},
   "outputs": [
    {
     "output_type": "execute_result",
     "data": {
      "text/plain": [
       "    0    1    2       3       4       5      6       7      8   9       10  \\\n",
       "0  NaN  NaN  NaN     NaN     NaN     NaN    NaN      철원     화천  양구  고성(강원)   \n",
       "1  NaN  NaN  NaN      양주     동두천      연천     포천     의정부     인제  춘천      속초   \n",
       "2  NaN  NaN  NaN      파주  고양 일산동   서울 도봉  서울 노원     남양주     홍천  횡성      양양   \n",
       "3  NaN  NaN  NaN  고양 일산서   고양 덕양   서울 강북  서울 성북      가평     구리  하남      정선   \n",
       "4  NaN  NaN   김포   안양 만안      광명  서울 서대문  서울 종로  서울 동대문  서울 중랑  양평      태백   \n",
       "\n",
       "    11   12   13  \n",
       "0  NaN  NaN  NaN  \n",
       "1  NaN  NaN  NaN  \n",
       "2  NaN  NaN  NaN  \n",
       "3   강릉  NaN  NaN  \n",
       "4   동해  NaN  NaN  "
      ],
      "text/html": "<div>\n<style scoped>\n    .dataframe tbody tr th:only-of-type {\n        vertical-align: middle;\n    }\n\n    .dataframe tbody tr th {\n        vertical-align: top;\n    }\n\n    .dataframe thead th {\n        text-align: right;\n    }\n</style>\n<table border=\"1\" class=\"dataframe\">\n  <thead>\n    <tr style=\"text-align: right;\">\n      <th></th>\n      <th>0</th>\n      <th>1</th>\n      <th>2</th>\n      <th>3</th>\n      <th>4</th>\n      <th>5</th>\n      <th>6</th>\n      <th>7</th>\n      <th>8</th>\n      <th>9</th>\n      <th>10</th>\n      <th>11</th>\n      <th>12</th>\n      <th>13</th>\n    </tr>\n  </thead>\n  <tbody>\n    <tr>\n      <th>0</th>\n      <td>NaN</td>\n      <td>NaN</td>\n      <td>NaN</td>\n      <td>NaN</td>\n      <td>NaN</td>\n      <td>NaN</td>\n      <td>NaN</td>\n      <td>철원</td>\n      <td>화천</td>\n      <td>양구</td>\n      <td>고성(강원)</td>\n      <td>NaN</td>\n      <td>NaN</td>\n      <td>NaN</td>\n    </tr>\n    <tr>\n      <th>1</th>\n      <td>NaN</td>\n      <td>NaN</td>\n      <td>NaN</td>\n      <td>양주</td>\n      <td>동두천</td>\n      <td>연천</td>\n      <td>포천</td>\n      <td>의정부</td>\n      <td>인제</td>\n      <td>춘천</td>\n      <td>속초</td>\n      <td>NaN</td>\n      <td>NaN</td>\n      <td>NaN</td>\n    </tr>\n    <tr>\n      <th>2</th>\n      <td>NaN</td>\n      <td>NaN</td>\n      <td>NaN</td>\n      <td>파주</td>\n      <td>고양 일산동</td>\n      <td>서울 도봉</td>\n      <td>서울 노원</td>\n      <td>남양주</td>\n      <td>홍천</td>\n      <td>횡성</td>\n      <td>양양</td>\n      <td>NaN</td>\n      <td>NaN</td>\n      <td>NaN</td>\n    </tr>\n    <tr>\n      <th>3</th>\n      <td>NaN</td>\n      <td>NaN</td>\n      <td>NaN</td>\n      <td>고양 일산서</td>\n      <td>고양 덕양</td>\n      <td>서울 강북</td>\n      <td>서울 성북</td>\n      <td>가평</td>\n      <td>구리</td>\n      <td>하남</td>\n      <td>정선</td>\n      <td>강릉</td>\n      <td>NaN</td>\n      <td>NaN</td>\n    </tr>\n    <tr>\n      <th>4</th>\n      <td>NaN</td>\n      <td>NaN</td>\n      <td>김포</td>\n      <td>안양 만안</td>\n      <td>광명</td>\n      <td>서울 서대문</td>\n      <td>서울 종로</td>\n      <td>서울 동대문</td>\n      <td>서울 중랑</td>\n      <td>양평</td>\n      <td>태백</td>\n      <td>동해</td>\n      <td>NaN</td>\n      <td>NaN</td>\n    </tr>\n  </tbody>\n</table>\n</div>"
     },
     "metadata": {},
     "execution_count": 5
    }
   ],
   "source": [
    "draw_korea_raw = pd.read_excel('../static/data/draw_korea_raw(수정).xlsx', encoding='utf8')\n",
    "draw_korea_raw.head()"
   ]
  },
  {
   "cell_type": "code",
   "execution_count": 6,
   "metadata": {},
   "outputs": [
    {
     "output_type": "execute_result",
     "data": {
      "text/plain": [
       "      y   x      ID\n",
       "0     0   7      철원\n",
       "1     0   8      화천\n",
       "2     0   9      양구\n",
       "3     0  10  고성(강원)\n",
       "4     1   3      양주\n",
       "..   ..  ..     ...\n",
       "245  24   2      장흥\n",
       "246  24   3      보성\n",
       "247  25   2      완도\n",
       "248  25   5      제주\n",
       "249  26   5     서귀포\n",
       "\n",
       "[250 rows x 3 columns]"
      ],
      "text/html": "<div>\n<style scoped>\n    .dataframe tbody tr th:only-of-type {\n        vertical-align: middle;\n    }\n\n    .dataframe tbody tr th {\n        vertical-align: top;\n    }\n\n    .dataframe thead th {\n        text-align: right;\n    }\n</style>\n<table border=\"1\" class=\"dataframe\">\n  <thead>\n    <tr style=\"text-align: right;\">\n      <th></th>\n      <th>y</th>\n      <th>x</th>\n      <th>ID</th>\n    </tr>\n  </thead>\n  <tbody>\n    <tr>\n      <th>0</th>\n      <td>0</td>\n      <td>7</td>\n      <td>철원</td>\n    </tr>\n    <tr>\n      <th>1</th>\n      <td>0</td>\n      <td>8</td>\n      <td>화천</td>\n    </tr>\n    <tr>\n      <th>2</th>\n      <td>0</td>\n      <td>9</td>\n      <td>양구</td>\n    </tr>\n    <tr>\n      <th>3</th>\n      <td>0</td>\n      <td>10</td>\n      <td>고성(강원)</td>\n    </tr>\n    <tr>\n      <th>4</th>\n      <td>1</td>\n      <td>3</td>\n      <td>양주</td>\n    </tr>\n    <tr>\n      <th>...</th>\n      <td>...</td>\n      <td>...</td>\n      <td>...</td>\n    </tr>\n    <tr>\n      <th>245</th>\n      <td>24</td>\n      <td>2</td>\n      <td>장흥</td>\n    </tr>\n    <tr>\n      <th>246</th>\n      <td>24</td>\n      <td>3</td>\n      <td>보성</td>\n    </tr>\n    <tr>\n      <th>247</th>\n      <td>25</td>\n      <td>2</td>\n      <td>완도</td>\n    </tr>\n    <tr>\n      <th>248</th>\n      <td>25</td>\n      <td>5</td>\n      <td>제주</td>\n    </tr>\n    <tr>\n      <th>249</th>\n      <td>26</td>\n      <td>5</td>\n      <td>서귀포</td>\n    </tr>\n  </tbody>\n</table>\n<p>250 rows × 3 columns</p>\n</div>"
     },
     "metadata": {},
     "execution_count": 6
    }
   ],
   "source": [
    "draw_korea_raw_stacked = pd.DataFrame(draw_korea_raw.stack())\n",
    "draw_korea_raw_stacked.reset_index(inplace=True)\n",
    "draw_korea_raw_stacked.rename(columns={'level_0':'y', 'level_1':'x', 0:'ID'},\n",
    "                                       inplace=True)\n",
    "draw_korea_raw_stacked"
   ]
  },
  {
   "cell_type": "code",
   "execution_count": 7,
   "metadata": {},
   "outputs": [],
   "source": [
    "cof = pd.read_csv('../static/data/커피지수.csv', encoding='utf8')"
   ]
  },
  {
   "cell_type": "code",
   "execution_count": 10,
   "metadata": {},
   "outputs": [],
   "source": [
    "top10 = {'인천 남동': 13, '성남 분당': 12, '서울 강남': 12, '화성': 11, '대전 서구': 10, '서울 송파': 10, '부천': 9, '파주': 8, '시흥': 8, '서울 강서': 8}"
   ]
  },
  {
   "cell_type": "code",
   "execution_count": 15,
   "metadata": {},
   "outputs": [
    {
     "output_type": "execute_result",
     "data": {
      "text/plain": [
       "dict_items([('인천 남동', 13), ('성남 분당', 12), ('서울 강남', 12), ('화성', 11), ('대전 서구', 10), ('서울 송파', 10), ('부천', 9), ('파주', 8), ('시흥', 8), ('서울 강서', 8)])"
      ]
     },
     "metadata": {},
     "execution_count": 15
    }
   ],
   "source": [
    "top10.items()"
   ]
  },
  {
   "cell_type": "code",
   "execution_count": 18,
   "metadata": {},
   "outputs": [
    {
     "output_type": "stream",
     "name": "stdout",
     "text": [
      "인천 남동 13\n성남 분당 12\n서울 강남 12\n화성 11\n대전 서구 10\n서울 송파 10\n부천 9\n파주 8\n시흥 8\n서울 강서 8\n"
     ]
    }
   ],
   "source": [
    "for key,value in top10.items():\n",
    "    print(key, value)"
   ]
  },
  {
   "cell_type": "code",
   "execution_count": null,
   "metadata": {},
   "outputs": [],
   "source": []
  }
 ]
}