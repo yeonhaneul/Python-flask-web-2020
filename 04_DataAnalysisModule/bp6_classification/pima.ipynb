{
 "metadata": {
  "language_info": {
   "codemirror_mode": {
    "name": "ipython",
    "version": 3
   },
   "file_extension": ".py",
   "mimetype": "text/x-python",
   "name": "python",
   "nbconvert_exporter": "python",
   "pygments_lexer": "ipython3",
   "version": "3.8.3-final"
  },
  "orig_nbformat": 2,
  "kernelspec": {
   "name": "python3",
   "display_name": "Python 3",
   "language": "python"
  }
 },
 "nbformat": 4,
 "nbformat_minor": 2,
 "cells": [
  {
   "source": [
    "# 피마인디언 데이터셋"
   ],
   "cell_type": "markdown",
   "metadata": {}
  },
  {
   "cell_type": "code",
   "execution_count": 1,
   "metadata": {},
   "outputs": [],
   "source": [
    "import pandas as pd \n",
    "import joblib\n",
    "from sklearn.preprocessing import StandardScaler, MinMaxScaler\n",
    "from sklearn.linear_model import LogisticRegression\n",
    "from sklearn.svm import SVC\n",
    "from sklearn.ensemble import RandomForestClassifier\n",
    "from sklearn.tree import DecisionTreeClassifier\n",
    "from sklearn.model_selection import GridSearchCV\n",
    "from sklearn.metrics import accuracy_score"
   ]
  },
  {
   "cell_type": "code",
   "execution_count": 2,
   "metadata": {},
   "outputs": [
    {
     "output_type": "execute_result",
     "data": {
      "text/plain": [
       "   Pregnancies  Glucose  BloodPressure  SkinThickness     Insulin   BMI  \\\n",
       "0            1    101.0      50.000000      15.000000   36.000000  24.2   \n",
       "1            0    141.0      69.105469      20.536458   79.799479  42.4   \n",
       "2            0    118.0      84.000000      47.000000  230.000000  45.8   \n",
       "\n",
       "   DiabetesPedigreeFunction  Age  Outcome  \n",
       "0                     0.526   26        0  \n",
       "1                     0.205   29        1  \n",
       "2                     0.551   31        1  "
      ],
      "text/html": "<div>\n<style scoped>\n    .dataframe tbody tr th:only-of-type {\n        vertical-align: middle;\n    }\n\n    .dataframe tbody tr th {\n        vertical-align: top;\n    }\n\n    .dataframe thead th {\n        text-align: right;\n    }\n</style>\n<table border=\"1\" class=\"dataframe\">\n  <thead>\n    <tr style=\"text-align: right;\">\n      <th></th>\n      <th>Pregnancies</th>\n      <th>Glucose</th>\n      <th>BloodPressure</th>\n      <th>SkinThickness</th>\n      <th>Insulin</th>\n      <th>BMI</th>\n      <th>DiabetesPedigreeFunction</th>\n      <th>Age</th>\n      <th>Outcome</th>\n    </tr>\n  </thead>\n  <tbody>\n    <tr>\n      <th>0</th>\n      <td>1</td>\n      <td>101.0</td>\n      <td>50.000000</td>\n      <td>15.000000</td>\n      <td>36.000000</td>\n      <td>24.2</td>\n      <td>0.526</td>\n      <td>26</td>\n      <td>0</td>\n    </tr>\n    <tr>\n      <th>1</th>\n      <td>0</td>\n      <td>141.0</td>\n      <td>69.105469</td>\n      <td>20.536458</td>\n      <td>79.799479</td>\n      <td>42.4</td>\n      <td>0.205</td>\n      <td>29</td>\n      <td>1</td>\n    </tr>\n    <tr>\n      <th>2</th>\n      <td>0</td>\n      <td>118.0</td>\n      <td>84.000000</td>\n      <td>47.000000</td>\n      <td>230.000000</td>\n      <td>45.8</td>\n      <td>0.551</td>\n      <td>31</td>\n      <td>1</td>\n    </tr>\n  </tbody>\n</table>\n</div>"
     },
     "metadata": {},
     "execution_count": 2
    }
   ],
   "source": [
    "df_train = pd.read_csv('../static/data/pima_train.csv')\n",
    "df_train.head(3)"
   ]
  },
  {
   "cell_type": "code",
   "execution_count": 3,
   "metadata": {},
   "outputs": [
    {
     "output_type": "execute_result",
     "data": {
      "text/plain": [
       "((576, 8), (576,))"
      ]
     },
     "metadata": {},
     "execution_count": 3
    }
   ],
   "source": [
    "X_train = df_train.iloc[:, :-1].values\n",
    "y_train = df_train.iloc[:, -1].values\n",
    "X_train.shape, y_train.shape"
   ]
  },
  {
   "cell_type": "code",
   "execution_count": 4,
   "metadata": {},
   "outputs": [
    {
     "output_type": "execute_result",
     "data": {
      "text/plain": [
       "   Pregnancies  Glucose  BloodPressure  SkinThickness    Insulin   BMI  \\\n",
       "0            7    133.0           84.0      20.536458  79.799479  40.2   \n",
       "1            2     90.0           70.0      17.000000  79.799479  27.3   \n",
       "2            8    194.0           80.0      20.536458  79.799479  26.1   \n",
       "\n",
       "   DiabetesPedigreeFunction  Age  Outcome  \n",
       "0                     0.696   37        0  \n",
       "1                     0.085   22        0  \n",
       "2                     0.551   67        0  "
      ],
      "text/html": "<div>\n<style scoped>\n    .dataframe tbody tr th:only-of-type {\n        vertical-align: middle;\n    }\n\n    .dataframe tbody tr th {\n        vertical-align: top;\n    }\n\n    .dataframe thead th {\n        text-align: right;\n    }\n</style>\n<table border=\"1\" class=\"dataframe\">\n  <thead>\n    <tr style=\"text-align: right;\">\n      <th></th>\n      <th>Pregnancies</th>\n      <th>Glucose</th>\n      <th>BloodPressure</th>\n      <th>SkinThickness</th>\n      <th>Insulin</th>\n      <th>BMI</th>\n      <th>DiabetesPedigreeFunction</th>\n      <th>Age</th>\n      <th>Outcome</th>\n    </tr>\n  </thead>\n  <tbody>\n    <tr>\n      <th>0</th>\n      <td>7</td>\n      <td>133.0</td>\n      <td>84.0</td>\n      <td>20.536458</td>\n      <td>79.799479</td>\n      <td>40.2</td>\n      <td>0.696</td>\n      <td>37</td>\n      <td>0</td>\n    </tr>\n    <tr>\n      <th>1</th>\n      <td>2</td>\n      <td>90.0</td>\n      <td>70.0</td>\n      <td>17.000000</td>\n      <td>79.799479</td>\n      <td>27.3</td>\n      <td>0.085</td>\n      <td>22</td>\n      <td>0</td>\n    </tr>\n    <tr>\n      <th>2</th>\n      <td>8</td>\n      <td>194.0</td>\n      <td>80.0</td>\n      <td>20.536458</td>\n      <td>79.799479</td>\n      <td>26.1</td>\n      <td>0.551</td>\n      <td>67</td>\n      <td>0</td>\n    </tr>\n  </tbody>\n</table>\n</div>"
     },
     "metadata": {},
     "execution_count": 4
    }
   ],
   "source": [
    "df_test = pd.read_csv('../static/data/pima_test.csv')\n",
    "df_test.head(3)"
   ]
  },
  {
   "cell_type": "code",
   "execution_count": 5,
   "metadata": {},
   "outputs": [
    {
     "output_type": "execute_result",
     "data": {
      "text/plain": [
       "((192, 8), (192,))"
      ]
     },
     "metadata": {},
     "execution_count": 5
    }
   ],
   "source": [
    "X_test = df_test.iloc[:, :-1].values\n",
    "y_test = df_test.iloc[:, -1].values\n",
    "X_test.shape, y_test.shape"
   ]
  },
  {
   "cell_type": "code",
   "execution_count": 6,
   "metadata": {},
   "outputs": [
    {
     "output_type": "execute_result",
     "data": {
      "text/plain": [
       "StandardScaler()"
      ]
     },
     "metadata": {},
     "execution_count": 6
    }
   ],
   "source": [
    "#scaler = MinMaxScaler() / minmax로 svc쪽이 이상하게나오는것같으니 바꿈\n",
    "scaler = StandardScaler()\n",
    "scaler.fit(df_train.iloc[:, :-1])"
   ]
  },
  {
   "cell_type": "code",
   "execution_count": 7,
   "metadata": {},
   "outputs": [],
   "source": [
    "X_train_scaled = scaler.transform(X_train)\n",
    "X_test_scaled = scaler.transform(X_test)"
   ]
  },
  {
   "cell_type": "code",
   "execution_count": 8,
   "metadata": {},
   "outputs": [
    {
     "output_type": "execute_result",
     "data": {
      "text/plain": [
       "['../static/model/pima_scaler.pkl']"
      ]
     },
     "metadata": {},
     "execution_count": 8
    }
   ],
   "source": [
    "joblib.dump(scaler, '../static/model/pima_scaler.pkl')"
   ]
  },
  {
   "source": [
    "### 1. 로지스틱 회귀"
   ],
   "cell_type": "markdown",
   "metadata": {}
  },
  {
   "cell_type": "code",
   "execution_count": 9,
   "metadata": {},
   "outputs": [
    {
     "output_type": "execute_result",
     "data": {
      "text/plain": [
       "{'C': 1.0,\n",
       " 'class_weight': None,\n",
       " 'dual': False,\n",
       " 'fit_intercept': True,\n",
       " 'intercept_scaling': 1,\n",
       " 'l1_ratio': None,\n",
       " 'max_iter': 100,\n",
       " 'multi_class': 'auto',\n",
       " 'n_jobs': None,\n",
       " 'penalty': 'l2',\n",
       " 'random_state': None,\n",
       " 'solver': 'lbfgs',\n",
       " 'tol': 0.0001,\n",
       " 'verbose': 0,\n",
       " 'warm_start': False}"
      ]
     },
     "metadata": {},
     "execution_count": 9
    }
   ],
   "source": [
    "lr_clf = LogisticRegression()\n",
    "lr_clf.get_params()"
   ]
  },
  {
   "cell_type": "code",
   "execution_count": 10,
   "metadata": {},
   "outputs": [],
   "source": [
    "params={\n",
    "    # 'C':[0.1, 1, 3, 5]\n",
    "    # 'C':[5, 10, 15, 20]\n",
    "    'C':[6, 7, 8, 9, 10, 11, 12, 13]\n",
    "}"
   ]
  },
  {
   "cell_type": "code",
   "execution_count": 11,
   "metadata": {},
   "outputs": [
    {
     "output_type": "stream",
     "name": "stdout",
     "text": [
      "최고 평균 정확도 : 0.7622\n최적 파라미터: {'C': 12}\n"
     ]
    }
   ],
   "source": [
    "grid_cv =GridSearchCV(lr_clf, param_grid=params, scoring='accuracy', cv=5)\n",
    "grid_cv.fit(X_train_scaled, y_train)\n",
    "print(f'최고 평균 정확도 : {grid_cv.best_score_:.4f}')\n",
    "print(f'최적 파라미터: {grid_cv.best_params_}')"
   ]
  },
  {
   "cell_type": "code",
   "execution_count": 12,
   "metadata": {},
   "outputs": [
    {
     "output_type": "execute_result",
     "data": {
      "text/plain": [
       "0.8020833333333334"
      ]
     },
     "metadata": {},
     "execution_count": 12
    }
   ],
   "source": [
    "best_lr = grid_cv.best_estimator_\n",
    "pred = best_lr.predict(X_test_scaled)\n",
    "accuracy_score(y_test, pred)"
   ]
  },
  {
   "cell_type": "code",
   "execution_count": 13,
   "metadata": {},
   "outputs": [
    {
     "output_type": "execute_result",
     "data": {
      "text/plain": [
       "['../static/model/pima_lr.pkl']"
      ]
     },
     "metadata": {},
     "execution_count": 13
    }
   ],
   "source": [
    "joblib.dump(best_lr, '../static/model/pima_lr.pkl')"
   ]
  },
  {
   "source": [
    "### 2. SVM"
   ],
   "cell_type": "markdown",
   "metadata": {}
  },
  {
   "cell_type": "code",
   "execution_count": 14,
   "metadata": {},
   "outputs": [
    {
     "output_type": "execute_result",
     "data": {
      "text/plain": [
       "{'C': 1.0,\n",
       " 'break_ties': False,\n",
       " 'cache_size': 200,\n",
       " 'class_weight': None,\n",
       " 'coef0': 0.0,\n",
       " 'decision_function_shape': 'ovr',\n",
       " 'degree': 3,\n",
       " 'gamma': 'scale',\n",
       " 'kernel': 'rbf',\n",
       " 'max_iter': -1,\n",
       " 'probability': False,\n",
       " 'random_state': None,\n",
       " 'shrinking': True,\n",
       " 'tol': 0.001,\n",
       " 'verbose': False}"
      ]
     },
     "metadata": {},
     "execution_count": 14
    }
   ],
   "source": [
    "sv_clf=SVC()\n",
    "sv_clf.get_params()"
   ]
  },
  {
   "cell_type": "code",
   "execution_count": 15,
   "metadata": {},
   "outputs": [],
   "source": [
    "params={\n",
    "    # 'C':[0.1, 1, 3, 5]\n",
    "    # 'C':[1, 2, 3, 4, 5]\n",
    "    # 'C':[5, 10, 15, 20]\n",
    "    'C':[14, 15, 16, 17, 18]\n",
    "}"
   ]
  },
  {
   "cell_type": "code",
   "execution_count": 16,
   "metadata": {},
   "outputs": [
    {
     "output_type": "stream",
     "name": "stdout",
     "text": [
      "최고 평균 정확도 : 0.7206\n최적 파라미터: {'C': 15}\n"
     ]
    }
   ],
   "source": [
    "grid_cv =GridSearchCV(sv_clf, param_grid=params, scoring='accuracy', cv=5)\n",
    "grid_cv.fit(X_train_scaled,y_train)\n",
    "print(f'최고 평균 정확도 : {grid_cv.best_score_:.4f}')\n",
    "print(f'최적 파라미터: {grid_cv.best_params_}')"
   ]
  },
  {
   "cell_type": "code",
   "execution_count": 17,
   "metadata": {},
   "outputs": [
    {
     "output_type": "execute_result",
     "data": {
      "text/plain": [
       "0.7447916666666666"
      ]
     },
     "metadata": {},
     "execution_count": 17
    }
   ],
   "source": [
    "best_sv = grid_cv.best_estimator_\n",
    "pred = best_sv.predict(X_test_scaled)\n",
    "accuracy_score(y_test, pred)"
   ]
  },
  {
   "cell_type": "code",
   "execution_count": 18,
   "metadata": {},
   "outputs": [
    {
     "output_type": "execute_result",
     "data": {
      "text/plain": [
       "['../static/model/pima_sv.pkl']"
      ]
     },
     "metadata": {},
     "execution_count": 18
    }
   ],
   "source": [
    "joblib.dump(best_sv, '../static/model/pima_sv.pkl')"
   ]
  },
  {
   "source": [
    "### 3. Random Forest"
   ],
   "cell_type": "markdown",
   "metadata": {}
  },
  {
   "cell_type": "code",
   "execution_count": 19,
   "metadata": {},
   "outputs": [
    {
     "output_type": "execute_result",
     "data": {
      "text/plain": [
       "{'bootstrap': True,\n",
       " 'ccp_alpha': 0.0,\n",
       " 'class_weight': None,\n",
       " 'criterion': 'gini',\n",
       " 'max_depth': None,\n",
       " 'max_features': 'auto',\n",
       " 'max_leaf_nodes': None,\n",
       " 'max_samples': None,\n",
       " 'min_impurity_decrease': 0.0,\n",
       " 'min_impurity_split': None,\n",
       " 'min_samples_leaf': 1,\n",
       " 'min_samples_split': 2,\n",
       " 'min_weight_fraction_leaf': 0.0,\n",
       " 'n_estimators': 100,\n",
       " 'n_jobs': None,\n",
       " 'oob_score': False,\n",
       " 'random_state': None,\n",
       " 'verbose': 0,\n",
       " 'warm_start': False}"
      ]
     },
     "metadata": {},
     "execution_count": 19
    }
   ],
   "source": [
    "rf_clf=RandomForestClassifier()\n",
    "rf_clf.get_params()"
   ]
  },
  {
   "cell_type": "code",
   "execution_count": 20,
   "metadata": {},
   "outputs": [],
   "source": [
    "params = {\n",
    "    # 'max_depth': [1, 3, 5, 10],\n",
    "    # 'max_depth': [10, 15, 20, 25],\n",
    "    # 'max_depth': [13, 14, 15, 16, 17],\n",
    "    'max_depth': [17, 18, 19],\n",
    "    # 'min_samples_split': [1, 2, 3, 4]\n",
    "    # 'min_samples_split': [4, 5, 6, 7]\n",
    "    'min_samples_split': [7, 8, 9, 10]\n",
    "}"
   ]
  },
  {
   "cell_type": "code",
   "execution_count": 21,
   "metadata": {},
   "outputs": [
    {
     "output_type": "stream",
     "name": "stdout",
     "text": [
      "최고 평균 정확도 : 0.7536\n최적 파라미터: {'max_depth': 17, 'min_samples_split': 10}\n"
     ]
    }
   ],
   "source": [
    "grid_cv =GridSearchCV(rf_clf, param_grid=params, scoring='accuracy', cv=5)\n",
    "grid_cv.fit(X_train_scaled,y_train)\n",
    "print(f'최고 평균 정확도 : {grid_cv.best_score_:.4f}')\n",
    "print(f'최적 파라미터: {grid_cv.best_params_}')"
   ]
  },
  {
   "cell_type": "code",
   "execution_count": 22,
   "metadata": {},
   "outputs": [
    {
     "output_type": "execute_result",
     "data": {
      "text/plain": [
       "0.7864583333333334"
      ]
     },
     "metadata": {},
     "execution_count": 22
    }
   ],
   "source": [
    "best_rf = grid_cv.best_estimator_\n",
    "pred = best_rf.predict(X_test_scaled)\n",
    "accuracy_score(y_test, pred)"
   ]
  },
  {
   "cell_type": "code",
   "execution_count": 23,
   "metadata": {},
   "outputs": [
    {
     "output_type": "execute_result",
     "data": {
      "text/plain": [
       "['../static/model/pima_rf.pkl']"
      ]
     },
     "metadata": {},
     "execution_count": 23
    }
   ],
   "source": [
    "joblib.dump(best_rf, '../static/model/pima_rf.pkl')"
   ]
  },
  {
   "source": [
    "### Test"
   ],
   "cell_type": "markdown",
   "metadata": {}
  },
  {
   "cell_type": "code",
   "execution_count": 24,
   "metadata": {},
   "outputs": [
    {
     "output_type": "execute_result",
     "data": {
      "text/plain": [
       "(array([[ 3.   , 99.   , 80.   , 11.   , 64.   , 19.3  ,  0.284, 30.   ]]), 0)"
      ]
     },
     "metadata": {},
     "execution_count": 24
    }
   ],
   "source": [
    "index = 100\n",
    "test_data = (df_test.iloc[index, :-1].values).reshape(1,-1)\n",
    "label = df_test.iloc[index, -1]\n",
    "test_data, label"
   ]
  },
  {
   "cell_type": "code",
   "execution_count": 25,
   "metadata": {},
   "outputs": [],
   "source": [
    "new_scaler = joblib.load('../static/model/pima_scaler.pkl')"
   ]
  },
  {
   "cell_type": "code",
   "execution_count": 26,
   "metadata": {},
   "outputs": [],
   "source": [
    "test_scaled = new_scaler.transform(test_data)"
   ]
  },
  {
   "cell_type": "code",
   "execution_count": 27,
   "metadata": {},
   "outputs": [],
   "source": [
    "pred_lr = best_lr.predict(test_scaled)\n",
    "pred_sv = best_sv.predict(test_scaled)\n",
    "pred_rf = best_rf.predict(test_scaled)"
   ]
  },
  {
   "cell_type": "code",
   "execution_count": 28,
   "metadata": {},
   "outputs": [
    {
     "output_type": "execute_result",
     "data": {
      "text/plain": [
       "(0, 0, 0, 0)"
      ]
     },
     "metadata": {},
     "execution_count": 28
    }
   ],
   "source": [
    "label, pred_lr[0], pred_sv[0], pred_rf[0]"
   ]
  },
  {
   "cell_type": "code",
   "execution_count": 29,
   "metadata": {},
   "outputs": [
    {
     "output_type": "execute_result",
     "data": {
      "text/plain": [
       "   Pregnancies  Glucose  BloodPressure  SkinThickness    Insulin   BMI  \\\n",
       "0            7    133.0           84.0      20.536458  79.799479  40.2   \n",
       "1            2     90.0           70.0      17.000000  79.799479  27.3   \n",
       "2            8    194.0           80.0      20.536458  79.799479  26.1   \n",
       "\n",
       "   DiabetesPedigreeFunction  Age  Outcome  \n",
       "0                     0.696   37        0  \n",
       "1                     0.085   22        0  \n",
       "2                     0.551   67        0  "
      ],
      "text/html": "<div>\n<style scoped>\n    .dataframe tbody tr th:only-of-type {\n        vertical-align: middle;\n    }\n\n    .dataframe tbody tr th {\n        vertical-align: top;\n    }\n\n    .dataframe thead th {\n        text-align: right;\n    }\n</style>\n<table border=\"1\" class=\"dataframe\">\n  <thead>\n    <tr style=\"text-align: right;\">\n      <th></th>\n      <th>Pregnancies</th>\n      <th>Glucose</th>\n      <th>BloodPressure</th>\n      <th>SkinThickness</th>\n      <th>Insulin</th>\n      <th>BMI</th>\n      <th>DiabetesPedigreeFunction</th>\n      <th>Age</th>\n      <th>Outcome</th>\n    </tr>\n  </thead>\n  <tbody>\n    <tr>\n      <th>0</th>\n      <td>7</td>\n      <td>133.0</td>\n      <td>84.0</td>\n      <td>20.536458</td>\n      <td>79.799479</td>\n      <td>40.2</td>\n      <td>0.696</td>\n      <td>37</td>\n      <td>0</td>\n    </tr>\n    <tr>\n      <th>1</th>\n      <td>2</td>\n      <td>90.0</td>\n      <td>70.0</td>\n      <td>17.000000</td>\n      <td>79.799479</td>\n      <td>27.3</td>\n      <td>0.085</td>\n      <td>22</td>\n      <td>0</td>\n    </tr>\n    <tr>\n      <th>2</th>\n      <td>8</td>\n      <td>194.0</td>\n      <td>80.0</td>\n      <td>20.536458</td>\n      <td>79.799479</td>\n      <td>26.1</td>\n      <td>0.551</td>\n      <td>67</td>\n      <td>0</td>\n    </tr>\n  </tbody>\n</table>\n</div>"
     },
     "metadata": {},
     "execution_count": 29
    }
   ],
   "source": [
    "df_test.head(3)"
   ]
  },
  {
   "cell_type": "code",
   "execution_count": 30,
   "metadata": {},
   "outputs": [
    {
     "output_type": "execute_result",
     "data": {
      "text/plain": [
       "{'Pregnancies': 3.0,\n",
       " 'Glucose': 99.0,\n",
       " 'BloodPressure': 80.0,\n",
       " 'SkinThickness': 11.0,\n",
       " 'Insulin': 64.0,\n",
       " 'BMI': 19.3,\n",
       " 'DiabetesPedigreeFunction': 0.284,\n",
       " 'Age': 30.0}"
      ]
     },
     "metadata": {},
     "execution_count": 30
    }
   ],
   "source": [
    "a = dict(zip(df_test.columns[:-1], df_test.iloc[index, :-1]))\n",
    "a"
   ]
  },
  {
   "cell_type": "code",
   "execution_count": null,
   "metadata": {},
   "outputs": [],
   "source": []
  }
 ]
}