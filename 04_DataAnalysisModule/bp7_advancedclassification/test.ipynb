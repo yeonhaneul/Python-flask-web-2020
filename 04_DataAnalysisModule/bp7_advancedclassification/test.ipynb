{
 "metadata": {
  "language_info": {
   "codemirror_mode": {
    "name": "ipython",
    "version": 3
   },
   "file_extension": ".py",
   "mimetype": "text/x-python",
   "name": "python",
   "nbconvert_exporter": "python",
   "pygments_lexer": "ipython3",
   "version": "3.8.3-final"
  },
  "orig_nbformat": 2,
  "kernelspec": {
   "name": "python3",
   "display_name": "Python 3",
   "language": "python"
  }
 },
 "nbformat": 4,
 "nbformat_minor": 2,
 "cells": [
  {
   "cell_type": "code",
   "execution_count": 8,
   "metadata": {},
   "outputs": [],
   "source": [
    "import pandas as pd \n",
    "import joblib\n",
    "import matplotlib.pyplot as plt \n",
    "%matplotlib inline\n",
    "from sklearn.preprocessing import StandardScaler, MinMaxScaler\n",
    "from sklearn.linear_model import LogisticRegression\n",
    "from sklearn.svm import SVC\n",
    "from sklearn.ensemble import RandomForestClassifier\n",
    "from sklearn.tree import DecisionTreeClassifier\n",
    "from sklearn.model_selection import GridSearchCV\n",
    "from sklearn.metrics import accuracy_score"
   ]
  },
  {
   "cell_type": "code",
   "execution_count": 4,
   "metadata": {},
   "outputs": [
    {
     "output_type": "execute_result",
     "data": {
      "text/plain": [
       "   pixel_0_0  pixel_0_1  pixel_0_2  pixel_0_3  pixel_0_4  pixel_0_5  \\\n",
       "0        0.0        0.0        6.0       16.0        8.0        0.0   \n",
       "1        0.0        0.0        4.0       16.0       16.0        8.0   \n",
       "2        0.0        0.0        0.0        4.0       15.0       12.0   \n",
       "3        0.0        3.0       12.0       12.0       14.0       15.0   \n",
       "4        0.0        0.0        6.0       11.0       16.0       16.0   \n",
       "\n",
       "   pixel_0_6  pixel_0_7  pixel_1_0  pixel_1_1  ...  pixel_6_7  pixel_7_0  \\\n",
       "0        0.0        0.0        0.0        0.0  ...        3.0        0.0   \n",
       "1        0.0        0.0        0.0        0.0  ...        0.0        0.0   \n",
       "2        0.0        0.0        0.0        0.0  ...        0.0        0.0   \n",
       "3        3.0        0.0        0.0        4.0  ...        0.0        0.0   \n",
       "4        3.0        0.0        0.0        5.0  ...        0.0        0.0   \n",
       "\n",
       "   pixel_7_1  pixel_7_2  pixel_7_3  pixel_7_4  pixel_7_5  pixel_7_6  \\\n",
       "0        0.0        4.0       16.0       16.0       15.0       16.0   \n",
       "1        0.0        6.0       12.0       12.0        2.0        0.0   \n",
       "2        0.0        0.0        3.0       11.0       16.0        9.0   \n",
       "3        2.0       15.0       16.0       14.0        3.0        0.0   \n",
       "4        0.0        5.0       16.0       13.0        0.0        0.0   \n",
       "\n",
       "   pixel_7_7  target  \n",
       "0       16.0       2  \n",
       "1        0.0       1  \n",
       "2        0.0       2  \n",
       "3        0.0       5  \n",
       "4        0.0       5  \n",
       "\n",
       "[5 rows x 65 columns]"
      ],
      "text/html": "<div>\n<style scoped>\n    .dataframe tbody tr th:only-of-type {\n        vertical-align: middle;\n    }\n\n    .dataframe tbody tr th {\n        vertical-align: top;\n    }\n\n    .dataframe thead th {\n        text-align: right;\n    }\n</style>\n<table border=\"1\" class=\"dataframe\">\n  <thead>\n    <tr style=\"text-align: right;\">\n      <th></th>\n      <th>pixel_0_0</th>\n      <th>pixel_0_1</th>\n      <th>pixel_0_2</th>\n      <th>pixel_0_3</th>\n      <th>pixel_0_4</th>\n      <th>pixel_0_5</th>\n      <th>pixel_0_6</th>\n      <th>pixel_0_7</th>\n      <th>pixel_1_0</th>\n      <th>pixel_1_1</th>\n      <th>...</th>\n      <th>pixel_6_7</th>\n      <th>pixel_7_0</th>\n      <th>pixel_7_1</th>\n      <th>pixel_7_2</th>\n      <th>pixel_7_3</th>\n      <th>pixel_7_4</th>\n      <th>pixel_7_5</th>\n      <th>pixel_7_6</th>\n      <th>pixel_7_7</th>\n      <th>target</th>\n    </tr>\n  </thead>\n  <tbody>\n    <tr>\n      <th>0</th>\n      <td>0.0</td>\n      <td>0.0</td>\n      <td>6.0</td>\n      <td>16.0</td>\n      <td>8.0</td>\n      <td>0.0</td>\n      <td>0.0</td>\n      <td>0.0</td>\n      <td>0.0</td>\n      <td>0.0</td>\n      <td>...</td>\n      <td>3.0</td>\n      <td>0.0</td>\n      <td>0.0</td>\n      <td>4.0</td>\n      <td>16.0</td>\n      <td>16.0</td>\n      <td>15.0</td>\n      <td>16.0</td>\n      <td>16.0</td>\n      <td>2</td>\n    </tr>\n    <tr>\n      <th>1</th>\n      <td>0.0</td>\n      <td>0.0</td>\n      <td>4.0</td>\n      <td>16.0</td>\n      <td>16.0</td>\n      <td>8.0</td>\n      <td>0.0</td>\n      <td>0.0</td>\n      <td>0.0</td>\n      <td>0.0</td>\n      <td>...</td>\n      <td>0.0</td>\n      <td>0.0</td>\n      <td>0.0</td>\n      <td>6.0</td>\n      <td>12.0</td>\n      <td>12.0</td>\n      <td>2.0</td>\n      <td>0.0</td>\n      <td>0.0</td>\n      <td>1</td>\n    </tr>\n    <tr>\n      <th>2</th>\n      <td>0.0</td>\n      <td>0.0</td>\n      <td>0.0</td>\n      <td>4.0</td>\n      <td>15.0</td>\n      <td>12.0</td>\n      <td>0.0</td>\n      <td>0.0</td>\n      <td>0.0</td>\n      <td>0.0</td>\n      <td>...</td>\n      <td>0.0</td>\n      <td>0.0</td>\n      <td>0.0</td>\n      <td>0.0</td>\n      <td>3.0</td>\n      <td>11.0</td>\n      <td>16.0</td>\n      <td>9.0</td>\n      <td>0.0</td>\n      <td>2</td>\n    </tr>\n    <tr>\n      <th>3</th>\n      <td>0.0</td>\n      <td>3.0</td>\n      <td>12.0</td>\n      <td>12.0</td>\n      <td>14.0</td>\n      <td>15.0</td>\n      <td>3.0</td>\n      <td>0.0</td>\n      <td>0.0</td>\n      <td>4.0</td>\n      <td>...</td>\n      <td>0.0</td>\n      <td>0.0</td>\n      <td>2.0</td>\n      <td>15.0</td>\n      <td>16.0</td>\n      <td>14.0</td>\n      <td>3.0</td>\n      <td>0.0</td>\n      <td>0.0</td>\n      <td>5</td>\n    </tr>\n    <tr>\n      <th>4</th>\n      <td>0.0</td>\n      <td>0.0</td>\n      <td>6.0</td>\n      <td>11.0</td>\n      <td>16.0</td>\n      <td>16.0</td>\n      <td>3.0</td>\n      <td>0.0</td>\n      <td>0.0</td>\n      <td>5.0</td>\n      <td>...</td>\n      <td>0.0</td>\n      <td>0.0</td>\n      <td>0.0</td>\n      <td>5.0</td>\n      <td>16.0</td>\n      <td>13.0</td>\n      <td>0.0</td>\n      <td>0.0</td>\n      <td>0.0</td>\n      <td>5</td>\n    </tr>\n  </tbody>\n</table>\n<p>5 rows × 65 columns</p>\n</div>"
     },
     "metadata": {},
     "execution_count": 4
    }
   ],
   "source": [
    "df_train = pd.read_csv('../static/data/digits_train.csv')\n",
    "df_train.head()"
   ]
  },
  {
   "cell_type": "code",
   "execution_count": 5,
   "metadata": {},
   "outputs": [
    {
     "output_type": "execute_result",
     "data": {
      "text/plain": [
       "       pixel_0_0    pixel_0_1    pixel_0_2    pixel_0_3    pixel_0_4  \\\n",
       "count     1347.0  1347.000000  1347.000000  1347.000000  1347.000000   \n",
       "mean         0.0     0.317001     5.325909    11.883445    11.809948   \n",
       "std          0.0     0.931391     4.775178     4.208947     4.328741   \n",
       "min          0.0     0.000000     0.000000     0.000000     0.000000   \n",
       "25%          0.0     0.000000     1.000000    10.000000    10.000000   \n",
       "50%          0.0     0.000000     4.000000    13.000000    13.000000   \n",
       "75%          0.0     0.000000     9.000000    15.000000    15.000000   \n",
       "max          0.0     8.000000    16.000000    16.000000    16.000000   \n",
       "\n",
       "         pixel_0_5    pixel_0_6    pixel_0_7    pixel_1_0    pixel_1_1  ...  \\\n",
       "count  1347.000000  1347.000000  1347.000000  1347.000000  1347.000000  ...   \n",
       "mean      5.787676     1.351151     0.126949     0.005939     2.118782  ...   \n",
       "std       5.692418     3.314934     1.050469     0.094234     3.316512  ...   \n",
       "min       0.000000     0.000000     0.000000     0.000000     0.000000  ...   \n",
       "25%       0.000000     0.000000     0.000000     0.000000     0.000000  ...   \n",
       "50%       4.000000     0.000000     0.000000     0.000000     0.000000  ...   \n",
       "75%      11.000000     0.000000     0.000000     0.000000     4.000000  ...   \n",
       "max      16.000000    16.000000    15.000000     2.000000    16.000000  ...   \n",
       "\n",
       "         pixel_6_7    pixel_7_0    pixel_7_1    pixel_7_2    pixel_7_3  \\\n",
       "count  1347.000000  1347.000000  1347.000000  1347.000000  1347.000000   \n",
       "mean      0.196733     0.000742     0.290275     5.657758    12.213066   \n",
       "std       0.923068     0.027247     0.981819     5.113949     4.361272   \n",
       "min       0.000000     0.000000     0.000000     0.000000     0.000000   \n",
       "25%       0.000000     0.000000     0.000000     1.000000    11.000000   \n",
       "50%       0.000000     0.000000     0.000000     5.000000    14.000000   \n",
       "75%       0.000000     0.000000     0.000000    10.000000    16.000000   \n",
       "max      10.000000     1.000000     9.000000    16.000000    16.000000   \n",
       "\n",
       "         pixel_7_4    pixel_7_5    pixel_7_6    pixel_7_7       target  \n",
       "count  1347.000000  1347.000000  1347.000000  1347.000000  1347.000000  \n",
       "mean     11.832220     6.786192     2.099480     0.353378     4.494432  \n",
       "std       4.902927     5.908441     4.136299     1.813724     2.865057  \n",
       "min       0.000000     0.000000     0.000000     0.000000     0.000000  \n",
       "25%      10.000000     0.000000     0.000000     0.000000     2.000000  \n",
       "50%      14.000000     6.000000     0.000000     0.000000     4.000000  \n",
       "75%      16.000000    12.000000     2.000000     0.000000     7.000000  \n",
       "max      16.000000    16.000000    16.000000    16.000000     9.000000  \n",
       "\n",
       "[8 rows x 65 columns]"
      ],
      "text/html": "<div>\n<style scoped>\n    .dataframe tbody tr th:only-of-type {\n        vertical-align: middle;\n    }\n\n    .dataframe tbody tr th {\n        vertical-align: top;\n    }\n\n    .dataframe thead th {\n        text-align: right;\n    }\n</style>\n<table border=\"1\" class=\"dataframe\">\n  <thead>\n    <tr style=\"text-align: right;\">\n      <th></th>\n      <th>pixel_0_0</th>\n      <th>pixel_0_1</th>\n      <th>pixel_0_2</th>\n      <th>pixel_0_3</th>\n      <th>pixel_0_4</th>\n      <th>pixel_0_5</th>\n      <th>pixel_0_6</th>\n      <th>pixel_0_7</th>\n      <th>pixel_1_0</th>\n      <th>pixel_1_1</th>\n      <th>...</th>\n      <th>pixel_6_7</th>\n      <th>pixel_7_0</th>\n      <th>pixel_7_1</th>\n      <th>pixel_7_2</th>\n      <th>pixel_7_3</th>\n      <th>pixel_7_4</th>\n      <th>pixel_7_5</th>\n      <th>pixel_7_6</th>\n      <th>pixel_7_7</th>\n      <th>target</th>\n    </tr>\n  </thead>\n  <tbody>\n    <tr>\n      <th>count</th>\n      <td>1347.0</td>\n      <td>1347.000000</td>\n      <td>1347.000000</td>\n      <td>1347.000000</td>\n      <td>1347.000000</td>\n      <td>1347.000000</td>\n      <td>1347.000000</td>\n      <td>1347.000000</td>\n      <td>1347.000000</td>\n      <td>1347.000000</td>\n      <td>...</td>\n      <td>1347.000000</td>\n      <td>1347.000000</td>\n      <td>1347.000000</td>\n      <td>1347.000000</td>\n      <td>1347.000000</td>\n      <td>1347.000000</td>\n      <td>1347.000000</td>\n      <td>1347.000000</td>\n      <td>1347.000000</td>\n      <td>1347.000000</td>\n    </tr>\n    <tr>\n      <th>mean</th>\n      <td>0.0</td>\n      <td>0.317001</td>\n      <td>5.325909</td>\n      <td>11.883445</td>\n      <td>11.809948</td>\n      <td>5.787676</td>\n      <td>1.351151</td>\n      <td>0.126949</td>\n      <td>0.005939</td>\n      <td>2.118782</td>\n      <td>...</td>\n      <td>0.196733</td>\n      <td>0.000742</td>\n      <td>0.290275</td>\n      <td>5.657758</td>\n      <td>12.213066</td>\n      <td>11.832220</td>\n      <td>6.786192</td>\n      <td>2.099480</td>\n      <td>0.353378</td>\n      <td>4.494432</td>\n    </tr>\n    <tr>\n      <th>std</th>\n      <td>0.0</td>\n      <td>0.931391</td>\n      <td>4.775178</td>\n      <td>4.208947</td>\n      <td>4.328741</td>\n      <td>5.692418</td>\n      <td>3.314934</td>\n      <td>1.050469</td>\n      <td>0.094234</td>\n      <td>3.316512</td>\n      <td>...</td>\n      <td>0.923068</td>\n      <td>0.027247</td>\n      <td>0.981819</td>\n      <td>5.113949</td>\n      <td>4.361272</td>\n      <td>4.902927</td>\n      <td>5.908441</td>\n      <td>4.136299</td>\n      <td>1.813724</td>\n      <td>2.865057</td>\n    </tr>\n    <tr>\n      <th>min</th>\n      <td>0.0</td>\n      <td>0.000000</td>\n      <td>0.000000</td>\n      <td>0.000000</td>\n      <td>0.000000</td>\n      <td>0.000000</td>\n      <td>0.000000</td>\n      <td>0.000000</td>\n      <td>0.000000</td>\n      <td>0.000000</td>\n      <td>...</td>\n      <td>0.000000</td>\n      <td>0.000000</td>\n      <td>0.000000</td>\n      <td>0.000000</td>\n      <td>0.000000</td>\n      <td>0.000000</td>\n      <td>0.000000</td>\n      <td>0.000000</td>\n      <td>0.000000</td>\n      <td>0.000000</td>\n    </tr>\n    <tr>\n      <th>25%</th>\n      <td>0.0</td>\n      <td>0.000000</td>\n      <td>1.000000</td>\n      <td>10.000000</td>\n      <td>10.000000</td>\n      <td>0.000000</td>\n      <td>0.000000</td>\n      <td>0.000000</td>\n      <td>0.000000</td>\n      <td>0.000000</td>\n      <td>...</td>\n      <td>0.000000</td>\n      <td>0.000000</td>\n      <td>0.000000</td>\n      <td>1.000000</td>\n      <td>11.000000</td>\n      <td>10.000000</td>\n      <td>0.000000</td>\n      <td>0.000000</td>\n      <td>0.000000</td>\n      <td>2.000000</td>\n    </tr>\n    <tr>\n      <th>50%</th>\n      <td>0.0</td>\n      <td>0.000000</td>\n      <td>4.000000</td>\n      <td>13.000000</td>\n      <td>13.000000</td>\n      <td>4.000000</td>\n      <td>0.000000</td>\n      <td>0.000000</td>\n      <td>0.000000</td>\n      <td>0.000000</td>\n      <td>...</td>\n      <td>0.000000</td>\n      <td>0.000000</td>\n      <td>0.000000</td>\n      <td>5.000000</td>\n      <td>14.000000</td>\n      <td>14.000000</td>\n      <td>6.000000</td>\n      <td>0.000000</td>\n      <td>0.000000</td>\n      <td>4.000000</td>\n    </tr>\n    <tr>\n      <th>75%</th>\n      <td>0.0</td>\n      <td>0.000000</td>\n      <td>9.000000</td>\n      <td>15.000000</td>\n      <td>15.000000</td>\n      <td>11.000000</td>\n      <td>0.000000</td>\n      <td>0.000000</td>\n      <td>0.000000</td>\n      <td>4.000000</td>\n      <td>...</td>\n      <td>0.000000</td>\n      <td>0.000000</td>\n      <td>0.000000</td>\n      <td>10.000000</td>\n      <td>16.000000</td>\n      <td>16.000000</td>\n      <td>12.000000</td>\n      <td>2.000000</td>\n      <td>0.000000</td>\n      <td>7.000000</td>\n    </tr>\n    <tr>\n      <th>max</th>\n      <td>0.0</td>\n      <td>8.000000</td>\n      <td>16.000000</td>\n      <td>16.000000</td>\n      <td>16.000000</td>\n      <td>16.000000</td>\n      <td>16.000000</td>\n      <td>15.000000</td>\n      <td>2.000000</td>\n      <td>16.000000</td>\n      <td>...</td>\n      <td>10.000000</td>\n      <td>1.000000</td>\n      <td>9.000000</td>\n      <td>16.000000</td>\n      <td>16.000000</td>\n      <td>16.000000</td>\n      <td>16.000000</td>\n      <td>16.000000</td>\n      <td>16.000000</td>\n      <td>9.000000</td>\n    </tr>\n  </tbody>\n</table>\n<p>8 rows × 65 columns</p>\n</div>"
     },
     "metadata": {},
     "execution_count": 5
    }
   ],
   "source": [
    "df_train.describe()"
   ]
  },
  {
   "cell_type": "code",
   "execution_count": 6,
   "metadata": {},
   "outputs": [],
   "source": [
    "from sklearn.datasets import load_digits\n",
    "digits = load_digits()"
   ]
  },
  {
   "cell_type": "code",
   "execution_count": 9,
   "metadata": {},
   "outputs": [
    {
     "output_type": "display_data",
     "data": {
      "text/plain": "<Figure size 144x144 with 1 Axes>",
      "image/svg+xml": "<?xml version=\"1.0\" encoding=\"utf-8\" standalone=\"no\"?>\r\n<!DOCTYPE svg PUBLIC \"-//W3C//DTD SVG 1.1//EN\"\r\n  \"http://www.w3.org/Graphics/SVG/1.1/DTD/svg11.dtd\">\r\n<!-- Created with matplotlib (https://matplotlib.org/) -->\r\n<svg height=\"126.62pt\" version=\"1.1\" viewBox=\"0 0 126.62 126.62\" width=\"126.62pt\" xmlns=\"http://www.w3.org/2000/svg\" xmlns:xlink=\"http://www.w3.org/1999/xlink\">\r\n <defs>\r\n  <style type=\"text/css\">\r\n*{stroke-linecap:butt;stroke-linejoin:round;}\r\n  </style>\r\n </defs>\r\n <g id=\"figure_1\">\r\n  <g id=\"patch_1\">\r\n   <path d=\"M 0 126.62 \r\nL 126.62 126.62 \r\nL 126.62 0 \r\nL 0 0 \r\nz\r\n\" style=\"fill:none;\"/>\r\n  </g>\r\n  <g id=\"axes_1\">\r\n   <g id=\"patch_2\">\r\n    <path d=\"M 10.7 115.92 \r\nL 119.42 115.92 \r\nL 119.42 7.2 \r\nL 10.7 7.2 \r\nz\r\n\" style=\"fill:#ffffff;\"/>\r\n   </g>\r\n   <g clip-path=\"url(#pe4df7d47c9)\">\r\n    <image height=\"109\" id=\"imageac27581d51\" transform=\"scale(1 -1)translate(0 -109)\" width=\"109\" x=\"10.7\" xlink:href=\"data:image/png;base64,\r\niVBORw0KGgoAAAANSUhEUgAAAG0AAABtCAYAAACr+O9WAAAABHNCSVQICAgIfAhkiAAAAfRJREFUeJzt3VGNwkAYReFhswYqAZBQJNQCFrCABWoBCa0EsEAdFAmthK6GuQ/dnOR873+GcDIv02Z62LZtKzt5Pp/R3OPxqJ65XC7RWsMwRHN7+vnvH6B6RgMyGpDRgIwGZDQgowEZDchoQEYDMhqQ0YCMBnRIT/m/32/1TNu2yVLR04FxHKO15nmO5j6fTzSXcKcBGQ3IaEBGAzIakNGAjAZkNCCjARkNyGhARgP6TQeTA+P0Ve3r9Vo903VdtFY61/d99cz9fo/WcqcBGQ3IaEBGAzIakNGAjAZkNCCjARkNyGhARgMyGlB8yr+ua/VM+lp4ommaaC59EpH8Hyl3GpDRgIwGZDQgowEZDchoQEYDMhqQ0YCMBmQ0IKMBxaf8ySn66/WK1kqueE+lTwf25E4DMhqQ0YCMBmQ0IKMBGQ3IaEBGAzIakNGAjAa064HxNE3RWslFM6fTKVorvfV7z1fe3WlARgMyGpDRgIwGZDQgowEZDchoQEYDMhqQ0YCMBhSf8ien2sfjMVrrfD5XzyTXwpdSyvv9juZut1s0l3CnARkNyGhARgMyGpDRgIwGZDQgowEZDchoQEYDig+ME8l3M0vJvp2Z3geyLEs0t+f9I+40IKMBGQ3IaEBGAzIakNGAjAZkNCCjARkNyGhARgP6A7z/Q3LTOA6ZAAAAAElFTkSuQmCC\" y=\"-6.92\"/>\r\n   </g>\r\n   <g id=\"matplotlib.axis_1\"/>\r\n   <g id=\"matplotlib.axis_2\"/>\r\n   <g id=\"patch_3\">\r\n    <path d=\"M 10.7 115.92 \r\nL 10.7 7.2 \r\n\" style=\"fill:none;stroke:#000000;stroke-linecap:square;stroke-linejoin:miter;stroke-width:0.8;\"/>\r\n   </g>\r\n   <g id=\"patch_4\">\r\n    <path d=\"M 119.42 115.92 \r\nL 119.42 7.2 \r\n\" style=\"fill:none;stroke:#000000;stroke-linecap:square;stroke-linejoin:miter;stroke-width:0.8;\"/>\r\n   </g>\r\n   <g id=\"patch_5\">\r\n    <path d=\"M 10.7 115.92 \r\nL 119.42 115.92 \r\n\" style=\"fill:none;stroke:#000000;stroke-linecap:square;stroke-linejoin:miter;stroke-width:0.8;\"/>\r\n   </g>\r\n   <g id=\"patch_6\">\r\n    <path d=\"M 10.7 7.2 \r\nL 119.42 7.2 \r\n\" style=\"fill:none;stroke:#000000;stroke-linecap:square;stroke-linejoin:miter;stroke-width:0.8;\"/>\r\n   </g>\r\n  </g>\r\n </g>\r\n <defs>\r\n  <clipPath id=\"pe4df7d47c9\">\r\n   <rect height=\"108.72\" width=\"108.72\" x=\"10.7\" y=\"7.2\"/>\r\n  </clipPath>\r\n </defs>\r\n</svg>\r\n",
      "image/png": "[encoded data removed]"
     },
     "metadata": {}
    }
   ],
   "source": [
    "plt.figure(figsize=(2,2))\n",
    "plt.imshow(digits.images[0], cmap=plt.cm.binary, interpolation='nearest')\n",
    "plt.xticks([]); plt.yticks([])\n",
    "plt.show()"
   ]
  },
  {
   "cell_type": "code",
   "execution_count": 11,
   "metadata": {},
   "outputs": [
    {
     "output_type": "display_data",
     "data": {
      "text/plain": "<Figure size 864x144 with 8 Axes>",
      "image/svg+xml": "<?xml version=\"1.0\" encoding=\"utf-8\" standalone=\"no\"?>\r\n<!DOCTYPE svg PUBLIC \"-//W3C//DTD SVG 1.1//EN\"\r\n  \"http://www.w3.org/Graphics/SVG/1.1/DTD/svg11.dtd\">\r\n<!-- Created with matplotlib (https://matplotlib.org/) -->\r\n<svg height=\"121.373054pt\" version=\"1.1\" viewBox=\"0 0 881.9 121.373054\" width=\"881.9pt\" xmlns=\"http://www.w3.org/2000/svg\" xmlns:xlink=\"http://www.w3.org/1999/xlink\">\r\n <defs>\r\n  <style type=\"text/css\">\r\n*{stroke-linecap:butt;stroke-linejoin:round;}\r\n  </style>\r\n </defs>\r\n <g id=\"figure_1\">\r\n  <g id=\"patch_1\">\r\n   <path d=\"M 0 121.373054 \r\nL 881.9 121.373054 \r\nL 881.9 0 \r\nL 0 0 \r\nz\r\n\" style=\"fill:none;\"/>\r\n  </g>\r\n  <g id=\"axes_1\">\r\n   <g id=\"patch_2\">\r\n    <path d=\"M 10.7 110.673054 \r\nL 114.173054 110.673054 \r\nL 114.173054 7.2 \r\nL 10.7 7.2 \r\nz\r\n\" style=\"fill:#ffffff;\"/>\r\n   </g>\r\n   <g clip-path=\"url(#p5ba74370bd)\">\r\n    <image height=\"104\" id=\"image45b898cf54\" transform=\"scale(1 -1)translate(0 -104)\" width=\"104\" x=\"10.7\" xlink:href=\"data:image/png;base64,\r\niVBORw0KGgoAAAANSUhEUgAAAGgAAABoCAYAAAAdHLWhAAAABHNCSVQICAgIfAhkiAAAAd1JREFUeJzt3UFxwlAYReHSqQEkABJAAhawgAUsEAtISCSAhcRBIgEkpA4689/F61mcb38H2jNv8yZNN+u6rl8NPB6P8uZ+v5c3p9OpvOn7vrxp5fu/v4D+ZiA4A8EZCM5AcAaCMxCcgeAMBGcgOAPBGQhuk1yWLstS/qDj8VjeJBeswzCUN/M8lzfjOJY3CU8QnIHgDARnIDgDwRkIzkBwBoIzEJyB4AwEZyC4n2SUXJYmT3xeLpfy5nw+N9l0XVfe3G638sYTBGcgOAPBGQjOQHAGgjMQnIHgDARnIDgDwRkILros/Xw+5U3yZGliu92WN8lFbvI7SHiC4AwEZyA4A8EZCM5AcAaCMxCcgeAMBGcgOAPBRZelyYXk8/ksb5J3liaSn6cVTxCcgeAMBGcgOAPBGQjOQHAGgjMQnIHgDARnILhml6XTNJU3yZ/77/f78iZ5/2irJ2U9QXAGgjMQnIHgDARnIDgDwRkIzkBwBoIzEJyB4KLL0uSicLfblTeHw6G8Sd5z+nq9ypvr9VreJDxBcAaCMxCcgeAMBGcgOAPBGQjOQHAGgjMQnIHgosvSRKt/iJQ89fp+v5t8TsITBGcgOAPBGQjOQHAGgjMQnIHgDARnIDgDwRkI7hcl50NodcMo0wAAAABJRU5ErkJggg==\" y=\"-6.673054\"/>\r\n   </g>\r\n   <g id=\"matplotlib.axis_1\"/>\r\n   <g id=\"matplotlib.axis_2\"/>\r\n   <g id=\"patch_3\">\r\n    <path d=\"M 10.7 110.673054 \r\nL 10.7 7.2 \r\n\" style=\"fill:none;stroke:#000000;stroke-linecap:square;stroke-linejoin:miter;stroke-width:0.8;\"/>\r\n   </g>\r\n   <g id=\"patch_4\">\r\n    <path d=\"M 114.173054 110.673054 \r\nL 114.173054 7.2 \r\n\" style=\"fill:none;stroke:#000000;stroke-linecap:square;stroke-linejoin:miter;stroke-width:0.8;\"/>\r\n   </g>\r\n   <g id=\"patch_5\">\r\n    <path d=\"M 10.7 110.673054 \r\nL 114.173054 110.673054 \r\n\" style=\"fill:none;stroke:#000000;stroke-linecap:square;stroke-linejoin:miter;stroke-width:0.8;\"/>\r\n   </g>\r\n   <g id=\"patch_6\">\r\n    <path d=\"M 10.7 7.2 \r\nL 114.173054 7.2 \r\n\" style=\"fill:none;stroke:#000000;stroke-linecap:square;stroke-linejoin:miter;stroke-width:0.8;\"/>\r\n   </g>\r\n  </g>\r\n  <g id=\"axes_2\">\r\n   <g id=\"patch_7\">\r\n    <path d=\"M 119.346707 110.673054 \r\nL 222.81976 110.673054 \r\nL 222.81976 7.2 \r\nL 119.346707 7.2 \r\nz\r\n\" style=\"fill:#ffffff;\"/>\r\n   </g>\r\n   <g clip-path=\"url(#p85ddb7e28b)\">\r\n    <image height=\"104\" id=\"imagefb53df98ca\" transform=\"scale(1 -1)translate(0 -104)\" width=\"104\" x=\"119.346707\" xlink:href=\"data:image/png;base64,\r\niVBORw0KGgoAAAANSUhEUgAAAGgAAABoCAYAAAAdHLWhAAAABHNCSVQICAgIfAhkiAAAAclJREFUeJzt3UGthEAQAFH2Zw0ggSABC2AFLCCBlQAS0IAVsIAEvoA9dSc7qUO9eweSylw6Q3g9z/NUBXw+n/DMuq4/eJNvwzCEZ0q921+RpyjNQHAGgjMQnIHgDARnIDgDwRkIzkBwBoIzENy71IPu+w7PbNtW5DnjOIZnMjILVk8QnIHgDARnIDgDwRkIzkBwBoIzEJyB4AwEZyC4YsvSZVmKPCezLM3cLK3rOjyT4QmCMxCcgeAMBGcgOAPBGQjOQHAGgjMQnIHgDAT3KvUZfkZm8dn3/Q/e5NtxHOGZzILVEwRnIDgDwRkIzkBwBoIzEJyB4AwEZyA4A8EZCK7YzdLrusIzbduGZzLL0n3fwzPeLFVVVQbCMxCcgeAMBGcgOAPBGQjOQHAGgjMQnIHgUsvSzOIzs1xsmiY8c55neKbU4jPDEwRnIDgDwRkIzkBwBoIzEJyB4AwEZyA4A8EZCC61LM38eClze3Oe5/DMNE3hmcwn9aU+9/cEwRkIzkBwBoIzEJyB4AwEZyA4A8EZCM5AcAaCSy1LMz9rytzezCw+M7dRu64Lz5TiCYIzEJyB4AwEZyA4A8EZCM5AcAaCMxCcgeAMBPcPYSI9/u0xgfMAAAAASUVORK5CYII=\" y=\"-6.673054\"/>\r\n   </g>\r\n   <g id=\"matplotlib.axis_3\"/>\r\n   <g id=\"matplotlib.axis_4\"/>\r\n   <g id=\"patch_8\">\r\n    <path d=\"M 119.346707 110.673054 \r\nL 119.346707 7.2 \r\n\" style=\"fill:none;stroke:#000000;stroke-linecap:square;stroke-linejoin:miter;stroke-width:0.8;\"/>\r\n   </g>\r\n   <g id=\"patch_9\">\r\n    <path d=\"M 222.81976 110.673054 \r\nL 222.81976 7.2 \r\n\" style=\"fill:none;stroke:#000000;stroke-linecap:square;stroke-linejoin:miter;stroke-width:0.8;\"/>\r\n   </g>\r\n   <g id=\"patch_10\">\r\n    <path d=\"M 119.346707 110.673054 \r\nL 222.81976 110.673054 \r\n\" style=\"fill:none;stroke:#000000;stroke-linecap:square;stroke-linejoin:miter;stroke-width:0.8;\"/>\r\n   </g>\r\n   <g id=\"patch_11\">\r\n    <path d=\"M 119.346707 7.2 \r\nL 222.81976 7.2 \r\n\" style=\"fill:none;stroke:#000000;stroke-linecap:square;stroke-linejoin:miter;stroke-width:0.8;\"/>\r\n   </g>\r\n  </g>\r\n  <g id=\"axes_3\">\r\n   <g id=\"patch_12\">\r\n    <path d=\"M 227.993413 110.673054 \r\nL 331.466467 110.673054 \r\nL 331.466467 7.2 \r\nL 227.993413 7.2 \r\nz\r\n\" style=\"fill:#ffffff;\"/>\r\n   </g>\r\n   <g clip-path=\"url(#p092bbcd603)\">\r\n    <image height=\"104\" id=\"image8266de9043\" transform=\"scale(1 -1)translate(0 -104)\" width=\"104\" x=\"227.993413\" xlink:href=\"data:image/png;base64,\r\niVBORw0KGgoAAAANSUhEUgAAAGgAAABoCAYAAAAdHLWhAAAABHNCSVQICAgIfAhkiAAAAbdJREFUeJzt3UGNhEAUBuGdzQhAAhKQ0A5AEkjAARKQgARwgIRGAavhvUOnsqnv/mcmqfSlM535vO/7/jRQaw1v5nkOb7ZtC29KKeFN5rsNwxDe/IYXaspAcAaCMxCcgeAMBGcgOAPBGQjOQHAGgjMQ3LfVB2UuMdd1DW/GcQxvjuMIb/Z9D2+8LP2HDARnIDgDwRkIzkBwBoIzEJyB4AwEZyA4A8GhL0sz7vsOb57nCW+maQpvMjxBcAaCMxCcgeAMBGcgOAPBGQjOQHAGgjMQnIHgPq2e4XddF95kfomZucTMbPq+D28yPEFwBoIzEJyB4AwEZyA4A8EZCM5AcAaCMxCcgeCaXZZmLhczF6zneYY3ZJ4gOAPBGQjOQHAGgjMQnIHgDARnIDgDwRkIzkBwzZ7hZy4+r+sKbzKXpZlfsLbiCYIzEJyB4AwEZyA4A8EZCM5AcAaCMxCcgeAMBNfssnRZlvAm8zy+1R8vteIJgjMQnIHgDARnIDgDwRkIzkBwBoIzEJyB4AwE1+wZfkYpJbyptYY35Kf7niA4A8EZCM5AcAaCMxCcgeAMBGcgOAPBGQjOQHB/gqZCHrK1nrEAAAAASUVORK5CYII=\" y=\"-6.673054\"/>\r\n   </g>\r\n   <g id=\"matplotlib.axis_5\"/>\r\n   <g id=\"matplotlib.axis_6\"/>\r\n   <g id=\"patch_13\">\r\n    <path d=\"M 227.993413 110.673054 \r\nL 227.993413 7.2 \r\n\" style=\"fill:none;stroke:#000000;stroke-linecap:square;stroke-linejoin:miter;stroke-width:0.8;\"/>\r\n   </g>\r\n   <g id=\"patch_14\">\r\n    <path d=\"M 331.466467 110.673054 \r\nL 331.466467 7.2 \r\n\" style=\"fill:none;stroke:#000000;stroke-linecap:square;stroke-linejoin:miter;stroke-width:0.8;\"/>\r\n   </g>\r\n   <g id=\"patch_15\">\r\n    <path d=\"M 227.993413 110.673054 \r\nL 331.466467 110.673054 \r\n\" style=\"fill:none;stroke:#000000;stroke-linecap:square;stroke-linejoin:miter;stroke-width:0.8;\"/>\r\n   </g>\r\n   <g id=\"patch_16\">\r\n    <path d=\"M 227.993413 7.2 \r\nL 331.466467 7.2 \r\n\" style=\"fill:none;stroke:#000000;stroke-linecap:square;stroke-linejoin:miter;stroke-width:0.8;\"/>\r\n   </g>\r\n  </g>\r\n  <g id=\"axes_4\">\r\n   <g id=\"patch_17\">\r\n    <path d=\"M 336.64012 110.673054 \r\nL 440.113174 110.673054 \r\nL 440.113174 7.2 \r\nL 336.64012 7.2 \r\nz\r\n\" style=\"fill:#ffffff;\"/>\r\n   </g>\r\n   <g clip-path=\"url(#pc23f0e049c)\">\r\n    <image height=\"104\" id=\"image1057273ecf\" transform=\"scale(1 -1)translate(0 -104)\" width=\"104\" x=\"336.64012\" xlink:href=\"data:image/png;base64,\r\niVBORw0KGgoAAAANSUhEUgAAAGgAAABoCAYAAAAdHLWhAAAABHNCSVQICAgIfAhkiAAAAblJREFUeJzt3UGtg1AQRmH6UiFUQZGABJyApEpAAhLAAQ7AAU/D/IubszjffkKak7uZXOjreZ6na2BZlvLMvu/lmfu+yzO/3688MwxDeSbx1+QpihkIzkBwBoIzEJyB4AwEZyA4A8EZCM5AcAaCe7ValraSLGWTZem6ruWZcRzLM54gOAPBGQjOQHAGgjMQnIHgDARnIDgDwRkIzkBw6GVpcrM0ufGZLFjP8yzPJAtWTxCcgeAMBGcgOAPBGQjOQHAGgjMQnIHgDARnILh3qwclS8zjOMoz8zyXZ5KbpckiN+EJgjMQnIHgDARnIDgDwRkIzkBwBoIzEJyB4AwEFy1Lk++CJovP67rKM9M0lWcSfd83eY4nCM5AcAaCMxCcgeAMBGcgOAPBGQjOQHAGgjMQXLQsTV5BTySLz2SJ2er3JDxBcAaCMxCcgeAMBGcgOAPBGQjOQHAGgjMQnIHgom+WJsvFz+dTnmnl+/2WZ3wNX13XGQjPQHAGgjMQnIHgDARnIDgDwRkIzkBwBoJr9gdPyS3R5HX/bdvKM2SeIDgDwRkIzkBwBoIzEJyB4AwEZyA4A8EZCM5AcP/xn1FORtME8wAAAABJRU5ErkJggg==\" y=\"-6.673054\"/>\r\n   </g>\r\n   <g id=\"matplotlib.axis_7\"/>\r\n   <g id=\"matplotlib.axis_8\"/>\r\n   <g id=\"patch_18\">\r\n    <path d=\"M 336.64012 110.673054 \r\nL 336.64012 7.2 \r\n\" style=\"fill:none;stroke:#000000;stroke-linecap:square;stroke-linejoin:miter;stroke-width:0.8;\"/>\r\n   </g>\r\n   <g id=\"patch_19\">\r\n    <path d=\"M 440.113174 110.673054 \r\nL 440.113174 7.2 \r\n\" style=\"fill:none;stroke:#000000;stroke-linecap:square;stroke-linejoin:miter;stroke-width:0.8;\"/>\r\n   </g>\r\n   <g id=\"patch_20\">\r\n    <path d=\"M 336.64012 110.673054 \r\nL 440.113174 110.673054 \r\n\" style=\"fill:none;stroke:#000000;stroke-linecap:square;stroke-linejoin:miter;stroke-width:0.8;\"/>\r\n   </g>\r\n   <g id=\"patch_21\">\r\n    <path d=\"M 336.64012 7.2 \r\nL 440.113174 7.2 \r\n\" style=\"fill:none;stroke:#000000;stroke-linecap:square;stroke-linejoin:miter;stroke-width:0.8;\"/>\r\n   </g>\r\n  </g>\r\n  <g id=\"axes_5\">\r\n   <g id=\"patch_22\">\r\n    <path d=\"M 445.286826 110.673054 \r\nL 548.75988 110.673054 \r\nL 548.75988 7.2 \r\nL 445.286826 7.2 \r\nz\r\n\" style=\"fill:#ffffff;\"/>\r\n   </g>\r\n   <g clip-path=\"url(#p5e871b29b6)\">\r\n    <image height=\"104\" id=\"imagea2aa95f100\" transform=\"scale(1 -1)translate(0 -104)\" width=\"104\" x=\"445.286826\" xlink:href=\"data:image/png;base64,\r\niVBORw0KGgoAAAANSUhEUgAAAGgAAABoCAYAAAAdHLWhAAAABHNCSVQICAgIfAhkiAAAAcFJREFUeJzt3UGRg0AUBuFlawXgACQgCQmREAdYQMLgAAlIiIPggNXw/sNUH/q7vwqprrlMDczwPM/z08F1XeWZ9/tdnlmWpTzTWivPjONYnkn+z295Ql0ZCM5AcAaCMxCcgeAMBGcgOAPBGQjOQHAGgvvr9UP7vpdnjuMoz5znWZ5Z17U8k2yWzvNcnnEFwRkIzkBwBoIzEJyB4AwEZyA4A8EZCM5AcAaCG3qdLE0kG6yv16s8c993eaYXVxCcgeAMBGcgOAPBGQjOQHAGgjMQnIHgDARnILhum6Wfz6c8k5zEHIahPPP9fsszycnShCsIzkBwBoIzEJyB4AwEZyA4A8EZCM5AcAaCMxBc9Bp+svGZfK8zOVk6TVN5ptfGZ8IVBGcgOAPBGQjOQHAGgjMQnIHgDARnIDgDwRkILtosTU58Jhc8Ja/HJ89G5gqCMxCcgeAMBGcgOAPBGQjOQHAGgjMQnIHgDATX7YKn5DRqcrN98s1SMlcQnIHgDARnIDgDwRkIzkBwBoIzEJyB4AwEZyC4bt8sTW6237atPNNaK8/4Gr5iBoIzEJyB4AwEZyA4A8EZCM5AcAaCMxCcgeD+AXa+Q/VGGsgAAAAAAElFTkSuQmCC\" y=\"-6.673054\"/>\r\n   </g>\r\n   <g id=\"matplotlib.axis_9\"/>\r\n   <g id=\"matplotlib.axis_10\"/>\r\n   <g id=\"patch_23\">\r\n    <path d=\"M 445.286826 110.673054 \r\nL 445.286826 7.2 \r\n\" style=\"fill:none;stroke:#000000;stroke-linecap:square;stroke-linejoin:miter;stroke-width:0.8;\"/>\r\n   </g>\r\n   <g id=\"patch_24\">\r\n    <path d=\"M 548.75988 110.673054 \r\nL 548.75988 7.2 \r\n\" style=\"fill:none;stroke:#000000;stroke-linecap:square;stroke-linejoin:miter;stroke-width:0.8;\"/>\r\n   </g>\r\n   <g id=\"patch_25\">\r\n    <path d=\"M 445.286826 110.673054 \r\nL 548.75988 110.673054 \r\n\" style=\"fill:none;stroke:#000000;stroke-linecap:square;stroke-linejoin:miter;stroke-width:0.8;\"/>\r\n   </g>\r\n   <g id=\"patch_26\">\r\n    <path d=\"M 445.286826 7.2 \r\nL 548.75988 7.2 \r\n\" style=\"fill:none;stroke:#000000;stroke-linecap:square;stroke-linejoin:miter;stroke-width:0.8;\"/>\r\n   </g>\r\n  </g>\r\n  <g id=\"axes_6\">\r\n   <g id=\"patch_27\">\r\n    <path d=\"M 553.933533 110.673054 \r\nL 657.406587 110.673054 \r\nL 657.406587 7.2 \r\nL 553.933533 7.2 \r\nz\r\n\" style=\"fill:#ffffff;\"/>\r\n   </g>\r\n   <g clip-path=\"url(#pa07cf897e8)\">\r\n    <image height=\"104\" id=\"imagec592df9858\" transform=\"scale(1 -1)translate(0 -104)\" width=\"104\" x=\"553.933533\" xlink:href=\"data:image/png;base64,\r\niVBORw0KGgoAAAANSUhEUgAAAGgAAABoCAYAAAAdHLWhAAAABHNCSVQICAgIfAhkiAAAAdBJREFUeJzt3UGNg1AURuF2Mj6KBCQgAQdoQQFIQAJ1QBUUFBAcFAWMg0nuXbyexfn2f2hy8jYvNNyv67puQcuyRCe3tm3Dm/M8w5t938ObqqrCm1J+vv0D9D8DwRkIzkBwBoIzEJyB4AwEZyA4A8EZCM5AcPfMZenn8wk/6PV6hTdd14U3mYvPdV3Dm1I8QXAGgjMQnIHgDARnIDgDwRkIzkBwBoIzEJyB4FKXpaU8n8/wJvMG6/v9Dm/qug5vMjxBcAaCMxCcgeAMBGcgOAPBGQjOQHAGgjMQnIHgfjOjzJul8zxnHlVEqYvPDE8QnIHgDARnIDgDwRkIzkBwBoIzEJyB4AwEZyC41GXpOI7hTd/3mUeFPR6PIs8pxRMEZyA4A8EZCM5AcAaCMxCcgeAMBGcgOAPBGQgudVmakbnEzLzxOU1TeEPmCYIzEJyB4AwEZyA4A8EZCM5AcAaCMxCcgeAMBJe6LM18EOk4jvAm83f/zFuvTdMU2WR4guAMBGcgOAPBGQjOQHAGgjMQnIHgDARnIDgDwaU+8JT58NIwDOFN5rJ027bwJmPf9/CmqqrwxhMEZyA4A8EZCM5AcAaCMxCcgeAMBGcgOAPBGQjuDy0HS6WdkvG9AAAAAElFTkSuQmCC\" y=\"-6.673054\"/>\r\n   </g>\r\n   <g id=\"matplotlib.axis_11\"/>\r\n   <g id=\"matplotlib.axis_12\"/>\r\n   <g id=\"patch_28\">\r\n    <path d=\"M 553.933533 110.673054 \r\nL 553.933533 7.2 \r\n\" style=\"fill:none;stroke:#000000;stroke-linecap:square;stroke-linejoin:miter;stroke-width:0.8;\"/>\r\n   </g>\r\n   <g id=\"patch_29\">\r\n    <path d=\"M 657.406587 110.673054 \r\nL 657.406587 7.2 \r\n\" style=\"fill:none;stroke:#000000;stroke-linecap:square;stroke-linejoin:miter;stroke-width:0.8;\"/>\r\n   </g>\r\n   <g id=\"patch_30\">\r\n    <path d=\"M 553.933533 110.673054 \r\nL 657.406587 110.673054 \r\n\" style=\"fill:none;stroke:#000000;stroke-linecap:square;stroke-linejoin:miter;stroke-width:0.8;\"/>\r\n   </g>\r\n   <g id=\"patch_31\">\r\n    <path d=\"M 553.933533 7.2 \r\nL 657.406587 7.2 \r\n\" style=\"fill:none;stroke:#000000;stroke-linecap:square;stroke-linejoin:miter;stroke-width:0.8;\"/>\r\n   </g>\r\n  </g>\r\n  <g id=\"axes_7\">\r\n   <g id=\"patch_32\">\r\n    <path d=\"M 662.58024 110.673054 \r\nL 766.053293 110.673054 \r\nL 766.053293 7.2 \r\nL 662.58024 7.2 \r\nz\r\n\" style=\"fill:#ffffff;\"/>\r\n   </g>\r\n   <g clip-path=\"url(#pbd3f9e1827)\">\r\n    <image height=\"104\" id=\"imagebd6e4ea9aa\" transform=\"scale(1 -1)translate(0 -104)\" width=\"104\" x=\"662.58024\" xlink:href=\"data:image/png;base64,\r\niVBORw0KGgoAAAANSUhEUgAAAGgAAABoCAYAAAAdHLWhAAAABHNCSVQICAgIfAhkiAAAAbhJREFUeJzt3UGNhEAQQNGdzQoAB0hAAg5AApLAwUhAAhJaAhJwwDrYpCqbmn/4714Zkp++VHrg9TzP81VgWZbwTGstPLPve3hmnufwTJXvTz+A/mYgOAPBGQjOQHAGgjMQnIHgDARnIDgDwRkI7iczdN93eKbruvDMeZ7hmWmawjMuS5VmIDgDwRkIzkBwBoIzEJyB4AwEZyA4A8EZCC61LM0sPq/rKvmdYRjCM2SeIDgDwRkIzkBwBoIzEJyB4AwEZyA4A8EZCM5AcKllaZXMLdFt2/7/QT7IEwRnIDgDwRkIzkBwBoIzEJyB4AwEZyA4A8EZCK5sWXocR3im7/vwzPv9Ds+M4xieydx6zfAEwRkIzkBwBoIzEJyB4AwEZyA4A8EZCM5AcAaCe1V94Cnz/tHMLdHMEjPzDtbM8jfDEwRnIDgDwRkIzkBwBoIzEJyB4AwEZyA4A8EZCA59s7Tq3aittZLfybxP1RMEZyA4A8EZCM5AcAaCMxCcgeAMBGcgOAPBGQiubFmaub2Z+Xt8ZvG5rmt4pupDUp4gOAPBGQjOQHAGgjMQnIHgDARnIDgDwRkIzkBwvzFpOxMa9QQkAAAAAElFTkSuQmCC\" y=\"-6.673054\"/>\r\n   </g>\r\n   <g id=\"matplotlib.axis_13\"/>\r\n   <g id=\"matplotlib.axis_14\"/>\r\n   <g id=\"patch_33\">\r\n    <path d=\"M 662.58024 110.673054 \r\nL 662.58024 7.2 \r\n\" style=\"fill:none;stroke:#000000;stroke-linecap:square;stroke-linejoin:miter;stroke-width:0.8;\"/>\r\n   </g>\r\n   <g id=\"patch_34\">\r\n    <path d=\"M 766.053293 110.673054 \r\nL 766.053293 7.2 \r\n\" style=\"fill:none;stroke:#000000;stroke-linecap:square;stroke-linejoin:miter;stroke-width:0.8;\"/>\r\n   </g>\r\n   <g id=\"patch_35\">\r\n    <path d=\"M 662.58024 110.673054 \r\nL 766.053293 110.673054 \r\n\" style=\"fill:none;stroke:#000000;stroke-linecap:square;stroke-linejoin:miter;stroke-width:0.8;\"/>\r\n   </g>\r\n   <g id=\"patch_36\">\r\n    <path d=\"M 662.58024 7.2 \r\nL 766.053293 7.2 \r\n\" style=\"fill:none;stroke:#000000;stroke-linecap:square;stroke-linejoin:miter;stroke-width:0.8;\"/>\r\n   </g>\r\n  </g>\r\n  <g id=\"axes_8\">\r\n   <g id=\"patch_37\">\r\n    <path d=\"M 771.226946 110.673054 \r\nL 874.7 110.673054 \r\nL 874.7 7.2 \r\nL 771.226946 7.2 \r\nz\r\n\" style=\"fill:#ffffff;\"/>\r\n   </g>\r\n   <g clip-path=\"url(#p5db2cbc839)\">\r\n    <image height=\"104\" id=\"image985beaf21b\" transform=\"scale(1 -1)translate(0 -104)\" width=\"104\" x=\"771.226946\" xlink:href=\"data:image/png;base64,\r\niVBORw0KGgoAAAANSUhEUgAAAGgAAABoCAYAAAAdHLWhAAAABHNCSVQICAgIfAhkiAAAAatJREFUeJzt3VGtg0AQQFH6UiFIwAHgBAs4QAJSkAAOcABOtgbal8yk2d6Pe/4nbHKzP5sFHqWU0kDd9x2emaYpPHOeZ3hm27bwzDAM4Zm/8ISqMhCcgeAMBGcgOAPBGQjOQHAGgjMQnIHgDAT3/PUC/rPve3jmOI7vL+SNtm2rPMcdBGcgOAPBGQjOQHAGgjMQnIHgDARnIDgDwRkIDn1YmrlZmtH3fXjGw1I1TWMgPAPBGQjOQHAGgjMQnIHgDARnIDgDwRkIrtphaeZV91qHpbWek+EOgjMQnIHgDARnIDgDwRkIzkBwBoIzEJyB4AwElzosXdc1PDPPc+ZRVdS6JZrhDoIzEJyB4AwEZyA4A8EZCM5AcAaCMxCcgeAMBJc6LM38RKnruvDMsizhmVrfLK3FHQRnIDgDwRkIzkBwBoIzEJyB4AwEZyA4A8EZCO5RSim/XsQnmR88jeP4/YW8cV1XeCZzg9UdBGcgOAPBGQjOQHAGgjMQnIHgDARnIDgDwRkIDv2DJ/Lr8bW4g+AMBGcgOAPBGQjOQHAGgjMQnIHgDARnIDgDwb0Aek4xWat6IQoAAAAASUVORK5CYII=\" y=\"-6.673054\"/>\r\n   </g>\r\n   <g id=\"matplotlib.axis_15\"/>\r\n   <g id=\"matplotlib.axis_16\"/>\r\n   <g id=\"patch_38\">\r\n    <path d=\"M 771.226946 110.673054 \r\nL 771.226946 7.2 \r\n\" style=\"fill:none;stroke:#000000;stroke-linecap:square;stroke-linejoin:miter;stroke-width:0.8;\"/>\r\n   </g>\r\n   <g id=\"patch_39\">\r\n    <path d=\"M 874.7 110.673054 \r\nL 874.7 7.2 \r\n\" style=\"fill:none;stroke:#000000;stroke-linecap:square;stroke-linejoin:miter;stroke-width:0.8;\"/>\r\n   </g>\r\n   <g id=\"patch_40\">\r\n    <path d=\"M 771.226946 110.673054 \r\nL 874.7 110.673054 \r\n\" style=\"fill:none;stroke:#000000;stroke-linecap:square;stroke-linejoin:miter;stroke-width:0.8;\"/>\r\n   </g>\r\n   <g id=\"patch_41\">\r\n    <path d=\"M 771.226946 7.2 \r\nL 874.7 7.2 \r\n\" style=\"fill:none;stroke:#000000;stroke-linecap:square;stroke-linejoin:miter;stroke-width:0.8;\"/>\r\n   </g>\r\n  </g>\r\n </g>\r\n <defs>\r\n  <clipPath id=\"p5ba74370bd\">\r\n   <rect height=\"103.473054\" width=\"103.473054\" x=\"10.7\" y=\"7.2\"/>\r\n  </clipPath>\r\n  <clipPath id=\"p85ddb7e28b\">\r\n   <rect height=\"103.473054\" width=\"103.473054\" x=\"119.346707\" y=\"7.2\"/>\r\n  </clipPath>\r\n  <clipPath id=\"p092bbcd603\">\r\n   <rect height=\"103.473054\" width=\"103.473054\" x=\"227.993413\" y=\"7.2\"/>\r\n  </clipPath>\r\n  <clipPath id=\"pc23f0e049c\">\r\n   <rect height=\"103.473054\" width=\"103.473054\" x=\"336.64012\" y=\"7.2\"/>\r\n  </clipPath>\r\n  <clipPath id=\"p5e871b29b6\">\r\n   <rect height=\"103.473054\" width=\"103.473054\" x=\"445.286826\" y=\"7.2\"/>\r\n  </clipPath>\r\n  <clipPath id=\"pa07cf897e8\">\r\n   <rect height=\"103.473054\" width=\"103.473054\" x=\"553.933533\" y=\"7.2\"/>\r\n  </clipPath>\r\n  <clipPath id=\"pbd3f9e1827\">\r\n   <rect height=\"103.473054\" width=\"103.473054\" x=\"662.58024\" y=\"7.2\"/>\r\n  </clipPath>\r\n  <clipPath id=\"p5db2cbc839\">\r\n   <rect height=\"103.473054\" width=\"103.473054\" x=\"771.226946\" y=\"7.2\"/>\r\n  </clipPath>\r\n </defs>\r\n</svg>\r\n",
      "image/png": "[encoded data removed]"
     },
     "metadata": {}
    }
   ],
   "source": [
    "fig = plt.figure(figsize=(12, 2))  \n",
    "fig.subplots_adjust(left=0, right=1, bottom=0, top=1, hspace=0.05, wspace=0.05)\n",
    "\n",
    "for i in range(8):\n",
    "    ax = fig.add_subplot(1, 8, i + 1, xticks=[], yticks=[])\n",
    "    ax.imshow(digits.images[i*3], cmap=plt.cm.binary, interpolation='nearest')"
   ]
  },
  {
   "cell_type": "code",
   "execution_count": 12,
   "metadata": {},
   "outputs": [
    {
     "output_type": "execute_result",
     "data": {
      "text/plain": [
       "   index  pixel_0_0  pixel_0_1  pixel_0_2  pixel_0_3  pixel_0_4  pixel_0_5  \\\n",
       "0    667        0.0        0.0        4.0       16.0       15.0        4.0   \n",
       "1    971        0.0        0.0        5.0       15.0       14.0        3.0   \n",
       "2    914        0.0        0.0        7.0       14.0        9.0        0.0   \n",
       "\n",
       "   pixel_0_6  pixel_0_7  pixel_1_0  ...  pixel_6_7  pixel_7_0  pixel_7_1  \\\n",
       "0        0.0        0.0        0.0  ...        0.0        0.0        0.0   \n",
       "1        0.0        0.0        0.0  ...        1.0        0.0        0.0   \n",
       "2        0.0        0.0        0.0  ...        3.0        0.0        0.0   \n",
       "\n",
       "   pixel_7_2  pixel_7_3  pixel_7_4  pixel_7_5  pixel_7_6  pixel_7_7  target  \n",
       "0        3.0       12.0       14.0       11.0        0.0        0.0       1  \n",
       "1        4.0       11.0       13.0       16.0       11.0        0.0       9  \n",
       "2        5.0       15.0       16.0       16.0       12.0        1.0       9  \n",
       "\n",
       "[3 rows x 66 columns]"
      ],
      "text/html": "<div>\n<style scoped>\n    .dataframe tbody tr th:only-of-type {\n        vertical-align: middle;\n    }\n\n    .dataframe tbody tr th {\n        vertical-align: top;\n    }\n\n    .dataframe thead th {\n        text-align: right;\n    }\n</style>\n<table border=\"1\" class=\"dataframe\">\n  <thead>\n    <tr style=\"text-align: right;\">\n      <th></th>\n      <th>index</th>\n      <th>pixel_0_0</th>\n      <th>pixel_0_1</th>\n      <th>pixel_0_2</th>\n      <th>pixel_0_3</th>\n      <th>pixel_0_4</th>\n      <th>pixel_0_5</th>\n      <th>pixel_0_6</th>\n      <th>pixel_0_7</th>\n      <th>pixel_1_0</th>\n      <th>...</th>\n      <th>pixel_6_7</th>\n      <th>pixel_7_0</th>\n      <th>pixel_7_1</th>\n      <th>pixel_7_2</th>\n      <th>pixel_7_3</th>\n      <th>pixel_7_4</th>\n      <th>pixel_7_5</th>\n      <th>pixel_7_6</th>\n      <th>pixel_7_7</th>\n      <th>target</th>\n    </tr>\n  </thead>\n  <tbody>\n    <tr>\n      <th>0</th>\n      <td>667</td>\n      <td>0.0</td>\n      <td>0.0</td>\n      <td>4.0</td>\n      <td>16.0</td>\n      <td>15.0</td>\n      <td>4.0</td>\n      <td>0.0</td>\n      <td>0.0</td>\n      <td>0.0</td>\n      <td>...</td>\n      <td>0.0</td>\n      <td>0.0</td>\n      <td>0.0</td>\n      <td>3.0</td>\n      <td>12.0</td>\n      <td>14.0</td>\n      <td>11.0</td>\n      <td>0.0</td>\n      <td>0.0</td>\n      <td>1</td>\n    </tr>\n    <tr>\n      <th>1</th>\n      <td>971</td>\n      <td>0.0</td>\n      <td>0.0</td>\n      <td>5.0</td>\n      <td>15.0</td>\n      <td>14.0</td>\n      <td>3.0</td>\n      <td>0.0</td>\n      <td>0.0</td>\n      <td>0.0</td>\n      <td>...</td>\n      <td>1.0</td>\n      <td>0.0</td>\n      <td>0.0</td>\n      <td>4.0</td>\n      <td>11.0</td>\n      <td>13.0</td>\n      <td>16.0</td>\n      <td>11.0</td>\n      <td>0.0</td>\n      <td>9</td>\n    </tr>\n    <tr>\n      <th>2</th>\n      <td>914</td>\n      <td>0.0</td>\n      <td>0.0</td>\n      <td>7.0</td>\n      <td>14.0</td>\n      <td>9.0</td>\n      <td>0.0</td>\n      <td>0.0</td>\n      <td>0.0</td>\n      <td>0.0</td>\n      <td>...</td>\n      <td>3.0</td>\n      <td>0.0</td>\n      <td>0.0</td>\n      <td>5.0</td>\n      <td>15.0</td>\n      <td>16.0</td>\n      <td>16.0</td>\n      <td>12.0</td>\n      <td>1.0</td>\n      <td>9</td>\n    </tr>\n  </tbody>\n</table>\n<p>3 rows × 66 columns</p>\n</div>"
     },
     "metadata": {},
     "execution_count": 12
    }
   ],
   "source": [
    "df_test = pd.read_csv('../static/data/digits_test.csv')\n",
    "df_test.head(3)"
   ]
  },
  {
   "cell_type": "code",
   "execution_count": 14,
   "metadata": {},
   "outputs": [
    {
     "output_type": "execute_result",
     "data": {
      "text/plain": [
       "             index  pixel_0_0   pixel_0_1   pixel_0_2   pixel_0_3   pixel_0_4  \\\n",
       "count   450.000000      450.0  450.000000  450.000000  450.000000  450.000000   \n",
       "mean    930.055556        0.0    0.264444    4.842222   11.693333   11.962222   \n",
       "std     528.963262        0.0    0.830288    4.679910    4.367750    4.163784   \n",
       "min       3.000000        0.0    0.000000    0.000000    0.000000    0.000000   \n",
       "25%     483.750000        0.0    0.000000    0.000000    9.000000   10.000000   \n",
       "50%     938.500000        0.0    0.000000    4.000000   13.000000   13.000000   \n",
       "75%    1402.250000        0.0    0.000000    8.000000   15.000000   15.000000   \n",
       "max    1795.000000        0.0    6.000000   16.000000   16.000000   16.000000   \n",
       "\n",
       "        pixel_0_5   pixel_0_6   pixel_0_7   pixel_1_0  ...   pixel_6_7  \\\n",
       "count  450.000000  450.000000  450.000000  450.000000  ...  450.000000   \n",
       "mean     5.764444    1.395556    0.137778    0.004444  ...    0.235556   \n",
       "std      5.594109    3.361511    0.998281    0.094281  ...    1.149253   \n",
       "min      0.000000    0.000000    0.000000    0.000000  ...    0.000000   \n",
       "25%      0.000000    0.000000    0.000000    0.000000  ...    0.000000   \n",
       "50%      4.000000    0.000000    0.000000    0.000000  ...    0.000000   \n",
       "75%     11.000000    0.000000    0.000000    0.000000  ...    0.000000   \n",
       "max     16.000000   16.000000   12.000000    2.000000  ...   13.000000   \n",
       "\n",
       "       pixel_7_0   pixel_7_1   pixel_7_2   pixel_7_3   pixel_7_4   pixel_7_5  \\\n",
       "count      450.0  450.000000  450.000000  450.000000  450.000000  450.000000   \n",
       "mean         0.0    0.246667    5.257778   11.717778   11.740000    6.697778   \n",
       "std          0.0    0.774913    5.063978    4.398612    5.030548    5.883217   \n",
       "min          0.0    0.000000    0.000000    0.000000    0.000000    0.000000   \n",
       "25%          0.0    0.000000    0.000000   10.000000   10.000000    0.000000   \n",
       "50%          0.0    0.000000    4.000000   13.000000   14.000000    6.000000   \n",
       "75%          0.0    0.000000    9.000000   15.000000   16.000000   12.000000   \n",
       "max          0.0    5.000000   16.000000   16.000000   16.000000   16.000000   \n",
       "\n",
       "        pixel_7_6   pixel_7_7      target  \n",
       "count  450.000000  450.000000  450.000000  \n",
       "mean     1.973333    0.397778    4.480000  \n",
       "std      3.953426    1.994311    2.869205  \n",
       "min      0.000000    0.000000    0.000000  \n",
       "25%      0.000000    0.000000    2.000000  \n",
       "50%      0.000000    0.000000    4.000000  \n",
       "75%      2.000000    0.000000    7.000000  \n",
       "max     16.000000   16.000000    9.000000  \n",
       "\n",
       "[8 rows x 66 columns]"
      ],
      "text/html": "<div>\n<style scoped>\n    .dataframe tbody tr th:only-of-type {\n        vertical-align: middle;\n    }\n\n    .dataframe tbody tr th {\n        vertical-align: top;\n    }\n\n    .dataframe thead th {\n        text-align: right;\n    }\n</style>\n<table border=\"1\" class=\"dataframe\">\n  <thead>\n    <tr style=\"text-align: right;\">\n      <th></th>\n      <th>index</th>\n      <th>pixel_0_0</th>\n      <th>pixel_0_1</th>\n      <th>pixel_0_2</th>\n      <th>pixel_0_3</th>\n      <th>pixel_0_4</th>\n      <th>pixel_0_5</th>\n      <th>pixel_0_6</th>\n      <th>pixel_0_7</th>\n      <th>pixel_1_0</th>\n      <th>...</th>\n      <th>pixel_6_7</th>\n      <th>pixel_7_0</th>\n      <th>pixel_7_1</th>\n      <th>pixel_7_2</th>\n      <th>pixel_7_3</th>\n      <th>pixel_7_4</th>\n      <th>pixel_7_5</th>\n      <th>pixel_7_6</th>\n      <th>pixel_7_7</th>\n      <th>target</th>\n    </tr>\n  </thead>\n  <tbody>\n    <tr>\n      <th>count</th>\n      <td>450.000000</td>\n      <td>450.0</td>\n      <td>450.000000</td>\n      <td>450.000000</td>\n      <td>450.000000</td>\n      <td>450.000000</td>\n      <td>450.000000</td>\n      <td>450.000000</td>\n      <td>450.000000</td>\n      <td>450.000000</td>\n      <td>...</td>\n      <td>450.000000</td>\n      <td>450.0</td>\n      <td>450.000000</td>\n      <td>450.000000</td>\n      <td>450.000000</td>\n      <td>450.000000</td>\n      <td>450.000000</td>\n      <td>450.000000</td>\n      <td>450.000000</td>\n      <td>450.000000</td>\n    </tr>\n    <tr>\n      <th>mean</th>\n      <td>930.055556</td>\n      <td>0.0</td>\n      <td>0.264444</td>\n      <td>4.842222</td>\n      <td>11.693333</td>\n      <td>11.962222</td>\n      <td>5.764444</td>\n      <td>1.395556</td>\n      <td>0.137778</td>\n      <td>0.004444</td>\n      <td>...</td>\n      <td>0.235556</td>\n      <td>0.0</td>\n      <td>0.246667</td>\n      <td>5.257778</td>\n      <td>11.717778</td>\n      <td>11.740000</td>\n      <td>6.697778</td>\n      <td>1.973333</td>\n      <td>0.397778</td>\n      <td>4.480000</td>\n    </tr>\n    <tr>\n      <th>std</th>\n      <td>528.963262</td>\n      <td>0.0</td>\n      <td>0.830288</td>\n      <td>4.679910</td>\n      <td>4.367750</td>\n      <td>4.163784</td>\n      <td>5.594109</td>\n      <td>3.361511</td>\n      <td>0.998281</td>\n      <td>0.094281</td>\n      <td>...</td>\n      <td>1.149253</td>\n      <td>0.0</td>\n      <td>0.774913</td>\n      <td>5.063978</td>\n      <td>4.398612</td>\n      <td>5.030548</td>\n      <td>5.883217</td>\n      <td>3.953426</td>\n      <td>1.994311</td>\n      <td>2.869205</td>\n    </tr>\n    <tr>\n      <th>min</th>\n      <td>3.000000</td>\n      <td>0.0</td>\n      <td>0.000000</td>\n      <td>0.000000</td>\n      <td>0.000000</td>\n      <td>0.000000</td>\n      <td>0.000000</td>\n      <td>0.000000</td>\n      <td>0.000000</td>\n      <td>0.000000</td>\n      <td>...</td>\n      <td>0.000000</td>\n      <td>0.0</td>\n      <td>0.000000</td>\n      <td>0.000000</td>\n      <td>0.000000</td>\n      <td>0.000000</td>\n      <td>0.000000</td>\n      <td>0.000000</td>\n      <td>0.000000</td>\n      <td>0.000000</td>\n    </tr>\n    <tr>\n      <th>25%</th>\n      <td>483.750000</td>\n      <td>0.0</td>\n      <td>0.000000</td>\n      <td>0.000000</td>\n      <td>9.000000</td>\n      <td>10.000000</td>\n      <td>0.000000</td>\n      <td>0.000000</td>\n      <td>0.000000</td>\n      <td>0.000000</td>\n      <td>...</td>\n      <td>0.000000</td>\n      <td>0.0</td>\n      <td>0.000000</td>\n      <td>0.000000</td>\n      <td>10.000000</td>\n      <td>10.000000</td>\n      <td>0.000000</td>\n      <td>0.000000</td>\n      <td>0.000000</td>\n      <td>2.000000</td>\n    </tr>\n    <tr>\n      <th>50%</th>\n      <td>938.500000</td>\n      <td>0.0</td>\n      <td>0.000000</td>\n      <td>4.000000</td>\n      <td>13.000000</td>\n      <td>13.000000</td>\n      <td>4.000000</td>\n      <td>0.000000</td>\n      <td>0.000000</td>\n      <td>0.000000</td>\n      <td>...</td>\n      <td>0.000000</td>\n      <td>0.0</td>\n      <td>0.000000</td>\n      <td>4.000000</td>\n      <td>13.000000</td>\n      <td>14.000000</td>\n      <td>6.000000</td>\n      <td>0.000000</td>\n      <td>0.000000</td>\n      <td>4.000000</td>\n    </tr>\n    <tr>\n      <th>75%</th>\n      <td>1402.250000</td>\n      <td>0.0</td>\n      <td>0.000000</td>\n      <td>8.000000</td>\n      <td>15.000000</td>\n      <td>15.000000</td>\n      <td>11.000000</td>\n      <td>0.000000</td>\n      <td>0.000000</td>\n      <td>0.000000</td>\n      <td>...</td>\n      <td>0.000000</td>\n      <td>0.0</td>\n      <td>0.000000</td>\n      <td>9.000000</td>\n      <td>15.000000</td>\n      <td>16.000000</td>\n      <td>12.000000</td>\n      <td>2.000000</td>\n      <td>0.000000</td>\n      <td>7.000000</td>\n    </tr>\n    <tr>\n      <th>max</th>\n      <td>1795.000000</td>\n      <td>0.0</td>\n      <td>6.000000</td>\n      <td>16.000000</td>\n      <td>16.000000</td>\n      <td>16.000000</td>\n      <td>16.000000</td>\n      <td>16.000000</td>\n      <td>12.000000</td>\n      <td>2.000000</td>\n      <td>...</td>\n      <td>13.000000</td>\n      <td>0.0</td>\n      <td>5.000000</td>\n      <td>16.000000</td>\n      <td>16.000000</td>\n      <td>16.000000</td>\n      <td>16.000000</td>\n      <td>16.000000</td>\n      <td>16.000000</td>\n      <td>9.000000</td>\n    </tr>\n  </tbody>\n</table>\n<p>8 rows × 66 columns</p>\n</div>"
     },
     "metadata": {},
     "execution_count": 14
    }
   ],
   "source": [
    "df_test.describe()"
   ]
  },
  {
   "cell_type": "code",
   "execution_count": 15,
   "metadata": {},
   "outputs": [
    {
     "output_type": "execute_result",
     "data": {
      "text/plain": [
       "(450, 450)"
      ]
     },
     "metadata": {},
     "execution_count": 15
    }
   ],
   "source": [
    "img_index_list = df_test['index'].values\n",
    "target_index_list = df_test['target'].values\n",
    "len(img_index_list), len(target_index_list)"
   ]
  },
  {
   "cell_type": "code",
   "execution_count": 16,
   "metadata": {},
   "outputs": [
    {
     "output_type": "execute_result",
     "data": {
      "text/plain": [
       "((1347, 64), (1347,))"
      ]
     },
     "metadata": {},
     "execution_count": 16
    }
   ],
   "source": [
    "scaler = MinMaxScaler()\n",
    "y_train = df_train.target.values\n",
    "X_train = scaler.fit_transform(df_train.drop(columns='target', axis=1))\n",
    "X_train.shape, y_train.shape"
   ]
  },
  {
   "cell_type": "code",
   "execution_count": 17,
   "metadata": {},
   "outputs": [
    {
     "output_type": "execute_result",
     "data": {
      "text/plain": [
       "((450, 64), (450,))"
      ]
     },
     "metadata": {},
     "execution_count": 17
    }
   ],
   "source": [
    "y_test = df_test.target.values\n",
    "X_test = scaler.fit_transform(df_test.drop(columns=['index','target'], axis=1))\n",
    "X_test.shape, y_test.shape"
   ]
  },
  {
   "source": [
    "1. Logistic Regression"
   ],
   "cell_type": "markdown",
   "metadata": {}
  },
  {
   "cell_type": "code",
   "execution_count": 18,
   "metadata": {},
   "outputs": [
    {
     "output_type": "execute_result",
     "data": {
      "text/plain": [
       "{'C': 1.0,\n",
       " 'class_weight': None,\n",
       " 'dual': False,\n",
       " 'fit_intercept': True,\n",
       " 'intercept_scaling': 1,\n",
       " 'l1_ratio': None,\n",
       " 'max_iter': 100,\n",
       " 'multi_class': 'auto',\n",
       " 'n_jobs': None,\n",
       " 'penalty': 'l2',\n",
       " 'random_state': None,\n",
       " 'solver': 'lbfgs',\n",
       " 'tol': 0.0001,\n",
       " 'verbose': 0,\n",
       " 'warm_start': False}"
      ]
     },
     "metadata": {},
     "execution_count": 18
    }
   ],
   "source": [
    "lr_clf = LogisticRegression()\n",
    "lr_clf.get_params()"
   ]
  },
  {
   "cell_type": "code",
   "execution_count": 19,
   "metadata": {},
   "outputs": [],
   "source": [
    "params = {\n",
    "    #'C': [0.1, 1, 5, 10]\n",
    "    #'C': [3, 4, 5, 6, 7]\n",
    "    'C': [2, 3]\n",
    "}"
   ]
  },
  {
   "cell_type": "code",
   "execution_count": 20,
   "metadata": {},
   "outputs": [
    {
     "output_type": "stream",
     "name": "stdout",
     "text": [
      "최고 평균 정확도: 0.9673\n최적 파라미터: {'C': 2}\n"
     ]
    }
   ],
   "source": [
    "grid_cv = GridSearchCV(lr_clf, param_grid=params, scoring='accuracy', cv=5)\n",
    "grid_cv.fit(X_train, y_train)\n",
    "print(f'최고 평균 정확도: {grid_cv.best_score_:.4f}')\n",
    "print('최적 파라미터:', grid_cv.best_params_)"
   ]
  },
  {
   "cell_type": "code",
   "execution_count": 21,
   "metadata": {},
   "outputs": [
    {
     "output_type": "execute_result",
     "data": {
      "text/plain": [
       "0.9666666666666667"
      ]
     },
     "metadata": {},
     "execution_count": 21
    }
   ],
   "source": [
    "best_lr = grid_cv.best_estimator_\n",
    "pred = best_lr.predict(X_test)\n",
    "accuracy_score(y_test, pred)"
   ]
  },
  {
   "cell_type": "code",
   "execution_count": 22,
   "metadata": {},
   "outputs": [
    {
     "output_type": "execute_result",
     "data": {
      "text/plain": [
       "['../static/model/digits_lr.pkl']"
      ]
     },
     "metadata": {},
     "execution_count": 22
    }
   ],
   "source": [
    "joblib.dump(best_lr, '../static/model/digits_lr.pkl')"
   ]
  },
  {
   "source": [
    "2. SVM"
   ],
   "cell_type": "markdown",
   "metadata": {}
  },
  {
   "cell_type": "code",
   "execution_count": 23,
   "metadata": {},
   "outputs": [
    {
     "output_type": "execute_result",
     "data": {
      "text/plain": [
       "{'C': 1.0,\n",
       " 'break_ties': False,\n",
       " 'cache_size': 200,\n",
       " 'class_weight': None,\n",
       " 'coef0': 0.0,\n",
       " 'decision_function_shape': 'ovr',\n",
       " 'degree': 3,\n",
       " 'gamma': 'scale',\n",
       " 'kernel': 'rbf',\n",
       " 'max_iter': -1,\n",
       " 'probability': False,\n",
       " 'random_state': None,\n",
       " 'shrinking': True,\n",
       " 'tol': 0.001,\n",
       " 'verbose': False}"
      ]
     },
     "metadata": {},
     "execution_count": 23
    }
   ],
   "source": [
    "sv_clf = SVC()\n",
    "sv_clf.get_params()"
   ]
  },
  {
   "cell_type": "code",
   "execution_count": 24,
   "metadata": {},
   "outputs": [],
   "source": [
    "params = {\n",
    "    #'C': [0.1, 1, 5, 7, 10]\n",
    "    'C': [3, 4, 5, 6, 7]\n",
    "}"
   ]
  },
  {
   "cell_type": "code",
   "execution_count": 25,
   "metadata": {},
   "outputs": [
    {
     "output_type": "stream",
     "name": "stdout",
     "text": [
      "최고 평균 정확도: 0.9933\n최적 파라미터: {'C': 4}\n"
     ]
    }
   ],
   "source": [
    "grid_cv = GridSearchCV(sv_clf, param_grid=params, scoring='accuracy', cv=5)\n",
    "grid_cv.fit(X_train, y_train)\n",
    "print(f'최고 평균 정확도: {grid_cv.best_score_:.4f}')\n",
    "print('최적 파라미터:', grid_cv.best_params_)"
   ]
  },
  {
   "cell_type": "code",
   "execution_count": 26,
   "metadata": {},
   "outputs": [
    {
     "output_type": "execute_result",
     "data": {
      "text/plain": [
       "0.9844444444444445"
      ]
     },
     "metadata": {},
     "execution_count": 26
    }
   ],
   "source": [
    "best_sv = grid_cv.best_estimator_\n",
    "pred = best_sv.predict(X_test)\n",
    "accuracy_score(y_test, pred)"
   ]
  },
  {
   "cell_type": "code",
   "execution_count": 27,
   "metadata": {},
   "outputs": [
    {
     "output_type": "execute_result",
     "data": {
      "text/plain": [
       "['../static/model/digits_sv.pkl']"
      ]
     },
     "metadata": {},
     "execution_count": 27
    }
   ],
   "source": [
    "joblib.dump(best_sv, '../static/model/digits_sv.pkl')"
   ]
  },
  {
   "source": [
    "3. Random Forest"
   ],
   "cell_type": "markdown",
   "metadata": {}
  },
  {
   "cell_type": "code",
   "execution_count": 28,
   "metadata": {},
   "outputs": [
    {
     "output_type": "execute_result",
     "data": {
      "text/plain": [
       "{'bootstrap': True,\n",
       " 'ccp_alpha': 0.0,\n",
       " 'class_weight': None,\n",
       " 'criterion': 'gini',\n",
       " 'max_depth': None,\n",
       " 'max_features': 'auto',\n",
       " 'max_leaf_nodes': None,\n",
       " 'max_samples': None,\n",
       " 'min_impurity_decrease': 0.0,\n",
       " 'min_impurity_split': None,\n",
       " 'min_samples_leaf': 1,\n",
       " 'min_samples_split': 2,\n",
       " 'min_weight_fraction_leaf': 0.0,\n",
       " 'n_estimators': 100,\n",
       " 'n_jobs': None,\n",
       " 'oob_score': False,\n",
       " 'random_state': None,\n",
       " 'verbose': 0,\n",
       " 'warm_start': False}"
      ]
     },
     "metadata": {},
     "execution_count": 28
    }
   ],
   "source": [
    "rf_clf = RandomForestClassifier()\n",
    "rf_clf.get_params()"
   ]
  },
  {
   "cell_type": "code",
   "execution_count": 29,
   "metadata": {},
   "outputs": [],
   "source": [
    "params = {\n",
    "    #'max_depth': [4, 6, 8, 10],\n",
    "    #'max_depth': [8, 12, 14, 16],\n",
    "    'max_depth': [14, 16, 18, 20],\n",
    "    'min_samples_split': [2, 3, 4]\n",
    "}"
   ]
  },
  {
   "cell_type": "code",
   "execution_count": 30,
   "metadata": {},
   "outputs": [
    {
     "output_type": "stream",
     "name": "stdout",
     "text": [
      "최고 평균 정확도: 0.9748\n최적 파라미터: {'max_depth': 18, 'min_samples_split': 4}\n"
     ]
    }
   ],
   "source": [
    "grid_cv = GridSearchCV(rf_clf, param_grid=params, scoring='accuracy', cv=5)\n",
    "grid_cv.fit(X_train, y_train)\n",
    "print(f'최고 평균 정확도: {grid_cv.best_score_:.4f}')\n",
    "print('최적 파라미터:', grid_cv.best_params_)"
   ]
  },
  {
   "cell_type": "code",
   "execution_count": 31,
   "metadata": {},
   "outputs": [
    {
     "output_type": "execute_result",
     "data": {
      "text/plain": [
       "0.9688888888888889"
      ]
     },
     "metadata": {},
     "execution_count": 31
    }
   ],
   "source": [
    "best_rf = grid_cv.best_estimator_\n",
    "pred = best_rf.predict(X_test)\n",
    "accuracy_score(y_test, pred)"
   ]
  },
  {
   "cell_type": "code",
   "execution_count": 32,
   "metadata": {},
   "outputs": [
    {
     "output_type": "execute_result",
     "data": {
      "text/plain": [
       "['../static/model/digits_rf.pkl']"
      ]
     },
     "metadata": {},
     "execution_count": 32
    }
   ],
   "source": [
    "joblib.dump(best_rf, '../static/model/digits_rf.pkl')"
   ]
  },
  {
   "source": [
    "Test"
   ],
   "cell_type": "markdown",
   "metadata": {}
  },
  {
   "cell_type": "code",
   "execution_count": 33,
   "metadata": {},
   "outputs": [
    {
     "output_type": "execute_result",
     "data": {
      "text/plain": [
       "(450, 64)"
      ]
     },
     "metadata": {},
     "execution_count": 33
    }
   ],
   "source": [
    "index = 101\n",
    "scaled_test = scaler.fit_transform(df_test.drop(columns=['index','target'], axis=1))\n",
    "scaled_test.shape"
   ]
  },
  {
   "cell_type": "code",
   "execution_count": 34,
   "metadata": {},
   "outputs": [
    {
     "output_type": "execute_result",
     "data": {
      "text/plain": [
       "(5, 64)"
      ]
     },
     "metadata": {},
     "execution_count": 34
    }
   ],
   "source": [
    "test_data = scaled_test[index:index+5, :]\n",
    "test_data.shape"
   ]
  },
  {
   "cell_type": "code",
   "execution_count": 35,
   "metadata": {},
   "outputs": [
    {
     "output_type": "execute_result",
     "data": {
      "text/plain": [
       "array([8, 0, 0, 3, 1], dtype=int64)"
      ]
     },
     "metadata": {},
     "execution_count": 35
    }
   ],
   "source": [
    "label_list = target_index_list[index:index+5]\n",
    "label_list"
   ]
  },
  {
   "cell_type": "code",
   "execution_count": 36,
   "metadata": {},
   "outputs": [],
   "source": [
    "pred_lr = best_lr.predict(test_data)\n",
    "pred_sv = best_sv.predict(test_data)\n",
    "pred_rf = best_rf.predict(test_data)"
   ]
  },
  {
   "cell_type": "code",
   "execution_count": 37,
   "metadata": {},
   "outputs": [],
   "source": [
    "index_list = img_index_list[index:index+5]"
   ]
  },
  {
   "cell_type": "code",
   "execution_count": 38,
   "metadata": {},
   "outputs": [],
   "source": [
    "result_dict = {'index':index_list, 'label':label_list,\n",
    "               'pred_lr':pred_lr, 'pred_sv':pred_sv, 'pred_rf':pred_rf}"
   ]
  },
  {
   "cell_type": "code",
   "execution_count": 39,
   "metadata": {},
   "outputs": [
    {
     "output_type": "execute_result",
     "data": {
      "text/plain": [
       "{'index': array([1781,   10,   48,  865,   93], dtype=int64),\n",
       " 'label': array([8, 0, 0, 3, 1], dtype=int64),\n",
       " 'pred_lr': array([8, 0, 0, 3, 1], dtype=int64),\n",
       " 'pred_sv': array([8, 0, 0, 3, 1], dtype=int64),\n",
       " 'pred_rf': array([8, 0, 0, 3, 1], dtype=int64)}"
      ]
     },
     "metadata": {},
     "execution_count": 39
    }
   ],
   "source": [
    "result_dict"
   ]
  },
  {
   "cell_type": "code",
   "execution_count": 40,
   "metadata": {},
   "outputs": [],
   "source": [
    "img_file_wo_ext = '../static/img/digit'"
   ]
  },
  {
   "cell_type": "code",
   "execution_count": 41,
   "metadata": {},
   "outputs": [
    {
     "output_type": "display_data",
     "data": {
      "text/plain": "<Figure size 144x144 with 1 Axes>",
      "image/svg+xml": "<?xml version=\"1.0\" encoding=\"utf-8\" standalone=\"no\"?>\r\n<!DOCTYPE svg PUBLIC \"-//W3C//DTD SVG 1.1//EN\"\r\n  \"http://www.w3.org/Graphics/SVG/1.1/DTD/svg11.dtd\">\r\n<!-- Created with matplotlib (https://matplotlib.org/) -->\r\n<svg height=\"126.62pt\" version=\"1.1\" viewBox=\"0 0 126.62 126.62\" width=\"126.62pt\" xmlns=\"http://www.w3.org/2000/svg\" xmlns:xlink=\"http://www.w3.org/1999/xlink\">\r\n <defs>\r\n  <style type=\"text/css\">\r\n*{stroke-linecap:butt;stroke-linejoin:round;}\r\n  </style>\r\n </defs>\r\n <g id=\"figure_1\">\r\n  <g id=\"patch_1\">\r\n   <path d=\"M 0 126.62 \r\nL 126.62 126.62 \r\nL 126.62 0 \r\nL 0 0 \r\nz\r\n\" style=\"fill:none;\"/>\r\n  </g>\r\n  <g id=\"axes_1\">\r\n   <g id=\"patch_2\">\r\n    <path d=\"M 10.7 115.92 \r\nL 119.42 115.92 \r\nL 119.42 7.2 \r\nL 10.7 7.2 \r\nz\r\n\" style=\"fill:#ffffff;\"/>\r\n   </g>\r\n   <g clip-path=\"url(#pb2aef237bc)\">\r\n    <image height=\"109\" id=\"imagef7f6ce38fb\" transform=\"scale(1 -1)translate(0 -109)\" width=\"109\" x=\"10.7\" xlink:href=\"data:image/png;base64,\r\niVBORw0KGgoAAAANSUhEUgAAAG0AAABtCAYAAACr+O9WAAAABHNCSVQICAgIfAhkiAAAAe9JREFUeJzt3EGNwlAURuEymT04gDrACUioBFAAEloJdUAd1AEWQAE46CiApH86LznJ+fY3t+TkbR5NV9M0TVXg/X7PnmmaJllVDcMwe2a9Xke72raN5tLflvgptkmLMRqQ0YCMBmQ0IKMBGQ3IaEBGAzIakNGAjAZkNKBVesuf3IanN+jH43H2zDiO0a7H41FsbrPZRLs8aUBGAzIakNGAjAZkNCCjARkNyGhARgMyGpDRgOIL4+RV7eTit6qq6vV6zZ653W7RrtPpFM0lr8mnPGlARgMyGpDRgIwGZDQgowEZDchoQEYDMhqQ0YCMBhTf8id2u12pVfEr1+kzpv8qJDxpQEYDMhqQ0YCMBmQ0IKMBGQ3IaEBGAzIakNGAjAZU9JY//fjL+Xxe+Ek+u9/v0dx+v1/4ST7zpAEZDchoQEYDMhqQ0YCMBmQ0IKMBGQ3IaEBGA/otuSz9EndJz+czmvPCWF8ZDchoQEYDMhqQ0YCMBmQ0IKMBGQ3IaEBGAzIaUPxaeHJjX9d1sipyuVyiuev1uuyD/ANPGpDRgIwGZDQgowEZDchoQEYDMhqQ0YCMBmQ0oKLfEWmaJprr+372zHa7jXZ1XRfNHQ6HaC7hSQMyGpDRgIwGZDQgowEZDchoQEYDMhqQ0YCMBmQ0oD9Ab1iN5HXwiwAAAABJRU5ErkJggg==\" y=\"-6.92\"/>\r\n   </g>\r\n   <g id=\"matplotlib.axis_1\"/>\r\n   <g id=\"matplotlib.axis_2\"/>\r\n   <g id=\"patch_3\">\r\n    <path d=\"M 10.7 115.92 \r\nL 10.7 7.2 \r\n\" style=\"fill:none;stroke:#000000;stroke-linecap:square;stroke-linejoin:miter;stroke-width:0.8;\"/>\r\n   </g>\r\n   <g id=\"patch_4\">\r\n    <path d=\"M 119.42 115.92 \r\nL 119.42 7.2 \r\n\" style=\"fill:none;stroke:#000000;stroke-linecap:square;stroke-linejoin:miter;stroke-width:0.8;\"/>\r\n   </g>\r\n   <g id=\"patch_5\">\r\n    <path d=\"M 10.7 115.92 \r\nL 119.42 115.92 \r\n\" style=\"fill:none;stroke:#000000;stroke-linecap:square;stroke-linejoin:miter;stroke-width:0.8;\"/>\r\n   </g>\r\n   <g id=\"patch_6\">\r\n    <path d=\"M 10.7 7.2 \r\nL 119.42 7.2 \r\n\" style=\"fill:none;stroke:#000000;stroke-linecap:square;stroke-linejoin:miter;stroke-width:0.8;\"/>\r\n   </g>\r\n  </g>\r\n </g>\r\n <defs>\r\n  <clipPath id=\"pb2aef237bc\">\r\n   <rect height=\"108.72\" width=\"108.72\" x=\"10.7\" y=\"7.2\"/>\r\n  </clipPath>\r\n </defs>\r\n</svg>\r\n",
      "image/png": "[encoded data removed]"
     },
     "metadata": {}
    },
    {
     "output_type": "display_data",
     "data": {
      "text/plain": "<Figure size 144x144 with 1 Axes>",
      "image/svg+xml": "<?xml version=\"1.0\" encoding=\"utf-8\" standalone=\"no\"?>\r\n<!DOCTYPE svg PUBLIC \"-//W3C//DTD SVG 1.1//EN\"\r\n  \"http://www.w3.org/Graphics/SVG/1.1/DTD/svg11.dtd\">\r\n<!-- Created with matplotlib (https://matplotlib.org/) -->\r\n<svg height=\"126.62pt\" version=\"1.1\" viewBox=\"0 0 126.62 126.62\" width=\"126.62pt\" xmlns=\"http://www.w3.org/2000/svg\" xmlns:xlink=\"http://www.w3.org/1999/xlink\">\r\n <defs>\r\n  <style type=\"text/css\">\r\n*{stroke-linecap:butt;stroke-linejoin:round;}\r\n  </style>\r\n </defs>\r\n <g id=\"figure_1\">\r\n  <g id=\"patch_1\">\r\n   <path d=\"M 0 126.62 \r\nL 126.62 126.62 \r\nL 126.62 0 \r\nL 0 0 \r\nz\r\n\" style=\"fill:none;\"/>\r\n  </g>\r\n  <g id=\"axes_1\">\r\n   <g id=\"patch_2\">\r\n    <path d=\"M 10.7 115.92 \r\nL 119.42 115.92 \r\nL 119.42 7.2 \r\nL 10.7 7.2 \r\nz\r\n\" style=\"fill:#ffffff;\"/>\r\n   </g>\r\n   <g clip-path=\"url(#pad146b561d)\">\r\n    <image height=\"109\" id=\"imageb1849a05d1\" transform=\"scale(1 -1)translate(0 -109)\" width=\"109\" x=\"10.7\" xlink:href=\"data:image/png;base64,\r\niVBORw0KGgoAAAANSUhEUgAAAG0AAABtCAYAAACr+O9WAAAABHNCSVQICAgIfAhkiAAAAddJREFUeJzt3UGNhDAcRvGy2TtIQAIOBgdYQAISkDI4wAIORgoOuuc98mXT5GXf7/5PM3nppTSdrtZaSyP3fUdz27Y9nvl8PtFa7/c7mpumKZpLfDVbSX/GaEBGAzIakNGAjAZkNCCjARkNyGhARgMyGpDRgLqWp/zzPLdaqozj2GytUvKvAwl3GpDRgIwGZDQgowEZDchoQEYDMhqQ0YCMBmQ0oO90MLnifV1XtNZ5no9nXq9XtNa6rtFccg09vUruTgMyGpDRgIwGZDQgowEZDchoQEYDMhqQ0YCMBmQ0oPiUP31cJdH3/eOZYRiitdKT9+RLhKf8/4jRgIwGZDQgowEZDchoQEYDMhqQ0YCMBmQ0IKMBxaf8LZ8012/uNCCjARkNyGhARgMyGpDRgIwGZDQgowEZDchoQE0ff0klL3GnL5O3/F0pdxqQ0YCMBmQ0IKMBGQ3IaEBGAzIakNGAjAZkNCCjAcWn/Ml/bi7LEq11HMfjmfQ/QZNHXEopZd/3aC7hTgMyGpDRgIwGZDQgowEZDchoQEYDMhqQ0YCMBtTVWmurxdIr18lhbHKVvJT8Onl60JxwpwEZDchoQEYDMhqQ0YCMBmQ0IKMBGQ3IaEBGAzIa0A8eNEPDWQHmugAAAABJRU5ErkJggg==\" y=\"-6.92\"/>\r\n   </g>\r\n   <g id=\"matplotlib.axis_1\"/>\r\n   <g id=\"matplotlib.axis_2\"/>\r\n   <g id=\"patch_3\">\r\n    <path d=\"M 10.7 115.92 \r\nL 10.7 7.2 \r\n\" style=\"fill:none;stroke:#000000;stroke-linecap:square;stroke-linejoin:miter;stroke-width:0.8;\"/>\r\n   </g>\r\n   <g id=\"patch_4\">\r\n    <path d=\"M 119.42 115.92 \r\nL 119.42 7.2 \r\n\" style=\"fill:none;stroke:#000000;stroke-linecap:square;stroke-linejoin:miter;stroke-width:0.8;\"/>\r\n   </g>\r\n   <g id=\"patch_5\">\r\n    <path d=\"M 10.7 115.92 \r\nL 119.42 115.92 \r\n\" style=\"fill:none;stroke:#000000;stroke-linecap:square;stroke-linejoin:miter;stroke-width:0.8;\"/>\r\n   </g>\r\n   <g id=\"patch_6\">\r\n    <path d=\"M 10.7 7.2 \r\nL 119.42 7.2 \r\n\" style=\"fill:none;stroke:#000000;stroke-linecap:square;stroke-linejoin:miter;stroke-width:0.8;\"/>\r\n   </g>\r\n  </g>\r\n </g>\r\n <defs>\r\n  <clipPath id=\"pad146b561d\">\r\n   <rect height=\"108.72\" width=\"108.72\" x=\"10.7\" y=\"7.2\"/>\r\n  </clipPath>\r\n </defs>\r\n</svg>\r\n",
      "image/png": "[encoded data removed]"
     },
     "metadata": {}
    },
    {
     "output_type": "display_data",
     "data": {
      "text/plain": "<Figure size 144x144 with 1 Axes>",
      "image/svg+xml": "<?xml version=\"1.0\" encoding=\"utf-8\" standalone=\"no\"?>\r\n<!DOCTYPE svg PUBLIC \"-//W3C//DTD SVG 1.1//EN\"\r\n  \"http://www.w3.org/Graphics/SVG/1.1/DTD/svg11.dtd\">\r\n<!-- Created with matplotlib (https://matplotlib.org/) -->\r\n<svg height=\"126.62pt\" version=\"1.1\" viewBox=\"0 0 126.62 126.62\" width=\"126.62pt\" xmlns=\"http://www.w3.org/2000/svg\" xmlns:xlink=\"http://www.w3.org/1999/xlink\">\r\n <defs>\r\n  <style type=\"text/css\">\r\n*{stroke-linecap:butt;stroke-linejoin:round;}\r\n  </style>\r\n </defs>\r\n <g id=\"figure_1\">\r\n  <g id=\"patch_1\">\r\n   <path d=\"M 0 126.62 \r\nL 126.62 126.62 \r\nL 126.62 0 \r\nL 0 0 \r\nz\r\n\" style=\"fill:none;\"/>\r\n  </g>\r\n  <g id=\"axes_1\">\r\n   <g id=\"patch_2\">\r\n    <path d=\"M 10.7 115.92 \r\nL 119.42 115.92 \r\nL 119.42 7.2 \r\nL 10.7 7.2 \r\nz\r\n\" style=\"fill:#ffffff;\"/>\r\n   </g>\r\n   <g clip-path=\"url(#p8fc54f1314)\">\r\n    <image height=\"109\" id=\"image11f6a27373\" transform=\"scale(1 -1)translate(0 -109)\" width=\"109\" x=\"10.7\" xlink:href=\"data:image/png;base64,\r\niVBORw0KGgoAAAANSUhEUgAAAG0AAABtCAYAAACr+O9WAAAABHNCSVQICAgIfAhkiAAAAehJREFUeJzt3VGNhDAYReHOZgQgAQlIwAFIQMqMA3CABCQgAQkjYRywDjbpzabJSc73/qcPJ30pTXnc932XRs7zjOZer1f1zHVd0VrrukZzy7JEc4mfZivp3xgNyGhARgMyGpDRgIwGZDQgowEZDchoQEYDMhrQo+Upf9/30dwwDNUz8zxHayVfFEopZdu26plpmqK13GlARgMyGpDRgIwGZDQgowEZDchoQEYDMhqQ0YCe6WBy7fr7/UZr7ftePdN1XbRWcjhdSn7lPeFOAzIakNGAjAZkNCCjARkNyGhARgMyGpDRgIwGZDSg+JT/OI7qmfTk/fP5VM+kp/Xpl4h0LuFOAzIakNGAjAZkNCCjARkNyGhARgMyGpDRgIwGZDSg+JR/HMfqmff7Ha2VfFFIT/nTLxEtudOAjAZkNCCjARkNyGhARgMyGpDRgIwGZDQgowHFB8YtD1bTV8YT6T9BkwdqUu40IKMBGQ3IaEBGAzIakNGAjAZkNCCjARkNyGhARgNq+k/QZVmiueRaeHJtvZT8qXYff9GfjAZkNCCjARkNyGhARgMyGpDRgIwGZDQgowE1PTBOXv0uJXsTJL1Knl7vTt8tSbjTgIwGZDQgowEZDchoQEYDMhqQ0YCMBmQ0IKMBGQ3oF+O9TTJOX9XqAAAAAElFTkSuQmCC\" y=\"-6.92\"/>\r\n   </g>\r\n   <g id=\"matplotlib.axis_1\"/>\r\n   <g id=\"matplotlib.axis_2\"/>\r\n   <g id=\"patch_3\">\r\n    <path d=\"M 10.7 115.92 \r\nL 10.7 7.2 \r\n\" style=\"fill:none;stroke:#000000;stroke-linecap:square;stroke-linejoin:miter;stroke-width:0.8;\"/>\r\n   </g>\r\n   <g id=\"patch_4\">\r\n    <path d=\"M 119.42 115.92 \r\nL 119.42 7.2 \r\n\" style=\"fill:none;stroke:#000000;stroke-linecap:square;stroke-linejoin:miter;stroke-width:0.8;\"/>\r\n   </g>\r\n   <g id=\"patch_5\">\r\n    <path d=\"M 10.7 115.92 \r\nL 119.42 115.92 \r\n\" style=\"fill:none;stroke:#000000;stroke-linecap:square;stroke-linejoin:miter;stroke-width:0.8;\"/>\r\n   </g>\r\n   <g id=\"patch_6\">\r\n    <path d=\"M 10.7 7.2 \r\nL 119.42 7.2 \r\n\" style=\"fill:none;stroke:#000000;stroke-linecap:square;stroke-linejoin:miter;stroke-width:0.8;\"/>\r\n   </g>\r\n  </g>\r\n </g>\r\n <defs>\r\n  <clipPath id=\"p8fc54f1314\">\r\n   <rect height=\"108.72\" width=\"108.72\" x=\"10.7\" y=\"7.2\"/>\r\n  </clipPath>\r\n </defs>\r\n</svg>\r\n",
      "image/png": "[encoded data removed]"
     },
     "metadata": {}
    },
    {
     "output_type": "display_data",
     "data": {
      "text/plain": "<Figure size 144x144 with 1 Axes>",
      "image/svg+xml": "<?xml version=\"1.0\" encoding=\"utf-8\" standalone=\"no\"?>\r\n<!DOCTYPE svg PUBLIC \"-//W3C//DTD SVG 1.1//EN\"\r\n  \"http://www.w3.org/Graphics/SVG/1.1/DTD/svg11.dtd\">\r\n<!-- Created with matplotlib (https://matplotlib.org/) -->\r\n<svg height=\"126.62pt\" version=\"1.1\" viewBox=\"0 0 126.62 126.62\" width=\"126.62pt\" xmlns=\"http://www.w3.org/2000/svg\" xmlns:xlink=\"http://www.w3.org/1999/xlink\">\r\n <defs>\r\n  <style type=\"text/css\">\r\n*{stroke-linecap:butt;stroke-linejoin:round;}\r\n  </style>\r\n </defs>\r\n <g id=\"figure_1\">\r\n  <g id=\"patch_1\">\r\n   <path d=\"M 0 126.62 \r\nL 126.62 126.62 \r\nL 126.62 0 \r\nL 0 0 \r\nz\r\n\" style=\"fill:none;\"/>\r\n  </g>\r\n  <g id=\"axes_1\">\r\n   <g id=\"patch_2\">\r\n    <path d=\"M 10.7 115.92 \r\nL 119.42 115.92 \r\nL 119.42 7.2 \r\nL 10.7 7.2 \r\nz\r\n\" style=\"fill:#ffffff;\"/>\r\n   </g>\r\n   <g clip-path=\"url(#pf2c03cf58c)\">\r\n    <image height=\"109\" id=\"image3b3bdebc85\" transform=\"scale(1 -1)translate(0 -109)\" width=\"109\" x=\"10.7\" xlink:href=\"data:image/png;base64,\r\niVBORw0KGgoAAAANSUhEUgAAAG0AAABtCAYAAACr+O9WAAAABHNCSVQICAgIfAhkiAAAAeJJREFUeJzt3FGNg0AYReHpZgVUAhLAAQ4qAQmVQOsACa0SJICESsAB66DZuWnYPcn53v8Mycm8TKdz2vd9L4F1XatnpmlKlirP5zOaS4zjGM3dbrfPfsgbX4etpI8xGpDRgIwGZDQgowEZDchoQEYDMhqQ0YCMBmQ0oFN6yr9tW/XM6/VKlipN01TPpL8o3O/3aG6e5+qZvu+jtdxpQEYDMhqQ0YCMBmQ0IKMBGQ3IaEBGAzIakNGA4gPj/y65tl5KKV3XRXMeGOstowEZDchoQEYDMhqQ0YCMBmQ0IKMBGQ3IaEBGA/r+6w/4jeSKd3otfBiGaC49sU+404CMBmQ0IKMBGQ3IaEBGAzIakNGAjAZkNCCjARkN6NC7/MmDMaWU0rZt9cz5fI7WSv8DcCR3GpDRgIwGZDQgowEZDchoQEYDMhqQ0YCMBmQ0IMTjL8khbvqIy7Is0VxyqJ1ypwEZDchoQEYDMhqQ0YCMBmQ0IKMBGQ3IaEBGAzIaUPz4y5En7+M4RnOJ9Or6kdxpQEYDMhqQ0YCMBmQ0IKMBGQ3IaEBGAzIakNGA4gPjpmmqZy6XS7TW4/Gonrler9FaR17vTrnTgIwGZDQgowEZDchoQEYDMhqQ0YCMBmQ0IKMBGQ3oB255TV/1hMEDAAAAAElFTkSuQmCC\" y=\"-6.92\"/>\r\n   </g>\r\n   <g id=\"matplotlib.axis_1\"/>\r\n   <g id=\"matplotlib.axis_2\"/>\r\n   <g id=\"patch_3\">\r\n    <path d=\"M 10.7 115.92 \r\nL 10.7 7.2 \r\n\" style=\"fill:none;stroke:#000000;stroke-linecap:square;stroke-linejoin:miter;stroke-width:0.8;\"/>\r\n   </g>\r\n   <g id=\"patch_4\">\r\n    <path d=\"M 119.42 115.92 \r\nL 119.42 7.2 \r\n\" style=\"fill:none;stroke:#000000;stroke-linecap:square;stroke-linejoin:miter;stroke-width:0.8;\"/>\r\n   </g>\r\n   <g id=\"patch_5\">\r\n    <path d=\"M 10.7 115.92 \r\nL 119.42 115.92 \r\n\" style=\"fill:none;stroke:#000000;stroke-linecap:square;stroke-linejoin:miter;stroke-width:0.8;\"/>\r\n   </g>\r\n   <g id=\"patch_6\">\r\n    <path d=\"M 10.7 7.2 \r\nL 119.42 7.2 \r\n\" style=\"fill:none;stroke:#000000;stroke-linecap:square;stroke-linejoin:miter;stroke-width:0.8;\"/>\r\n   </g>\r\n  </g>\r\n </g>\r\n <defs>\r\n  <clipPath id=\"pf2c03cf58c\">\r\n   <rect height=\"108.72\" width=\"108.72\" x=\"10.7\" y=\"7.2\"/>\r\n  </clipPath>\r\n </defs>\r\n</svg>\r\n",
      "image/png": "[encoded data removed]"
     },
     "metadata": {}
    },
    {
     "output_type": "display_data",
     "data": {
      "text/plain": "<Figure size 144x144 with 1 Axes>",
      "image/svg+xml": "<?xml version=\"1.0\" encoding=\"utf-8\" standalone=\"no\"?>\r\n<!DOCTYPE svg PUBLIC \"-//W3C//DTD SVG 1.1//EN\"\r\n  \"http://www.w3.org/Graphics/SVG/1.1/DTD/svg11.dtd\">\r\n<!-- Created with matplotlib (https://matplotlib.org/) -->\r\n<svg height=\"126.62pt\" version=\"1.1\" viewBox=\"0 0 126.62 126.62\" width=\"126.62pt\" xmlns=\"http://www.w3.org/2000/svg\" xmlns:xlink=\"http://www.w3.org/1999/xlink\">\r\n <defs>\r\n  <style type=\"text/css\">\r\n*{stroke-linecap:butt;stroke-linejoin:round;}\r\n  </style>\r\n </defs>\r\n <g id=\"figure_1\">\r\n  <g id=\"patch_1\">\r\n   <path d=\"M 0 126.62 \r\nL 126.62 126.62 \r\nL 126.62 0 \r\nL 0 0 \r\nz\r\n\" style=\"fill:none;\"/>\r\n  </g>\r\n  <g id=\"axes_1\">\r\n   <g id=\"patch_2\">\r\n    <path d=\"M 10.7 115.92 \r\nL 119.42 115.92 \r\nL 119.42 7.2 \r\nL 10.7 7.2 \r\nz\r\n\" style=\"fill:#ffffff;\"/>\r\n   </g>\r\n   <g clip-path=\"url(#p1dcc68769a)\">\r\n    <image height=\"109\" id=\"image36f760b7f5\" transform=\"scale(1 -1)translate(0 -109)\" width=\"109\" x=\"10.7\" xlink:href=\"data:image/png;base64,\r\niVBORw0KGgoAAAANSUhEUgAAAG0AAABtCAYAAACr+O9WAAAABHNCSVQICAgIfAhkiAAAAaZJREFUeJzt3cFpQkEUQNEkpCBL0Eq0E7USsQPtwA60BTuwA7PNJiR/CD85cM/+MQOXtxnh+/p8Pp8v/9xut5s8s9/vh87abrdDcyN3HPU220n5NUUDFQ1UNFDRQEUDFQ1UNFDRQEUDFQ1UNFDRQO9/fYGfuN1us5212WxmO2tUmwYqGqhooKKBigYqGqhooKKBigYqGqhooKKBejAGtWmgooGKBioaqGigooGKBioaqGigooGKBioaqGig4Vf+8/k8eeZ6vY4el0/aNFDRQEUDFQ1UNFDRQEUDFQ1UNFDRQEUDFQ1UNNDwK//hcJg8M/LLwNwej8dfX+FbbRqoaKCigYoGKhqoaKCigYoGKhqoaKCigYoGGn4wPp1Ok2cul8vQWavVamhuxP1+H5pbLBa/fJOvtWmgooGKBioaqGigooGKBioaqGigooGKBioaqGigWT/xvlwuh+bW6/XkmePxOHSWoE0DFQ1UNFDRQEUDFQ1UNFDRQEUDFQ1UNFDRQMR/ggrf9phTmwYqGqhooKKBigYqGqhooKKBigYqGqhooKKBigb6AHx4KvpWNL7rAAAAAElFTkSuQmCC\" y=\"-6.92\"/>\r\n   </g>\r\n   <g id=\"matplotlib.axis_1\"/>\r\n   <g id=\"matplotlib.axis_2\"/>\r\n   <g id=\"patch_3\">\r\n    <path d=\"M 10.7 115.92 \r\nL 10.7 7.2 \r\n\" style=\"fill:none;stroke:#000000;stroke-linecap:square;stroke-linejoin:miter;stroke-width:0.8;\"/>\r\n   </g>\r\n   <g id=\"patch_4\">\r\n    <path d=\"M 119.42 115.92 \r\nL 119.42 7.2 \r\n\" style=\"fill:none;stroke:#000000;stroke-linecap:square;stroke-linejoin:miter;stroke-width:0.8;\"/>\r\n   </g>\r\n   <g id=\"patch_5\">\r\n    <path d=\"M 10.7 115.92 \r\nL 119.42 115.92 \r\n\" style=\"fill:none;stroke:#000000;stroke-linecap:square;stroke-linejoin:miter;stroke-width:0.8;\"/>\r\n   </g>\r\n   <g id=\"patch_6\">\r\n    <path d=\"M 10.7 7.2 \r\nL 119.42 7.2 \r\n\" style=\"fill:none;stroke:#000000;stroke-linecap:square;stroke-linejoin:miter;stroke-width:0.8;\"/>\r\n   </g>\r\n  </g>\r\n </g>\r\n <defs>\r\n  <clipPath id=\"p1dcc68769a\">\r\n   <rect height=\"108.72\" width=\"108.72\" x=\"10.7\" y=\"7.2\"/>\r\n  </clipPath>\r\n </defs>\r\n</svg>\r\n",
      "image/png": "[encoded data removed]"
     },
     "metadata": {}
    }
   ],
   "source": [
    "for k, i in enumerate(index_list):\n",
    "    plt.figure(figsize=(2,2))\n",
    "    plt.xticks([]); plt.yticks([])\n",
    "    img_file = img_file_wo_ext + str(k+1) + '.png'\n",
    "    plt.imshow(digits.images[i], cmap=plt.cm.binary, interpolation='nearest')\n",
    "    plt.savefig(img_file)"
   ]
  },
  {
   "cell_type": "code",
   "execution_count": null,
   "metadata": {},
   "outputs": [],
   "source": []
  }
 ]
}