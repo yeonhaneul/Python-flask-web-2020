{
 "metadata": {
  "language_info": {
   "codemirror_mode": {
    "name": "ipython",
    "version": 3
   },
   "file_extension": ".py",
   "mimetype": "text/x-python",
   "name": "python",
   "nbconvert_exporter": "python",
   "pygments_lexer": "ipython3",
   "version": "3.8.3-final"
  },
  "orig_nbformat": 2,
  "kernelspec": {
   "name": "python3",
   "display_name": "Python 3",
   "language": "python"
  }
 },
 "nbformat": 4,
 "nbformat_minor": 2,
 "cells": [
  {
   "cell_type": "code",
   "execution_count": 1,
   "metadata": {},
   "outputs": [],
   "source": [
    "import numpy as np\n",
    "import pandas as pd"
   ]
  },
  {
   "cell_type": "code",
   "execution_count": 2,
   "metadata": {},
   "outputs": [
    {
     "output_type": "execute_result",
     "data": {
      "text/plain": [
       "         id  sentiment                                             review\n",
       "0  \"5814_8\"          1  \"With all this stuff going down at the moment ...\n",
       "1  \"2381_9\"          1  \"\\\"The Classic War of the Worlds\\\" by Timothy ...\n",
       "2  \"7759_3\"          0  \"The film starts with a manager (Nicholas Bell..."
      ],
      "text/html": "<div>\n<style scoped>\n    .dataframe tbody tr th:only-of-type {\n        vertical-align: middle;\n    }\n\n    .dataframe tbody tr th {\n        vertical-align: top;\n    }\n\n    .dataframe thead th {\n        text-align: right;\n    }\n</style>\n<table border=\"1\" class=\"dataframe\">\n  <thead>\n    <tr style=\"text-align: right;\">\n      <th></th>\n      <th>id</th>\n      <th>sentiment</th>\n      <th>review</th>\n    </tr>\n  </thead>\n  <tbody>\n    <tr>\n      <th>0</th>\n      <td>\"5814_8\"</td>\n      <td>1</td>\n      <td>\"With all this stuff going down at the moment ...</td>\n    </tr>\n    <tr>\n      <th>1</th>\n      <td>\"2381_9\"</td>\n      <td>1</td>\n      <td>\"\\\"The Classic War of the Worlds\\\" by Timothy ...</td>\n    </tr>\n    <tr>\n      <th>2</th>\n      <td>\"7759_3\"</td>\n      <td>0</td>\n      <td>\"The film starts with a manager (Nicholas Bell...</td>\n    </tr>\n  </tbody>\n</table>\n</div>"
     },
     "metadata": {},
     "execution_count": 2
    }
   ],
   "source": [
    "df = pd.read_csv('../static/data/IMDB/labeledTrainData.tsv', header=0, sep='\\t', quoting=3)\n",
    "df.head(3)"
   ]
  },
  {
   "cell_type": "code",
   "execution_count": 3,
   "metadata": {},
   "outputs": [
    {
     "output_type": "execute_result",
     "data": {
      "text/plain": [
       "'\"With all this stuff going down at the moment with MJ i\\'ve started listening to his music, watching the odd documentary here and there, watched The Wiz and watched Moonwalker again. Maybe i just want to get a certain insight into this guy who i thought was really cool in the eighties just to maybe make up my mind whether he is guilty or innocent. Moonwalker is part biography, part feature film which i remember going to see at the cinema when it was originally released. Some of it has subtle messages about MJ\\'s feeling towards the press and also the obvious message of drugs are bad m\\'kay.<br /><br />Visually impressive but of course this is all about Michael Jackson so unless you remotely like MJ in anyway then you are going to hate this and find it boring. Some may call MJ an egotist for consenting to the making of this movie BUT MJ and most of his fans would say that he made it for the fans which if true is really nice of him.<br /><br />The actual feature film bit when it finally sta'"
      ]
     },
     "metadata": {},
     "execution_count": 3
    }
   ],
   "source": [
    "df.review[0][:1000]"
   ]
  },
  {
   "cell_type": "code",
   "execution_count": 4,
   "metadata": {},
   "outputs": [],
   "source": [
    "df['review'] = df.review.str.replace('<br />', ' ')"
   ]
  },
  {
   "cell_type": "code",
   "execution_count": 5,
   "metadata": {},
   "outputs": [],
   "source": [
    "# 영어 이외의 문자는 공백으로 변환(숫자 등)\n",
    "# 앞에 들어가는 ^는 not의 의미 -> a-z, A-Z가 '아닌 놈들은' 공백으로 바꿔라\n",
    "import re\n",
    "\n",
    "df['review'] = df.review.apply(lambda x: re.sub('[^a-zA-Z]', ' ', x))"
   ]
  },
  {
   "cell_type": "code",
   "execution_count": 6,
   "metadata": {},
   "outputs": [
    {
     "output_type": "execute_result",
     "data": {
      "text/plain": [
       "((17500, 1), (7500, 1))"
      ]
     },
     "metadata": {},
     "execution_count": 6
    }
   ],
   "source": [
    "from sklearn.model_selection import train_test_split\n",
    "\n",
    "feature_df = df.drop(['id', 'sentiment'], axis=1, inplace=False)\n",
    "\n",
    "X_train, X_test, y_train, y_test = train_test_split(\n",
    "    feature_df, df.sentiment, test_size =0.3, random_state=156\n",
    ")\n",
    "\n",
    "X_train.shape, X_test.shape"
   ]
  },
  {
   "cell_type": "code",
   "execution_count": 14,
   "metadata": {},
   "outputs": [
    {
     "output_type": "execute_result",
     "data": {
      "text/plain": [
       "((17500, 1), (17500,))"
      ]
     },
     "metadata": {},
     "execution_count": 14
    }
   ],
   "source": [
    "X_train.shape, y_train.shape"
   ]
  },
  {
   "cell_type": "code",
   "execution_count": 7,
   "metadata": {},
   "outputs": [],
   "source": [
    "from sklearn.feature_extraction.text import CountVectorizer, TfidfVectorizer\n",
    "from sklearn.linear_model import LogisticRegression\n",
    "from sklearn.metrics import accuracy_score"
   ]
  },
  {
   "cell_type": "code",
   "execution_count": 8,
   "metadata": {},
   "outputs": [
    {
     "output_type": "execute_result",
     "data": {
      "text/plain": [
       "0.886"
      ]
     },
     "metadata": {},
     "execution_count": 8
    }
   ],
   "source": [
    "count_vect = CountVectorizer(stop_words='english', ngram_range=(1,2))\n",
    "count_vect.fit(X_train.review)\n",
    "X_train_count = count_vect.transform(X_train.review)\n",
    "X_test_count = count_vect.transform(X_test.review)\n",
    "\n",
    "lr_clf = LogisticRegression(C=10)\n",
    "lr_clf.fit(X_train_count, y_train)\n",
    "pred = lr_clf.predict(X_test_count)\n",
    "accuracy_score(y_test, pred)"
   ]
  },
  {
   "cell_type": "code",
   "execution_count": 9,
   "metadata": {},
   "outputs": [
    {
     "output_type": "execute_result",
     "data": {
      "text/plain": [
       "0.8936"
      ]
     },
     "metadata": {},
     "execution_count": 9
    }
   ],
   "source": [
    "tfidf_vect = TfidfVectorizer(stop_words='english', ngram_range=(1,2))\n",
    "tfidf_vect.fit(X_train.review)\n",
    "X_train_tfidf = tfidf_vect.transform(X_train.review)\n",
    "X_test_tfidf = tfidf_vect.transform(X_test.review)\n",
    "\n",
    "lr_clf = LogisticRegression(C=10)\n",
    "lr_clf.fit(X_train_tfidf, y_train)\n",
    "pred = lr_clf.predict(X_test_tfidf)\n",
    "accuracy_score(y_test, pred)"
   ]
  },
  {
   "source": [
    "count벡터"
   ],
   "cell_type": "markdown",
   "metadata": {}
  },
  {
   "cell_type": "code",
   "execution_count": 11,
   "metadata": {},
   "outputs": [],
   "source": [
    "from sklearn.pipeline import Pipeline\n",
    "\n",
    "pipeline = Pipeline([\n",
    "    ('count_vect', CountVectorizer(stop_words='english', ngram_range=(1,2))),\n",
    "    ('lr_clf', LogisticRegression())\n",
    "])"
   ]
  },
  {
   "cell_type": "code",
   "execution_count": 22,
   "metadata": {},
   "outputs": [
    {
     "output_type": "stream",
     "name": "stdout",
     "text": [
      "Fitting 3 folds for each of 16 candidates, totalling 48 fits\n",
      "[Parallel(n_jobs=1)]: Using backend SequentialBackend with 1 concurrent workers.\n",
      "[Parallel(n_jobs=1)]: Done  48 out of  48 | elapsed: 18.7min finished\n",
      "{'count_vect__max_df': 1100, 'lr_clf__C': 1} 0.878686059596177\n"
     ]
    }
   ],
   "source": [
    "from sklearn.model_selection import GridSearchCV\n",
    "\n",
    "params = {\n",
    "    'count_vect__max_df': [1000, 1100, 1200, 1300],\n",
    "    'lr_clf__C': [1, 2, 3, 5]\n",
    "}\n",
    "\n",
    "grid_pipe_count = GridSearchCV(pipeline, param_grid=params, cv=3, scoring='accuracy', verbose=1)\n",
    "grid_pipe_count.fit(X_train.review, y_train)\n",
    "print(grid_pipe_count.best_params_, grid_pipe_count.best_score_)"
   ]
  },
  {
   "cell_type": "code",
   "execution_count": 18,
   "metadata": {},
   "outputs": [],
   "source": [
    "pipeline2 = Pipeline([\n",
    "    ('tfidf_vect', TfidfVectorizer(stop_words='english', ngram_range=(1,2))),\n",
    "    ('lr_clf', LogisticRegression())\n",
    "])"
   ]
  },
  {
   "cell_type": "code",
   "execution_count": 24,
   "metadata": {},
   "outputs": [
    {
     "output_type": "stream",
     "name": "stdout",
     "text": [
      "Fitting 3 folds for each of 12 candidates, totalling 36 fits\n",
      "[Parallel(n_jobs=1)]: Using backend SequentialBackend with 1 concurrent workers.\n",
      "[Parallel(n_jobs=1)]: Done  36 out of  36 | elapsed: 12.0min finished\n",
      "{'lr_clf__C': 45, 'tfidf_vect__max_df': 1250} 0.8895430392682413\n"
     ]
    }
   ],
   "source": [
    "from sklearn.model_selection import GridSearchCV\n",
    "\n",
    "params2 = {\n",
    "    'tfidf_vect__max_df': [1200, 1250, 1300],\n",
    "    'lr_clf__C': [35, 40, 45, 50]\n",
    "}\n",
    "\n",
    "grid_pipe_tfidf = GridSearchCV(pipeline2, param_grid=params2, cv=3, scoring='accuracy', verbose=1)\n",
    "grid_pipe_tfidf.fit(X_train.review, y_train)\n",
    "print(grid_pipe_tfidf.best_params_, grid_pipe_tfidf.best_score_)"
   ]
  },
  {
   "cell_type": "code",
   "execution_count": 25,
   "metadata": {},
   "outputs": [
    {
     "output_type": "execute_result",
     "data": {
      "text/plain": [
       "['../static/model/IMDB_tfidflr.pkl']"
      ]
     },
     "metadata": {},
     "execution_count": 25
    }
   ],
   "source": [
    "import joblib\n",
    "joblib.dump(grid_pipe_count, '../static/model/IMDB_countlr.pkl')\n",
    "joblib.dump(grid_pipe_tfidf, '../static/model/IMDB_tfidflr.pkl')"
   ]
  },
  {
   "cell_type": "code",
   "execution_count": 27,
   "metadata": {},
   "outputs": [],
   "source": [
    "review = \"In a nutshell: Personality-less, odd looking ginger girl drugs, drinks, hallucinates and humps her way to the top of the chess world.\n",
    "\n",
    "The film is loaded with stereotypes that the producers obviously thought defined the mid 1960s - bad marriages, sexist guys, alcoholic middle class housewives, anal retentive government officials, mean store clerks, stiff as wood Russian chess champions, libertine bisexual French girls, mean caretakers at the orphanage, and a hip and radical, down for the struggle black girl who was her BFF in the orphanage. Kudos to the wardrobe consultant and set decorators though. They nailed it with the mid century modern clothes and furnishing.\""
   ]
  },
  {
   "cell_type": "code",
   "execution_count": 30,
   "metadata": {},
   "outputs": [],
   "source": [
    "review_list = []\n",
    "review_list.append(review)"
   ]
  },
  {
   "cell_type": "code",
   "execution_count": 28,
   "metadata": {},
   "outputs": [
    {
     "output_type": "execute_result",
     "data": {
      "text/plain": [
       "              id  sentiment                                             review\n",
       "0       \"5814_8\"          1   With all this stuff going down at the moment ...\n",
       "1       \"2381_9\"          1     The Classic War of the Worlds   by Timothy ...\n",
       "2       \"7759_3\"          0   The film starts with a manager  Nicholas Bell...\n",
       "3       \"3630_4\"          0   It must be assumed that those who praised thi...\n",
       "4       \"9495_8\"          1   Superbly trashy and wondrously unpretentious ...\n",
       "...          ...        ...                                                ...\n",
       "24995   \"3453_3\"          0   It seems like more consideration has gone int...\n",
       "24996   \"5064_1\"          0   I don t believe they made this film  Complete...\n",
       "24997  \"10905_3\"          0   Guy is a loser  Can t get girls  needs to bui...\n",
       "24998  \"10194_3\"          0   This    minute documentary Bu uel made in the...\n",
       "24999   \"8478_8\"          1   I saw this movie as a child and it broke my h...\n",
       "\n",
       "[25000 rows x 3 columns]"
      ],
      "text/html": "<div>\n<style scoped>\n    .dataframe tbody tr th:only-of-type {\n        vertical-align: middle;\n    }\n\n    .dataframe tbody tr th {\n        vertical-align: top;\n    }\n\n    .dataframe thead th {\n        text-align: right;\n    }\n</style>\n<table border=\"1\" class=\"dataframe\">\n  <thead>\n    <tr style=\"text-align: right;\">\n      <th></th>\n      <th>id</th>\n      <th>sentiment</th>\n      <th>review</th>\n    </tr>\n  </thead>\n  <tbody>\n    <tr>\n      <th>0</th>\n      <td>\"5814_8\"</td>\n      <td>1</td>\n      <td>With all this stuff going down at the moment ...</td>\n    </tr>\n    <tr>\n      <th>1</th>\n      <td>\"2381_9\"</td>\n      <td>1</td>\n      <td>The Classic War of the Worlds   by Timothy ...</td>\n    </tr>\n    <tr>\n      <th>2</th>\n      <td>\"7759_3\"</td>\n      <td>0</td>\n      <td>The film starts with a manager  Nicholas Bell...</td>\n    </tr>\n    <tr>\n      <th>3</th>\n      <td>\"3630_4\"</td>\n      <td>0</td>\n      <td>It must be assumed that those who praised thi...</td>\n    </tr>\n    <tr>\n      <th>4</th>\n      <td>\"9495_8\"</td>\n      <td>1</td>\n      <td>Superbly trashy and wondrously unpretentious ...</td>\n    </tr>\n    <tr>\n      <th>...</th>\n      <td>...</td>\n      <td>...</td>\n      <td>...</td>\n    </tr>\n    <tr>\n      <th>24995</th>\n      <td>\"3453_3\"</td>\n      <td>0</td>\n      <td>It seems like more consideration has gone int...</td>\n    </tr>\n    <tr>\n      <th>24996</th>\n      <td>\"5064_1\"</td>\n      <td>0</td>\n      <td>I don t believe they made this film  Complete...</td>\n    </tr>\n    <tr>\n      <th>24997</th>\n      <td>\"10905_3\"</td>\n      <td>0</td>\n      <td>Guy is a loser  Can t get girls  needs to bui...</td>\n    </tr>\n    <tr>\n      <th>24998</th>\n      <td>\"10194_3\"</td>\n      <td>0</td>\n      <td>This    minute documentary Bu uel made in the...</td>\n    </tr>\n    <tr>\n      <th>24999</th>\n      <td>\"8478_8\"</td>\n      <td>1</td>\n      <td>I saw this movie as a child and it broke my h...</td>\n    </tr>\n  </tbody>\n</table>\n<p>25000 rows × 3 columns</p>\n</div>"
     },
     "metadata": {},
     "execution_count": 28
    }
   ],
   "source": [
    "df"
   ]
  },
  {
   "cell_type": "code",
   "execution_count": 34,
   "metadata": {},
   "outputs": [],
   "source": [
    "pred = grid_pipe_count.predict(review_list)\n",
    "pred2 = grid_pipe_tfidf.predict(review_list)"
   ]
  },
  {
   "cell_type": "code",
   "execution_count": 36,
   "metadata": {},
   "outputs": [
    {
     "output_type": "stream",
     "name": "stdout",
     "text": [
      "1 1\n"
     ]
    }
   ],
   "source": [
    "print(pred[0], pred2[0])"
   ]
  },
  {
   "cell_type": "code",
   "execution_count": 37,
   "metadata": {},
   "outputs": [],
   "source": [
    "index = 100"
   ]
  },
  {
   "cell_type": "code",
   "execution_count": 40,
   "metadata": {},
   "outputs": [],
   "source": [
    "test_data = df.iloc[index, -1]"
   ]
  },
  {
   "cell_type": "code",
   "execution_count": 44,
   "metadata": {},
   "outputs": [
    {
     "output_type": "execute_result",
     "data": {
      "text/plain": [
       "' There is a uk edition to this show which is rather less extravagant than the US version  The person concerned will get a new kitchen or perhaps bedroom and bathroom and is wonderfully grateful for what they have got  The US version of this show is everything that reality TV shouldn t be  Instead of making a few improvements to a house which the occupants could not afford or do themselves the entire house gets rebuilt  I do not know if this show is trying to show what a lousy welfare system exists in the US or if you beg hard enough you will receive  The rather vulgar product placement that takes place  particularly by Sears  is also uncalled for  Rsther than turning one family in a deprived area into potential millionaires  it would be far better to help the community as a whole where instead of spending the hundreds of thousands of dollars on one home  build something for the whole community       perhaps a place where diy and power tools can be borrowed and returned along with building materials so that everyone can benefit should they want to  Giving it all to one person can cause enormous resentment among the rest of the local community who still live in the same run down houses  '"
      ]
     },
     "metadata": {},
     "execution_count": 44
    }
   ],
   "source": [
    "test_data"
   ]
  },
  {
   "cell_type": "code",
   "execution_count": 41,
   "metadata": {},
   "outputs": [],
   "source": [
    "test = []\n",
    "test.append(test_data)"
   ]
  },
  {
   "cell_type": "code",
   "execution_count": 42,
   "metadata": {},
   "outputs": [],
   "source": [
    "pred = grid_pipe_count.predict(test)\n",
    "pred2 = grid_pipe_tfidf.predict(test)"
   ]
  },
  {
   "cell_type": "code",
   "execution_count": 43,
   "metadata": {},
   "outputs": [
    {
     "output_type": "stream",
     "name": "stdout",
     "text": [
      "0 0\n"
     ]
    }
   ],
   "source": [
    "print(pred[0], pred2[0])"
   ]
  },
  {
   "cell_type": "code",
   "execution_count": 45,
   "metadata": {},
   "outputs": [
    {
     "output_type": "execute_result",
     "data": {
      "text/plain": [
       "           id                                             review\n",
       "0  \"12311_10\"  \"Naturally in a film who's main themes are of ...\n",
       "1    \"8348_2\"  \"This movie is a disaster within a disaster fi...\n",
       "2    \"5828_4\"  \"All in all, this is a movie for kids. We saw ..."
      ],
      "text/html": "<div>\n<style scoped>\n    .dataframe tbody tr th:only-of-type {\n        vertical-align: middle;\n    }\n\n    .dataframe tbody tr th {\n        vertical-align: top;\n    }\n\n    .dataframe thead th {\n        text-align: right;\n    }\n</style>\n<table border=\"1\" class=\"dataframe\">\n  <thead>\n    <tr style=\"text-align: right;\">\n      <th></th>\n      <th>id</th>\n      <th>review</th>\n    </tr>\n  </thead>\n  <tbody>\n    <tr>\n      <th>0</th>\n      <td>\"12311_10\"</td>\n      <td>\"Naturally in a film who's main themes are of ...</td>\n    </tr>\n    <tr>\n      <th>1</th>\n      <td>\"8348_2\"</td>\n      <td>\"This movie is a disaster within a disaster fi...</td>\n    </tr>\n    <tr>\n      <th>2</th>\n      <td>\"5828_4\"</td>\n      <td>\"All in all, this is a movie for kids. We saw ...</td>\n    </tr>\n  </tbody>\n</table>\n</div>"
     },
     "metadata": {},
     "execution_count": 45
    }
   ],
   "source": [
    "df = pd.read_csv('../static/data/IMDB/testData.tsv', header=0, sep='\\t', quoting=3)\n",
    "df.head(3)"
   ]
  },
  {
   "cell_type": "code",
   "execution_count": 47,
   "metadata": {},
   "outputs": [],
   "source": [
    "test_data = df.iloc[index, -1]"
   ]
  },
  {
   "cell_type": "code",
   "execution_count": 48,
   "metadata": {},
   "outputs": [],
   "source": [
    "test = []\n",
    "test.append(test_data)"
   ]
  },
  {
   "cell_type": "code",
   "execution_count": 49,
   "metadata": {},
   "outputs": [],
   "source": [
    "pred = grid_pipe_count.predict(test)\n",
    "pred2 = grid_pipe_tfidf.predict(test)"
   ]
  },
  {
   "cell_type": "code",
   "execution_count": 50,
   "metadata": {},
   "outputs": [
    {
     "output_type": "stream",
     "name": "stdout",
     "text": [
      "1 1\n"
     ]
    }
   ],
   "source": [
    "print(pred[0], pred2[0])"
   ]
  },
  {
   "cell_type": "code",
   "execution_count": 51,
   "metadata": {},
   "outputs": [
    {
     "output_type": "stream",
     "name": "stdout",
     "text": [
      "긍정\n"
     ]
    }
   ],
   "source": [
    "if pred[0] == 1:\n",
    "    print('긍정')\n",
    "else:\n",
    "    print('부정')"
   ]
  },
  {
   "cell_type": "code",
   "execution_count": null,
   "metadata": {},
   "outputs": [],
   "source": []
  }
 ]
}