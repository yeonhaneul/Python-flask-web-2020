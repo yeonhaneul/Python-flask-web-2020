{
 "metadata": {
  "language_info": {
   "codemirror_mode": {
    "name": "ipython",
    "version": 3
   },
   "file_extension": ".py",
   "mimetype": "text/x-python",
   "name": "python",
   "nbconvert_exporter": "python",
   "pygments_lexer": "ipython3",
   "version": "3.8.3-final"
  },
  "orig_nbformat": 2,
  "kernelspec": {
   "name": "python3",
   "display_name": "Python 3",
   "language": "python"
  }
 },
 "nbformat": 4,
 "nbformat_minor": 2,
 "cells": [
  {
   "cell_type": "code",
   "execution_count": 15,
   "metadata": {},
   "outputs": [],
   "source": [
    "import requests\n",
    "import pandas as pd\n",
    "from bs4 import BeautifulSoup"
   ]
  },
  {
   "cell_type": "code",
   "execution_count": 16,
   "metadata": {},
   "outputs": [],
   "source": [
    "key_fd = open('./covid_key.txt', mode='r')\n",
    "covid_key = key_fd.read(100)\n",
    "key_fd.close()"
   ]
  },
  {
   "source": [
    "## 시도발생 현황 region 테이블에 저장하기"
   ],
   "cell_type": "markdown",
   "metadata": {}
  },
  {
   "cell_type": "code",
   "execution_count": 3,
   "metadata": {},
   "outputs": [],
   "source": [
    "start_date = '20200302'\n",
    "end_date = '20200302'\n",
    "page = 1"
   ]
  },
  {
   "cell_type": "code",
   "execution_count": 4,
   "metadata": {},
   "outputs": [],
   "source": [
    "corona_url = 'http://openapi.data.go.kr/openapi/service/rest/Covid19/getCovid19SidoInfStateJson'\n",
    "url = f'{corona_url}?ServiceKey={covid_key}&pageNo={page}&numOfRows=10&startCreateDt={start_date}&endCreateDt={end_date}'"
   ]
  },
  {
   "cell_type": "code",
   "execution_count": 5,
   "metadata": {},
   "outputs": [
    {
     "output_type": "stream",
     "name": "stdout",
     "text": [
      "19\n"
     ]
    }
   ],
   "source": [
    "result = requests.get(url)\n",
    "soup = BeautifulSoup(result.text, 'xml')\n",
    "resultCode = soup.find('resultCode').get_text()\n",
    "if resultCode == '00':\n",
    "    print(soup.find('totalCount').string)\n",
    "elif resultCode == '99':\n",
    "    print(soup.find('resultMsg').string)"
   ]
  },
  {
   "source": [
    "#### 우선 연습으로 3/18 데이터 뽑아보기 - append"
   ],
   "cell_type": "markdown",
   "metadata": {}
  },
  {
   "cell_type": "code",
   "execution_count": 6,
   "metadata": {},
   "outputs": [
    {
     "output_type": "execute_result",
     "data": {
      "text/plain": [
       "                      등록시간 사망자 확진자 광역시도 전일대비 격리해제 격리중 지역발생 해외유입 10만명당 ID  \\\n",
       "0   2020-03-02 19:27:57.57   0   0   검역    0    0   0    0    0  None  0   \n",
       "1   2020-03-02 19:27:57.57   0   0   제주    0    0   0    0    0  None  0   \n",
       "2   2020-03-02 19:27:57.57   0   0   경남    4    0   0    0    0  None  0   \n",
       "3   2020-03-02 19:27:57.57   8   0   경북   67    0   0    0    0  None  0   \n",
       "4   2020-03-02 19:27:57.57   0   0   전남    0    0   0    0    0  None  0   \n",
       "5   2020-03-02 19:27:57.57   0   0   전북    1    0   0    0    0  None  0   \n",
       "6   2020-03-02 19:27:57.57   0   0   충남   13    0   0    0    0  None  0   \n",
       "7   2020-03-02 19:27:57.57   0   0   충북    1    0   0    0    0  None  0   \n",
       "8   2020-03-02 19:27:57.57   0   0   강원    8    0   0    0    0  None  0   \n",
       "9   2020-03-02 19:27:57.57   1   0   경기    7    0   0    0    0  None  0   \n",
       "10  2020-03-02 19:27:57.57   0   0   세종    0    0   0    0    0  None  0   \n",
       "11  2020-03-02 19:27:57.57   0   0   울산    3    0   0    0    0  None  0   \n",
       "12  2020-03-02 19:27:57.57   0   0   대전    0    0   0    0    0  None  0   \n",
       "13  2020-03-02 19:27:57.57   0   0   광주    0    0   0    0    0  None  0   \n",
       "14  2020-03-02 19:27:57.57   0   0   인천    0    0   0    0    0  None  0   \n",
       "15  2020-03-02 19:27:57.57   9   0   대구  469    0   0    0    0  None  0   \n",
       "16  2020-03-02 19:27:57.57   0   0   부산    3    0   0    0    0  None  0   \n",
       "17  2020-03-02 19:27:57.57   0   0   서울   10    0   0    0    0  None  0   \n",
       "18  2020-03-02 19:27:57.57  18   0   합계  586    0   0    0    0  None  0   \n",
       "\n",
       "               기준시간                    수정시간  \n",
       "0   2020년 3월 1일 16시  2020-03-03 20:04:50.50  \n",
       "1   2020년 3월 1일 16시                    None  \n",
       "2   2020년 3월 1일 16시                    None  \n",
       "3   2020년 3월 1일 16시                    None  \n",
       "4   2020년 3월 1일 16시                    None  \n",
       "5   2020년 3월 1일 16시                    None  \n",
       "6   2020년 3월 1일 16시                    None  \n",
       "7   2020년 3월 1일 16시                    None  \n",
       "8   2020년 3월 1일 16시                    None  \n",
       "9   2020년 3월 1일 16시                    None  \n",
       "10  2020년 3월 1일 16시                    None  \n",
       "11  2020년 3월 1일 16시                    None  \n",
       "12  2020년 3월 1일 16시                    None  \n",
       "13  2020년 3월 1일 16시                    None  \n",
       "14  2020년 3월 1일 16시                    None  \n",
       "15  2020년 3월 1일 16시                    None  \n",
       "16  2020년 3월 1일 16시                    None  \n",
       "17  2020년 3월 1일 16시                    None  \n",
       "18  2020년 3월 1일 16시                    None  "
      ],
      "text/html": "<div>\n<style scoped>\n    .dataframe tbody tr th:only-of-type {\n        vertical-align: middle;\n    }\n\n    .dataframe tbody tr th {\n        vertical-align: top;\n    }\n\n    .dataframe thead th {\n        text-align: right;\n    }\n</style>\n<table border=\"1\" class=\"dataframe\">\n  <thead>\n    <tr style=\"text-align: right;\">\n      <th></th>\n      <th>등록시간</th>\n      <th>사망자</th>\n      <th>확진자</th>\n      <th>광역시도</th>\n      <th>전일대비</th>\n      <th>격리해제</th>\n      <th>격리중</th>\n      <th>지역발생</th>\n      <th>해외유입</th>\n      <th>10만명당</th>\n      <th>ID</th>\n      <th>기준시간</th>\n      <th>수정시간</th>\n    </tr>\n  </thead>\n  <tbody>\n    <tr>\n      <th>0</th>\n      <td>2020-03-02 19:27:57.57</td>\n      <td>0</td>\n      <td>0</td>\n      <td>검역</td>\n      <td>0</td>\n      <td>0</td>\n      <td>0</td>\n      <td>0</td>\n      <td>0</td>\n      <td>None</td>\n      <td>0</td>\n      <td>2020년 3월 1일 16시</td>\n      <td>2020-03-03 20:04:50.50</td>\n    </tr>\n    <tr>\n      <th>1</th>\n      <td>2020-03-02 19:27:57.57</td>\n      <td>0</td>\n      <td>0</td>\n      <td>제주</td>\n      <td>0</td>\n      <td>0</td>\n      <td>0</td>\n      <td>0</td>\n      <td>0</td>\n      <td>None</td>\n      <td>0</td>\n      <td>2020년 3월 1일 16시</td>\n      <td>None</td>\n    </tr>\n    <tr>\n      <th>2</th>\n      <td>2020-03-02 19:27:57.57</td>\n      <td>0</td>\n      <td>0</td>\n      <td>경남</td>\n      <td>4</td>\n      <td>0</td>\n      <td>0</td>\n      <td>0</td>\n      <td>0</td>\n      <td>None</td>\n      <td>0</td>\n      <td>2020년 3월 1일 16시</td>\n      <td>None</td>\n    </tr>\n    <tr>\n      <th>3</th>\n      <td>2020-03-02 19:27:57.57</td>\n      <td>8</td>\n      <td>0</td>\n      <td>경북</td>\n      <td>67</td>\n      <td>0</td>\n      <td>0</td>\n      <td>0</td>\n      <td>0</td>\n      <td>None</td>\n      <td>0</td>\n      <td>2020년 3월 1일 16시</td>\n      <td>None</td>\n    </tr>\n    <tr>\n      <th>4</th>\n      <td>2020-03-02 19:27:57.57</td>\n      <td>0</td>\n      <td>0</td>\n      <td>전남</td>\n      <td>0</td>\n      <td>0</td>\n      <td>0</td>\n      <td>0</td>\n      <td>0</td>\n      <td>None</td>\n      <td>0</td>\n      <td>2020년 3월 1일 16시</td>\n      <td>None</td>\n    </tr>\n    <tr>\n      <th>5</th>\n      <td>2020-03-02 19:27:57.57</td>\n      <td>0</td>\n      <td>0</td>\n      <td>전북</td>\n      <td>1</td>\n      <td>0</td>\n      <td>0</td>\n      <td>0</td>\n      <td>0</td>\n      <td>None</td>\n      <td>0</td>\n      <td>2020년 3월 1일 16시</td>\n      <td>None</td>\n    </tr>\n    <tr>\n      <th>6</th>\n      <td>2020-03-02 19:27:57.57</td>\n      <td>0</td>\n      <td>0</td>\n      <td>충남</td>\n      <td>13</td>\n      <td>0</td>\n      <td>0</td>\n      <td>0</td>\n      <td>0</td>\n      <td>None</td>\n      <td>0</td>\n      <td>2020년 3월 1일 16시</td>\n      <td>None</td>\n    </tr>\n    <tr>\n      <th>7</th>\n      <td>2020-03-02 19:27:57.57</td>\n      <td>0</td>\n      <td>0</td>\n      <td>충북</td>\n      <td>1</td>\n      <td>0</td>\n      <td>0</td>\n      <td>0</td>\n      <td>0</td>\n      <td>None</td>\n      <td>0</td>\n      <td>2020년 3월 1일 16시</td>\n      <td>None</td>\n    </tr>\n    <tr>\n      <th>8</th>\n      <td>2020-03-02 19:27:57.57</td>\n      <td>0</td>\n      <td>0</td>\n      <td>강원</td>\n      <td>8</td>\n      <td>0</td>\n      <td>0</td>\n      <td>0</td>\n      <td>0</td>\n      <td>None</td>\n      <td>0</td>\n      <td>2020년 3월 1일 16시</td>\n      <td>None</td>\n    </tr>\n    <tr>\n      <th>9</th>\n      <td>2020-03-02 19:27:57.57</td>\n      <td>1</td>\n      <td>0</td>\n      <td>경기</td>\n      <td>7</td>\n      <td>0</td>\n      <td>0</td>\n      <td>0</td>\n      <td>0</td>\n      <td>None</td>\n      <td>0</td>\n      <td>2020년 3월 1일 16시</td>\n      <td>None</td>\n    </tr>\n    <tr>\n      <th>10</th>\n      <td>2020-03-02 19:27:57.57</td>\n      <td>0</td>\n      <td>0</td>\n      <td>세종</td>\n      <td>0</td>\n      <td>0</td>\n      <td>0</td>\n      <td>0</td>\n      <td>0</td>\n      <td>None</td>\n      <td>0</td>\n      <td>2020년 3월 1일 16시</td>\n      <td>None</td>\n    </tr>\n    <tr>\n      <th>11</th>\n      <td>2020-03-02 19:27:57.57</td>\n      <td>0</td>\n      <td>0</td>\n      <td>울산</td>\n      <td>3</td>\n      <td>0</td>\n      <td>0</td>\n      <td>0</td>\n      <td>0</td>\n      <td>None</td>\n      <td>0</td>\n      <td>2020년 3월 1일 16시</td>\n      <td>None</td>\n    </tr>\n    <tr>\n      <th>12</th>\n      <td>2020-03-02 19:27:57.57</td>\n      <td>0</td>\n      <td>0</td>\n      <td>대전</td>\n      <td>0</td>\n      <td>0</td>\n      <td>0</td>\n      <td>0</td>\n      <td>0</td>\n      <td>None</td>\n      <td>0</td>\n      <td>2020년 3월 1일 16시</td>\n      <td>None</td>\n    </tr>\n    <tr>\n      <th>13</th>\n      <td>2020-03-02 19:27:57.57</td>\n      <td>0</td>\n      <td>0</td>\n      <td>광주</td>\n      <td>0</td>\n      <td>0</td>\n      <td>0</td>\n      <td>0</td>\n      <td>0</td>\n      <td>None</td>\n      <td>0</td>\n      <td>2020년 3월 1일 16시</td>\n      <td>None</td>\n    </tr>\n    <tr>\n      <th>14</th>\n      <td>2020-03-02 19:27:57.57</td>\n      <td>0</td>\n      <td>0</td>\n      <td>인천</td>\n      <td>0</td>\n      <td>0</td>\n      <td>0</td>\n      <td>0</td>\n      <td>0</td>\n      <td>None</td>\n      <td>0</td>\n      <td>2020년 3월 1일 16시</td>\n      <td>None</td>\n    </tr>\n    <tr>\n      <th>15</th>\n      <td>2020-03-02 19:27:57.57</td>\n      <td>9</td>\n      <td>0</td>\n      <td>대구</td>\n      <td>469</td>\n      <td>0</td>\n      <td>0</td>\n      <td>0</td>\n      <td>0</td>\n      <td>None</td>\n      <td>0</td>\n      <td>2020년 3월 1일 16시</td>\n      <td>None</td>\n    </tr>\n    <tr>\n      <th>16</th>\n      <td>2020-03-02 19:27:57.57</td>\n      <td>0</td>\n      <td>0</td>\n      <td>부산</td>\n      <td>3</td>\n      <td>0</td>\n      <td>0</td>\n      <td>0</td>\n      <td>0</td>\n      <td>None</td>\n      <td>0</td>\n      <td>2020년 3월 1일 16시</td>\n      <td>None</td>\n    </tr>\n    <tr>\n      <th>17</th>\n      <td>2020-03-02 19:27:57.57</td>\n      <td>0</td>\n      <td>0</td>\n      <td>서울</td>\n      <td>10</td>\n      <td>0</td>\n      <td>0</td>\n      <td>0</td>\n      <td>0</td>\n      <td>None</td>\n      <td>0</td>\n      <td>2020년 3월 1일 16시</td>\n      <td>None</td>\n    </tr>\n    <tr>\n      <th>18</th>\n      <td>2020-03-02 19:27:57.57</td>\n      <td>18</td>\n      <td>0</td>\n      <td>합계</td>\n      <td>586</td>\n      <td>0</td>\n      <td>0</td>\n      <td>0</td>\n      <td>0</td>\n      <td>None</td>\n      <td>0</td>\n      <td>2020년 3월 1일 16시</td>\n      <td>None</td>\n    </tr>\n  </tbody>\n</table>\n</div>"
     },
     "metadata": {},
     "execution_count": 6
    }
   ],
   "source": [
    "createDt_list,deathCnt_list,defCnt_list,gubun_list,incDec_list = [],[],[],[],[]\n",
    "isolClearCnt_list,isolIngCnt_list,localOccCnt_list,overFlowCnt_list = [],[],[],[]\n",
    "qurRate_list,seq_list,stdDay_list,updateDt_list = [],[],[],[]\n",
    "items = soup.find_all('item')\n",
    "for item in items:\n",
    "    createDt_list.append(item.find('createDt').string if item.find('createDt') else '0')\n",
    "    deathCnt_list.append(item.find('deathCnt').string if item.find('deathCnt') else '0')\n",
    "    defCnt_list.append(item.find('defCnt').string if item.find('defCnt') else '0')\n",
    "    gubun_list.append(item.find('gubun').string if item.find('gubun') else '0')\n",
    "    incDec_list.append(item.find('incDec').string if item.find('incDec') else '0')\n",
    "    isolClearCnt_list.append(item.find('isolClearCnt').string if item.find('isolClearCnt') else '0')\n",
    "    isolIngCnt_list.append(item.find('isolIngCnt').string if item.find('isolIngCnt') else '0')\n",
    "    localOccCnt_list.append(item.find('localOccCnt').string if item.find('localOccCnt') else '0')\n",
    "    overFlowCnt_list.append(item.find('overFlowCnt').string if item.find('overFlowCnt') else '0')\n",
    "    qurRate_list.append(item.find('qurRate').string if item.find('qurRate') else '0')\n",
    "    seq_list.append(item.find('seq_list').string if item.find('seq_list') else '0')\n",
    "    stdDay_list.append(item.find('stdDay').string if item.find('stdDay') else '0')\n",
    "    updateDt_list.append(item.find('updateDt').string if item.find('updateDt') else '0')\n",
    "\n",
    "df = pd.DataFrame({\n",
    "    '등록시간':createDt_list, '사망자':deathCnt_list, '확진자':defCnt_list,\n",
    "    '광역시도':gubun_list, '전일대비':incDec_list, '격리해제':isolClearCnt_list, \n",
    "    '격리중':isolIngCnt_list, '지역발생':localOccCnt_list,'해외유입':overFlowCnt_list,\n",
    "    '10만명당':qurRate_list, 'ID':seq_list, '기준시간':stdDay_list, '수정시간':updateDt_list\n",
    "})\n",
    "df"
   ]
  },
  {
   "source": [
    "### 테이블 생성"
   ],
   "cell_type": "markdown",
   "metadata": {}
  },
  {
   "cell_type": "code",
   "execution_count": 7,
   "metadata": {},
   "outputs": [],
   "source": [
    "import sqlite3\n",
    "conn = sqlite3.connect('../db/covid.db')\n",
    "cur = conn.cursor()"
   ]
  },
  {
   "cell_type": "code",
   "execution_count": 18,
   "metadata": {},
   "outputs": [],
   "source": [
    "sql_table = '''create table if not exists region (\n",
    "  rid integer not null primary key autoincrement,\n",
    "  stdDay text not null,\n",
    "  deathCnt int not null,\n",
    "  defCnt int not null,\n",
    "  gubun text not null,\n",
    "  incDec int not null,\n",
    "  isolClearCnt int not null,\n",
    "  isolIngCnt int not null,\n",
    "  localOccCnt int not null,\n",
    "  overFlowCnt int not null,\n",
    "  qurRate float);\n",
    "'''\n",
    "cur.execute(sql_table)\n",
    "conn.commit()"
   ]
  },
  {
   "source": [
    "### 하나의 레코드를 DB에 삽입"
   ],
   "cell_type": "markdown",
   "metadata": {}
  },
  {
   "cell_type": "code",
   "execution_count": 19,
   "metadata": {},
   "outputs": [],
   "source": [
    "# 기준시간을 YYYY-MM-DD로 변환\n",
    "def change_date(x):\n",
    "    y = x.split(' ')\n",
    "    month = y[1][:-1] if len(y[1][:-1]) == 2 else '0'+y[1][:-1]\n",
    "    day = y[2][:-1] if len(y[2][:-1]) == 2 else '0'+y[2][:-1]\n",
    "    return f'{y[0][:-1]}-{month}-{day}'"
   ]
  },
  {
   "cell_type": "code",
   "execution_count": 20,
   "metadata": {},
   "outputs": [],
   "source": [
    "df['사망자'] = df['사망자'].fillna(0).astype(int)\n",
    "df['확진자'] = df['확진자'].fillna(0).astype(int)\n",
    "df['전일대비'] = df['전일대비'].fillna(0).astype(int)\n",
    "df['격리해제'] = df['격리해제'].fillna(0).astype(int)\n",
    "df['격리중'] = df['격리중'].fillna(0).astype(int)\n",
    "df['지역발생'] = df['지역발생'].fillna(0).astype(int)\n",
    "df['해외유입'] = df['해외유입'].fillna(0).astype(int)\n",
    "df['10만명당'] = df['10만명당'].fillna(0).astype(float)"
   ]
  },
  {
   "cell_type": "code",
   "execution_count": 21,
   "metadata": {},
   "outputs": [
    {
     "output_type": "execute_result",
     "data": {
      "text/plain": [
       "['2020-03-01', 0, 0, '검역', 0, 0, 0, 0, 0, 0.0]"
      ]
     },
     "metadata": {},
     "execution_count": 21
    }
   ],
   "source": [
    "params = [change_date(df['기준시간'][0]), int(df['사망자'][0]), int(df['확진자'][0]), \n",
    "          df['광역시도'][0], int(df['전일대비'][0]), int(df['격리해제'][0]), \n",
    "          int(df['격리중'][0]), int(df['지역발생'][0]), int(df['해외유입'][0]), float(df['10만명당'][0])]\n",
    "params"
   ]
  },
  {
   "cell_type": "code",
   "execution_count": 22,
   "metadata": {},
   "outputs": [],
   "source": [
    "sql_insert = '''insert into region(stdDay, deathCnt, defCnt, gubun, incDec, isolClearCnt,\n",
    "isolIngCnt, localOccCnt, overFlowCnt, qurRate) values(?,?,?,?,?,?,?,?,?,?);\n",
    "'''\n",
    "cur.execute(sql_insert, params)\n",
    "conn.commit()"
   ]
  },
  {
   "source": [
    "하루 데이터 19건을 DB에 삽입"
   ],
   "cell_type": "markdown",
   "metadata": {}
  },
  {
   "cell_type": "code",
   "execution_count": 23,
   "metadata": {},
   "outputs": [],
   "source": [
    "for i in range(19):\n",
    "    params = [change_date(df['기준시간'][i]), int(df['사망자'][i]), int(df['확진자'][i]), \n",
    "              df['광역시도'][i], int(df['전일대비'][i]), int(df['격리해제'][i]), \n",
    "              int(df['격리중'][i]), int(df['지역발생'][i]), int(df['해외유입'][i])]\n",
    "    params.append(None if df['10만명당'][i]=='-' else float(df['10만명당'][i]))\n",
    "    cur.execute(sql_insert, params)\n",
    "    conn.commit()"
   ]
  },
  {
   "source": [
    "최종적으로 3월1일부터 12월21까지 DB에 write하는 코드"
   ],
   "cell_type": "markdown",
   "metadata": {}
  },
  {
   "cell_type": "code",
   "execution_count": 26,
   "metadata": {},
   "outputs": [],
   "source": [
    "from tqdm import tqdm_notebook"
   ]
  },
  {
   "cell_type": "code",
   "execution_count": 25,
   "metadata": {},
   "outputs": [],
   "source": [
    "sql_insert = '''insert into region(stdDay, deathCnt, defCnt, gubun, incDec, isolClearCnt,\n",
    "isolIngCnt, localOccCnt, overFlowCnt, qurRate) values(?,?,?,?,?,?,?,?,?,?);\n",
    "'''\n",
    "month_dict = {3:31, 4:30, 5:31, 6:30, 7:31, 8:31, 9:30, 10:31, 11:30, 12:21}"
   ]
  },
  {
   "cell_type": "code",
   "execution_count": 26,
   "metadata": {},
   "outputs": [
    {
     "output_type": "display_data",
     "data": {
      "text/plain": "HBox(children=(FloatProgress(value=0.0, max=10.0), HTML(value='')))",
      "application/vnd.jupyter.widget-view+json": {
       "version_major": 2,
       "version_minor": 0,
       "model_id": "a073654c55eb4b17877b7045e076d094"
      }
     },
     "metadata": {}
    },
    {
     "output_type": "stream",
     "name": "stdout",
     "text": [
      "\n"
     ]
    }
   ],
   "source": [
    "\n",
    "for k, v in tqdm_notebook(month_dict.items()):\n",
    "    month = str(k) if k >= 10 else f'0{k}'\n",
    "    for i in range(1, v+1):\n",
    "        day = str(i) if i >= 10 else f'0{i}'\n",
    "        date = f'2020{month}{day}'\n",
    "        #print(date)\n",
    "        page = 1\n",
    "        url = f'{corona_url}?ServiceKey={covid_key}&pageNo={page}&numOfRows=10&startCreateDt={date}&endCreateDt={date}'\n",
    "        soup = BeautifulSoup(requests.get(url).text, 'xml')\n",
    "\n",
    "        items = soup.find_all('item')\n",
    "        item_count = len(items)\n",
    "        if item_count == 0:\n",
    "            continue\n",
    "        for index, item in enumerate(items):\n",
    "            if item_count > 30 and index >= int(item_count/2):\n",
    "                break\n",
    "            stdDay = change_date(item.find('stdDay').string)\n",
    "            deathCnt = int(item.find('deathCnt').string) if item.find('deathCnt') else 0\n",
    "            defCnt = int(item.find('defCnt').string) if item.find('defCnt') else 0\n",
    "            gubun = item.find('gubun').string\n",
    "            incDec = int(item.find('incDec').string)\n",
    "            isolClearCnt = int(item.find('isolClearCnt').string) if item.find('isolClearCnt') else 0\n",
    "            isolIngCnt = int(item.find('isolIngCnt').string) if item.find('isolIngCnt') else 0\n",
    "            localOccCnt = int(item.find('localOccCnt').string) if item.find('localOccCnt') else 0\n",
    "            overFlowCnt = int(item.find('overFlowCnt').string) if item.find('overFlowCnt') else 0\n",
    "            qurRate = None\n",
    "            if item.find('qurRate'):\n",
    "                qur = item.find('qurRate').string\n",
    "                if qur != None and qur.count('.') == 2:\n",
    "                    qur = qur[:-1]\n",
    "                #print(qur)\n",
    "                if qur != None and qur[0] in '0123456789':\n",
    "                    qurRate = float(qur)\n",
    "        \n",
    "            params = [stdDay, deathCnt, defCnt, gubun, incDec, isolClearCnt, isolIngCnt, \n",
    "                    localOccCnt, overFlowCnt, qurRate]\n",
    "            #print(params)\n",
    "            cur.execute(sql_insert, params)\n",
    "            conn.commit()"
   ]
  },
  {
   "cell_type": "code",
   "execution_count": 27,
   "metadata": {},
   "outputs": [],
   "source": [
    "cur.close()\n",
    "conn.close()"
   ]
  },
  {
   "source": [
    "2. 연령별.성별 데이터"
   ],
   "cell_type": "markdown",
   "metadata": {}
  },
  {
   "cell_type": "code",
   "execution_count": 17,
   "metadata": {},
   "outputs": [],
   "source": [
    "start_date = '20200301'\n",
    "end_date = '20200301'\n",
    "page = 1"
   ]
  },
  {
   "cell_type": "code",
   "execution_count": 18,
   "metadata": {},
   "outputs": [],
   "source": [
    "corona_url = 'http://openapi.data.go.kr/openapi/service/rest/Covid19/getCovid19GenAgeCaseInfJson'\n",
    "url = f'{corona_url}?ServiceKey={covid_key}&pageNo={page}&numOfRows=10&startCreateDt={start_date}&endCreateDt={end_date}'"
   ]
  },
  {
   "cell_type": "code",
   "execution_count": 19,
   "metadata": {},
   "outputs": [
    {
     "output_type": "stream",
     "name": "stdout",
     "text": [
      "0\n"
     ]
    }
   ],
   "source": [
    "result = requests.get(url)\n",
    "soup = BeautifulSoup(result.text, 'xml')\n",
    "resultCode = soup.find('resultCode').get_text()\n",
    "if resultCode == '00':\n",
    "    print(soup.find('totalCount').string)\n",
    "elif resultCode == '99':\n",
    "    print(soup.find('resultMsg').string)"
   ]
  },
  {
   "cell_type": "code",
   "execution_count": 20,
   "metadata": {},
   "outputs": [
    {
     "output_type": "execute_result",
     "data": {
      "text/plain": [
       "<?xml version=\"1.0\" encoding=\"utf-8\"?>\n",
       "<response><header><resultCode>00</resultCode><resultMsg>NORMAL SERVICE.</resultMsg></header><body><items/><numOfRows>10</numOfRows><pageNo>1</pageNo><totalCount>0</totalCount></body></response>"
      ]
     },
     "metadata": {},
     "execution_count": 20
    }
   ],
   "source": [
    "soup"
   ]
  },
  {
   "cell_type": "code",
   "execution_count": 21,
   "metadata": {},
   "outputs": [
    {
     "output_type": "execute_result",
     "data": {
      "text/plain": [
       "Empty DataFrame\n",
       "Columns: [등록시간, 확진자, 확진률, 사망자, 사망률, 치명률, 구분, ID, 수정시간]\n",
       "Index: []"
      ],
      "text/html": "<div>\n<style scoped>\n    .dataframe tbody tr th:only-of-type {\n        vertical-align: middle;\n    }\n\n    .dataframe tbody tr th {\n        vertical-align: top;\n    }\n\n    .dataframe thead th {\n        text-align: right;\n    }\n</style>\n<table border=\"1\" class=\"dataframe\">\n  <thead>\n    <tr style=\"text-align: right;\">\n      <th></th>\n      <th>등록시간</th>\n      <th>확진자</th>\n      <th>확진률</th>\n      <th>사망자</th>\n      <th>사망률</th>\n      <th>치명률</th>\n      <th>구분</th>\n      <th>ID</th>\n      <th>수정시간</th>\n    </tr>\n  </thead>\n  <tbody>\n  </tbody>\n</table>\n</div>"
     },
     "metadata": {},
     "execution_count": 21
    }
   ],
   "source": [
    "createDt_list,confCase_list,confCaseRate_list,death_list,deathRate_list = [],[],[],[],[]\n",
    "gubun_list,criticalRate_list,seq_list,updateDt_list = [],[],[],[]\n",
    "items = soup.find_all('item')\n",
    "for item in items:\n",
    "    createDt_list.append(item.find('createDt').string if item.find('createDt') else '')\n",
    "    confCase_list.append(item.find('confCase').string if item.find('confCase') else '')\n",
    "    confCaseRate_list.append(item.find('confCaseRate').string if item.find('confCaseRate') else '')\n",
    "    death_list.append(item.find('death').string if item.find('death') else '')\n",
    "    deathRate_list.append(item.find('deathRate').string if item.find('deathRate') else '')\n",
    "    criticalRate_list.append(item.find('criticalRate').string if item.find('criticalRate') else '')\n",
    "    gubun_list.append(item.find('gubun').string if item.find('gubun') else '')\n",
    "    seq_list.append(item.find('seq').string if item.find('seq') else '')\n",
    "    updateDt_list.append(item.find('updateDt').string if item.find('updateDt') else '')\n",
    "\n",
    "df = pd.DataFrame({\n",
    "    '등록시간':createDt_list, '확진자':confCase_list, '확진률':confCaseRate_list,\n",
    "    '사망자':death_list, '사망률':deathRate_list, '치명률':criticalRate_list, \n",
    "    '구분':gubun_list, 'ID':seq_list, '수정시간':updateDt_list\n",
    "})\n",
    "df"
   ]
  },
  {
   "cell_type": "code",
   "execution_count": 22,
   "metadata": {},
   "outputs": [],
   "source": [
    "import sqlite3"
   ]
  },
  {
   "cell_type": "code",
   "execution_count": 23,
   "metadata": {},
   "outputs": [],
   "source": [
    "conn = sqlite3.connect('../db/covid.db')\n",
    "cur = conn.cursor()"
   ]
  },
  {
   "cell_type": "code",
   "execution_count": 27,
   "metadata": {},
   "outputs": [],
   "source": [
    "from tqdm import tqdm_notebook"
   ]
  },
  {
   "cell_type": "code",
   "execution_count": 28,
   "metadata": {},
   "outputs": [],
   "source": [
    "sql_table = '''create table if not exists agender (\n",
    "  agid integer not null primary key autoincrement,\n",
    "  stdDay text not null,\n",
    "  confCase int not null,\n",
    "  confCaseRate float not null,\n",
    "  death int not null,\n",
    "  deathRate float not null,\n",
    "  criticalRate float not null,\n",
    "  gubun text not null,\n",
    "  seq int,\n",
    "  updateDt text);\n",
    "'''\n",
    "cur.execute(sql_table)\n",
    "conn.commit()"
   ]
  },
  {
   "cell_type": "code",
   "execution_count": 29,
   "metadata": {},
   "outputs": [
    {
     "output_type": "display_data",
     "data": {
      "text/plain": "HBox(children=(FloatProgress(value=0.0, max=10.0), HTML(value='')))",
      "application/vnd.jupyter.widget-view+json": {
       "version_major": 2,
       "version_minor": 0,
       "model_id": "41799cdbef8e41e895484b004f4fb426"
      }
     },
     "metadata": {}
    },
    {
     "output_type": "stream",
     "name": "stdout",
     "text": [
      "3월: 1-0, 2-0, 3-0, 4-0, 5-0, 6-0, 7-0, 8-0, 9-0, 10-0, 11-0, 12-0, 13-0, 14-0, 15-0, 16-0, 17-0, 18-0, 19-0, 20-0, 21-0, 22-0, 23-0, 24-0, 25-0, 26-0, 27-0, 28-0, 29-0, 30-0, 31-0, \n",
      "4월: 1-0, 2-11, 3-0, 4-0, 5-0, 6-0, 7-12, 8-11, 9-11, 10-11, 11-11, 12-11, 13-11, 14-11, 15-11, 16-11, 17-11, 18-11, 19-11, 20-11, 21-11, 22-11, 23-11, 24-11, 25-11, 26-11, 27-11, 28-11, 29-11, 30-11, \n",
      "5월: 1-11, 2-11, 3-11, 4-11, 5-11, 6-11, 7-11, 8-11, 9-11, 10-11, 11-11, 12-11, 13-11, 14-11, 15-11, 16-11, 17-11, 18-11, 19-11, 20-11, 21-11, 22-0, 23-11, 24-11, 25-11, 26-11, 27-11, 28-11, 29-11, 30-11, 31-11, \n",
      "6월: 1-0, 2-11, 3-11, 4-11, 5-11, 6-11, 7-11, 8-11, 9-11, 10-11, 11-11, 12-11, 13-11, 14-11, 15-0, 16-11, 17-11, 18-11, 19-11, 20-11, 21-11, 22-11, 23-11, 24-11, 25-11, 26-11, 27-11, 28-11, 29-11, 30-11, \n",
      "7월: 1-11, 2-11, 3-11, 4-11, 5-11, 6-11, 7-11, 8-11, 9-11, 10-11, 11-11, 12-11, 13-11, 14-11, 15-11, 16-11, 17-11, 18-11, 19-11, 20-11, 21-11, 22-11, 23-11, 24-11, 25-11, 26-11, 27-11, 28-11, 29-11, 30-11, 31-11, \n",
      "8월: 1-11, 2-11, 3-11, 4-11, 5-11, 6-11, 7-11, 8-11, 9-11, 10-11, 11-11, 12-11, 13-11, 14-11, 15-11, 16-11, 17-11, 18-11, 19-11, 20-11, 21-11, 22-11, 23-11, 24-11, 25-11, 26-11, 27-11, 28-11, 29-11, 30-11, 31-11, \n",
      "9월: 1-11, 2-11, 3-11, 4-11, 5-11, 6-11, 7-11, 8-11, 9-11, 10-11, 11-11, 12-11, 13-11, 14-11, 15-11, 16-11, 17-11, 18-11, 19-11, 20-11, 21-11, 22-11, 23-11, 24-11, 25-11, 26-11, 27-11, 28-11, 29-11, 30-11, \n",
      "10월: 1-11, 2-11, 3-11, 4-11, 5-11, 6-11, 7-11, 8-11, 9-0, 10-11, 11-11, 12-11, 13-11, 14-11, 15-11, 16-11, 17-11, 18-11, 19-11, 20-11, 21-11, 22-11, 23-11, 24-11, 25-11, 26-11, 27-11, 28-11, 29-11, 30-11, 31-11, \n",
      "11월: 1-11, 2-11, 3-11, 4-11, 5-11, 6-22, 7-11, 8-11, 9-11, 10-11, 11-11, 12-11, 13-11, 14-11, 15-11, 16-11, 17-11, 18-11, 19-11, 20-11, 21-11, 22-11, 23-11, 24-11, 25-11, 26-11, 27-11, 28-11, 29-11, 30-11, \n",
      "12월: 1-11, 2-11, 3-11, 4-11, 5-11, 6-11, 7-11, 8-11, 9-11, 10-11, 11-11, 12-11, 13-11, 14-11, 15-11, 16-11, 17-11, 18-11, 19-11, 20-11, 21-11, 22-11, 23-0, \n",
      "\n"
     ]
    }
   ],
   "source": [
    "month_dict = {3:31, 4:30, 5:31, 6:30, 7:31, 8:31, 9:30, 10:31, 11:30, 12:23}\n",
    "for k, v in tqdm_notebook(month_dict.items()):\n",
    "    month = str(k) if k >= 10 else f'0{k}'\n",
    "    print(f'{k}월: ', end='')\n",
    "    for i in range(1, v+1):\n",
    "        day = str(i) if i >= 10 else f'0{i}'\n",
    "        print(f'{i}-', end='')\n",
    "        date = f'2020{month}{day}'\n",
    "        page = 1\n",
    "        url = f'{corona_url}?ServiceKey={covid_key}&pageNo={page}&numOfRows=10&startCreateDt={date}&endCreateDt={date}'\n",
    "        soup = BeautifulSoup(requests.get(url).text, 'xml')\n",
    "\n",
    "        items = soup.find_all('item')\n",
    "        item_count = len(items)\n",
    "        print(f'{item_count}, ', end='')\n",
    "    print()"
   ]
  },
  {
   "cell_type": "code",
   "execution_count": 30,
   "metadata": {},
   "outputs": [],
   "source": [
    "sql_insert = '''insert into agender(stdDay, confCase, confCaseRate, death, deathRate,\n",
    "criticalRate, gubun, seq, updateDt) values(?,?,?,?,?,?,?,?,?);\n",
    "'''"
   ]
  },
  {
   "cell_type": "code",
   "execution_count": 32,
   "metadata": {},
   "outputs": [
    {
     "output_type": "display_data",
     "data": {
      "text/plain": "HBox(children=(FloatProgress(value=0.0, max=9.0), HTML(value='')))",
      "application/vnd.jupyter.widget-view+json": {
       "version_major": 2,
       "version_minor": 0,
       "model_id": "2fb2e05411774b41b1d03755ba74bdcb"
      }
     },
     "metadata": {}
    },
    {
     "output_type": "stream",
     "name": "stdout",
     "text": [
      "\n"
     ]
    }
   ],
   "source": [
    "month_dict = {4:30, 5:31, 6:30, 7:31, 8:31, 9:30, 10:31, 11:30, 12:21}\n",
    "for k, v in tqdm_notebook(month_dict.items()):\n",
    "    month = str(k) if k >= 10 else f'0{k}'\n",
    "    for i in range(1, v+1):\n",
    "        day = str(i) if i >= 10 else f'0{i}'\n",
    "        date = f'2020{month}{day}'\n",
    "        page = 1\n",
    "        url = f'{corona_url}?ServiceKey={covid_key}&pageNo={page}&numOfRows=10&startCreateDt={date}&endCreateDt={date}'\n",
    "        soup = BeautifulSoup(requests.get(url).text, 'xml')\n",
    "\n",
    "        items = soup.find_all('item')\n",
    "        item_count = len(items)\n",
    "        if item_count == 0:\n",
    "            continue\n",
    "\n",
    "        for item in items:\n",
    "            createDt = item.find('createDt').string.split(' ')[0]\n",
    "            confCase = int(item.find('confCase').string)\n",
    "            confCaseRate = float(item.find('confCaseRate').string)\n",
    "            death = int(item.find('death').string)\n",
    "            deathRate = float(item.find('deathRate').string)\n",
    "            criticalRate = float(item.find('criticalRate').string)\n",
    "            gubun = item.find('gubun').string\n",
    "            seq = int(item.find('seq').string)\n",
    "            updateDt = item.find('updateDt').string\n",
    "\n",
    "            params = [createDt, confCase, confCaseRate, death, deathRate, criticalRate,\n",
    "                      gubun,seq,updateDt]\n",
    "            cur.execute(sql_insert, params)\n",
    "            conn.commit()"
   ]
  },
  {
   "cell_type": "code",
   "execution_count": 44,
   "metadata": {},
   "outputs": [],
   "source": [
    "cur.close()\n",
    "conn.close()"
   ]
  },
  {
   "cell_type": "code",
   "execution_count": null,
   "metadata": {},
   "outputs": [],
   "source": []
  }
 ]
}