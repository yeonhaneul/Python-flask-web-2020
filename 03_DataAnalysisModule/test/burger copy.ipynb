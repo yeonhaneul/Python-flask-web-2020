{
 "metadata": {
  "language_info": {
   "codemirror_mode": {
    "name": "ipython",
    "version": 3
   },
   "file_extension": ".py",
   "mimetype": "text/x-python",
   "name": "python",
   "nbconvert_exporter": "python",
   "pygments_lexer": "ipython3",
   "version": "3.8.3-final"
  },
  "orig_nbformat": 2,
  "kernelspec": {
   "name": "python3",
   "display_name": "Python 3",
   "language": "python"
  }
 },
 "nbformat": 4,
 "nbformat_minor": 2,
 "cells": [
  {
   "cell_type": "code",
   "execution_count": 1,
   "metadata": {},
   "outputs": [],
   "source": [
    "import pandas as pd\n",
    "import numpy as np\n",
    "import platform\n",
    "import matplotlib as mpl\n",
    "import matplotlib.pyplot as plt\n",
    "import seaborn as sns\n",
    "from glob import glob\n",
    "%matplotlib inline\n",
    "mpl.rc('font', family='Malgun Gothic')\n",
    "mpl.rc('axes', unicode_minus=False)\n",
    "sns.set(font=\"Malgun Gothic\", \n",
    "        rc={\"axes.unicode_minus\":False})"
   ]
  },
  {
   "cell_type": "code",
   "execution_count": 2,
   "metadata": {},
   "outputs": [],
   "source": [
    "office_files = glob('../static/data/office/소상공인시장진흥공단_상가(상권)정보*.csv')\n",
    "tmp_raw = []\n",
    "\n",
    "for file_name in office_files:\n",
    "    tmp = pd.read_csv(file_name, sep='|', encoding='utf8')\n",
    "    tmp_raw.append(tmp)\n",
    "\n",
    "station_raw = pd.concat(tmp_raw)"
   ]
  },
  {
   "cell_type": "code",
   "execution_count": 3,
   "metadata": {},
   "outputs": [
    {
     "output_type": "execute_result",
     "data": {
      "text/plain": [
       "      상호명  지점명 상권업종중분류명   상권업종소분류명  시도명 시군구명 행정동명                     도로명주소  \\\n",
       "0     황진이  NaN     유흥주점   룸살롱/단란주점  강원도  원주시  중앙동            강원도 원주시 중앙로 61   \n",
       "1  용둔은영식당  NaN       한식  한식/백반/한정식  강원도  횡성군  우천면      강원도 횡성군 우천면 경강로 2730   \n",
       "2    아미식당  NaN       한식  한식/백반/한정식  강원도  홍천군  서석면  강원도 홍천군 서석면 풍암장터2길 49-13   \n",
       "3  산약초건강원  NaN  건강/미용식품        건강원  강원도  태백시  황지동           강원도 태백시 황지로 112   \n",
       "4    왕벌식당  NaN       한식  한식/백반/한정식  강원도  양구군  방산면      강원도 양구군 방산면 평화로 5432   \n",
       "\n",
       "           경도         위도  \n",
       "0  127.952252  37.347773  \n",
       "1  128.059348  37.495197  \n",
       "2  128.187197  37.711402  \n",
       "3  128.992063  37.168758  \n",
       "4  127.955740  38.224635  "
      ],
      "text/html": "<div>\n<style scoped>\n    .dataframe tbody tr th:only-of-type {\n        vertical-align: middle;\n    }\n\n    .dataframe tbody tr th {\n        vertical-align: top;\n    }\n\n    .dataframe thead th {\n        text-align: right;\n    }\n</style>\n<table border=\"1\" class=\"dataframe\">\n  <thead>\n    <tr style=\"text-align: right;\">\n      <th></th>\n      <th>상호명</th>\n      <th>지점명</th>\n      <th>상권업종중분류명</th>\n      <th>상권업종소분류명</th>\n      <th>시도명</th>\n      <th>시군구명</th>\n      <th>행정동명</th>\n      <th>도로명주소</th>\n      <th>경도</th>\n      <th>위도</th>\n    </tr>\n  </thead>\n  <tbody>\n    <tr>\n      <th>0</th>\n      <td>황진이</td>\n      <td>NaN</td>\n      <td>유흥주점</td>\n      <td>룸살롱/단란주점</td>\n      <td>강원도</td>\n      <td>원주시</td>\n      <td>중앙동</td>\n      <td>강원도 원주시 중앙로 61</td>\n      <td>127.952252</td>\n      <td>37.347773</td>\n    </tr>\n    <tr>\n      <th>1</th>\n      <td>용둔은영식당</td>\n      <td>NaN</td>\n      <td>한식</td>\n      <td>한식/백반/한정식</td>\n      <td>강원도</td>\n      <td>횡성군</td>\n      <td>우천면</td>\n      <td>강원도 횡성군 우천면 경강로 2730</td>\n      <td>128.059348</td>\n      <td>37.495197</td>\n    </tr>\n    <tr>\n      <th>2</th>\n      <td>아미식당</td>\n      <td>NaN</td>\n      <td>한식</td>\n      <td>한식/백반/한정식</td>\n      <td>강원도</td>\n      <td>홍천군</td>\n      <td>서석면</td>\n      <td>강원도 홍천군 서석면 풍암장터2길 49-13</td>\n      <td>128.187197</td>\n      <td>37.711402</td>\n    </tr>\n    <tr>\n      <th>3</th>\n      <td>산약초건강원</td>\n      <td>NaN</td>\n      <td>건강/미용식품</td>\n      <td>건강원</td>\n      <td>강원도</td>\n      <td>태백시</td>\n      <td>황지동</td>\n      <td>강원도 태백시 황지로 112</td>\n      <td>128.992063</td>\n      <td>37.168758</td>\n    </tr>\n    <tr>\n      <th>4</th>\n      <td>왕벌식당</td>\n      <td>NaN</td>\n      <td>한식</td>\n      <td>한식/백반/한정식</td>\n      <td>강원도</td>\n      <td>양구군</td>\n      <td>방산면</td>\n      <td>강원도 양구군 방산면 평화로 5432</td>\n      <td>127.955740</td>\n      <td>38.224635</td>\n    </tr>\n  </tbody>\n</table>\n</div>"
     },
     "metadata": {},
     "execution_count": 3
    }
   ],
   "source": [
    "market = station_raw.loc[:, ['상호명', '지점명', '상권업종중분류명', '상권업종소분류명', '시도명', '시군구명', '행정동명', '도로명주소', '경도', '위도']]\n",
    "market.head()"
   ]
  },
  {
   "cell_type": "code",
   "execution_count": 4,
   "metadata": {},
   "outputs": [
    {
     "output_type": "execute_result",
     "data": {
      "text/plain": [
       "         상호명  지점명 상권업종중분류명 상권업종소분류명  시도명 시군구명 행정동명                도로명주소  \\\n",
       "12   버거킹오션월드  NaN    패스트푸드    패스트푸드  강원도  홍천군   서면  강원도 홍천군 서면 한치골길 262   \n",
       "196      로데오  NaN    패스트푸드     피자전문  강원도  강릉시  중앙동   강원도 강릉시 경강로 2090-1   \n",
       "479   왕눈이도넛츠  NaN    패스트푸드    도너츠전문  강원도  영월군  영월읍   강원도 영월군 영월읍 삼옥재길 2   \n",
       "618  씨지브이원주2  NaN    패스트푸드    패스트푸드  강원도  원주시  단계동     강원도 원주시 서원대로 171   \n",
       "643   베스킨라벤스  NaN    패스트푸드  아이스크림판매  강원도  삼척시  남양동       강원도 삼척시 진주로 35   \n",
       "\n",
       "             경도         위도  \n",
       "12   127.687273  37.652324  \n",
       "196  128.895743  37.754245  \n",
       "479  128.476234  37.209981  \n",
       "618  127.930798  37.344816  \n",
       "643  129.163718  37.443797  "
      ],
      "text/html": "<div>\n<style scoped>\n    .dataframe tbody tr th:only-of-type {\n        vertical-align: middle;\n    }\n\n    .dataframe tbody tr th {\n        vertical-align: top;\n    }\n\n    .dataframe thead th {\n        text-align: right;\n    }\n</style>\n<table border=\"1\" class=\"dataframe\">\n  <thead>\n    <tr style=\"text-align: right;\">\n      <th></th>\n      <th>상호명</th>\n      <th>지점명</th>\n      <th>상권업종중분류명</th>\n      <th>상권업종소분류명</th>\n      <th>시도명</th>\n      <th>시군구명</th>\n      <th>행정동명</th>\n      <th>도로명주소</th>\n      <th>경도</th>\n      <th>위도</th>\n    </tr>\n  </thead>\n  <tbody>\n    <tr>\n      <th>12</th>\n      <td>버거킹오션월드</td>\n      <td>NaN</td>\n      <td>패스트푸드</td>\n      <td>패스트푸드</td>\n      <td>강원도</td>\n      <td>홍천군</td>\n      <td>서면</td>\n      <td>강원도 홍천군 서면 한치골길 262</td>\n      <td>127.687273</td>\n      <td>37.652324</td>\n    </tr>\n    <tr>\n      <th>196</th>\n      <td>로데오</td>\n      <td>NaN</td>\n      <td>패스트푸드</td>\n      <td>피자전문</td>\n      <td>강원도</td>\n      <td>강릉시</td>\n      <td>중앙동</td>\n      <td>강원도 강릉시 경강로 2090-1</td>\n      <td>128.895743</td>\n      <td>37.754245</td>\n    </tr>\n    <tr>\n      <th>479</th>\n      <td>왕눈이도넛츠</td>\n      <td>NaN</td>\n      <td>패스트푸드</td>\n      <td>도너츠전문</td>\n      <td>강원도</td>\n      <td>영월군</td>\n      <td>영월읍</td>\n      <td>강원도 영월군 영월읍 삼옥재길 2</td>\n      <td>128.476234</td>\n      <td>37.209981</td>\n    </tr>\n    <tr>\n      <th>618</th>\n      <td>씨지브이원주2</td>\n      <td>NaN</td>\n      <td>패스트푸드</td>\n      <td>패스트푸드</td>\n      <td>강원도</td>\n      <td>원주시</td>\n      <td>단계동</td>\n      <td>강원도 원주시 서원대로 171</td>\n      <td>127.930798</td>\n      <td>37.344816</td>\n    </tr>\n    <tr>\n      <th>643</th>\n      <td>베스킨라벤스</td>\n      <td>NaN</td>\n      <td>패스트푸드</td>\n      <td>아이스크림판매</td>\n      <td>강원도</td>\n      <td>삼척시</td>\n      <td>남양동</td>\n      <td>강원도 삼척시 진주로 35</td>\n      <td>129.163718</td>\n      <td>37.443797</td>\n    </tr>\n  </tbody>\n</table>\n</div>"
     },
     "metadata": {},
     "execution_count": 4
    }
   ],
   "source": [
    "market_burger = market[market['상권업종중분류명'] == '패스트푸드']\n",
    "market_burger.head()"
   ]
  },
  {
   "cell_type": "code",
   "execution_count": 5,
   "metadata": {},
   "outputs": [],
   "source": [
    "market_burger.to_csv('../static/data/burger.csv')"
   ]
  },
  {
   "cell_type": "code",
   "execution_count": 6,
   "metadata": {},
   "outputs": [],
   "source": [
    "market_buger = pd.read_csv('../static/data/burger.csv')"
   ]
  },
  {
   "cell_type": "code",
   "execution_count": 7,
   "metadata": {},
   "outputs": [
    {
     "output_type": "execute_result",
     "data": {
      "text/plain": [
       "              상호명      지점명 상권업종중분류명 상권업종소분류명   시도명     시군구명 행정동명  \\\n",
       "0         버거킹오션월드             패스트푸드    패스트푸드   강원도      홍천군   서면   \n",
       "108           버거킹     비발디점    패스트푸드    패스트푸드   강원도      홍천군   서면   \n",
       "210        BKR버거킹   대명비발디점    패스트푸드    패스트푸드   강원도      홍천군   서면   \n",
       "629           버거킹  강릉교동SK점    패스트푸드    패스트푸드   강원도      강릉시  교1동   \n",
       "655    버거킹춘천거두GS점  춘천거두GS점    패스트푸드    패스트푸드   강원도      춘천시  동내면   \n",
       "...           ...      ...      ...      ...   ...      ...  ...   \n",
       "29117         버거킹   청주터미널점    패스트푸드    패스트푸드  충청북도  청주시 흥덕구  가경동   \n",
       "29426         버거킹   청주성안길점    패스트푸드    패스트푸드  충청북도  청주시 상당구  성안동   \n",
       "29445         버거킹  오창호수공원점    패스트푸드    패스트푸드  충청북도  청주시 청원구  오창읍   \n",
       "29659    버거킹청주오송점    청주오송점    패스트푸드    패스트푸드  충청북도  청주시 흥덕구  오송읍   \n",
       "29717      버거킹진천점      진천점    패스트푸드    패스트푸드  충청북도      진천군  진천읍   \n",
       "\n",
       "                              도로명주소          경도         위도 n_상호명  \n",
       "0               강원도 홍천군 서면 한치골길 262  127.687273  37.652324   버거킹  \n",
       "108             강원도 홍천군 서면 한치골길 262  127.687273  37.652324   버거킹  \n",
       "210             강원도 홍천군 서면 한치골길 262  127.687273  37.652324   버거킹  \n",
       "629                강원도 강릉시 하슬라로 159  128.874437  37.764370   버거킹  \n",
       "655            강원도 춘천시 동내면 춘천순환로 59  127.750304  37.855931   버거킹  \n",
       "...                             ...         ...        ...   ...  \n",
       "29117           충청북도 청주시 흥덕구 풍산로 15  127.432258  36.626560   버거킹  \n",
       "29426       충청북도 청주시 상당구 상당로81번길 64  127.486861  36.635702   버거킹  \n",
       "29445  충청북도 청주시 청원구 오창읍 중심상업로 31-18  127.427912  36.713784   버거킹  \n",
       "29659    충청북도 청주시 흥덕구 오송읍 오송생명로 178  127.328759  36.631402   버거킹  \n",
       "29717           충청북도 진천군 진천읍 상산로 71  127.441902  36.854697   버거킹  \n",
       "\n",
       "[441 rows x 11 columns]"
      ],
      "text/html": "<div>\n<style scoped>\n    .dataframe tbody tr th:only-of-type {\n        vertical-align: middle;\n    }\n\n    .dataframe tbody tr th {\n        vertical-align: top;\n    }\n\n    .dataframe thead th {\n        text-align: right;\n    }\n</style>\n<table border=\"1\" class=\"dataframe\">\n  <thead>\n    <tr style=\"text-align: right;\">\n      <th></th>\n      <th>상호명</th>\n      <th>지점명</th>\n      <th>상권업종중분류명</th>\n      <th>상권업종소분류명</th>\n      <th>시도명</th>\n      <th>시군구명</th>\n      <th>행정동명</th>\n      <th>도로명주소</th>\n      <th>경도</th>\n      <th>위도</th>\n      <th>n_상호명</th>\n    </tr>\n  </thead>\n  <tbody>\n    <tr>\n      <th>0</th>\n      <td>버거킹오션월드</td>\n      <td></td>\n      <td>패스트푸드</td>\n      <td>패스트푸드</td>\n      <td>강원도</td>\n      <td>홍천군</td>\n      <td>서면</td>\n      <td>강원도 홍천군 서면 한치골길 262</td>\n      <td>127.687273</td>\n      <td>37.652324</td>\n      <td>버거킹</td>\n    </tr>\n    <tr>\n      <th>108</th>\n      <td>버거킹</td>\n      <td>비발디점</td>\n      <td>패스트푸드</td>\n      <td>패스트푸드</td>\n      <td>강원도</td>\n      <td>홍천군</td>\n      <td>서면</td>\n      <td>강원도 홍천군 서면 한치골길 262</td>\n      <td>127.687273</td>\n      <td>37.652324</td>\n      <td>버거킹</td>\n    </tr>\n    <tr>\n      <th>210</th>\n      <td>BKR버거킹</td>\n      <td>대명비발디점</td>\n      <td>패스트푸드</td>\n      <td>패스트푸드</td>\n      <td>강원도</td>\n      <td>홍천군</td>\n      <td>서면</td>\n      <td>강원도 홍천군 서면 한치골길 262</td>\n      <td>127.687273</td>\n      <td>37.652324</td>\n      <td>버거킹</td>\n    </tr>\n    <tr>\n      <th>629</th>\n      <td>버거킹</td>\n      <td>강릉교동SK점</td>\n      <td>패스트푸드</td>\n      <td>패스트푸드</td>\n      <td>강원도</td>\n      <td>강릉시</td>\n      <td>교1동</td>\n      <td>강원도 강릉시 하슬라로 159</td>\n      <td>128.874437</td>\n      <td>37.764370</td>\n      <td>버거킹</td>\n    </tr>\n    <tr>\n      <th>655</th>\n      <td>버거킹춘천거두GS점</td>\n      <td>춘천거두GS점</td>\n      <td>패스트푸드</td>\n      <td>패스트푸드</td>\n      <td>강원도</td>\n      <td>춘천시</td>\n      <td>동내면</td>\n      <td>강원도 춘천시 동내면 춘천순환로 59</td>\n      <td>127.750304</td>\n      <td>37.855931</td>\n      <td>버거킹</td>\n    </tr>\n    <tr>\n      <th>...</th>\n      <td>...</td>\n      <td>...</td>\n      <td>...</td>\n      <td>...</td>\n      <td>...</td>\n      <td>...</td>\n      <td>...</td>\n      <td>...</td>\n      <td>...</td>\n      <td>...</td>\n      <td>...</td>\n    </tr>\n    <tr>\n      <th>29117</th>\n      <td>버거킹</td>\n      <td>청주터미널점</td>\n      <td>패스트푸드</td>\n      <td>패스트푸드</td>\n      <td>충청북도</td>\n      <td>청주시 흥덕구</td>\n      <td>가경동</td>\n      <td>충청북도 청주시 흥덕구 풍산로 15</td>\n      <td>127.432258</td>\n      <td>36.626560</td>\n      <td>버거킹</td>\n    </tr>\n    <tr>\n      <th>29426</th>\n      <td>버거킹</td>\n      <td>청주성안길점</td>\n      <td>패스트푸드</td>\n      <td>패스트푸드</td>\n      <td>충청북도</td>\n      <td>청주시 상당구</td>\n      <td>성안동</td>\n      <td>충청북도 청주시 상당구 상당로81번길 64</td>\n      <td>127.486861</td>\n      <td>36.635702</td>\n      <td>버거킹</td>\n    </tr>\n    <tr>\n      <th>29445</th>\n      <td>버거킹</td>\n      <td>오창호수공원점</td>\n      <td>패스트푸드</td>\n      <td>패스트푸드</td>\n      <td>충청북도</td>\n      <td>청주시 청원구</td>\n      <td>오창읍</td>\n      <td>충청북도 청주시 청원구 오창읍 중심상업로 31-18</td>\n      <td>127.427912</td>\n      <td>36.713784</td>\n      <td>버거킹</td>\n    </tr>\n    <tr>\n      <th>29659</th>\n      <td>버거킹청주오송점</td>\n      <td>청주오송점</td>\n      <td>패스트푸드</td>\n      <td>패스트푸드</td>\n      <td>충청북도</td>\n      <td>청주시 흥덕구</td>\n      <td>오송읍</td>\n      <td>충청북도 청주시 흥덕구 오송읍 오송생명로 178</td>\n      <td>127.328759</td>\n      <td>36.631402</td>\n      <td>버거킹</td>\n    </tr>\n    <tr>\n      <th>29717</th>\n      <td>버거킹진천점</td>\n      <td>진천점</td>\n      <td>패스트푸드</td>\n      <td>패스트푸드</td>\n      <td>충청북도</td>\n      <td>진천군</td>\n      <td>진천읍</td>\n      <td>충청북도 진천군 진천읍 상산로 71</td>\n      <td>127.441902</td>\n      <td>36.854697</td>\n      <td>버거킹</td>\n    </tr>\n  </tbody>\n</table>\n<p>441 rows × 11 columns</p>\n</div>"
     },
     "metadata": {},
     "execution_count": 7
    }
   ],
   "source": [
    "buger_king = market_buger[market_buger['상호명'].str.contains('버거킹', case=False)]\n",
    "buger_king['지점명'] = buger_king['지점명'].fillna(' ')\n",
    "del buger_king['Unnamed: 0']\n",
    "buger_king['n_상호명'] = '버거킹'\n",
    "buger_king"
   ]
  },
  {
   "cell_type": "code",
   "execution_count": 8,
   "metadata": {},
   "outputs": [
    {
     "output_type": "execute_result",
     "data": {
      "text/plain": [
       "                          상호명        지점명 상권업종중분류명 상권업종소분류명   시도명     시군구명  \\\n",
       "137             한국맥도날드춘천퇴계DT점    춘천퇴계DT점    패스트푸드    패스트푸드   강원도      춘천시   \n",
       "267              한국맥도날드원주단계DT               패스트푸드    패스트푸드   강원도      원주시   \n",
       "275              한국맥도날드원주단구DT               패스트푸드    패스트푸드   강원도      원주시   \n",
       "350                      맥도날드    원주단구DT점    패스트푸드    패스트푸드   강원도      원주시   \n",
       "425                  신맥맥도날드원주               패스트푸드    패스트푸드   강원도      원주시   \n",
       "...                       ...        ...      ...      ...   ...      ...   \n",
       "29478  맥도날드청주율량GSDT점청주율량GSDT점  청주율량GSDT점    패스트푸드    패스트푸드  충청북도  청주시 청원구   \n",
       "29504                    맥도날드               패스트푸드    패스트푸드  충청북도  청주시 서원구   \n",
       "29508                    맥도날드        용암점    패스트푸드    패스트푸드  충청북도  청주시 상당구   \n",
       "29596           한국맥도날드청주금천DT점               패스트푸드    패스트푸드  충청북도  청주시 상당구   \n",
       "29614               맥도날드청주봉명점      청주봉명점    패스트푸드    패스트푸드  충청북도  청주시 흥덕구   \n",
       "\n",
       "          행정동명                       도로명주소          경도         위도 n_상호명  \n",
       "137        퇴계동            강원도 춘천시 영서로 2173  127.731041  37.859159  맥도날드  \n",
       "267        무실동            강원도 원주시 서원대로 154  127.928180  37.344175  맥도날드  \n",
       "275        단구동            강원도 원주시 서원대로 426  127.951339  37.329102  맥도날드  \n",
       "350        단구동            강원도 원주시 서원대로 426  127.951339  37.329102  맥도날드  \n",
       "425        무실동            강원도 원주시 북원로 1928  127.919018  37.320659  맥도날드  \n",
       "...        ...                         ...         ...        ...   ...  \n",
       "29478   율량.사천동        충청북도 청주시 청원구 공항로 156  127.484088  36.670828  맥도날드  \n",
       "29504      분평동  충청북도 청주시 서원구 1순환로1107번길 95  127.489486  36.610714  맥도날드  \n",
       "29508     용암2동        충청북도 청주시 상당구 월평로 220  127.507669  36.607889  맥도날드  \n",
       "29596      금천동       충청북도 청주시 상당구 중고개로 281  127.508135  36.627771  맥도날드  \n",
       "29614  봉명2.송정동       충청북도 청주시 흥덕구 1순환로 518  127.464200  36.646228  맥도날드  \n",
       "\n",
       "[640 rows x 11 columns]"
      ],
      "text/html": "<div>\n<style scoped>\n    .dataframe tbody tr th:only-of-type {\n        vertical-align: middle;\n    }\n\n    .dataframe tbody tr th {\n        vertical-align: top;\n    }\n\n    .dataframe thead th {\n        text-align: right;\n    }\n</style>\n<table border=\"1\" class=\"dataframe\">\n  <thead>\n    <tr style=\"text-align: right;\">\n      <th></th>\n      <th>상호명</th>\n      <th>지점명</th>\n      <th>상권업종중분류명</th>\n      <th>상권업종소분류명</th>\n      <th>시도명</th>\n      <th>시군구명</th>\n      <th>행정동명</th>\n      <th>도로명주소</th>\n      <th>경도</th>\n      <th>위도</th>\n      <th>n_상호명</th>\n    </tr>\n  </thead>\n  <tbody>\n    <tr>\n      <th>137</th>\n      <td>한국맥도날드춘천퇴계DT점</td>\n      <td>춘천퇴계DT점</td>\n      <td>패스트푸드</td>\n      <td>패스트푸드</td>\n      <td>강원도</td>\n      <td>춘천시</td>\n      <td>퇴계동</td>\n      <td>강원도 춘천시 영서로 2173</td>\n      <td>127.731041</td>\n      <td>37.859159</td>\n      <td>맥도날드</td>\n    </tr>\n    <tr>\n      <th>267</th>\n      <td>한국맥도날드원주단계DT</td>\n      <td></td>\n      <td>패스트푸드</td>\n      <td>패스트푸드</td>\n      <td>강원도</td>\n      <td>원주시</td>\n      <td>무실동</td>\n      <td>강원도 원주시 서원대로 154</td>\n      <td>127.928180</td>\n      <td>37.344175</td>\n      <td>맥도날드</td>\n    </tr>\n    <tr>\n      <th>275</th>\n      <td>한국맥도날드원주단구DT</td>\n      <td></td>\n      <td>패스트푸드</td>\n      <td>패스트푸드</td>\n      <td>강원도</td>\n      <td>원주시</td>\n      <td>단구동</td>\n      <td>강원도 원주시 서원대로 426</td>\n      <td>127.951339</td>\n      <td>37.329102</td>\n      <td>맥도날드</td>\n    </tr>\n    <tr>\n      <th>350</th>\n      <td>맥도날드</td>\n      <td>원주단구DT점</td>\n      <td>패스트푸드</td>\n      <td>패스트푸드</td>\n      <td>강원도</td>\n      <td>원주시</td>\n      <td>단구동</td>\n      <td>강원도 원주시 서원대로 426</td>\n      <td>127.951339</td>\n      <td>37.329102</td>\n      <td>맥도날드</td>\n    </tr>\n    <tr>\n      <th>425</th>\n      <td>신맥맥도날드원주</td>\n      <td></td>\n      <td>패스트푸드</td>\n      <td>패스트푸드</td>\n      <td>강원도</td>\n      <td>원주시</td>\n      <td>무실동</td>\n      <td>강원도 원주시 북원로 1928</td>\n      <td>127.919018</td>\n      <td>37.320659</td>\n      <td>맥도날드</td>\n    </tr>\n    <tr>\n      <th>...</th>\n      <td>...</td>\n      <td>...</td>\n      <td>...</td>\n      <td>...</td>\n      <td>...</td>\n      <td>...</td>\n      <td>...</td>\n      <td>...</td>\n      <td>...</td>\n      <td>...</td>\n      <td>...</td>\n    </tr>\n    <tr>\n      <th>29478</th>\n      <td>맥도날드청주율량GSDT점청주율량GSDT점</td>\n      <td>청주율량GSDT점</td>\n      <td>패스트푸드</td>\n      <td>패스트푸드</td>\n      <td>충청북도</td>\n      <td>청주시 청원구</td>\n      <td>율량.사천동</td>\n      <td>충청북도 청주시 청원구 공항로 156</td>\n      <td>127.484088</td>\n      <td>36.670828</td>\n      <td>맥도날드</td>\n    </tr>\n    <tr>\n      <th>29504</th>\n      <td>맥도날드</td>\n      <td></td>\n      <td>패스트푸드</td>\n      <td>패스트푸드</td>\n      <td>충청북도</td>\n      <td>청주시 서원구</td>\n      <td>분평동</td>\n      <td>충청북도 청주시 서원구 1순환로1107번길 95</td>\n      <td>127.489486</td>\n      <td>36.610714</td>\n      <td>맥도날드</td>\n    </tr>\n    <tr>\n      <th>29508</th>\n      <td>맥도날드</td>\n      <td>용암점</td>\n      <td>패스트푸드</td>\n      <td>패스트푸드</td>\n      <td>충청북도</td>\n      <td>청주시 상당구</td>\n      <td>용암2동</td>\n      <td>충청북도 청주시 상당구 월평로 220</td>\n      <td>127.507669</td>\n      <td>36.607889</td>\n      <td>맥도날드</td>\n    </tr>\n    <tr>\n      <th>29596</th>\n      <td>한국맥도날드청주금천DT점</td>\n      <td></td>\n      <td>패스트푸드</td>\n      <td>패스트푸드</td>\n      <td>충청북도</td>\n      <td>청주시 상당구</td>\n      <td>금천동</td>\n      <td>충청북도 청주시 상당구 중고개로 281</td>\n      <td>127.508135</td>\n      <td>36.627771</td>\n      <td>맥도날드</td>\n    </tr>\n    <tr>\n      <th>29614</th>\n      <td>맥도날드청주봉명점</td>\n      <td>청주봉명점</td>\n      <td>패스트푸드</td>\n      <td>패스트푸드</td>\n      <td>충청북도</td>\n      <td>청주시 흥덕구</td>\n      <td>봉명2.송정동</td>\n      <td>충청북도 청주시 흥덕구 1순환로 518</td>\n      <td>127.464200</td>\n      <td>36.646228</td>\n      <td>맥도날드</td>\n    </tr>\n  </tbody>\n</table>\n<p>640 rows × 11 columns</p>\n</div>"
     },
     "metadata": {},
     "execution_count": 8
    }
   ],
   "source": [
    "mac = market_buger[market_buger['상호명'].str.contains('맥도날드', case=False)]\n",
    "mac['지점명'] = mac['지점명'].fillna(' ')\n",
    "del mac['Unnamed: 0']\n",
    "mac['n_상호명'] = '맥도날드'\n",
    "mac"
   ]
  },
  {
   "cell_type": "code",
   "execution_count": 9,
   "metadata": {},
   "outputs": [
    {
     "output_type": "execute_result",
     "data": {
      "text/plain": [
       "             상호명         지점명 상권업종중분류명 상권업종소분류명   시도명     시군구명   행정동명  \\\n",
       "130         롯데리아  엘리시안강촌리조트점    패스트푸드    패스트푸드   강원도      춘천시    남산면   \n",
       "135         롯데리아         홍천점    패스트푸드    패스트푸드   강원도      홍천군    홍천읍   \n",
       "152         롯데리아       강릉교동점    패스트푸드    패스트푸드   강원도      강릉시    교1동   \n",
       "173    문막휴게소롯데리아                패스트푸드    패스트푸드   강원도      원주시    문막읍   \n",
       "197    롯데리아태백태백점         태백점    패스트푸드    패스트푸드   강원도      태백시    황지동   \n",
       "...          ...         ...      ...      ...   ...      ...    ...   \n",
       "29829       롯데리아     충북혁신도시점    패스트푸드    패스트푸드  충청북도      음성군    맹동면   \n",
       "29830       롯데리아     서충주신도시점    패스트푸드    패스트푸드  충청북도      충주시   중앙탑면   \n",
       "29841       롯데리아         금왕점    패스트푸드    패스트푸드  충청북도      음성군    금왕읍   \n",
       "29877       롯데리아       오송역사점    패스트푸드    패스트푸드  충청북도  청주시 흥덕구    오송읍   \n",
       "29996       롯데리아       충주호암점    패스트푸드    패스트푸드  충청북도      충주시  호암.직동   \n",
       "\n",
       "                            도로명주소          경도         위도 n_상호명  \n",
       "130         강원도 춘천시 남산면 북한강변길 688  127.578796  37.830132  롯데리아  \n",
       "135          강원도 홍천군 홍천읍 홍천로6길 22  127.884589  37.690887  롯데리아  \n",
       "152             강원도 강릉시 교동광장로 106  128.876061  37.764466  롯데리아  \n",
       "173          강원도 원주시 문막읍 원문로 1234  127.858209  37.335262  롯데리아  \n",
       "197             강원도 태백시 황지로 194-1  128.989310  37.175224  롯데리아  \n",
       "...                           ...         ...        ...   ...  \n",
       "29829         충청북도 음성군 맹동면 대하1길 4  127.541053  36.907804  롯데리아  \n",
       "29830     충청북도 충주시 중앙탑면 기업도시로 222  127.824494  37.016611  롯데리아  \n",
       "29841        충청북도 음성군 금왕읍 무극로 250  127.589688  36.991727  롯데리아  \n",
       "29877  충청북도 청주시 흥덕구 오송읍 오송가락로 123  127.327144  36.620470  롯데리아  \n",
       "29996           충청북도 충주시 호암토성2로 1  127.933646  36.954758  롯데리아  \n",
       "\n",
       "[1082 rows x 11 columns]"
      ],
      "text/html": "<div>\n<style scoped>\n    .dataframe tbody tr th:only-of-type {\n        vertical-align: middle;\n    }\n\n    .dataframe tbody tr th {\n        vertical-align: top;\n    }\n\n    .dataframe thead th {\n        text-align: right;\n    }\n</style>\n<table border=\"1\" class=\"dataframe\">\n  <thead>\n    <tr style=\"text-align: right;\">\n      <th></th>\n      <th>상호명</th>\n      <th>지점명</th>\n      <th>상권업종중분류명</th>\n      <th>상권업종소분류명</th>\n      <th>시도명</th>\n      <th>시군구명</th>\n      <th>행정동명</th>\n      <th>도로명주소</th>\n      <th>경도</th>\n      <th>위도</th>\n      <th>n_상호명</th>\n    </tr>\n  </thead>\n  <tbody>\n    <tr>\n      <th>130</th>\n      <td>롯데리아</td>\n      <td>엘리시안강촌리조트점</td>\n      <td>패스트푸드</td>\n      <td>패스트푸드</td>\n      <td>강원도</td>\n      <td>춘천시</td>\n      <td>남산면</td>\n      <td>강원도 춘천시 남산면 북한강변길 688</td>\n      <td>127.578796</td>\n      <td>37.830132</td>\n      <td>롯데리아</td>\n    </tr>\n    <tr>\n      <th>135</th>\n      <td>롯데리아</td>\n      <td>홍천점</td>\n      <td>패스트푸드</td>\n      <td>패스트푸드</td>\n      <td>강원도</td>\n      <td>홍천군</td>\n      <td>홍천읍</td>\n      <td>강원도 홍천군 홍천읍 홍천로6길 22</td>\n      <td>127.884589</td>\n      <td>37.690887</td>\n      <td>롯데리아</td>\n    </tr>\n    <tr>\n      <th>152</th>\n      <td>롯데리아</td>\n      <td>강릉교동점</td>\n      <td>패스트푸드</td>\n      <td>패스트푸드</td>\n      <td>강원도</td>\n      <td>강릉시</td>\n      <td>교1동</td>\n      <td>강원도 강릉시 교동광장로 106</td>\n      <td>128.876061</td>\n      <td>37.764466</td>\n      <td>롯데리아</td>\n    </tr>\n    <tr>\n      <th>173</th>\n      <td>문막휴게소롯데리아</td>\n      <td></td>\n      <td>패스트푸드</td>\n      <td>패스트푸드</td>\n      <td>강원도</td>\n      <td>원주시</td>\n      <td>문막읍</td>\n      <td>강원도 원주시 문막읍 원문로 1234</td>\n      <td>127.858209</td>\n      <td>37.335262</td>\n      <td>롯데리아</td>\n    </tr>\n    <tr>\n      <th>197</th>\n      <td>롯데리아태백태백점</td>\n      <td>태백점</td>\n      <td>패스트푸드</td>\n      <td>패스트푸드</td>\n      <td>강원도</td>\n      <td>태백시</td>\n      <td>황지동</td>\n      <td>강원도 태백시 황지로 194-1</td>\n      <td>128.989310</td>\n      <td>37.175224</td>\n      <td>롯데리아</td>\n    </tr>\n    <tr>\n      <th>...</th>\n      <td>...</td>\n      <td>...</td>\n      <td>...</td>\n      <td>...</td>\n      <td>...</td>\n      <td>...</td>\n      <td>...</td>\n      <td>...</td>\n      <td>...</td>\n      <td>...</td>\n      <td>...</td>\n    </tr>\n    <tr>\n      <th>29829</th>\n      <td>롯데리아</td>\n      <td>충북혁신도시점</td>\n      <td>패스트푸드</td>\n      <td>패스트푸드</td>\n      <td>충청북도</td>\n      <td>음성군</td>\n      <td>맹동면</td>\n      <td>충청북도 음성군 맹동면 대하1길 4</td>\n      <td>127.541053</td>\n      <td>36.907804</td>\n      <td>롯데리아</td>\n    </tr>\n    <tr>\n      <th>29830</th>\n      <td>롯데리아</td>\n      <td>서충주신도시점</td>\n      <td>패스트푸드</td>\n      <td>패스트푸드</td>\n      <td>충청북도</td>\n      <td>충주시</td>\n      <td>중앙탑면</td>\n      <td>충청북도 충주시 중앙탑면 기업도시로 222</td>\n      <td>127.824494</td>\n      <td>37.016611</td>\n      <td>롯데리아</td>\n    </tr>\n    <tr>\n      <th>29841</th>\n      <td>롯데리아</td>\n      <td>금왕점</td>\n      <td>패스트푸드</td>\n      <td>패스트푸드</td>\n      <td>충청북도</td>\n      <td>음성군</td>\n      <td>금왕읍</td>\n      <td>충청북도 음성군 금왕읍 무극로 250</td>\n      <td>127.589688</td>\n      <td>36.991727</td>\n      <td>롯데리아</td>\n    </tr>\n    <tr>\n      <th>29877</th>\n      <td>롯데리아</td>\n      <td>오송역사점</td>\n      <td>패스트푸드</td>\n      <td>패스트푸드</td>\n      <td>충청북도</td>\n      <td>청주시 흥덕구</td>\n      <td>오송읍</td>\n      <td>충청북도 청주시 흥덕구 오송읍 오송가락로 123</td>\n      <td>127.327144</td>\n      <td>36.620470</td>\n      <td>롯데리아</td>\n    </tr>\n    <tr>\n      <th>29996</th>\n      <td>롯데리아</td>\n      <td>충주호암점</td>\n      <td>패스트푸드</td>\n      <td>패스트푸드</td>\n      <td>충청북도</td>\n      <td>충주시</td>\n      <td>호암.직동</td>\n      <td>충청북도 충주시 호암토성2로 1</td>\n      <td>127.933646</td>\n      <td>36.954758</td>\n      <td>롯데리아</td>\n    </tr>\n  </tbody>\n</table>\n<p>1082 rows × 11 columns</p>\n</div>"
     },
     "metadata": {},
     "execution_count": 9
    }
   ],
   "source": [
    "lotte = market_buger[market_buger['상호명'].str.contains('롯데리아', case=False)]\n",
    "lotte['지점명'] = lotte['지점명'].fillna(' ')\n",
    "del lotte['Unnamed: 0']\n",
    "lotte['n_상호명'] = '롯데리아'\n",
    "lotte"
   ]
  },
  {
   "cell_type": "code",
   "execution_count": 10,
   "metadata": {},
   "outputs": [
    {
     "output_type": "execute_result",
     "data": {
      "text/plain": [
       "                상호명     지점명 상권업종중분류명 상권업종소분류명   시도명     시군구명  행정동명  \\\n",
       "46        케이에프씨춘천석사            패스트푸드    패스트푸드   강원도      춘천시   석사동   \n",
       "283    에스알에스KFC현대성우            패스트푸드    패스트푸드   강원도      횡성군   둔내면   \n",
       "456          KFC춘천1            패스트푸드    패스트푸드   강원도      춘천시  약사명동   \n",
       "461       SRSKFC춘천1            패스트푸드    패스트푸드   강원도      춘천시  약사명동   \n",
       "462       SRS코리아KFC            패스트푸드    패스트푸드   강원도      동해시   천곡동   \n",
       "...             ...     ...      ...      ...   ...      ...   ...   \n",
       "28877           KFC     당진점    패스트푸드    패스트푸드  충청남도      당진시  당진1동   \n",
       "29341  SRSKFC청주쥬네쓰점            패스트푸드    패스트푸드  충청북도  청주시 상당구   성안동   \n",
       "29444           KFC  청주쥬네쓰점    패스트푸드    패스트푸드  충청북도  청주시 상당구   성안동   \n",
       "29527     KFC청주가경HP            패스트푸드    패스트푸드  충청북도  청주시 흥덕구   가경동   \n",
       "29583           KFC            패스트푸드    패스트푸드  충청북도  청주시 청원구   오창읍   \n",
       "\n",
       "                              도로명주소          경도         위도 n_상호명  \n",
       "46                 강원도 춘천시 영서로 2027  127.745315  37.852622   KFC  \n",
       "283             강원도 횡성군 둔내면 고원로 451  128.250118  37.490135   KFC  \n",
       "456               강원도 춘천시 중앙로67번길 4  127.726468  37.878998   KFC  \n",
       "461               강원도 춘천시 중앙로67번길 4  127.726468  37.878998   KFC  \n",
       "462               강원도 동해시 한섬로 111-7  129.115250  37.522259   KFC  \n",
       "...                             ...         ...        ...   ...  \n",
       "28877           충청남도 당진시 당진중앙2로 101  126.630175  36.894098   KFC  \n",
       "29341       충청북도 청주시 상당구 상당로81번길 33  127.488128  36.635257   KFC  \n",
       "29444       충청북도 청주시 상당구 상당로81번길 33  127.488128  36.635257   KFC  \n",
       "29527         충청북도 청주시 흥덕구 서부로 1291  127.442233  36.615432   KFC  \n",
       "29583  충청북도 청주시 청원구 오창읍 중심상업로 32-19  127.431559  36.713991   KFC  \n",
       "\n",
       "[211 rows x 11 columns]"
      ],
      "text/html": "<div>\n<style scoped>\n    .dataframe tbody tr th:only-of-type {\n        vertical-align: middle;\n    }\n\n    .dataframe tbody tr th {\n        vertical-align: top;\n    }\n\n    .dataframe thead th {\n        text-align: right;\n    }\n</style>\n<table border=\"1\" class=\"dataframe\">\n  <thead>\n    <tr style=\"text-align: right;\">\n      <th></th>\n      <th>상호명</th>\n      <th>지점명</th>\n      <th>상권업종중분류명</th>\n      <th>상권업종소분류명</th>\n      <th>시도명</th>\n      <th>시군구명</th>\n      <th>행정동명</th>\n      <th>도로명주소</th>\n      <th>경도</th>\n      <th>위도</th>\n      <th>n_상호명</th>\n    </tr>\n  </thead>\n  <tbody>\n    <tr>\n      <th>46</th>\n      <td>케이에프씨춘천석사</td>\n      <td></td>\n      <td>패스트푸드</td>\n      <td>패스트푸드</td>\n      <td>강원도</td>\n      <td>춘천시</td>\n      <td>석사동</td>\n      <td>강원도 춘천시 영서로 2027</td>\n      <td>127.745315</td>\n      <td>37.852622</td>\n      <td>KFC</td>\n    </tr>\n    <tr>\n      <th>283</th>\n      <td>에스알에스KFC현대성우</td>\n      <td></td>\n      <td>패스트푸드</td>\n      <td>패스트푸드</td>\n      <td>강원도</td>\n      <td>횡성군</td>\n      <td>둔내면</td>\n      <td>강원도 횡성군 둔내면 고원로 451</td>\n      <td>128.250118</td>\n      <td>37.490135</td>\n      <td>KFC</td>\n    </tr>\n    <tr>\n      <th>456</th>\n      <td>KFC춘천1</td>\n      <td></td>\n      <td>패스트푸드</td>\n      <td>패스트푸드</td>\n      <td>강원도</td>\n      <td>춘천시</td>\n      <td>약사명동</td>\n      <td>강원도 춘천시 중앙로67번길 4</td>\n      <td>127.726468</td>\n      <td>37.878998</td>\n      <td>KFC</td>\n    </tr>\n    <tr>\n      <th>461</th>\n      <td>SRSKFC춘천1</td>\n      <td></td>\n      <td>패스트푸드</td>\n      <td>패스트푸드</td>\n      <td>강원도</td>\n      <td>춘천시</td>\n      <td>약사명동</td>\n      <td>강원도 춘천시 중앙로67번길 4</td>\n      <td>127.726468</td>\n      <td>37.878998</td>\n      <td>KFC</td>\n    </tr>\n    <tr>\n      <th>462</th>\n      <td>SRS코리아KFC</td>\n      <td></td>\n      <td>패스트푸드</td>\n      <td>패스트푸드</td>\n      <td>강원도</td>\n      <td>동해시</td>\n      <td>천곡동</td>\n      <td>강원도 동해시 한섬로 111-7</td>\n      <td>129.115250</td>\n      <td>37.522259</td>\n      <td>KFC</td>\n    </tr>\n    <tr>\n      <th>...</th>\n      <td>...</td>\n      <td>...</td>\n      <td>...</td>\n      <td>...</td>\n      <td>...</td>\n      <td>...</td>\n      <td>...</td>\n      <td>...</td>\n      <td>...</td>\n      <td>...</td>\n      <td>...</td>\n    </tr>\n    <tr>\n      <th>28877</th>\n      <td>KFC</td>\n      <td>당진점</td>\n      <td>패스트푸드</td>\n      <td>패스트푸드</td>\n      <td>충청남도</td>\n      <td>당진시</td>\n      <td>당진1동</td>\n      <td>충청남도 당진시 당진중앙2로 101</td>\n      <td>126.630175</td>\n      <td>36.894098</td>\n      <td>KFC</td>\n    </tr>\n    <tr>\n      <th>29341</th>\n      <td>SRSKFC청주쥬네쓰점</td>\n      <td></td>\n      <td>패스트푸드</td>\n      <td>패스트푸드</td>\n      <td>충청북도</td>\n      <td>청주시 상당구</td>\n      <td>성안동</td>\n      <td>충청북도 청주시 상당구 상당로81번길 33</td>\n      <td>127.488128</td>\n      <td>36.635257</td>\n      <td>KFC</td>\n    </tr>\n    <tr>\n      <th>29444</th>\n      <td>KFC</td>\n      <td>청주쥬네쓰점</td>\n      <td>패스트푸드</td>\n      <td>패스트푸드</td>\n      <td>충청북도</td>\n      <td>청주시 상당구</td>\n      <td>성안동</td>\n      <td>충청북도 청주시 상당구 상당로81번길 33</td>\n      <td>127.488128</td>\n      <td>36.635257</td>\n      <td>KFC</td>\n    </tr>\n    <tr>\n      <th>29527</th>\n      <td>KFC청주가경HP</td>\n      <td></td>\n      <td>패스트푸드</td>\n      <td>패스트푸드</td>\n      <td>충청북도</td>\n      <td>청주시 흥덕구</td>\n      <td>가경동</td>\n      <td>충청북도 청주시 흥덕구 서부로 1291</td>\n      <td>127.442233</td>\n      <td>36.615432</td>\n      <td>KFC</td>\n    </tr>\n    <tr>\n      <th>29583</th>\n      <td>KFC</td>\n      <td></td>\n      <td>패스트푸드</td>\n      <td>패스트푸드</td>\n      <td>충청북도</td>\n      <td>청주시 청원구</td>\n      <td>오창읍</td>\n      <td>충청북도 청주시 청원구 오창읍 중심상업로 32-19</td>\n      <td>127.431559</td>\n      <td>36.713991</td>\n      <td>KFC</td>\n    </tr>\n  </tbody>\n</table>\n<p>211 rows × 11 columns</p>\n</div>"
     },
     "metadata": {},
     "execution_count": 10
    }
   ],
   "source": [
    "kfc = market_buger[market_buger['상호명'].str.contains('케이에프씨|KFC|케이에프시', case=False)]\n",
    "kfc['지점명'] = kfc['지점명'].fillna(' ')\n",
    "del kfc['Unnamed: 0']\n",
    "kfc['n_상호명'] = 'KFC'\n",
    "kfc"
   ]
  },
  {
   "cell_type": "code",
   "execution_count": 11,
   "metadata": {},
   "outputs": [
    {
     "output_type": "execute_result",
     "data": {
      "text/plain": [
       "             상호명     지점명 상권업종중분류명 상권업종소분류명   시도명 시군구명    행정동명  \\\n",
       "348         맘스터치  강릉대학로점    패스트푸드  샌드위치전문점   강원도  강릉시     중앙동   \n",
       "454     맘스터치치킨피자            패스트푸드     피자전문   강원도  화천군     상서면   \n",
       "500         맘스터치     강릉점    패스트푸드    패스트푸드   강원도  강릉시     홍제동   \n",
       "518         맘스터치     삼척점    패스트푸드    패스트푸드   강원도  삼척시     남양동   \n",
       "640         맘스터치   강릉입암점    패스트푸드    패스트푸드   강원도  강릉시     성덕동   \n",
       "...          ...     ...      ...      ...   ...  ...     ...   \n",
       "29657    맘스터치성서점     성서점    패스트푸드    패스트푸드  충청북도  충주시  성내.충인동   \n",
       "29689  맘스터치충주성서점   충주성서점    패스트푸드    패스트푸드  충청북도  충주시  성내.충인동   \n",
       "29792       맘스터치  충북광혜원점    패스트푸드    패스트푸드  충청북도  진천군    광혜원면   \n",
       "29836       맘스터치     칠금점    패스트푸드    패스트푸드  충청북도  충주시  칠금.금릉동   \n",
       "29857       맘스터치     호암점    패스트푸드    패스트푸드  충청북도  충주시   호암.직동   \n",
       "\n",
       "                      도로명주소          경도         위도 n_상호명  \n",
       "348         강원도 강릉시 신대학길 32  128.896463  37.753725  맘스터치  \n",
       "454    강원도 화천군 상서면 영서로 7717  127.662248  38.207165  맘스터치  \n",
       "500         강원도 강릉시 하슬라로 27  128.878783  37.754706  맘스터치  \n",
       "518          강원도 삼척시 진주로 39  129.163679  37.444221  맘스터치  \n",
       "640      강원도 강릉시 성덕포남로 45-8  128.919456  37.759315  맘스터치  \n",
       "...                     ...         ...        ...   ...  \n",
       "29657    충청북도 충주시 예성로 156-1  127.933508  36.970925  맘스터치  \n",
       "29689      충청북도 충주시 예성로 158  127.933508  36.970997  맘스터치  \n",
       "29792  충청북도 진천군 광혜원면 중리1길 5  127.441215  36.990418  맘스터치  \n",
       "29836      충청북도 충주시 계명대로 35  127.918333  36.982631  맘스터치  \n",
       "29857  충청북도 충주시 호암토성5길 10-1  127.929189  36.953620  맘스터치  \n",
       "\n",
       "[290 rows x 11 columns]"
      ],
      "text/html": "<div>\n<style scoped>\n    .dataframe tbody tr th:only-of-type {\n        vertical-align: middle;\n    }\n\n    .dataframe tbody tr th {\n        vertical-align: top;\n    }\n\n    .dataframe thead th {\n        text-align: right;\n    }\n</style>\n<table border=\"1\" class=\"dataframe\">\n  <thead>\n    <tr style=\"text-align: right;\">\n      <th></th>\n      <th>상호명</th>\n      <th>지점명</th>\n      <th>상권업종중분류명</th>\n      <th>상권업종소분류명</th>\n      <th>시도명</th>\n      <th>시군구명</th>\n      <th>행정동명</th>\n      <th>도로명주소</th>\n      <th>경도</th>\n      <th>위도</th>\n      <th>n_상호명</th>\n    </tr>\n  </thead>\n  <tbody>\n    <tr>\n      <th>348</th>\n      <td>맘스터치</td>\n      <td>강릉대학로점</td>\n      <td>패스트푸드</td>\n      <td>샌드위치전문점</td>\n      <td>강원도</td>\n      <td>강릉시</td>\n      <td>중앙동</td>\n      <td>강원도 강릉시 신대학길 32</td>\n      <td>128.896463</td>\n      <td>37.753725</td>\n      <td>맘스터치</td>\n    </tr>\n    <tr>\n      <th>454</th>\n      <td>맘스터치치킨피자</td>\n      <td></td>\n      <td>패스트푸드</td>\n      <td>피자전문</td>\n      <td>강원도</td>\n      <td>화천군</td>\n      <td>상서면</td>\n      <td>강원도 화천군 상서면 영서로 7717</td>\n      <td>127.662248</td>\n      <td>38.207165</td>\n      <td>맘스터치</td>\n    </tr>\n    <tr>\n      <th>500</th>\n      <td>맘스터치</td>\n      <td>강릉점</td>\n      <td>패스트푸드</td>\n      <td>패스트푸드</td>\n      <td>강원도</td>\n      <td>강릉시</td>\n      <td>홍제동</td>\n      <td>강원도 강릉시 하슬라로 27</td>\n      <td>128.878783</td>\n      <td>37.754706</td>\n      <td>맘스터치</td>\n    </tr>\n    <tr>\n      <th>518</th>\n      <td>맘스터치</td>\n      <td>삼척점</td>\n      <td>패스트푸드</td>\n      <td>패스트푸드</td>\n      <td>강원도</td>\n      <td>삼척시</td>\n      <td>남양동</td>\n      <td>강원도 삼척시 진주로 39</td>\n      <td>129.163679</td>\n      <td>37.444221</td>\n      <td>맘스터치</td>\n    </tr>\n    <tr>\n      <th>640</th>\n      <td>맘스터치</td>\n      <td>강릉입암점</td>\n      <td>패스트푸드</td>\n      <td>패스트푸드</td>\n      <td>강원도</td>\n      <td>강릉시</td>\n      <td>성덕동</td>\n      <td>강원도 강릉시 성덕포남로 45-8</td>\n      <td>128.919456</td>\n      <td>37.759315</td>\n      <td>맘스터치</td>\n    </tr>\n    <tr>\n      <th>...</th>\n      <td>...</td>\n      <td>...</td>\n      <td>...</td>\n      <td>...</td>\n      <td>...</td>\n      <td>...</td>\n      <td>...</td>\n      <td>...</td>\n      <td>...</td>\n      <td>...</td>\n      <td>...</td>\n    </tr>\n    <tr>\n      <th>29657</th>\n      <td>맘스터치성서점</td>\n      <td>성서점</td>\n      <td>패스트푸드</td>\n      <td>패스트푸드</td>\n      <td>충청북도</td>\n      <td>충주시</td>\n      <td>성내.충인동</td>\n      <td>충청북도 충주시 예성로 156-1</td>\n      <td>127.933508</td>\n      <td>36.970925</td>\n      <td>맘스터치</td>\n    </tr>\n    <tr>\n      <th>29689</th>\n      <td>맘스터치충주성서점</td>\n      <td>충주성서점</td>\n      <td>패스트푸드</td>\n      <td>패스트푸드</td>\n      <td>충청북도</td>\n      <td>충주시</td>\n      <td>성내.충인동</td>\n      <td>충청북도 충주시 예성로 158</td>\n      <td>127.933508</td>\n      <td>36.970997</td>\n      <td>맘스터치</td>\n    </tr>\n    <tr>\n      <th>29792</th>\n      <td>맘스터치</td>\n      <td>충북광혜원점</td>\n      <td>패스트푸드</td>\n      <td>패스트푸드</td>\n      <td>충청북도</td>\n      <td>진천군</td>\n      <td>광혜원면</td>\n      <td>충청북도 진천군 광혜원면 중리1길 5</td>\n      <td>127.441215</td>\n      <td>36.990418</td>\n      <td>맘스터치</td>\n    </tr>\n    <tr>\n      <th>29836</th>\n      <td>맘스터치</td>\n      <td>칠금점</td>\n      <td>패스트푸드</td>\n      <td>패스트푸드</td>\n      <td>충청북도</td>\n      <td>충주시</td>\n      <td>칠금.금릉동</td>\n      <td>충청북도 충주시 계명대로 35</td>\n      <td>127.918333</td>\n      <td>36.982631</td>\n      <td>맘스터치</td>\n    </tr>\n    <tr>\n      <th>29857</th>\n      <td>맘스터치</td>\n      <td>호암점</td>\n      <td>패스트푸드</td>\n      <td>패스트푸드</td>\n      <td>충청북도</td>\n      <td>충주시</td>\n      <td>호암.직동</td>\n      <td>충청북도 충주시 호암토성5길 10-1</td>\n      <td>127.929189</td>\n      <td>36.953620</td>\n      <td>맘스터치</td>\n    </tr>\n  </tbody>\n</table>\n<p>290 rows × 11 columns</p>\n</div>"
     },
     "metadata": {},
     "execution_count": 11
    }
   ],
   "source": [
    "mom = market_buger[market_buger['상호명'].str.contains('MoomsTouch|MOMSTOUCH|맘스터치', case=False)]\n",
    "mom['지점명'] = mom['지점명'].fillna(' ')\n",
    "del mom['Unnamed: 0']\n",
    "mom['n_상호명'] = '맘스터치'\n",
    "mom"
   ]
  },
  {
   "cell_type": "code",
   "execution_count": 12,
   "metadata": {},
   "outputs": [
    {
     "output_type": "execute_result",
     "data": {
      "text/plain": [
       "          상호명      지점명 상권업종중분류명 상권업종소분류명  시도명 시군구명 행정동명                 도로명주소  \\\n",
       "0     버거킹오션월드             패스트푸드    패스트푸드  강원도  홍천군   서면   강원도 홍천군 서면 한치골길 262   \n",
       "1         버거킹     비발디점    패스트푸드    패스트푸드  강원도  홍천군   서면   강원도 홍천군 서면 한치골길 262   \n",
       "2      BKR버거킹   대명비발디점    패스트푸드    패스트푸드  강원도  홍천군   서면   강원도 홍천군 서면 한치골길 262   \n",
       "3         버거킹  강릉교동SK점    패스트푸드    패스트푸드  강원도  강릉시  교1동      강원도 강릉시 하슬라로 159   \n",
       "4  버거킹춘천거두GS점  춘천거두GS점    패스트푸드    패스트푸드  강원도  춘천시  동내면  강원도 춘천시 동내면 춘천순환로 59   \n",
       "\n",
       "           경도         위도 n_상호명  \n",
       "0  127.687273  37.652324   버거킹  \n",
       "1  127.687273  37.652324   버거킹  \n",
       "2  127.687273  37.652324   버거킹  \n",
       "3  128.874437  37.764370   버거킹  \n",
       "4  127.750304  37.855931   버거킹  "
      ],
      "text/html": "<div>\n<style scoped>\n    .dataframe tbody tr th:only-of-type {\n        vertical-align: middle;\n    }\n\n    .dataframe tbody tr th {\n        vertical-align: top;\n    }\n\n    .dataframe thead th {\n        text-align: right;\n    }\n</style>\n<table border=\"1\" class=\"dataframe\">\n  <thead>\n    <tr style=\"text-align: right;\">\n      <th></th>\n      <th>상호명</th>\n      <th>지점명</th>\n      <th>상권업종중분류명</th>\n      <th>상권업종소분류명</th>\n      <th>시도명</th>\n      <th>시군구명</th>\n      <th>행정동명</th>\n      <th>도로명주소</th>\n      <th>경도</th>\n      <th>위도</th>\n      <th>n_상호명</th>\n    </tr>\n  </thead>\n  <tbody>\n    <tr>\n      <th>0</th>\n      <td>버거킹오션월드</td>\n      <td></td>\n      <td>패스트푸드</td>\n      <td>패스트푸드</td>\n      <td>강원도</td>\n      <td>홍천군</td>\n      <td>서면</td>\n      <td>강원도 홍천군 서면 한치골길 262</td>\n      <td>127.687273</td>\n      <td>37.652324</td>\n      <td>버거킹</td>\n    </tr>\n    <tr>\n      <th>1</th>\n      <td>버거킹</td>\n      <td>비발디점</td>\n      <td>패스트푸드</td>\n      <td>패스트푸드</td>\n      <td>강원도</td>\n      <td>홍천군</td>\n      <td>서면</td>\n      <td>강원도 홍천군 서면 한치골길 262</td>\n      <td>127.687273</td>\n      <td>37.652324</td>\n      <td>버거킹</td>\n    </tr>\n    <tr>\n      <th>2</th>\n      <td>BKR버거킹</td>\n      <td>대명비발디점</td>\n      <td>패스트푸드</td>\n      <td>패스트푸드</td>\n      <td>강원도</td>\n      <td>홍천군</td>\n      <td>서면</td>\n      <td>강원도 홍천군 서면 한치골길 262</td>\n      <td>127.687273</td>\n      <td>37.652324</td>\n      <td>버거킹</td>\n    </tr>\n    <tr>\n      <th>3</th>\n      <td>버거킹</td>\n      <td>강릉교동SK점</td>\n      <td>패스트푸드</td>\n      <td>패스트푸드</td>\n      <td>강원도</td>\n      <td>강릉시</td>\n      <td>교1동</td>\n      <td>강원도 강릉시 하슬라로 159</td>\n      <td>128.874437</td>\n      <td>37.764370</td>\n      <td>버거킹</td>\n    </tr>\n    <tr>\n      <th>4</th>\n      <td>버거킹춘천거두GS점</td>\n      <td>춘천거두GS점</td>\n      <td>패스트푸드</td>\n      <td>패스트푸드</td>\n      <td>강원도</td>\n      <td>춘천시</td>\n      <td>동내면</td>\n      <td>강원도 춘천시 동내면 춘천순환로 59</td>\n      <td>127.750304</td>\n      <td>37.855931</td>\n      <td>버거킹</td>\n    </tr>\n  </tbody>\n</table>\n</div>"
     },
     "metadata": {},
     "execution_count": 12
    }
   ],
   "source": [
    "burgur_sum = pd.concat([buger_king, mac, lotte, kfc, mom], ignore_index=True)\n",
    "burgur_sum.head()"
   ]
  },
  {
   "cell_type": "code",
   "execution_count": 13,
   "metadata": {},
   "outputs": [
    {
     "output_type": "execute_result",
     "data": {
      "text/plain": [
       "          상호명      지점명 상권업종중분류명 상권업종소분류명  시도명 시군구명 행정동명                 도로명주소  \\\n",
       "0     버거킹오션월드             패스트푸드    패스트푸드  강원도  홍천군   서면   강원도 홍천군 서면 한치골길 262   \n",
       "1         버거킹     비발디점    패스트푸드    패스트푸드  강원도  홍천군   서면   강원도 홍천군 서면 한치골길 262   \n",
       "2      BKR버거킹   대명비발디점    패스트푸드    패스트푸드  강원도  홍천군   서면   강원도 홍천군 서면 한치골길 262   \n",
       "3         버거킹  강릉교동SK점    패스트푸드    패스트푸드  강원도  강릉시  교1동      강원도 강릉시 하슬라로 159   \n",
       "4  버거킹춘천거두GS점  춘천거두GS점    패스트푸드    패스트푸드  강원도  춘천시  동내면  강원도 춘천시 동내면 춘천순환로 59   \n",
       "\n",
       "           경도         위도 n_상호명  점포수  \n",
       "0  127.687273  37.652324   버거킹    1  \n",
       "1  127.687273  37.652324   버거킹    1  \n",
       "2  127.687273  37.652324   버거킹    1  \n",
       "3  128.874437  37.764370   버거킹    1  \n",
       "4  127.750304  37.855931   버거킹    1  "
      ],
      "text/html": "<div>\n<style scoped>\n    .dataframe tbody tr th:only-of-type {\n        vertical-align: middle;\n    }\n\n    .dataframe tbody tr th {\n        vertical-align: top;\n    }\n\n    .dataframe thead th {\n        text-align: right;\n    }\n</style>\n<table border=\"1\" class=\"dataframe\">\n  <thead>\n    <tr style=\"text-align: right;\">\n      <th></th>\n      <th>상호명</th>\n      <th>지점명</th>\n      <th>상권업종중분류명</th>\n      <th>상권업종소분류명</th>\n      <th>시도명</th>\n      <th>시군구명</th>\n      <th>행정동명</th>\n      <th>도로명주소</th>\n      <th>경도</th>\n      <th>위도</th>\n      <th>n_상호명</th>\n      <th>점포수</th>\n    </tr>\n  </thead>\n  <tbody>\n    <tr>\n      <th>0</th>\n      <td>버거킹오션월드</td>\n      <td></td>\n      <td>패스트푸드</td>\n      <td>패스트푸드</td>\n      <td>강원도</td>\n      <td>홍천군</td>\n      <td>서면</td>\n      <td>강원도 홍천군 서면 한치골길 262</td>\n      <td>127.687273</td>\n      <td>37.652324</td>\n      <td>버거킹</td>\n      <td>1</td>\n    </tr>\n    <tr>\n      <th>1</th>\n      <td>버거킹</td>\n      <td>비발디점</td>\n      <td>패스트푸드</td>\n      <td>패스트푸드</td>\n      <td>강원도</td>\n      <td>홍천군</td>\n      <td>서면</td>\n      <td>강원도 홍천군 서면 한치골길 262</td>\n      <td>127.687273</td>\n      <td>37.652324</td>\n      <td>버거킹</td>\n      <td>1</td>\n    </tr>\n    <tr>\n      <th>2</th>\n      <td>BKR버거킹</td>\n      <td>대명비발디점</td>\n      <td>패스트푸드</td>\n      <td>패스트푸드</td>\n      <td>강원도</td>\n      <td>홍천군</td>\n      <td>서면</td>\n      <td>강원도 홍천군 서면 한치골길 262</td>\n      <td>127.687273</td>\n      <td>37.652324</td>\n      <td>버거킹</td>\n      <td>1</td>\n    </tr>\n    <tr>\n      <th>3</th>\n      <td>버거킹</td>\n      <td>강릉교동SK점</td>\n      <td>패스트푸드</td>\n      <td>패스트푸드</td>\n      <td>강원도</td>\n      <td>강릉시</td>\n      <td>교1동</td>\n      <td>강원도 강릉시 하슬라로 159</td>\n      <td>128.874437</td>\n      <td>37.764370</td>\n      <td>버거킹</td>\n      <td>1</td>\n    </tr>\n    <tr>\n      <th>4</th>\n      <td>버거킹춘천거두GS점</td>\n      <td>춘천거두GS점</td>\n      <td>패스트푸드</td>\n      <td>패스트푸드</td>\n      <td>강원도</td>\n      <td>춘천시</td>\n      <td>동내면</td>\n      <td>강원도 춘천시 동내면 춘천순환로 59</td>\n      <td>127.750304</td>\n      <td>37.855931</td>\n      <td>버거킹</td>\n      <td>1</td>\n    </tr>\n  </tbody>\n</table>\n</div>"
     },
     "metadata": {},
     "execution_count": 13
    }
   ],
   "source": [
    "burgur_sum['점포수'] = 1\n",
    "burgur_sum.head()"
   ]
  },
  {
   "cell_type": "code",
   "execution_count": 14,
   "metadata": {},
   "outputs": [],
   "source": [
    "burgur_sum.to_csv('../static/data/5burgur.csv', index=False)"
   ]
  },
  {
   "cell_type": "code",
   "execution_count": 15,
   "metadata": {},
   "outputs": [
    {
     "output_type": "execute_result",
     "data": {
      "text/plain": [
       "   시도명 시군구명         상호명      지점명                 도로명주소          경도         위도  \\\n",
       "0  강원도  홍천군     버거킹오션월드            강원도 홍천군 서면 한치골길 262  127.687273  37.652324   \n",
       "1  강원도  홍천군         버거킹     비발디점   강원도 홍천군 서면 한치골길 262  127.687273  37.652324   \n",
       "2  강원도  홍천군      BKR버거킹   대명비발디점   강원도 홍천군 서면 한치골길 262  127.687273  37.652324   \n",
       "3  강원도  강릉시         버거킹  강릉교동SK점      강원도 강릉시 하슬라로 159  128.874437  37.764370   \n",
       "4  강원도  춘천시  버거킹춘천거두GS점  춘천거두GS점  강원도 춘천시 동내면 춘천순환로 59  127.750304  37.855931   \n",
       "\n",
       "   점포수 n_상호명  \n",
       "0    1   버거킹  \n",
       "1    1   버거킹  \n",
       "2    1   버거킹  \n",
       "3    1   버거킹  \n",
       "4    1   버거킹  "
      ],
      "text/html": "<div>\n<style scoped>\n    .dataframe tbody tr th:only-of-type {\n        vertical-align: middle;\n    }\n\n    .dataframe tbody tr th {\n        vertical-align: top;\n    }\n\n    .dataframe thead th {\n        text-align: right;\n    }\n</style>\n<table border=\"1\" class=\"dataframe\">\n  <thead>\n    <tr style=\"text-align: right;\">\n      <th></th>\n      <th>시도명</th>\n      <th>시군구명</th>\n      <th>상호명</th>\n      <th>지점명</th>\n      <th>도로명주소</th>\n      <th>경도</th>\n      <th>위도</th>\n      <th>점포수</th>\n      <th>n_상호명</th>\n    </tr>\n  </thead>\n  <tbody>\n    <tr>\n      <th>0</th>\n      <td>강원도</td>\n      <td>홍천군</td>\n      <td>버거킹오션월드</td>\n      <td></td>\n      <td>강원도 홍천군 서면 한치골길 262</td>\n      <td>127.687273</td>\n      <td>37.652324</td>\n      <td>1</td>\n      <td>버거킹</td>\n    </tr>\n    <tr>\n      <th>1</th>\n      <td>강원도</td>\n      <td>홍천군</td>\n      <td>버거킹</td>\n      <td>비발디점</td>\n      <td>강원도 홍천군 서면 한치골길 262</td>\n      <td>127.687273</td>\n      <td>37.652324</td>\n      <td>1</td>\n      <td>버거킹</td>\n    </tr>\n    <tr>\n      <th>2</th>\n      <td>강원도</td>\n      <td>홍천군</td>\n      <td>BKR버거킹</td>\n      <td>대명비발디점</td>\n      <td>강원도 홍천군 서면 한치골길 262</td>\n      <td>127.687273</td>\n      <td>37.652324</td>\n      <td>1</td>\n      <td>버거킹</td>\n    </tr>\n    <tr>\n      <th>3</th>\n      <td>강원도</td>\n      <td>강릉시</td>\n      <td>버거킹</td>\n      <td>강릉교동SK점</td>\n      <td>강원도 강릉시 하슬라로 159</td>\n      <td>128.874437</td>\n      <td>37.764370</td>\n      <td>1</td>\n      <td>버거킹</td>\n    </tr>\n    <tr>\n      <th>4</th>\n      <td>강원도</td>\n      <td>춘천시</td>\n      <td>버거킹춘천거두GS점</td>\n      <td>춘천거두GS점</td>\n      <td>강원도 춘천시 동내면 춘천순환로 59</td>\n      <td>127.750304</td>\n      <td>37.855931</td>\n      <td>1</td>\n      <td>버거킹</td>\n    </tr>\n  </tbody>\n</table>\n</div>"
     },
     "metadata": {},
     "execution_count": 15
    }
   ],
   "source": [
    "burgur_sum = burgur_sum[['시도명', '시군구명', '상호명', '지점명', '도로명주소', '경도', '위도', '점포수', 'n_상호명']]\n",
    "burgur_sum.head()"
   ]
  },
  {
   "cell_type": "code",
   "execution_count": 16,
   "metadata": {},
   "outputs": [
    {
     "output_type": "execute_result",
     "data": {
      "text/plain": [
       "              점포수                     \n",
       "n_상호명         KFC  롯데리아 맘스터치 맥도날드  버거킹\n",
       "시도명  시군구명                             \n",
       "강원도  강릉시      0.0   5.0  4.0  1.0  1.0\n",
       "     고성군      0.0   1.0  0.0  0.0  0.0\n",
       "     동해시      1.0   0.0  0.0  3.0  0.0\n",
       "     삼척시      0.0   0.0  1.0  0.0  0.0\n",
       "     속초시      0.0   6.0  1.0  1.0  1.0\n",
       "...           ...   ...  ...  ...  ...\n",
       "충청북도 청주시 상당구  2.0   9.0  3.0  3.0  1.0\n",
       "     청주시 서원구  0.0   6.0  3.0  6.0  0.0\n",
       "     청주시 청원구  1.0   5.0  2.0  2.0  1.0\n",
       "     청주시 흥덕구  1.0  12.0  0.0  2.0  3.0\n",
       "     충주시      0.0   5.0  5.0  1.0  0.0\n",
       "\n",
       "[218 rows x 5 columns]"
      ],
      "text/html": "<div>\n<style scoped>\n    .dataframe tbody tr th:only-of-type {\n        vertical-align: middle;\n    }\n\n    .dataframe tbody tr th {\n        vertical-align: top;\n    }\n\n    .dataframe thead tr th {\n        text-align: left;\n    }\n\n    .dataframe thead tr:last-of-type th {\n        text-align: right;\n    }\n</style>\n<table border=\"1\" class=\"dataframe\">\n  <thead>\n    <tr>\n      <th></th>\n      <th></th>\n      <th colspan=\"5\" halign=\"left\">점포수</th>\n    </tr>\n    <tr>\n      <th></th>\n      <th>n_상호명</th>\n      <th>KFC</th>\n      <th>롯데리아</th>\n      <th>맘스터치</th>\n      <th>맥도날드</th>\n      <th>버거킹</th>\n    </tr>\n    <tr>\n      <th>시도명</th>\n      <th>시군구명</th>\n      <th></th>\n      <th></th>\n      <th></th>\n      <th></th>\n      <th></th>\n    </tr>\n  </thead>\n  <tbody>\n    <tr>\n      <th rowspan=\"5\" valign=\"top\">강원도</th>\n      <th>강릉시</th>\n      <td>0.0</td>\n      <td>5.0</td>\n      <td>4.0</td>\n      <td>1.0</td>\n      <td>1.0</td>\n    </tr>\n    <tr>\n      <th>고성군</th>\n      <td>0.0</td>\n      <td>1.0</td>\n      <td>0.0</td>\n      <td>0.0</td>\n      <td>0.0</td>\n    </tr>\n    <tr>\n      <th>동해시</th>\n      <td>1.0</td>\n      <td>0.0</td>\n      <td>0.0</td>\n      <td>3.0</td>\n      <td>0.0</td>\n    </tr>\n    <tr>\n      <th>삼척시</th>\n      <td>0.0</td>\n      <td>0.0</td>\n      <td>1.0</td>\n      <td>0.0</td>\n      <td>0.0</td>\n    </tr>\n    <tr>\n      <th>속초시</th>\n      <td>0.0</td>\n      <td>6.0</td>\n      <td>1.0</td>\n      <td>1.0</td>\n      <td>1.0</td>\n    </tr>\n    <tr>\n      <th>...</th>\n      <th>...</th>\n      <td>...</td>\n      <td>...</td>\n      <td>...</td>\n      <td>...</td>\n      <td>...</td>\n    </tr>\n    <tr>\n      <th rowspan=\"5\" valign=\"top\">충청북도</th>\n      <th>청주시 상당구</th>\n      <td>2.0</td>\n      <td>9.0</td>\n      <td>3.0</td>\n      <td>3.0</td>\n      <td>1.0</td>\n    </tr>\n    <tr>\n      <th>청주시 서원구</th>\n      <td>0.0</td>\n      <td>6.0</td>\n      <td>3.0</td>\n      <td>6.0</td>\n      <td>0.0</td>\n    </tr>\n    <tr>\n      <th>청주시 청원구</th>\n      <td>1.0</td>\n      <td>5.0</td>\n      <td>2.0</td>\n      <td>2.0</td>\n      <td>1.0</td>\n    </tr>\n    <tr>\n      <th>청주시 흥덕구</th>\n      <td>1.0</td>\n      <td>12.0</td>\n      <td>0.0</td>\n      <td>2.0</td>\n      <td>3.0</td>\n    </tr>\n    <tr>\n      <th>충주시</th>\n      <td>0.0</td>\n      <td>5.0</td>\n      <td>5.0</td>\n      <td>1.0</td>\n      <td>0.0</td>\n    </tr>\n  </tbody>\n</table>\n<p>218 rows × 5 columns</p>\n</div>"
     },
     "metadata": {},
     "execution_count": 16
    }
   ],
   "source": [
    "buger = pd.pivot_table(burgur_sum, index = ['시도명', '시군구명'], columns=['n_상호명'], values=['점포수'], aggfunc='sum')\n",
    "buger = buger.fillna(0.0)\n",
    "buger"
   ]
  },
  {
   "cell_type": "code",
   "execution_count": 17,
   "metadata": {},
   "outputs": [
    {
     "output_type": "execute_result",
     "data": {
      "text/plain": [
       "       시도명 시군구명  점포수                    \n",
       "n_상호명            KFC 롯데리아 맘스터치 맥도날드  버거킹\n",
       "0      강원도  강릉시  0.0  5.0  4.0  1.0  1.0\n",
       "1      강원도  고성군  0.0  1.0  0.0  0.0  0.0\n",
       "2      강원도  동해시  1.0  0.0  0.0  3.0  0.0\n",
       "3      강원도  삼척시  0.0  0.0  1.0  0.0  0.0\n",
       "4      강원도  속초시  0.0  6.0  1.0  1.0  1.0"
      ],
      "text/html": "<div>\n<style scoped>\n    .dataframe tbody tr th:only-of-type {\n        vertical-align: middle;\n    }\n\n    .dataframe tbody tr th {\n        vertical-align: top;\n    }\n\n    .dataframe thead tr th {\n        text-align: left;\n    }\n</style>\n<table border=\"1\" class=\"dataframe\">\n  <thead>\n    <tr>\n      <th></th>\n      <th>시도명</th>\n      <th>시군구명</th>\n      <th colspan=\"5\" halign=\"left\">점포수</th>\n    </tr>\n    <tr>\n      <th>n_상호명</th>\n      <th></th>\n      <th></th>\n      <th>KFC</th>\n      <th>롯데리아</th>\n      <th>맘스터치</th>\n      <th>맥도날드</th>\n      <th>버거킹</th>\n    </tr>\n  </thead>\n  <tbody>\n    <tr>\n      <th>0</th>\n      <td>강원도</td>\n      <td>강릉시</td>\n      <td>0.0</td>\n      <td>5.0</td>\n      <td>4.0</td>\n      <td>1.0</td>\n      <td>1.0</td>\n    </tr>\n    <tr>\n      <th>1</th>\n      <td>강원도</td>\n      <td>고성군</td>\n      <td>0.0</td>\n      <td>1.0</td>\n      <td>0.0</td>\n      <td>0.0</td>\n      <td>0.0</td>\n    </tr>\n    <tr>\n      <th>2</th>\n      <td>강원도</td>\n      <td>동해시</td>\n      <td>1.0</td>\n      <td>0.0</td>\n      <td>0.0</td>\n      <td>3.0</td>\n      <td>0.0</td>\n    </tr>\n    <tr>\n      <th>3</th>\n      <td>강원도</td>\n      <td>삼척시</td>\n      <td>0.0</td>\n      <td>0.0</td>\n      <td>1.0</td>\n      <td>0.0</td>\n      <td>0.0</td>\n    </tr>\n    <tr>\n      <th>4</th>\n      <td>강원도</td>\n      <td>속초시</td>\n      <td>0.0</td>\n      <td>6.0</td>\n      <td>1.0</td>\n      <td>1.0</td>\n      <td>1.0</td>\n    </tr>\n  </tbody>\n</table>\n</div>"
     },
     "metadata": {},
     "execution_count": 17
    }
   ],
   "source": [
    "buger.reset_index(inplace=True)\n",
    "buger.head()"
   ]
  },
  {
   "cell_type": "code",
   "execution_count": 18,
   "metadata": {},
   "outputs": [
    {
     "output_type": "execute_result",
     "data": {
      "text/plain": [
       "   시도명 시군구명  점포수KFC  점포수롯데리아  점포수맘스터치  점포수맥도날드  점포수버거킹\n",
       "0  강원도  강릉시     0.0      5.0      4.0      1.0     1.0\n",
       "1  강원도  고성군     0.0      1.0      0.0      0.0     0.0\n",
       "2  강원도  동해시     1.0      0.0      0.0      3.0     0.0\n",
       "3  강원도  삼척시     0.0      0.0      1.0      0.0     0.0\n",
       "4  강원도  속초시     0.0      6.0      1.0      1.0     1.0"
      ],
      "text/html": "<div>\n<style scoped>\n    .dataframe tbody tr th:only-of-type {\n        vertical-align: middle;\n    }\n\n    .dataframe tbody tr th {\n        vertical-align: top;\n    }\n\n    .dataframe thead th {\n        text-align: right;\n    }\n</style>\n<table border=\"1\" class=\"dataframe\">\n  <thead>\n    <tr style=\"text-align: right;\">\n      <th></th>\n      <th>시도명</th>\n      <th>시군구명</th>\n      <th>점포수KFC</th>\n      <th>점포수롯데리아</th>\n      <th>점포수맘스터치</th>\n      <th>점포수맥도날드</th>\n      <th>점포수버거킹</th>\n    </tr>\n  </thead>\n  <tbody>\n    <tr>\n      <th>0</th>\n      <td>강원도</td>\n      <td>강릉시</td>\n      <td>0.0</td>\n      <td>5.0</td>\n      <td>4.0</td>\n      <td>1.0</td>\n      <td>1.0</td>\n    </tr>\n    <tr>\n      <th>1</th>\n      <td>강원도</td>\n      <td>고성군</td>\n      <td>0.0</td>\n      <td>1.0</td>\n      <td>0.0</td>\n      <td>0.0</td>\n      <td>0.0</td>\n    </tr>\n    <tr>\n      <th>2</th>\n      <td>강원도</td>\n      <td>동해시</td>\n      <td>1.0</td>\n      <td>0.0</td>\n      <td>0.0</td>\n      <td>3.0</td>\n      <td>0.0</td>\n    </tr>\n    <tr>\n      <th>3</th>\n      <td>강원도</td>\n      <td>삼척시</td>\n      <td>0.0</td>\n      <td>0.0</td>\n      <td>1.0</td>\n      <td>0.0</td>\n      <td>0.0</td>\n    </tr>\n    <tr>\n      <th>4</th>\n      <td>강원도</td>\n      <td>속초시</td>\n      <td>0.0</td>\n      <td>6.0</td>\n      <td>1.0</td>\n      <td>1.0</td>\n      <td>1.0</td>\n    </tr>\n  </tbody>\n</table>\n</div>"
     },
     "metadata": {},
     "execution_count": 18
    }
   ],
   "source": [
    "tmp_coloumns = [buger.columns.get_level_values(0)[n] +\n",
    "                buger.columns.get_level_values(1)[n]\n",
    "                for n in range(len(buger.columns.get_level_values(0)))]\n",
    "\n",
    "buger.columns = tmp_coloumns\n",
    "\n",
    "buger.head()"
   ]
  },
  {
   "cell_type": "code",
   "execution_count": 19,
   "metadata": {},
   "outputs": [
    {
     "output_type": "stream",
     "name": "stdout",
     "text": [
      "['강릉', '고성(강원)', '동해', '삼척', '속초', '양구', '양양', '원주', '인제', '정선', '철원', '춘천', '태백', '평창', '홍천', '화천', '횡성', '가평', '고양 덕양', '고양 일산동', '고양 일산서', '과천', '광명', '광주', '구리', '군포', '김포', '남양주', '동두천', '부천', '성남 분당', '성남 수정', '성남 중원', '수원 권선', '수원 영통', '수원 장안', '수원 팔달', '시흥', '안산', '안산 단원', '안산 상록', '안성', '안양 동안', '안양 만안', '양주', '양평', '여주', '연천', '오산', '용인 기흥', '용인 수지', '용인 처인', '의왕', '의정부', '이천', '파주', '평택', '포천', '하남', '화성', '거제', '거창', '고성(경남)', '김해', '남해', '밀양', '사천', '산청', '양산', '의령', '진주', '창녕', '창원', '창원 합포', '창원 회원', '창원 성산', '창원 의창', '창원 진해', '통영', '하동', '경산', '경주', '고령', '구미', '김천', '문경', '봉화', '상주', '성주', '안동', '영주', '영천', '예천', '울릉', '울진', '의성', '청도', '포항 남', '포항 북', '광주 광산', '광주 남구', '광주 동구', '광주 북구', '광주 서구', '대구 남구', '대구 달서', '대구 달성', '대구 동구', '대구 북구', '대구 서구', '대구 수성', '대구 중구', '대전 대덕', '대전 동구', '대전 서구', '대전 유성', '대전 중구', '부산 강서', '부산 금정', '부산 기장', '부산 남구', '부산 동구', '부산 동래', '부산 부산진', '부산 북구', '부산 사상', '부산 사하', '부산 서구', '부산 수영', '부산 연제', '부산 영도', '부산 중구', '부산 해운대', '서울 강남', '서울 강동', '서울 강북', '서울 강서', '서울 관악', '서울 광진', '서울 구로', '서울 금천', '서울 노원', '서울 도봉', '서울 동대문', '서울 동작', '서울 마포', '서울 서대문', '서울 서초', '서울 성동', '서울 성북', '서울 송파', '서울 양천', '서울 영등포', '서울 용산', '서울 은평', '서울 종로', '서울 중구', '서울 중랑', '세종특별자치', '울산 남구', '울산 동구', '울산 북구', '울산 울주', '울산 중구', '인천 강화', '인천 계양', '인천 남동', '인천 미추홀', '인천 부평', '인천 서구', '인천 연수', '인천 옹진', '인천 중구', '강진', '고흥', '곡성', '광양', '구례', '나주', '담양', '목포', '무안', '보성', '순천', '여수', '영암', '완도', '장성', '함평', '해남', '서귀포', '제주', '계룡', '공주', '금산', '논산', '당진', '보령', '부여', '서산', '서천', '아산', '예산', '천안 동남', '천안 서북', '홍성', '괴산', '보은', '옥천', '음성', '제천', '증평', '진천', '청주 상당', '청주 서원', '청주 청원', '청주 흥덕', '충주']\n"
     ]
    }
   ],
   "source": [
    "sido = [None] * len(buger)\n",
    "\n",
    "for n in buger.index:\n",
    "    #고성 처리\n",
    "    if buger['시군구명'][n][:-1] =='고성':\n",
    "        if buger['시도명'][n]=='강원도':\n",
    "            sido[n] = f\"고성(강원)\"\n",
    "        else:\n",
    "            sido[n] = f\"고성(경남)\"\n",
    "    # 시 처리\n",
    "    elif buger['시도명'][n] in ['인천광역시', '울산광역시', '부산광역시', '대구광역시', '대전광역시', '광주광역시', '서울특별시']:\n",
    "        if len(buger['시군구명'][n]) == 2:\n",
    "            sido[n] = f\"{buger['시도명'][n][:2]} {buger['시군구명'][n]}\"\n",
    "        else:\n",
    "            sido[n] = f\"{buger['시도명'][n][:2]} {buger['시군구명'][n][:-1]}\"\n",
    "    # 그 외 시군구 정리\n",
    "    elif buger['시군구명'][n] in ['창원시 마산합포구', '창원시 마산회원구']:\n",
    "        sido[n] = f\"{buger['시군구명'][n].split()[0][:-1]} {buger['시군구명'][n].split()[1][2:-1]}\"\n",
    "    elif buger['시군구명'][n]:\n",
    "        if len(buger['시군구명'][n].split()) == 2:\n",
    "            sido[n] = f\"{buger['시군구명'][n].split()[0][:-1]} {buger['시군구명'][n].split()[1][:-1]}\"\n",
    "        else:\n",
    "            sido[n] = f\"{buger['시군구명'][n][:-1]}\"\n",
    "\n",
    "print(sido)"
   ]
  },
  {
   "cell_type": "code",
   "execution_count": 20,
   "metadata": {},
   "outputs": [
    {
     "output_type": "execute_result",
     "data": {
      "text/plain": [
       "   시도명 시군구명  점포수KFC  점포수롯데리아  점포수맘스터치  점포수맥도날드  점포수버거킹      ID\n",
       "0  강원도  강릉시     0.0      5.0      4.0      1.0     1.0      강릉\n",
       "1  강원도  고성군     0.0      1.0      0.0      0.0     0.0  고성(강원)\n",
       "2  강원도  동해시     1.0      0.0      0.0      3.0     0.0      동해\n",
       "3  강원도  삼척시     0.0      0.0      1.0      0.0     0.0      삼척\n",
       "4  강원도  속초시     0.0      6.0      1.0      1.0     1.0      속초"
      ],
      "text/html": "<div>\n<style scoped>\n    .dataframe tbody tr th:only-of-type {\n        vertical-align: middle;\n    }\n\n    .dataframe tbody tr th {\n        vertical-align: top;\n    }\n\n    .dataframe thead th {\n        text-align: right;\n    }\n</style>\n<table border=\"1\" class=\"dataframe\">\n  <thead>\n    <tr style=\"text-align: right;\">\n      <th></th>\n      <th>시도명</th>\n      <th>시군구명</th>\n      <th>점포수KFC</th>\n      <th>점포수롯데리아</th>\n      <th>점포수맘스터치</th>\n      <th>점포수맥도날드</th>\n      <th>점포수버거킹</th>\n      <th>ID</th>\n    </tr>\n  </thead>\n  <tbody>\n    <tr>\n      <th>0</th>\n      <td>강원도</td>\n      <td>강릉시</td>\n      <td>0.0</td>\n      <td>5.0</td>\n      <td>4.0</td>\n      <td>1.0</td>\n      <td>1.0</td>\n      <td>강릉</td>\n    </tr>\n    <tr>\n      <th>1</th>\n      <td>강원도</td>\n      <td>고성군</td>\n      <td>0.0</td>\n      <td>1.0</td>\n      <td>0.0</td>\n      <td>0.0</td>\n      <td>0.0</td>\n      <td>고성(강원)</td>\n    </tr>\n    <tr>\n      <th>2</th>\n      <td>강원도</td>\n      <td>동해시</td>\n      <td>1.0</td>\n      <td>0.0</td>\n      <td>0.0</td>\n      <td>3.0</td>\n      <td>0.0</td>\n      <td>동해</td>\n    </tr>\n    <tr>\n      <th>3</th>\n      <td>강원도</td>\n      <td>삼척시</td>\n      <td>0.0</td>\n      <td>0.0</td>\n      <td>1.0</td>\n      <td>0.0</td>\n      <td>0.0</td>\n      <td>삼척</td>\n    </tr>\n    <tr>\n      <th>4</th>\n      <td>강원도</td>\n      <td>속초시</td>\n      <td>0.0</td>\n      <td>6.0</td>\n      <td>1.0</td>\n      <td>1.0</td>\n      <td>1.0</td>\n      <td>속초</td>\n    </tr>\n  </tbody>\n</table>\n</div>"
     },
     "metadata": {},
     "execution_count": 20
    }
   ],
   "source": [
    "buger['ID'] = sido\n",
    "buger.head()"
   ]
  },
  {
   "cell_type": "code",
   "execution_count": 21,
   "metadata": {},
   "outputs": [
    {
     "output_type": "execute_result",
     "data": {
      "text/plain": [
       "    0    1    2       3       4       5      6       7      8   9       10  \\\n",
       "0  NaN  NaN  NaN     NaN     NaN     NaN    NaN      철원     화천  양구  고성(강원)   \n",
       "1  NaN  NaN  NaN      양주     동두천      연천     포천     의정부     인제  춘천      속초   \n",
       "2  NaN  NaN  NaN      파주  고양 일산동   서울 도봉  서울 노원     남양주     홍천  횡성      양양   \n",
       "3  NaN  NaN  NaN  고양 일산서   고양 덕양   서울 강북  서울 성북      가평     구리  하남      정선   \n",
       "4  NaN  NaN   김포   안양 만안      광명  서울 서대문  서울 종로  서울 동대문  서울 중랑  양평      태백   \n",
       "\n",
       "    11   12   13  \n",
       "0  NaN  NaN  NaN  \n",
       "1  NaN  NaN  NaN  \n",
       "2  NaN  NaN  NaN  \n",
       "3   강릉  NaN  NaN  \n",
       "4   동해  NaN  NaN  "
      ],
      "text/html": "<div>\n<style scoped>\n    .dataframe tbody tr th:only-of-type {\n        vertical-align: middle;\n    }\n\n    .dataframe tbody tr th {\n        vertical-align: top;\n    }\n\n    .dataframe thead th {\n        text-align: right;\n    }\n</style>\n<table border=\"1\" class=\"dataframe\">\n  <thead>\n    <tr style=\"text-align: right;\">\n      <th></th>\n      <th>0</th>\n      <th>1</th>\n      <th>2</th>\n      <th>3</th>\n      <th>4</th>\n      <th>5</th>\n      <th>6</th>\n      <th>7</th>\n      <th>8</th>\n      <th>9</th>\n      <th>10</th>\n      <th>11</th>\n      <th>12</th>\n      <th>13</th>\n    </tr>\n  </thead>\n  <tbody>\n    <tr>\n      <th>0</th>\n      <td>NaN</td>\n      <td>NaN</td>\n      <td>NaN</td>\n      <td>NaN</td>\n      <td>NaN</td>\n      <td>NaN</td>\n      <td>NaN</td>\n      <td>철원</td>\n      <td>화천</td>\n      <td>양구</td>\n      <td>고성(강원)</td>\n      <td>NaN</td>\n      <td>NaN</td>\n      <td>NaN</td>\n    </tr>\n    <tr>\n      <th>1</th>\n      <td>NaN</td>\n      <td>NaN</td>\n      <td>NaN</td>\n      <td>양주</td>\n      <td>동두천</td>\n      <td>연천</td>\n      <td>포천</td>\n      <td>의정부</td>\n      <td>인제</td>\n      <td>춘천</td>\n      <td>속초</td>\n      <td>NaN</td>\n      <td>NaN</td>\n      <td>NaN</td>\n    </tr>\n    <tr>\n      <th>2</th>\n      <td>NaN</td>\n      <td>NaN</td>\n      <td>NaN</td>\n      <td>파주</td>\n      <td>고양 일산동</td>\n      <td>서울 도봉</td>\n      <td>서울 노원</td>\n      <td>남양주</td>\n      <td>홍천</td>\n      <td>횡성</td>\n      <td>양양</td>\n      <td>NaN</td>\n      <td>NaN</td>\n      <td>NaN</td>\n    </tr>\n    <tr>\n      <th>3</th>\n      <td>NaN</td>\n      <td>NaN</td>\n      <td>NaN</td>\n      <td>고양 일산서</td>\n      <td>고양 덕양</td>\n      <td>서울 강북</td>\n      <td>서울 성북</td>\n      <td>가평</td>\n      <td>구리</td>\n      <td>하남</td>\n      <td>정선</td>\n      <td>강릉</td>\n      <td>NaN</td>\n      <td>NaN</td>\n    </tr>\n    <tr>\n      <th>4</th>\n      <td>NaN</td>\n      <td>NaN</td>\n      <td>김포</td>\n      <td>안양 만안</td>\n      <td>광명</td>\n      <td>서울 서대문</td>\n      <td>서울 종로</td>\n      <td>서울 동대문</td>\n      <td>서울 중랑</td>\n      <td>양평</td>\n      <td>태백</td>\n      <td>동해</td>\n      <td>NaN</td>\n      <td>NaN</td>\n    </tr>\n  </tbody>\n</table>\n</div>"
     },
     "metadata": {},
     "execution_count": 21
    }
   ],
   "source": [
    "draw_korea_raw = pd.read_excel('../static/data/draw_korea_raw(수정).xlsx', encoding='utf8')\n",
    "draw_korea_raw.head()"
   ]
  },
  {
   "cell_type": "code",
   "execution_count": 22,
   "metadata": {},
   "outputs": [
    {
     "output_type": "execute_result",
     "data": {
      "text/plain": [
       "      y   x      ID\n",
       "0     0   7      철원\n",
       "1     0   8      화천\n",
       "2     0   9      양구\n",
       "3     0  10  고성(강원)\n",
       "4     1   3      양주\n",
       "..   ..  ..     ...\n",
       "245  24   2      장흥\n",
       "246  24   3      보성\n",
       "247  25   2      완도\n",
       "248  25   5      제주\n",
       "249  26   5     서귀포\n",
       "\n",
       "[250 rows x 3 columns]"
      ],
      "text/html": "<div>\n<style scoped>\n    .dataframe tbody tr th:only-of-type {\n        vertical-align: middle;\n    }\n\n    .dataframe tbody tr th {\n        vertical-align: top;\n    }\n\n    .dataframe thead th {\n        text-align: right;\n    }\n</style>\n<table border=\"1\" class=\"dataframe\">\n  <thead>\n    <tr style=\"text-align: right;\">\n      <th></th>\n      <th>y</th>\n      <th>x</th>\n      <th>ID</th>\n    </tr>\n  </thead>\n  <tbody>\n    <tr>\n      <th>0</th>\n      <td>0</td>\n      <td>7</td>\n      <td>철원</td>\n    </tr>\n    <tr>\n      <th>1</th>\n      <td>0</td>\n      <td>8</td>\n      <td>화천</td>\n    </tr>\n    <tr>\n      <th>2</th>\n      <td>0</td>\n      <td>9</td>\n      <td>양구</td>\n    </tr>\n    <tr>\n      <th>3</th>\n      <td>0</td>\n      <td>10</td>\n      <td>고성(강원)</td>\n    </tr>\n    <tr>\n      <th>4</th>\n      <td>1</td>\n      <td>3</td>\n      <td>양주</td>\n    </tr>\n    <tr>\n      <th>...</th>\n      <td>...</td>\n      <td>...</td>\n      <td>...</td>\n    </tr>\n    <tr>\n      <th>245</th>\n      <td>24</td>\n      <td>2</td>\n      <td>장흥</td>\n    </tr>\n    <tr>\n      <th>246</th>\n      <td>24</td>\n      <td>3</td>\n      <td>보성</td>\n    </tr>\n    <tr>\n      <th>247</th>\n      <td>25</td>\n      <td>2</td>\n      <td>완도</td>\n    </tr>\n    <tr>\n      <th>248</th>\n      <td>25</td>\n      <td>5</td>\n      <td>제주</td>\n    </tr>\n    <tr>\n      <th>249</th>\n      <td>26</td>\n      <td>5</td>\n      <td>서귀포</td>\n    </tr>\n  </tbody>\n</table>\n<p>250 rows × 3 columns</p>\n</div>"
     },
     "metadata": {},
     "execution_count": 22
    }
   ],
   "source": [
    "draw_korea_raw_stacked = pd.DataFrame(draw_korea_raw.stack())\n",
    "draw_korea_raw_stacked.reset_index(inplace=True)\n",
    "draw_korea_raw_stacked.rename(columns={'level_0':'y', 'level_1':'x', 0:'ID'},\n",
    "                                       inplace=True)\n",
    "draw_korea_raw_stacked"
   ]
  },
  {
   "cell_type": "code",
   "execution_count": 23,
   "metadata": {},
   "outputs": [],
   "source": [
    "draw_korea = draw_korea_raw_stacked"
   ]
  },
  {
   "cell_type": "code",
   "execution_count": 24,
   "metadata": {},
   "outputs": [
    {
     "output_type": "stream",
     "name": "stdout",
     "text": [
      "set()\n"
     ]
    },
    {
     "output_type": "execute_result",
     "data": {
      "text/plain": [
       "set()"
      ]
     },
     "metadata": {},
     "execution_count": 24
    }
   ],
   "source": [
    "tmp_list = list(set(buger['ID'].unique()) - set(draw_korea['ID'].unique()))\n",
    "\n",
    "for tmp in tmp_list:\n",
    "    buger = buger.drop(buger[buger['ID']==tmp].index)\n",
    "\n",
    "print(set(buger['ID'].unique()) - set(draw_korea['ID'].unique()))\n",
    "set()"
   ]
  },
  {
   "cell_type": "code",
   "execution_count": 25,
   "metadata": {},
   "outputs": [
    {
     "output_type": "execute_result",
     "data": {
      "text/plain": [
       "   시도명 시군구명  점포수KFC  점포수롯데리아  점포수맘스터치  점포수맥도날드  점포수버거킹      ID  y   x\n",
       "0  강원도  강릉시     0.0      5.0      4.0      1.0     1.0      강릉  3  11\n",
       "1  강원도  고성군     0.0      1.0      0.0      0.0     0.0  고성(강원)  0  10\n",
       "2  강원도  동해시     1.0      0.0      0.0      3.0     0.0      동해  4  11\n",
       "3  강원도  삼척시     0.0      0.0      1.0      0.0     0.0      삼척  5  11\n",
       "4  강원도  속초시     0.0      6.0      1.0      1.0     1.0      속초  1  10"
      ],
      "text/html": "<div>\n<style scoped>\n    .dataframe tbody tr th:only-of-type {\n        vertical-align: middle;\n    }\n\n    .dataframe tbody tr th {\n        vertical-align: top;\n    }\n\n    .dataframe thead th {\n        text-align: right;\n    }\n</style>\n<table border=\"1\" class=\"dataframe\">\n  <thead>\n    <tr style=\"text-align: right;\">\n      <th></th>\n      <th>시도명</th>\n      <th>시군구명</th>\n      <th>점포수KFC</th>\n      <th>점포수롯데리아</th>\n      <th>점포수맘스터치</th>\n      <th>점포수맥도날드</th>\n      <th>점포수버거킹</th>\n      <th>ID</th>\n      <th>y</th>\n      <th>x</th>\n    </tr>\n  </thead>\n  <tbody>\n    <tr>\n      <th>0</th>\n      <td>강원도</td>\n      <td>강릉시</td>\n      <td>0.0</td>\n      <td>5.0</td>\n      <td>4.0</td>\n      <td>1.0</td>\n      <td>1.0</td>\n      <td>강릉</td>\n      <td>3</td>\n      <td>11</td>\n    </tr>\n    <tr>\n      <th>1</th>\n      <td>강원도</td>\n      <td>고성군</td>\n      <td>0.0</td>\n      <td>1.0</td>\n      <td>0.0</td>\n      <td>0.0</td>\n      <td>0.0</td>\n      <td>고성(강원)</td>\n      <td>0</td>\n      <td>10</td>\n    </tr>\n    <tr>\n      <th>2</th>\n      <td>강원도</td>\n      <td>동해시</td>\n      <td>1.0</td>\n      <td>0.0</td>\n      <td>0.0</td>\n      <td>3.0</td>\n      <td>0.0</td>\n      <td>동해</td>\n      <td>4</td>\n      <td>11</td>\n    </tr>\n    <tr>\n      <th>3</th>\n      <td>강원도</td>\n      <td>삼척시</td>\n      <td>0.0</td>\n      <td>0.0</td>\n      <td>1.0</td>\n      <td>0.0</td>\n      <td>0.0</td>\n      <td>삼척</td>\n      <td>5</td>\n      <td>11</td>\n    </tr>\n    <tr>\n      <th>4</th>\n      <td>강원도</td>\n      <td>속초시</td>\n      <td>0.0</td>\n      <td>6.0</td>\n      <td>1.0</td>\n      <td>1.0</td>\n      <td>1.0</td>\n      <td>속초</td>\n      <td>1</td>\n      <td>10</td>\n    </tr>\n  </tbody>\n</table>\n</div>"
     },
     "metadata": {},
     "execution_count": 25
    }
   ],
   "source": [
    "buger = pd.merge(buger, draw_korea, how='right', on=['ID'])\n",
    "\n",
    "buger.head()"
   ]
  },
  {
   "cell_type": "code",
   "execution_count": 26,
   "metadata": {},
   "outputs": [
    {
     "output_type": "execute_result",
     "data": {
      "text/plain": [
       "     시도명 시군구명  점포수KFC  점포수롯데리아  점포수맘스터치  점포수맥도날드  점포수버거킹      ID   y   x\n",
       "0    강원도  강릉시     0.0      5.0      4.0      1.0     1.0      강릉   3  11\n",
       "1    강원도  고성군     0.0      1.0      0.0      0.0     0.0  고성(강원)   0  10\n",
       "2    강원도  동해시     1.0      0.0      0.0      3.0     0.0      동해   4  11\n",
       "3    강원도  삼척시     0.0      0.0      1.0      0.0     0.0      삼척   5  11\n",
       "4    강원도  속초시     0.0      6.0      1.0      1.0     1.0      속초   1  10\n",
       "..   ...  ...     ...      ...      ...      ...     ...     ...  ..  ..\n",
       "245    0    0     0.0      0.0      0.0      0.0     0.0      순창  20   3\n",
       "246    0    0     0.0      0.0      0.0      0.0     0.0      신안  21   0\n",
       "247    0    0     0.0      0.0      0.0      0.0     0.0      화순  21   4\n",
       "248    0    0     0.0      0.0      0.0      0.0     0.0      진도  24   0\n",
       "249    0    0     0.0      0.0      0.0      0.0     0.0      장흥  24   2\n",
       "\n",
       "[250 rows x 10 columns]"
      ],
      "text/html": "<div>\n<style scoped>\n    .dataframe tbody tr th:only-of-type {\n        vertical-align: middle;\n    }\n\n    .dataframe tbody tr th {\n        vertical-align: top;\n    }\n\n    .dataframe thead th {\n        text-align: right;\n    }\n</style>\n<table border=\"1\" class=\"dataframe\">\n  <thead>\n    <tr style=\"text-align: right;\">\n      <th></th>\n      <th>시도명</th>\n      <th>시군구명</th>\n      <th>점포수KFC</th>\n      <th>점포수롯데리아</th>\n      <th>점포수맘스터치</th>\n      <th>점포수맥도날드</th>\n      <th>점포수버거킹</th>\n      <th>ID</th>\n      <th>y</th>\n      <th>x</th>\n    </tr>\n  </thead>\n  <tbody>\n    <tr>\n      <th>0</th>\n      <td>강원도</td>\n      <td>강릉시</td>\n      <td>0.0</td>\n      <td>5.0</td>\n      <td>4.0</td>\n      <td>1.0</td>\n      <td>1.0</td>\n      <td>강릉</td>\n      <td>3</td>\n      <td>11</td>\n    </tr>\n    <tr>\n      <th>1</th>\n      <td>강원도</td>\n      <td>고성군</td>\n      <td>0.0</td>\n      <td>1.0</td>\n      <td>0.0</td>\n      <td>0.0</td>\n      <td>0.0</td>\n      <td>고성(강원)</td>\n      <td>0</td>\n      <td>10</td>\n    </tr>\n    <tr>\n      <th>2</th>\n      <td>강원도</td>\n      <td>동해시</td>\n      <td>1.0</td>\n      <td>0.0</td>\n      <td>0.0</td>\n      <td>3.0</td>\n      <td>0.0</td>\n      <td>동해</td>\n      <td>4</td>\n      <td>11</td>\n    </tr>\n    <tr>\n      <th>3</th>\n      <td>강원도</td>\n      <td>삼척시</td>\n      <td>0.0</td>\n      <td>0.0</td>\n      <td>1.0</td>\n      <td>0.0</td>\n      <td>0.0</td>\n      <td>삼척</td>\n      <td>5</td>\n      <td>11</td>\n    </tr>\n    <tr>\n      <th>4</th>\n      <td>강원도</td>\n      <td>속초시</td>\n      <td>0.0</td>\n      <td>6.0</td>\n      <td>1.0</td>\n      <td>1.0</td>\n      <td>1.0</td>\n      <td>속초</td>\n      <td>1</td>\n      <td>10</td>\n    </tr>\n    <tr>\n      <th>...</th>\n      <td>...</td>\n      <td>...</td>\n      <td>...</td>\n      <td>...</td>\n      <td>...</td>\n      <td>...</td>\n      <td>...</td>\n      <td>...</td>\n      <td>...</td>\n      <td>...</td>\n    </tr>\n    <tr>\n      <th>245</th>\n      <td>0</td>\n      <td>0</td>\n      <td>0.0</td>\n      <td>0.0</td>\n      <td>0.0</td>\n      <td>0.0</td>\n      <td>0.0</td>\n      <td>순창</td>\n      <td>20</td>\n      <td>3</td>\n    </tr>\n    <tr>\n      <th>246</th>\n      <td>0</td>\n      <td>0</td>\n      <td>0.0</td>\n      <td>0.0</td>\n      <td>0.0</td>\n      <td>0.0</td>\n      <td>0.0</td>\n      <td>신안</td>\n      <td>21</td>\n      <td>0</td>\n    </tr>\n    <tr>\n      <th>247</th>\n      <td>0</td>\n      <td>0</td>\n      <td>0.0</td>\n      <td>0.0</td>\n      <td>0.0</td>\n      <td>0.0</td>\n      <td>0.0</td>\n      <td>화순</td>\n      <td>21</td>\n      <td>4</td>\n    </tr>\n    <tr>\n      <th>248</th>\n      <td>0</td>\n      <td>0</td>\n      <td>0.0</td>\n      <td>0.0</td>\n      <td>0.0</td>\n      <td>0.0</td>\n      <td>0.0</td>\n      <td>진도</td>\n      <td>24</td>\n      <td>0</td>\n    </tr>\n    <tr>\n      <th>249</th>\n      <td>0</td>\n      <td>0</td>\n      <td>0.0</td>\n      <td>0.0</td>\n      <td>0.0</td>\n      <td>0.0</td>\n      <td>0.0</td>\n      <td>장흥</td>\n      <td>24</td>\n      <td>2</td>\n    </tr>\n  </tbody>\n</table>\n<p>250 rows × 10 columns</p>\n</div>"
     },
     "metadata": {},
     "execution_count": 26
    }
   ],
   "source": [
    "buger = buger.fillna(0)\n",
    "buger"
   ]
  },
  {
   "cell_type": "code",
   "execution_count": 27,
   "metadata": {},
   "outputs": [
    {
     "output_type": "stream",
     "name": "stdout",
     "text": [
      "[0.2222222222222222, 0.0, 0, 0.0, 0.2857142857142857, 0.0, 0.0, 0.35294117647058826, 0.0, 0.0, 0.0, 1.8333333333333333, 0.0, 0.0, 1.0, 0.0, 1.0, 0.0, 1.1818181818181819, 3.4, 0.45454545454545453, 3.0, 7.0, 0.1111111111111111, 3.5, 0.6, 1.2727272727272727, 0.8571428571428571, 1.5, 2.111111111111111, 2.9, 2.5, 0.14285714285714285, 1.1428571428571428, 2.2857142857142856, 1.5, 2.125, 0.3, 0.6, 0.3076923076923077, 0.1, 0.7, 0.5555555555555556, 0.14285714285714285, 0.2, 0.125, 0.0, 2.0, 1.8333333333333333, 1.4285714285714286, 0.4166666666666667, 0.6666666666666666, 1.3076923076923077, 1.25, 0.17647058823529413, 0.6, 0.6, 0.7142857142857143, 0.5714285714285714, 1.1666666666666667, 0.0, 0.0, 1.4545454545454546, 0.0, 0, 0.5, 0.0, 0.7, 0.0, 0.6, 0.0, 1.5, 0.8888888888888888, 1.5, 0.7777777777777778, 0.8333333333333334, 0, 0.0, 0.5454545454545454, 0.5454545454545454, 0.0, 1.5555555555555556, 0.4, 0.0, 0.0, 0.5, 0.0, 0.4, 0.3333333333333333, 0.0, 0.0, 0.0, 0.0, 0.0, 0.0, 0.6363636363636364, 0.7777777777777778, 0.6666666666666666, 2.2, 0.7142857142857143, 1.6666666666666667, 2.4444444444444446, 0.8, 0.5833333333333334, 1.7142857142857142, 0.5, 1.8181818181818181, 2.2857142857142856, 0.375, 0.5, 1.6428571428571428, 0.5833333333333334, 1.4545454545454546, 0.2, 1.1666666666666667, 0.5, 1.2, 1.0, 2.0, 1.0833333333333333, 1.1428571428571428, 1.75, 1.2, 0.0, 1.2, 1.8, 0.3333333333333333, 1.25, 1.0666666666666667, 5.333333333333333, 1.875, 2.0, 1.75, 1.0, 1.1, 2.5, 2.0, 2.1666666666666665, 4.0, 0.9, 1.1428571428571428, 1.2727272727272727, 1.5833333333333333, 3.857142857142857, 0.5, 0.5714285714285714, 1.0, 2.0, 1.3, 0.5454545454545454, 2.5, 2.0, 3.6666666666666665, 1.75, 1.2, 1.3333333333333333, 0.4, 0.1, 0.3, 0.0, 1.1666666666666667, 1.1333333333333333, 0.5384615384615384, 1.0, 0.45454545454545453, 0.75, 0.0, 1.125, 0.0, 0.0, 0.0, 1.0, 0.0, 0.0, 0.0, 1.1666666666666667, 1.0, 0.0, 0.6, 0.4166666666666667, 0.0, 0.0, 0.0, 0.0, 0.0, 0.75, 1.0, 0.0, 0.0, 0.0, 0.3333333333333333, 0.75, 0.3333333333333333, 0.0, 0.3333333333333333, 0.0, 0.36363636363636365, 0.0, 0.6, 0.7272727272727273, 1.5, 0.0, 0.0, 0.0, 0.0, 0.16666666666666666, 0.0, 1.0, 0.5, 0.6666666666666666, 0.5714285714285714, 0.5, 0.1, 0, 0, 0, 0, 0, 0, 0, 0, 0, 0, 0, 0, 0, 0, 0, 0, 0, 0, 0, 0, 0, 0, 0, 0, 0, 0, 0, 0, 0, 0, 0, 0, 0, 0, 0, 0, 0]\n"
     ]
    }
   ],
   "source": [
    "bugur_list = []\n",
    "\n",
    "for i in buger.index:\n",
    "    if buger['점포수롯데리아'][i]+buger['점포수맘스터치'][i] == 0:\n",
    "        bugur_list.append(0)\n",
    "    else:\n",
    "        bugur_list.append((buger['점포수KFC'][i] + buger['점포수맥도날드'][i] + buger['점포수버거킹'][i]) / (buger['점포수롯데리아'][i] + buger['점포수맘스터치'][i]))\n",
    "\n",
    "print(bugur_list)"
   ]
  },
  {
   "cell_type": "code",
   "execution_count": 28,
   "metadata": {},
   "outputs": [
    {
     "output_type": "execute_result",
     "data": {
      "text/plain": [
       "   시도명 시군구명  점포수KFC  점포수롯데리아  점포수맘스터치  점포수맥도날드  점포수버거킹      ID  y   x  \\\n",
       "0  강원도  강릉시     0.0      5.0      4.0      1.0     1.0      강릉  3  11   \n",
       "1  강원도  고성군     0.0      1.0      0.0      0.0     0.0  고성(강원)  0  10   \n",
       "2  강원도  동해시     1.0      0.0      0.0      3.0     0.0      동해  4  11   \n",
       "3  강원도  삼척시     0.0      0.0      1.0      0.0     0.0      삼척  5  11   \n",
       "4  강원도  속초시     0.0      6.0      1.0      1.0     1.0      속초  1  10   \n",
       "\n",
       "       버거지수  \n",
       "0  0.222222  \n",
       "1  0.000000  \n",
       "2  0.000000  \n",
       "3  0.000000  \n",
       "4  0.285714  "
      ],
      "text/html": "<div>\n<style scoped>\n    .dataframe tbody tr th:only-of-type {\n        vertical-align: middle;\n    }\n\n    .dataframe tbody tr th {\n        vertical-align: top;\n    }\n\n    .dataframe thead th {\n        text-align: right;\n    }\n</style>\n<table border=\"1\" class=\"dataframe\">\n  <thead>\n    <tr style=\"text-align: right;\">\n      <th></th>\n      <th>시도명</th>\n      <th>시군구명</th>\n      <th>점포수KFC</th>\n      <th>점포수롯데리아</th>\n      <th>점포수맘스터치</th>\n      <th>점포수맥도날드</th>\n      <th>점포수버거킹</th>\n      <th>ID</th>\n      <th>y</th>\n      <th>x</th>\n      <th>버거지수</th>\n    </tr>\n  </thead>\n  <tbody>\n    <tr>\n      <th>0</th>\n      <td>강원도</td>\n      <td>강릉시</td>\n      <td>0.0</td>\n      <td>5.0</td>\n      <td>4.0</td>\n      <td>1.0</td>\n      <td>1.0</td>\n      <td>강릉</td>\n      <td>3</td>\n      <td>11</td>\n      <td>0.222222</td>\n    </tr>\n    <tr>\n      <th>1</th>\n      <td>강원도</td>\n      <td>고성군</td>\n      <td>0.0</td>\n      <td>1.0</td>\n      <td>0.0</td>\n      <td>0.0</td>\n      <td>0.0</td>\n      <td>고성(강원)</td>\n      <td>0</td>\n      <td>10</td>\n      <td>0.000000</td>\n    </tr>\n    <tr>\n      <th>2</th>\n      <td>강원도</td>\n      <td>동해시</td>\n      <td>1.0</td>\n      <td>0.0</td>\n      <td>0.0</td>\n      <td>3.0</td>\n      <td>0.0</td>\n      <td>동해</td>\n      <td>4</td>\n      <td>11</td>\n      <td>0.000000</td>\n    </tr>\n    <tr>\n      <th>3</th>\n      <td>강원도</td>\n      <td>삼척시</td>\n      <td>0.0</td>\n      <td>0.0</td>\n      <td>1.0</td>\n      <td>0.0</td>\n      <td>0.0</td>\n      <td>삼척</td>\n      <td>5</td>\n      <td>11</td>\n      <td>0.000000</td>\n    </tr>\n    <tr>\n      <th>4</th>\n      <td>강원도</td>\n      <td>속초시</td>\n      <td>0.0</td>\n      <td>6.0</td>\n      <td>1.0</td>\n      <td>1.0</td>\n      <td>1.0</td>\n      <td>속초</td>\n      <td>1</td>\n      <td>10</td>\n      <td>0.285714</td>\n    </tr>\n  </tbody>\n</table>\n</div>"
     },
     "metadata": {},
     "execution_count": 28
    }
   ],
   "source": [
    "buger['버거지수'] = bugur_list\n",
    "buger.head()"
   ]
  },
  {
   "cell_type": "code",
   "execution_count": 30,
   "metadata": {},
   "outputs": [
    {
     "output_type": "execute_result",
     "data": {
      "text/plain": [
       "       ID  y   x  점포수KFC  점포수롯데리아  점포수맘스터치  점포수맥도날드  점포수버거킹      버거지수\n",
       "0      강릉  3  11     0.0      5.0      4.0      1.0     1.0  0.222222\n",
       "1  고성(강원)  0  10     0.0      1.0      0.0      0.0     0.0  0.000000\n",
       "2      동해  4  11     1.0      0.0      0.0      3.0     0.0  0.000000\n",
       "3      삼척  5  11     0.0      0.0      1.0      0.0     0.0  0.000000\n",
       "4      속초  1  10     0.0      6.0      1.0      1.0     1.0  0.285714"
      ],
      "text/html": "<div>\n<style scoped>\n    .dataframe tbody tr th:only-of-type {\n        vertical-align: middle;\n    }\n\n    .dataframe tbody tr th {\n        vertical-align: top;\n    }\n\n    .dataframe thead th {\n        text-align: right;\n    }\n</style>\n<table border=\"1\" class=\"dataframe\">\n  <thead>\n    <tr style=\"text-align: right;\">\n      <th></th>\n      <th>ID</th>\n      <th>y</th>\n      <th>x</th>\n      <th>점포수KFC</th>\n      <th>점포수롯데리아</th>\n      <th>점포수맘스터치</th>\n      <th>점포수맥도날드</th>\n      <th>점포수버거킹</th>\n      <th>버거지수</th>\n    </tr>\n  </thead>\n  <tbody>\n    <tr>\n      <th>0</th>\n      <td>강릉</td>\n      <td>3</td>\n      <td>11</td>\n      <td>0.0</td>\n      <td>5.0</td>\n      <td>4.0</td>\n      <td>1.0</td>\n      <td>1.0</td>\n      <td>0.222222</td>\n    </tr>\n    <tr>\n      <th>1</th>\n      <td>고성(강원)</td>\n      <td>0</td>\n      <td>10</td>\n      <td>0.0</td>\n      <td>1.0</td>\n      <td>0.0</td>\n      <td>0.0</td>\n      <td>0.0</td>\n      <td>0.000000</td>\n    </tr>\n    <tr>\n      <th>2</th>\n      <td>동해</td>\n      <td>4</td>\n      <td>11</td>\n      <td>1.0</td>\n      <td>0.0</td>\n      <td>0.0</td>\n      <td>3.0</td>\n      <td>0.0</td>\n      <td>0.000000</td>\n    </tr>\n    <tr>\n      <th>3</th>\n      <td>삼척</td>\n      <td>5</td>\n      <td>11</td>\n      <td>0.0</td>\n      <td>0.0</td>\n      <td>1.0</td>\n      <td>0.0</td>\n      <td>0.0</td>\n      <td>0.000000</td>\n    </tr>\n    <tr>\n      <th>4</th>\n      <td>속초</td>\n      <td>1</td>\n      <td>10</td>\n      <td>0.0</td>\n      <td>6.0</td>\n      <td>1.0</td>\n      <td>1.0</td>\n      <td>1.0</td>\n      <td>0.285714</td>\n    </tr>\n  </tbody>\n</table>\n</div>"
     },
     "metadata": {},
     "execution_count": 30
    }
   ],
   "source": [
    "buger = buger[['ID','y','x','점포수KFC','점포수롯데리아','점포수맘스터치','점포수맥도날드','점포수버거킹','버거지수']]\n",
    "buger.head()"
   ]
  },
  {
   "cell_type": "code",
   "execution_count": 31,
   "metadata": {},
   "outputs": [
    {
     "output_type": "execute_result",
     "data": {
      "text/plain": [
       "       ID  y   x  KFC 매장수  롯데리아 매장수  맘스터치 매장수  맥도날드 매장수  버거킹 매장수      버거지수\n",
       "0      강릉  3  11      0.0       5.0       4.0       1.0      1.0  0.222222\n",
       "1  고성(강원)  0  10      0.0       1.0       0.0       0.0      0.0  0.000000\n",
       "2      동해  4  11      1.0       0.0       0.0       3.0      0.0  0.000000\n",
       "3      삼척  5  11      0.0       0.0       1.0       0.0      0.0  0.000000\n",
       "4      속초  1  10      0.0       6.0       1.0       1.0      1.0  0.285714"
      ],
      "text/html": "<div>\n<style scoped>\n    .dataframe tbody tr th:only-of-type {\n        vertical-align: middle;\n    }\n\n    .dataframe tbody tr th {\n        vertical-align: top;\n    }\n\n    .dataframe thead th {\n        text-align: right;\n    }\n</style>\n<table border=\"1\" class=\"dataframe\">\n  <thead>\n    <tr style=\"text-align: right;\">\n      <th></th>\n      <th>ID</th>\n      <th>y</th>\n      <th>x</th>\n      <th>KFC 매장수</th>\n      <th>롯데리아 매장수</th>\n      <th>맘스터치 매장수</th>\n      <th>맥도날드 매장수</th>\n      <th>버거킹 매장수</th>\n      <th>버거지수</th>\n    </tr>\n  </thead>\n  <tbody>\n    <tr>\n      <th>0</th>\n      <td>강릉</td>\n      <td>3</td>\n      <td>11</td>\n      <td>0.0</td>\n      <td>5.0</td>\n      <td>4.0</td>\n      <td>1.0</td>\n      <td>1.0</td>\n      <td>0.222222</td>\n    </tr>\n    <tr>\n      <th>1</th>\n      <td>고성(강원)</td>\n      <td>0</td>\n      <td>10</td>\n      <td>0.0</td>\n      <td>1.0</td>\n      <td>0.0</td>\n      <td>0.0</td>\n      <td>0.0</td>\n      <td>0.000000</td>\n    </tr>\n    <tr>\n      <th>2</th>\n      <td>동해</td>\n      <td>4</td>\n      <td>11</td>\n      <td>1.0</td>\n      <td>0.0</td>\n      <td>0.0</td>\n      <td>3.0</td>\n      <td>0.0</td>\n      <td>0.000000</td>\n    </tr>\n    <tr>\n      <th>3</th>\n      <td>삼척</td>\n      <td>5</td>\n      <td>11</td>\n      <td>0.0</td>\n      <td>0.0</td>\n      <td>1.0</td>\n      <td>0.0</td>\n      <td>0.0</td>\n      <td>0.000000</td>\n    </tr>\n    <tr>\n      <th>4</th>\n      <td>속초</td>\n      <td>1</td>\n      <td>10</td>\n      <td>0.0</td>\n      <td>6.0</td>\n      <td>1.0</td>\n      <td>1.0</td>\n      <td>1.0</td>\n      <td>0.285714</td>\n    </tr>\n  </tbody>\n</table>\n</div>"
     },
     "metadata": {},
     "execution_count": 31
    }
   ],
   "source": [
    "buger = buger.rename({'점포수KFC':'KFC 매장수','점포수롯데리아':'롯데리아 매장수','점포수맘스터치':'맘스터치 매장수','점포수맥도날드':'맥도날드 매장수','점포수버거킹':'버거킹 매장수'}, axis='columns')\n",
    "buger.head()"
   ]
  },
  {
   "cell_type": "code",
   "execution_count": 32,
   "metadata": {},
   "outputs": [
    {
     "output_type": "stream",
     "name": "stdout",
     "text": [
      "<class 'pandas.core.frame.DataFrame'>\nInt64Index: 250 entries, 0 to 249\nData columns (total 9 columns):\n #   Column    Non-Null Count  Dtype  \n---  ------    --------------  -----  \n 0   ID        250 non-null    object \n 1   y         250 non-null    int64  \n 2   x         250 non-null    int64  \n 3   KFC 매장수   250 non-null    int32  \n 4   롯데리아 매장수  250 non-null    int32  \n 5   맘스터치 매장수  250 non-null    int32  \n 6   맥도날드 매장수  250 non-null    int32  \n 7   버거킹 매장수   250 non-null    int32  \n 8   버거지수      250 non-null    float64\ndtypes: float64(1), int32(5), int64(2), object(1)\nmemory usage: 14.6+ KB\n"
     ]
    }
   ],
   "source": [
    "buger = buger.astype({'KFC 매장수':'int', '롯데리아 매장수':'int', '맘스터치 매장수':'int', '맥도날드 매장수':'int', '버거킹 매장수':'int'})\n",
    "buger.info()"
   ]
  },
  {
   "cell_type": "code",
   "execution_count": 33,
   "metadata": {},
   "outputs": [
    {
     "output_type": "execute_result",
     "data": {
      "text/plain": [
       "       ID  y   x  KFC 매장수  롯데리아 매장수  맘스터치 매장수  맥도날드 매장수  버거킹 매장수      버거지수\n",
       "0      강릉  3  11        0         5         4         1        1  0.222222\n",
       "1  고성(강원)  0  10        0         1         0         0        0  0.000000\n",
       "2      동해  4  11        1         0         0         3        0  0.000000\n",
       "3      삼척  5  11        0         0         1         0        0  0.000000\n",
       "4      속초  1  10        0         6         1         1        1  0.285714"
      ],
      "text/html": "<div>\n<style scoped>\n    .dataframe tbody tr th:only-of-type {\n        vertical-align: middle;\n    }\n\n    .dataframe tbody tr th {\n        vertical-align: top;\n    }\n\n    .dataframe thead th {\n        text-align: right;\n    }\n</style>\n<table border=\"1\" class=\"dataframe\">\n  <thead>\n    <tr style=\"text-align: right;\">\n      <th></th>\n      <th>ID</th>\n      <th>y</th>\n      <th>x</th>\n      <th>KFC 매장수</th>\n      <th>롯데리아 매장수</th>\n      <th>맘스터치 매장수</th>\n      <th>맥도날드 매장수</th>\n      <th>버거킹 매장수</th>\n      <th>버거지수</th>\n    </tr>\n  </thead>\n  <tbody>\n    <tr>\n      <th>0</th>\n      <td>강릉</td>\n      <td>3</td>\n      <td>11</td>\n      <td>0</td>\n      <td>5</td>\n      <td>4</td>\n      <td>1</td>\n      <td>1</td>\n      <td>0.222222</td>\n    </tr>\n    <tr>\n      <th>1</th>\n      <td>고성(강원)</td>\n      <td>0</td>\n      <td>10</td>\n      <td>0</td>\n      <td>1</td>\n      <td>0</td>\n      <td>0</td>\n      <td>0</td>\n      <td>0.000000</td>\n    </tr>\n    <tr>\n      <th>2</th>\n      <td>동해</td>\n      <td>4</td>\n      <td>11</td>\n      <td>1</td>\n      <td>0</td>\n      <td>0</td>\n      <td>3</td>\n      <td>0</td>\n      <td>0.000000</td>\n    </tr>\n    <tr>\n      <th>3</th>\n      <td>삼척</td>\n      <td>5</td>\n      <td>11</td>\n      <td>0</td>\n      <td>0</td>\n      <td>1</td>\n      <td>0</td>\n      <td>0</td>\n      <td>0.000000</td>\n    </tr>\n    <tr>\n      <th>4</th>\n      <td>속초</td>\n      <td>1</td>\n      <td>10</td>\n      <td>0</td>\n      <td>6</td>\n      <td>1</td>\n      <td>1</td>\n      <td>1</td>\n      <td>0.285714</td>\n    </tr>\n  </tbody>\n</table>\n</div>"
     },
     "metadata": {},
     "execution_count": 33
    }
   ],
   "source": [
    "buger.head()"
   ]
  },
  {
   "cell_type": "code",
   "execution_count": 34,
   "metadata": {},
   "outputs": [],
   "source": [
    "buger.to_csv('../static/data/버거지수.csv', index=False)"
   ]
  },
  {
   "cell_type": "code",
   "execution_count": null,
   "metadata": {},
   "outputs": [],
   "source": []
  }
 ]
}