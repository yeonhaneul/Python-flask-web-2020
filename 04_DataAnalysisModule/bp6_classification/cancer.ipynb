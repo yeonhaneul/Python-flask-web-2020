{
 "metadata": {
  "language_info": {
   "codemirror_mode": {
    "name": "ipython",
    "version": 3
   },
   "file_extension": ".py",
   "mimetype": "text/x-python",
   "name": "python",
   "nbconvert_exporter": "python",
   "pygments_lexer": "ipython3",
   "version": "3.8.3-final"
  },
  "orig_nbformat": 2,
  "kernelspec": {
   "name": "python3",
   "display_name": "Python 3",
   "language": "python"
  }
 },
 "nbformat": 4,
 "nbformat_minor": 2,
 "cells": [
  {
   "source": [
    "# 유방암 모델 만들기"
   ],
   "cell_type": "markdown",
   "metadata": {}
  },
  {
   "cell_type": "code",
   "execution_count": 1,
   "metadata": {},
   "outputs": [],
   "source": [
    "import pandas as pd \n",
    "import joblib\n",
    "from sklearn.preprocessing import StandardScaler, MinMaxScaler\n",
    "from sklearn.linear_model import LogisticRegression\n",
    "from sklearn.svm import SVC\n",
    "from sklearn.ensemble import RandomForestClassifier\n",
    "from sklearn.tree import DecisionTreeClassifier\n",
    "from sklearn.model_selection import GridSearchCV\n",
    "from sklearn.metrics import accuracy_score"
   ]
  },
  {
   "source": [
    "### 데이터셋"
   ],
   "cell_type": "markdown",
   "metadata": {}
  },
  {
   "cell_type": "code",
   "execution_count": 2,
   "metadata": {},
   "outputs": [
    {
     "output_type": "execute_result",
     "data": {
      "text/plain": [
       "   mean radius  mean texture  mean perimeter  mean area  mean smoothness  \\\n",
       "0        25.73         17.46          174.20     2010.0          0.11490   \n",
       "1        13.50         12.71           85.69      566.2          0.07376   \n",
       "2        17.35         23.06          111.00      933.1          0.08662   \n",
       "3        11.61         16.02           75.46      408.2          0.10880   \n",
       "4        11.87         21.54           76.83      432.0          0.06613   \n",
       "\n",
       "   mean compactness  mean concavity  mean concave points  mean symmetry  \\\n",
       "0           0.23630        0.336800             0.191300         0.1956   \n",
       "1           0.03614        0.002758             0.004419         0.1365   \n",
       "2           0.06290        0.028910             0.028370         0.1564   \n",
       "3           0.11680        0.070970             0.044970         0.1886   \n",
       "4           0.10640        0.087770             0.023860         0.1349   \n",
       "\n",
       "   mean fractal dimension  ...  worst texture  worst perimeter  worst area  \\\n",
       "0                 0.06121  ...          23.58           229.30      3234.0   \n",
       "1                 0.05335  ...          16.94            95.48       698.7   \n",
       "2                 0.05307  ...          31.47           128.20      1218.0   \n",
       "3                 0.06320  ...          19.67            81.93       475.7   \n",
       "4                 0.06612  ...          28.18            83.51       507.2   \n",
       "\n",
       "   worst smoothness  worst compactness  worst concavity  worst concave points  \\\n",
       "0           0.15300            0.59370          0.64510               0.27560   \n",
       "1           0.09023            0.05836          0.01379               0.02210   \n",
       "2           0.12400            0.14860          0.12110               0.08235   \n",
       "3           0.14150            0.21700          0.23020               0.11050   \n",
       "4           0.09457            0.33990          0.32180               0.08750   \n",
       "\n",
       "   worst symmetry  worst fractal dimension  target  \n",
       "0          0.3690                  0.08815       0  \n",
       "1          0.2267                  0.06192       1  \n",
       "2          0.2452                  0.06515       0  \n",
       "3          0.2787                  0.07427       1  \n",
       "4          0.2305                  0.09952       1  \n",
       "\n",
       "[5 rows x 31 columns]"
      ],
      "text/html": "<div>\n<style scoped>\n    .dataframe tbody tr th:only-of-type {\n        vertical-align: middle;\n    }\n\n    .dataframe tbody tr th {\n        vertical-align: top;\n    }\n\n    .dataframe thead th {\n        text-align: right;\n    }\n</style>\n<table border=\"1\" class=\"dataframe\">\n  <thead>\n    <tr style=\"text-align: right;\">\n      <th></th>\n      <th>mean radius</th>\n      <th>mean texture</th>\n      <th>mean perimeter</th>\n      <th>mean area</th>\n      <th>mean smoothness</th>\n      <th>mean compactness</th>\n      <th>mean concavity</th>\n      <th>mean concave points</th>\n      <th>mean symmetry</th>\n      <th>mean fractal dimension</th>\n      <th>...</th>\n      <th>worst texture</th>\n      <th>worst perimeter</th>\n      <th>worst area</th>\n      <th>worst smoothness</th>\n      <th>worst compactness</th>\n      <th>worst concavity</th>\n      <th>worst concave points</th>\n      <th>worst symmetry</th>\n      <th>worst fractal dimension</th>\n      <th>target</th>\n    </tr>\n  </thead>\n  <tbody>\n    <tr>\n      <th>0</th>\n      <td>25.73</td>\n      <td>17.46</td>\n      <td>174.20</td>\n      <td>2010.0</td>\n      <td>0.11490</td>\n      <td>0.23630</td>\n      <td>0.336800</td>\n      <td>0.191300</td>\n      <td>0.1956</td>\n      <td>0.06121</td>\n      <td>...</td>\n      <td>23.58</td>\n      <td>229.30</td>\n      <td>3234.0</td>\n      <td>0.15300</td>\n      <td>0.59370</td>\n      <td>0.64510</td>\n      <td>0.27560</td>\n      <td>0.3690</td>\n      <td>0.08815</td>\n      <td>0</td>\n    </tr>\n    <tr>\n      <th>1</th>\n      <td>13.50</td>\n      <td>12.71</td>\n      <td>85.69</td>\n      <td>566.2</td>\n      <td>0.07376</td>\n      <td>0.03614</td>\n      <td>0.002758</td>\n      <td>0.004419</td>\n      <td>0.1365</td>\n      <td>0.05335</td>\n      <td>...</td>\n      <td>16.94</td>\n      <td>95.48</td>\n      <td>698.7</td>\n      <td>0.09023</td>\n      <td>0.05836</td>\n      <td>0.01379</td>\n      <td>0.02210</td>\n      <td>0.2267</td>\n      <td>0.06192</td>\n      <td>1</td>\n    </tr>\n    <tr>\n      <th>2</th>\n      <td>17.35</td>\n      <td>23.06</td>\n      <td>111.00</td>\n      <td>933.1</td>\n      <td>0.08662</td>\n      <td>0.06290</td>\n      <td>0.028910</td>\n      <td>0.028370</td>\n      <td>0.1564</td>\n      <td>0.05307</td>\n      <td>...</td>\n      <td>31.47</td>\n      <td>128.20</td>\n      <td>1218.0</td>\n      <td>0.12400</td>\n      <td>0.14860</td>\n      <td>0.12110</td>\n      <td>0.08235</td>\n      <td>0.2452</td>\n      <td>0.06515</td>\n      <td>0</td>\n    </tr>\n    <tr>\n      <th>3</th>\n      <td>11.61</td>\n      <td>16.02</td>\n      <td>75.46</td>\n      <td>408.2</td>\n      <td>0.10880</td>\n      <td>0.11680</td>\n      <td>0.070970</td>\n      <td>0.044970</td>\n      <td>0.1886</td>\n      <td>0.06320</td>\n      <td>...</td>\n      <td>19.67</td>\n      <td>81.93</td>\n      <td>475.7</td>\n      <td>0.14150</td>\n      <td>0.21700</td>\n      <td>0.23020</td>\n      <td>0.11050</td>\n      <td>0.2787</td>\n      <td>0.07427</td>\n      <td>1</td>\n    </tr>\n    <tr>\n      <th>4</th>\n      <td>11.87</td>\n      <td>21.54</td>\n      <td>76.83</td>\n      <td>432.0</td>\n      <td>0.06613</td>\n      <td>0.10640</td>\n      <td>0.087770</td>\n      <td>0.023860</td>\n      <td>0.1349</td>\n      <td>0.06612</td>\n      <td>...</td>\n      <td>28.18</td>\n      <td>83.51</td>\n      <td>507.2</td>\n      <td>0.09457</td>\n      <td>0.33990</td>\n      <td>0.32180</td>\n      <td>0.08750</td>\n      <td>0.2305</td>\n      <td>0.09952</td>\n      <td>1</td>\n    </tr>\n  </tbody>\n</table>\n<p>5 rows × 31 columns</p>\n</div>"
     },
     "metadata": {},
     "execution_count": 2
    }
   ],
   "source": [
    "df_train = pd.read_csv('../static/data/cancer_train.csv')\n",
    "df_train.head()"
   ]
  },
  {
   "cell_type": "code",
   "execution_count": 3,
   "metadata": {},
   "outputs": [
    {
     "output_type": "execute_result",
     "data": {
      "text/plain": [
       "((426, 30), (426,))"
      ]
     },
     "metadata": {},
     "execution_count": 3
    }
   ],
   "source": [
    "y_train = df_train.target.values\n",
    "scaler = MinMaxScaler()\n",
    "X_train = scaler.fit_transform(df_train.drop(columns='target', axis=1))\n",
    "X_train.shape, y_train.shape"
   ]
  },
  {
   "cell_type": "code",
   "execution_count": 4,
   "metadata": {},
   "outputs": [
    {
     "output_type": "execute_result",
     "data": {
      "text/plain": [
       "((143, 30), (143,))"
      ]
     },
     "metadata": {},
     "execution_count": 4
    }
   ],
   "source": [
    "df_test = pd.read_csv('../static/data/cancer_test.csv')\n",
    "y_test = df_test.target.values\n",
    "X_test = scaler.fit_transform(df_test.drop(columns='target', axis=1))\n",
    "X_test.shape, y_test.shape"
   ]
  },
  {
   "source": [
    "### 1. Logistic Regression"
   ],
   "cell_type": "markdown",
   "metadata": {}
  },
  {
   "cell_type": "code",
   "execution_count": 5,
   "metadata": {},
   "outputs": [
    {
     "output_type": "execute_result",
     "data": {
      "text/plain": [
       "{'C': 1.0,\n",
       " 'class_weight': None,\n",
       " 'dual': False,\n",
       " 'fit_intercept': True,\n",
       " 'intercept_scaling': 1,\n",
       " 'l1_ratio': None,\n",
       " 'max_iter': 100,\n",
       " 'multi_class': 'auto',\n",
       " 'n_jobs': None,\n",
       " 'penalty': 'l2',\n",
       " 'random_state': None,\n",
       " 'solver': 'lbfgs',\n",
       " 'tol': 0.0001,\n",
       " 'verbose': 0,\n",
       " 'warm_start': False}"
      ]
     },
     "metadata": {},
     "execution_count": 5
    }
   ],
   "source": [
    "lr_clf = LogisticRegression()\n",
    "lr_clf.get_params()"
   ]
  },
  {
   "cell_type": "code",
   "execution_count": 6,
   "metadata": {},
   "outputs": [],
   "source": [
    "params = {\n",
    "    'C': [3, 4, 5, 6, 7]\n",
    "}"
   ]
  },
  {
   "cell_type": "code",
   "execution_count": 7,
   "metadata": {},
   "outputs": [
    {
     "output_type": "stream",
     "name": "stdout",
     "text": [
      "최고 평균 정확도: 0.9741\n최적 파라미터: {'C': 5}\n"
     ]
    }
   ],
   "source": [
    "grid_cv = GridSearchCV(lr_clf, param_grid=params, scoring='accuracy', cv=5)\n",
    "grid_cv.fit(X_train, y_train)\n",
    "print(f'최고 평균 정확도: {grid_cv.best_score_:.4f}')\n",
    "print('최적 파라미터:', grid_cv.best_params_)"
   ]
  },
  {
   "cell_type": "code",
   "execution_count": 8,
   "metadata": {},
   "outputs": [
    {
     "output_type": "execute_result",
     "data": {
      "text/plain": [
       "0.972027972027972"
      ]
     },
     "metadata": {},
     "execution_count": 8
    }
   ],
   "source": [
    "best_lr = grid_cv.best_estimator_\n",
    "pred = best_lr.predict(X_test)\n",
    "accuracy_score(y_test, pred)"
   ]
  },
  {
   "cell_type": "code",
   "execution_count": 9,
   "metadata": {},
   "outputs": [
    {
     "output_type": "execute_result",
     "data": {
      "text/plain": [
       "['../static/model/cancer_lr.pkl']"
      ]
     },
     "metadata": {},
     "execution_count": 9
    }
   ],
   "source": [
    "joblib.dump(best_lr, '../static/model/cancer_lr.pkl')"
   ]
  },
  {
   "source": [
    "2. SVM"
   ],
   "cell_type": "markdown",
   "metadata": {}
  },
  {
   "cell_type": "code",
   "execution_count": 10,
   "metadata": {},
   "outputs": [
    {
     "output_type": "execute_result",
     "data": {
      "text/plain": [
       "{'C': 1.0,\n",
       " 'break_ties': False,\n",
       " 'cache_size': 200,\n",
       " 'class_weight': None,\n",
       " 'coef0': 0.0,\n",
       " 'decision_function_shape': 'ovr',\n",
       " 'degree': 3,\n",
       " 'gamma': 'scale',\n",
       " 'kernel': 'rbf',\n",
       " 'max_iter': -1,\n",
       " 'probability': False,\n",
       " 'random_state': None,\n",
       " 'shrinking': True,\n",
       " 'tol': 0.001,\n",
       " 'verbose': False}"
      ]
     },
     "metadata": {},
     "execution_count": 10
    }
   ],
   "source": [
    "sv_clf = SVC()\n",
    "sv_clf.get_params()"
   ]
  },
  {
   "cell_type": "code",
   "execution_count": 11,
   "metadata": {},
   "outputs": [],
   "source": [
    "params = {\n",
    "    'C': [5, 6, 7, 8, 9]\n",
    "}"
   ]
  },
  {
   "cell_type": "code",
   "execution_count": 12,
   "metadata": {},
   "outputs": [
    {
     "output_type": "stream",
     "name": "stdout",
     "text": [
      "최고 평균 정확도: 0.9789\n최적 파라미터: {'C': 7}\n"
     ]
    }
   ],
   "source": [
    "grid_cv = GridSearchCV(sv_clf, param_grid=params, scoring='accuracy', cv=5)\n",
    "grid_cv.fit(X_train, y_train)\n",
    "print(f'최고 평균 정확도: {grid_cv.best_score_:.4f}')\n",
    "print('최적 파라미터:', grid_cv.best_params_)"
   ]
  },
  {
   "cell_type": "code",
   "execution_count": 13,
   "metadata": {},
   "outputs": [
    {
     "output_type": "execute_result",
     "data": {
      "text/plain": [
       "0.9790209790209791"
      ]
     },
     "metadata": {},
     "execution_count": 13
    }
   ],
   "source": [
    "best_sv = grid_cv.best_estimator_\n",
    "pred = best_sv.predict(X_test)\n",
    "accuracy_score(y_test, pred)"
   ]
  },
  {
   "cell_type": "code",
   "execution_count": 14,
   "metadata": {},
   "outputs": [
    {
     "output_type": "execute_result",
     "data": {
      "text/plain": [
       "['../static/model/cancer_sv.pkl']"
      ]
     },
     "metadata": {},
     "execution_count": 14
    }
   ],
   "source": [
    "joblib.dump(best_sv, '../static/model/cancer_sv.pkl')"
   ]
  },
  {
   "source": [
    "### 3. Random Forest"
   ],
   "cell_type": "markdown",
   "metadata": {}
  },
  {
   "cell_type": "code",
   "execution_count": 16,
   "metadata": {},
   "outputs": [
    {
     "output_type": "execute_result",
     "data": {
      "text/plain": [
       "{'bootstrap': True,\n",
       " 'ccp_alpha': 0.0,\n",
       " 'class_weight': None,\n",
       " 'criterion': 'gini',\n",
       " 'max_depth': None,\n",
       " 'max_features': 'auto',\n",
       " 'max_leaf_nodes': None,\n",
       " 'max_samples': None,\n",
       " 'min_impurity_decrease': 0.0,\n",
       " 'min_impurity_split': None,\n",
       " 'min_samples_leaf': 1,\n",
       " 'min_samples_split': 2,\n",
       " 'min_weight_fraction_leaf': 0.0,\n",
       " 'n_estimators': 100,\n",
       " 'n_jobs': None,\n",
       " 'oob_score': False,\n",
       " 'random_state': None,\n",
       " 'verbose': 0,\n",
       " 'warm_start': False}"
      ]
     },
     "metadata": {},
     "execution_count": 16
    }
   ],
   "source": [
    "\n",
    "rf_clf = RandomForestClassifier()\n",
    "rf_clf.get_params()"
   ]
  },
  {
   "cell_type": "code",
   "execution_count": 17,
   "metadata": {},
   "outputs": [],
   "source": [
    "params = {\n",
    "    'max_depth': [4, 6, 8, 10],\n",
    "    'min_samples_split': [2, 3, 4]\n",
    "}"
   ]
  },
  {
   "cell_type": "code",
   "execution_count": 18,
   "metadata": {},
   "outputs": [
    {
     "output_type": "stream",
     "name": "stdout",
     "text": [
      "최고 평균 정확도: 0.9554\n최적 파라미터: {'max_depth': 6, 'min_samples_split': 4}\n"
     ]
    }
   ],
   "source": [
    "grid_cv = GridSearchCV(rf_clf, param_grid=params, scoring='accuracy', cv=5)\n",
    "grid_cv.fit(X_train, y_train)\n",
    "print(f'최고 평균 정확도: {grid_cv.best_score_:.4f}')\n",
    "print('최적 파라미터:', grid_cv.best_params_)"
   ]
  },
  {
   "cell_type": "code",
   "execution_count": 19,
   "metadata": {},
   "outputs": [
    {
     "output_type": "execute_result",
     "data": {
      "text/plain": [
       "0.951048951048951"
      ]
     },
     "metadata": {},
     "execution_count": 19
    }
   ],
   "source": [
    "best_rf = grid_cv.best_estimator_\n",
    "pred = best_rf.predict(X_test)\n",
    "accuracy_score(y_test, pred)"
   ]
  },
  {
   "cell_type": "code",
   "execution_count": 20,
   "metadata": {},
   "outputs": [
    {
     "output_type": "execute_result",
     "data": {
      "text/plain": [
       "['../static/model/cancer_rf.pkl']"
      ]
     },
     "metadata": {},
     "execution_count": 20
    }
   ],
   "source": [
    "joblib.dump(best_rf, '../static/model/cancer_rf.pkl')"
   ]
  },
  {
   "source": [
    "### Test"
   ],
   "cell_type": "markdown",
   "metadata": {}
  },
  {
   "cell_type": "code",
   "execution_count": 21,
   "metadata": {},
   "outputs": [
    {
     "output_type": "execute_result",
     "data": {
      "text/plain": [
       "(143, 30)"
      ]
     },
     "metadata": {},
     "execution_count": 21
    }
   ],
   "source": [
    "index = 101\n",
    "scaled_test = scaler.fit_transform(df_test.iloc[:, :-1])\n",
    "scaled_test.shape"
   ]
  },
  {
   "cell_type": "code",
   "execution_count": 22,
   "metadata": {},
   "outputs": [
    {
     "output_type": "execute_result",
     "data": {
      "text/plain": [
       "array([[0.25242572, 0.48668846, 0.24846558, 0.14770598, 0.27275401,\n",
       "        0.37258725, 0.24586173, 0.17761755, 0.33436341, 0.32958801,\n",
       "        0.06039295, 0.11666094, 0.11946859, 0.03180557, 0.10010807,\n",
       "        0.61213361, 0.19401515, 0.25913999, 0.09269442, 0.25006564,\n",
       "        0.27563939, 0.38360842, 0.37082936, 0.15457878, 0.25998123,\n",
       "        0.72753346, 0.79795521, 0.46744747, 0.30394487, 0.74611676]])"
      ]
     },
     "metadata": {},
     "execution_count": 22
    }
   ],
   "source": [
    "test_data = scaled_test[index, :].reshape(1,-1)\n",
    "test_data"
   ]
  },
  {
   "cell_type": "code",
   "execution_count": 23,
   "metadata": {},
   "outputs": [
    {
     "output_type": "execute_result",
     "data": {
      "text/plain": [
       "1"
      ]
     },
     "metadata": {},
     "execution_count": 23
    }
   ],
   "source": [
    "label = df_test.iloc[index, -1]\n",
    "label"
   ]
  },
  {
   "cell_type": "code",
   "execution_count": 24,
   "metadata": {},
   "outputs": [],
   "source": [
    "pred_lr = best_lr.predict(test_data)\n",
    "pred_sv = best_sv.predict(test_data)\n",
    "pred_rf = best_rf.predict(test_data)"
   ]
  },
  {
   "cell_type": "code",
   "execution_count": 25,
   "metadata": {},
   "outputs": [
    {
     "output_type": "execute_result",
     "data": {
      "text/plain": [
       "(1, 0, 1, 0)"
      ]
     },
     "metadata": {},
     "execution_count": 25
    }
   ],
   "source": [
    "label, pred_lr[0], pred_sv[0], pred_rf[0]"
   ]
  },
  {
   "cell_type": "code",
   "execution_count": 26,
   "metadata": {},
   "outputs": [
    {
     "output_type": "execute_result",
     "data": {
      "text/plain": [
       "   mean radius  mean texture  mean perimeter  mean area  mean smoothness  \\\n",
       "0        20.26         23.03          132.40     1264.0          0.09078   \n",
       "1        15.30         25.27          102.40      732.4          0.10820   \n",
       "2        11.95         14.96           77.23      426.7          0.11580   \n",
       "3        16.26         21.88          107.50      826.8          0.11650   \n",
       "4        13.94         13.17           90.31      594.2          0.12480   \n",
       "\n",
       "   mean compactness  mean concavity  mean concave points  mean symmetry  \\\n",
       "0           0.13130         0.14650              0.08683         0.2095   \n",
       "1           0.16970         0.16830              0.08751         0.1926   \n",
       "2           0.12060         0.01171              0.01787         0.2459   \n",
       "3           0.12830         0.17990              0.07981         0.1869   \n",
       "4           0.09755         0.10100              0.06615         0.1976   \n",
       "\n",
       "   mean fractal dimension  ...  worst texture  worst perimeter  worst area  \\\n",
       "0                 0.05649  ...          31.59           156.10      1750.0   \n",
       "1                 0.06540  ...          36.71           149.30      1269.0   \n",
       "2                 0.06581  ...          17.72            83.09       496.2   \n",
       "3                 0.06532  ...          25.21           113.70       975.2   \n",
       "4                 0.06457  ...          15.38            94.52       653.3   \n",
       "\n",
       "   worst smoothness  worst compactness  worst concavity  worst concave points  \\\n",
       "0            0.1190             0.3539          0.40980               0.15730   \n",
       "1            0.1641             0.6110          0.63350               0.20240   \n",
       "2            0.1293             0.1885          0.03122               0.04766   \n",
       "3            0.1426             0.2116          0.33440               0.10470   \n",
       "4            0.1394             0.1364          0.15590               0.10150   \n",
       "\n",
       "   worst symmetry  worst fractal dimension  target  \n",
       "0          0.3689                  0.08368       0  \n",
       "1          0.4027                  0.09876       0  \n",
       "2          0.3124                  0.07590       1  \n",
       "3          0.2736                  0.07953       0  \n",
       "4          0.2160                  0.07253       1  \n",
       "\n",
       "[5 rows x 31 columns]"
      ],
      "text/html": "<div>\n<style scoped>\n    .dataframe tbody tr th:only-of-type {\n        vertical-align: middle;\n    }\n\n    .dataframe tbody tr th {\n        vertical-align: top;\n    }\n\n    .dataframe thead th {\n        text-align: right;\n    }\n</style>\n<table border=\"1\" class=\"dataframe\">\n  <thead>\n    <tr style=\"text-align: right;\">\n      <th></th>\n      <th>mean radius</th>\n      <th>mean texture</th>\n      <th>mean perimeter</th>\n      <th>mean area</th>\n      <th>mean smoothness</th>\n      <th>mean compactness</th>\n      <th>mean concavity</th>\n      <th>mean concave points</th>\n      <th>mean symmetry</th>\n      <th>mean fractal dimension</th>\n      <th>...</th>\n      <th>worst texture</th>\n      <th>worst perimeter</th>\n      <th>worst area</th>\n      <th>worst smoothness</th>\n      <th>worst compactness</th>\n      <th>worst concavity</th>\n      <th>worst concave points</th>\n      <th>worst symmetry</th>\n      <th>worst fractal dimension</th>\n      <th>target</th>\n    </tr>\n  </thead>\n  <tbody>\n    <tr>\n      <th>0</th>\n      <td>20.26</td>\n      <td>23.03</td>\n      <td>132.40</td>\n      <td>1264.0</td>\n      <td>0.09078</td>\n      <td>0.13130</td>\n      <td>0.14650</td>\n      <td>0.08683</td>\n      <td>0.2095</td>\n      <td>0.05649</td>\n      <td>...</td>\n      <td>31.59</td>\n      <td>156.10</td>\n      <td>1750.0</td>\n      <td>0.1190</td>\n      <td>0.3539</td>\n      <td>0.40980</td>\n      <td>0.15730</td>\n      <td>0.3689</td>\n      <td>0.08368</td>\n      <td>0</td>\n    </tr>\n    <tr>\n      <th>1</th>\n      <td>15.30</td>\n      <td>25.27</td>\n      <td>102.40</td>\n      <td>732.4</td>\n      <td>0.10820</td>\n      <td>0.16970</td>\n      <td>0.16830</td>\n      <td>0.08751</td>\n      <td>0.1926</td>\n      <td>0.06540</td>\n      <td>...</td>\n      <td>36.71</td>\n      <td>149.30</td>\n      <td>1269.0</td>\n      <td>0.1641</td>\n      <td>0.6110</td>\n      <td>0.63350</td>\n      <td>0.20240</td>\n      <td>0.4027</td>\n      <td>0.09876</td>\n      <td>0</td>\n    </tr>\n    <tr>\n      <th>2</th>\n      <td>11.95</td>\n      <td>14.96</td>\n      <td>77.23</td>\n      <td>426.7</td>\n      <td>0.11580</td>\n      <td>0.12060</td>\n      <td>0.01171</td>\n      <td>0.01787</td>\n      <td>0.2459</td>\n      <td>0.06581</td>\n      <td>...</td>\n      <td>17.72</td>\n      <td>83.09</td>\n      <td>496.2</td>\n      <td>0.1293</td>\n      <td>0.1885</td>\n      <td>0.03122</td>\n      <td>0.04766</td>\n      <td>0.3124</td>\n      <td>0.07590</td>\n      <td>1</td>\n    </tr>\n    <tr>\n      <th>3</th>\n      <td>16.26</td>\n      <td>21.88</td>\n      <td>107.50</td>\n      <td>826.8</td>\n      <td>0.11650</td>\n      <td>0.12830</td>\n      <td>0.17990</td>\n      <td>0.07981</td>\n      <td>0.1869</td>\n      <td>0.06532</td>\n      <td>...</td>\n      <td>25.21</td>\n      <td>113.70</td>\n      <td>975.2</td>\n      <td>0.1426</td>\n      <td>0.2116</td>\n      <td>0.33440</td>\n      <td>0.10470</td>\n      <td>0.2736</td>\n      <td>0.07953</td>\n      <td>0</td>\n    </tr>\n    <tr>\n      <th>4</th>\n      <td>13.94</td>\n      <td>13.17</td>\n      <td>90.31</td>\n      <td>594.2</td>\n      <td>0.12480</td>\n      <td>0.09755</td>\n      <td>0.10100</td>\n      <td>0.06615</td>\n      <td>0.1976</td>\n      <td>0.06457</td>\n      <td>...</td>\n      <td>15.38</td>\n      <td>94.52</td>\n      <td>653.3</td>\n      <td>0.1394</td>\n      <td>0.1364</td>\n      <td>0.15590</td>\n      <td>0.10150</td>\n      <td>0.2160</td>\n      <td>0.07253</td>\n      <td>1</td>\n    </tr>\n  </tbody>\n</table>\n<p>5 rows × 31 columns</p>\n</div>"
     },
     "metadata": {},
     "execution_count": 26
    }
   ],
   "source": [
    "df_test.head()"
   ]
  },
  {
   "cell_type": "code",
   "execution_count": 27,
   "metadata": {},
   "outputs": [],
   "source": [
    "a = dict(zip(df_test.columns[:-1], df_test.iloc[index, :-1]))"
   ]
  },
  {
   "cell_type": "code",
   "execution_count": 28,
   "metadata": {},
   "outputs": [
    {
     "output_type": "execute_result",
     "data": {
      "text/plain": [
       "{'mean radius': 13.24,\n",
       " 'mean texture': 20.13,\n",
       " 'mean perimeter': 86.87,\n",
       " 'mean area': 542.9,\n",
       " 'mean smoothness': 0.08284,\n",
       " 'mean compactness': 0.1223,\n",
       " 'mean concavity': 0.10099999999999999,\n",
       " 'mean concave points': 0.02833,\n",
       " 'mean symmetry': 0.1601,\n",
       " 'mean fractal dimension': 0.06432,\n",
       " 'radius error': 0.281,\n",
       " 'texture error': 0.8135,\n",
       " 'perimeter error': 3.3689999999999998,\n",
       " 'area error': 23.81,\n",
       " 'smoothness error': 0.004929,\n",
       " 'compactness error': 0.06657,\n",
       " 'concavity error': 0.07683,\n",
       " 'concave points error': 0.013680000000000001,\n",
       " 'symmetry error': 0.01526,\n",
       " 'fractal dimension error': 0.008133,\n",
       " 'worst radius': 15.44,\n",
       " 'worst texture': 25.5,\n",
       " 'worst perimeter': 115.0,\n",
       " 'worst area': 733.5,\n",
       " 'worst smoothness': 0.1201,\n",
       " 'worst compactness': 0.5646,\n",
       " 'worst concavity': 0.6556,\n",
       " 'worst concave points': 0.1357,\n",
       " 'worst symmetry': 0.2845,\n",
       " 'worst fractal dimension': 0.1249}"
      ]
     },
     "metadata": {},
     "execution_count": 28
    }
   ],
   "source": [
    "a"
   ]
  },
  {
   "cell_type": "code",
   "execution_count": null,
   "metadata": {},
   "outputs": [],
   "source": []
  }
 ]
}