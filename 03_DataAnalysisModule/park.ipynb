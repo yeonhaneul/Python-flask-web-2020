{
 "metadata": {
  "language_info": {
   "codemirror_mode": {
    "name": "ipython",
    "version": 3
   },
   "file_extension": ".py",
   "mimetype": "text/x-python",
   "name": "python",
   "nbconvert_exporter": "python",
   "pygments_lexer": "ipython3",
   "version": "3.8.3-final"
  },
  "orig_nbformat": 2,
  "kernelspec": {
   "name": "Python 3.8.3 64-bit ('base': conda)",
   "display_name": "Python 3.8.3 64-bit ('base': conda)",
   "metadata": {
    "interpreter": {
     "hash": "b3ba2566441a7c06988d0923437866b63cedc61552a5af99d1f4fb67d367b25f"
    }
   }
  }
 },
 "nbformat": 4,
 "nbformat_minor": 2,
 "cells": [
  {
   "cell_type": "code",
   "execution_count": 1,
   "metadata": {},
   "outputs": [],
   "source": [
    "import numpy as np \n",
    "import pandas as pd \n",
    "import seaborn as sns \n",
    "import matplotlib as mpl \n",
    "import matplotlib.pyplot as plt \n",
    "%matplotlib inline\n",
    "# 한글폰트 사용\n",
    "mpl.rc('font', family='Malgun Gothic')\n",
    "mpl.rc('axes', unicode_minus=False)"
   ]
  },
  {
   "cell_type": "code",
   "execution_count": 2,
   "metadata": {},
   "outputs": [],
   "source": [
    "import folium\n",
    "import json\n",
    "geo_str = json.load(open('./static/data/skorea_municipalities_geo_simple.json', encoding='utf8'))"
   ]
  },
  {
   "cell_type": "code",
   "execution_count": 3,
   "metadata": {},
   "outputs": [
    {
     "output_type": "execute_result",
     "data": {
      "text/plain": [
       "   Unnamed: 0       공원명   지역                          공원주소       area  \\\n",
       "0           0  남산도시자연공원   중구        서울특별시 중구 삼일대로 231(예장동)  5793774.0   \n",
       "1           1    길동생태공원  강동구  서울특별시 강동구 천호대로 1291(길동생태공원)     80683.0   \n",
       "2           2     서울대공원  과천시            경기도 과천시 대공원광장로 102  9132690.0   \n",
       "3           3       서울숲  성동구    서울특별시 성동구 뚝섬로 273 (성수동1가)    480994.0   \n",
       "4           4     월드컵공원  마포구     서울특별시 마포구 하늘공원로 84(월드컵공원)  2284085.0   \n",
       "\n",
       "                                                공원개요        lat         lng  \\\n",
       "0  남산공원은 도심에 위치하여 서울시민에게 맑은 공기를 제공하는 자연휴식처이며 산책 꽃...  37.555633  126.992218   \n",
       "1  길동생태공원은 생물의 서식처를 제공하고 종다양성을 증진시키며 자연생태계의 생물들을 ...  37.539066  127.153329   \n",
       "2  서울대공원은 세계 각국의 야생동물들이 살아 숨 쉬는 서울동물원과 다양한 재미와 즐거...  37.436431  127.014098   \n",
       "3  당초 골프장 승마장 등이 있던 뚝섬일대를 주거업무 지역으로 개발할 경우 약 4조원에...  37.543070  127.041799   \n",
       "4  월드컵공원은 서울의 서쪽에 위치하여 1978년부터 1993년까지 15년간 서울시민이...  37.572327  126.881889   \n",
       "\n",
       "  scale  size  \n",
       "0    대형    15  \n",
       "1    소형     3  \n",
       "2    대형    15  \n",
       "3    중형     7  \n",
       "4    대형    15  "
      ],
      "text/html": "<div>\n<style scoped>\n    .dataframe tbody tr th:only-of-type {\n        vertical-align: middle;\n    }\n\n    .dataframe tbody tr th {\n        vertical-align: top;\n    }\n\n    .dataframe thead th {\n        text-align: right;\n    }\n</style>\n<table border=\"1\" class=\"dataframe\">\n  <thead>\n    <tr style=\"text-align: right;\">\n      <th></th>\n      <th>Unnamed: 0</th>\n      <th>공원명</th>\n      <th>지역</th>\n      <th>공원주소</th>\n      <th>area</th>\n      <th>공원개요</th>\n      <th>lat</th>\n      <th>lng</th>\n      <th>scale</th>\n      <th>size</th>\n    </tr>\n  </thead>\n  <tbody>\n    <tr>\n      <th>0</th>\n      <td>0</td>\n      <td>남산도시자연공원</td>\n      <td>중구</td>\n      <td>서울특별시 중구 삼일대로 231(예장동)</td>\n      <td>5793774.0</td>\n      <td>남산공원은 도심에 위치하여 서울시민에게 맑은 공기를 제공하는 자연휴식처이며 산책 꽃...</td>\n      <td>37.555633</td>\n      <td>126.992218</td>\n      <td>대형</td>\n      <td>15</td>\n    </tr>\n    <tr>\n      <th>1</th>\n      <td>1</td>\n      <td>길동생태공원</td>\n      <td>강동구</td>\n      <td>서울특별시 강동구 천호대로 1291(길동생태공원)</td>\n      <td>80683.0</td>\n      <td>길동생태공원은 생물의 서식처를 제공하고 종다양성을 증진시키며 자연생태계의 생물들을 ...</td>\n      <td>37.539066</td>\n      <td>127.153329</td>\n      <td>소형</td>\n      <td>3</td>\n    </tr>\n    <tr>\n      <th>2</th>\n      <td>2</td>\n      <td>서울대공원</td>\n      <td>과천시</td>\n      <td>경기도 과천시 대공원광장로 102</td>\n      <td>9132690.0</td>\n      <td>서울대공원은 세계 각국의 야생동물들이 살아 숨 쉬는 서울동물원과 다양한 재미와 즐거...</td>\n      <td>37.436431</td>\n      <td>127.014098</td>\n      <td>대형</td>\n      <td>15</td>\n    </tr>\n    <tr>\n      <th>3</th>\n      <td>3</td>\n      <td>서울숲</td>\n      <td>성동구</td>\n      <td>서울특별시 성동구 뚝섬로 273 (성수동1가)</td>\n      <td>480994.0</td>\n      <td>당초 골프장 승마장 등이 있던 뚝섬일대를 주거업무 지역으로 개발할 경우 약 4조원에...</td>\n      <td>37.543070</td>\n      <td>127.041799</td>\n      <td>중형</td>\n      <td>7</td>\n    </tr>\n    <tr>\n      <th>4</th>\n      <td>4</td>\n      <td>월드컵공원</td>\n      <td>마포구</td>\n      <td>서울특별시 마포구 하늘공원로 84(월드컵공원)</td>\n      <td>2284085.0</td>\n      <td>월드컵공원은 서울의 서쪽에 위치하여 1978년부터 1993년까지 15년간 서울시민이...</td>\n      <td>37.572327</td>\n      <td>126.881889</td>\n      <td>대형</td>\n      <td>15</td>\n    </tr>\n  </tbody>\n</table>\n</div>"
     },
     "metadata": {},
     "execution_count": 3
    }
   ],
   "source": [
    "park_new = pd.read_csv('./static/data/park_info.csv')\n",
    "park_new.head()"
   ]
  },
  {
   "cell_type": "code",
   "execution_count": 4,
   "metadata": {},
   "outputs": [
    {
     "output_type": "execute_result",
     "data": {
      "text/plain": [
       "<branca.element.Element at 0x232e1789eb0>"
      ]
     },
     "metadata": {},
     "execution_count": 4
    }
   ],
   "source": [
    "map = folium.Map(location=[37.5502, 126.982], zoom_start=11)\n",
    "for i in park_new.index:\n",
    "    folium.CircleMarker([park_new.lat[i], park_new.lng[i]], \n",
    "                        radius=int(park_new['size'][i]),\n",
    "                        tooltip=f\"{park_new['공원명'][i]}({int(park_new.area[i])}㎡)\",\n",
    "                        color='#3186cc', fill_color='#3186cc').add_to(map)\n",
    "title_html = '<h3 align=\"center\" style=\"font-size:20px\"><b>서울시내 공원 위치와 크기</b></h3>'   \n",
    "map.get_root().html.add_child(folium.Element(title_html))"
   ]
  },
  {
   "cell_type": "code",
   "execution_count": 5,
   "metadata": {},
   "outputs": [
    {
     "output_type": "error",
     "ename": "IndentationError",
     "evalue": "unexpected indent (<ipython-input-5-f174d4830232>, line 2)",
     "traceback": [
      "\u001b[1;36m  File \u001b[1;32m\"<ipython-input-5-f174d4830232>\"\u001b[1;36m, line \u001b[1;32m2\u001b[0m\n\u001b[1;33m    park_gu.set_index('지역', inplace=True)\u001b[0m\n\u001b[1;37m    ^\u001b[0m\n\u001b[1;31mIndentationError\u001b[0m\u001b[1;31m:\u001b[0m unexpected indent\n"
     ]
    }
   ],
   "source": [
    "park_gu = pd.read_csv('./static/data/park_gu.csv')\n",
    "park_gu.set_index('지역', inplace=True)"
   ]
  },
  {
   "cell_type": "code",
   "execution_count": null,
   "metadata": {},
   "outputs": [],
   "source": []
  }
 ]
}